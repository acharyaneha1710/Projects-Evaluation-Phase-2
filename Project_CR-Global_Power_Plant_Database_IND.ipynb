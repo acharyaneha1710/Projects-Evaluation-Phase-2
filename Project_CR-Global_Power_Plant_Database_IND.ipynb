{
 "cells": [
  {
   "cell_type": "markdown",
   "id": "2831aeff",
   "metadata": {},
   "source": [
    "# Global Power Plant Database\n",
    "\n",
    "## Project Description\n",
    "\n",
    "The Global Power Plant Database is a comprehensive, open source database of power plants around the world. It centralizes power plant data to make it easier to navigate, compare and draw insights for one’s own analysis. The database covers approximately 35,000 power plants from 167 countries and includes thermal plants (e.g. coal, gas, oil, nuclear, biomass, waste, geothermal) and renewables (e.g. hydro, wind, solar). Each power plant is geolocated and entries contain information on plant capacity, generation, ownership, and fuel type. It will be continuously updated as data becomes available.\n"
   ]
  },
  {
   "cell_type": "raw",
   "id": "a5b75e39",
   "metadata": {},
   "source": [
    "## Features:\n",
    "\n",
    "1•`country` (text): 3 character country code corresponding to the ISO 3166-1 alpha-3 specification [5]\n",
    "2•`country_long` (text): longer form of the country designation\n",
    "3•`name` (text): name or title of the power plant, generally in Romanized form\n",
    "4•`gppd_idnr` (text): 10 or 12 character identifier for the power plant\n",
    "5•`capacity_mw` (number): electrical generating capacity in megawatts\n",
    "6•`latitude` (number): geolocation in decimal degrees; WGS84 (EPSG:4326)\n",
    "7•`longitude` (number): geolocation in decimal degrees; WGS84 (EPSG:4326)\n",
    "8•`primary_fuel` (text): energy source used in primary electricity generation or export\n",
    "9•`other_fuel1` (text): energy source used in electricity generation or export\n",
    "10•`other_fuel2` (text): energy source used in electricity generation or export\n",
    "11•`other_fuel3` (text): energy source used in electricity generation or export\n",
    "12•`commissioning_year` (number): year of plant operation, weighted by unit-capacity when data is available\n",
    "13•`owner` (text): majority shareholder of the power plant, generally in Romanized form\n",
    "14•`source` (text): entity reporting the data; could be an organization, report, or document, generally in Romanized form\n",
    "15•`url` (text): web document corresponding to the `source` field\n",
    "16•`geolocation_source` (text): attribution for geolocation information\n",
    "17•`wepp_id` (text): a reference to a unique plant identifier in the widely-used PLATTS-WEPP database.\n",
    "18•`year_of_capacity_data` (number): year the capacity information was reported\n",
    "19•`generation_gwh_2013` (number): electricity generation in gigawatt-hours reported for the year 2013\n",
    "20•`generation_gwh_2014` (number): electricity generation in gigawatt-hours reported for the year 2014\n",
    "21•`generation_gwh_2015` (number): electricity generation in gigawatt-hours reported for the year 2015\n",
    "22•`generation_gwh_2016` (number): electricity generation in gigawatt-hours reported for the year 2016\n",
    "23•`generation_gwh_2017` (number): electricity generation in gigawatt-hours reported for the year 2017\n",
    "24•`generation_gwh_2018` (number): electricity generation in gigawatt-hours reported for the year 2018\n",
    "25•`generation_gwh_2019` (number): electricity generation in gigawatt-hours reported for the year 2019\n",
    "26•`generation_data_source` (text): attribution for the reported generation information\n",
    "27•`estimated_generation_gwh` (text): estimate generation\n"
   ]
  },
  {
   "cell_type": "raw",
   "id": "64afec81",
   "metadata": {},
   "source": [
    "## Target:\n",
    "\n",
    "Make two prediction,  \n",
    "1) Primary Fuel - Classification, and \n",
    "2) capacity_mw  - Regression"
   ]
  },
  {
   "cell_type": "code",
   "execution_count": 1,
   "id": "eaa11e1d",
   "metadata": {},
   "outputs": [],
   "source": [
    "import pandas as pd\n",
    "import numpy as np\n",
    "\n",
    "import matplotlib.pyplot as plt\n",
    "import seaborn as sns\n",
    "%matplotlib inline\n",
    "\n",
    "import warnings\n",
    "warnings.filterwarnings('ignore')\n",
    "from sklearn.utils import shuffle"
   ]
  },
  {
   "cell_type": "code",
   "execution_count": 2,
   "id": "115435fc",
   "metadata": {},
   "outputs": [
    {
     "data": {
      "text/html": [
       "<div>\n",
       "<style scoped>\n",
       "    .dataframe tbody tr th:only-of-type {\n",
       "        vertical-align: middle;\n",
       "    }\n",
       "\n",
       "    .dataframe tbody tr th {\n",
       "        vertical-align: top;\n",
       "    }\n",
       "\n",
       "    .dataframe thead th {\n",
       "        text-align: right;\n",
       "    }\n",
       "</style>\n",
       "<table border=\"1\" class=\"dataframe\">\n",
       "  <thead>\n",
       "    <tr style=\"text-align: right;\">\n",
       "      <th></th>\n",
       "      <th>country</th>\n",
       "      <th>country_long</th>\n",
       "      <th>name</th>\n",
       "      <th>gppd_idnr</th>\n",
       "      <th>capacity_mw</th>\n",
       "      <th>latitude</th>\n",
       "      <th>longitude</th>\n",
       "      <th>primary_fuel</th>\n",
       "      <th>other_fuel1</th>\n",
       "      <th>other_fuel2</th>\n",
       "      <th>...</th>\n",
       "      <th>year_of_capacity_data</th>\n",
       "      <th>generation_gwh_2013</th>\n",
       "      <th>generation_gwh_2014</th>\n",
       "      <th>generation_gwh_2015</th>\n",
       "      <th>generation_gwh_2016</th>\n",
       "      <th>generation_gwh_2017</th>\n",
       "      <th>generation_gwh_2018</th>\n",
       "      <th>generation_gwh_2019</th>\n",
       "      <th>generation_data_source</th>\n",
       "      <th>estimated_generation_gwh</th>\n",
       "    </tr>\n",
       "  </thead>\n",
       "  <tbody>\n",
       "    <tr>\n",
       "      <th>0</th>\n",
       "      <td>IND</td>\n",
       "      <td>India</td>\n",
       "      <td>ACME Solar Tower</td>\n",
       "      <td>WRI1020239</td>\n",
       "      <td>2.5</td>\n",
       "      <td>28.1839</td>\n",
       "      <td>73.2407</td>\n",
       "      <td>Solar</td>\n",
       "      <td>NaN</td>\n",
       "      <td>NaN</td>\n",
       "      <td>...</td>\n",
       "      <td>NaN</td>\n",
       "      <td>NaN</td>\n",
       "      <td>NaN</td>\n",
       "      <td>NaN</td>\n",
       "      <td>NaN</td>\n",
       "      <td>NaN</td>\n",
       "      <td>NaN</td>\n",
       "      <td>NaN</td>\n",
       "      <td>NaN</td>\n",
       "      <td>NaN</td>\n",
       "    </tr>\n",
       "    <tr>\n",
       "      <th>1</th>\n",
       "      <td>IND</td>\n",
       "      <td>India</td>\n",
       "      <td>ADITYA CEMENT WORKS</td>\n",
       "      <td>WRI1019881</td>\n",
       "      <td>98.0</td>\n",
       "      <td>24.7663</td>\n",
       "      <td>74.6090</td>\n",
       "      <td>Coal</td>\n",
       "      <td>NaN</td>\n",
       "      <td>NaN</td>\n",
       "      <td>...</td>\n",
       "      <td>NaN</td>\n",
       "      <td>NaN</td>\n",
       "      <td>NaN</td>\n",
       "      <td>NaN</td>\n",
       "      <td>NaN</td>\n",
       "      <td>NaN</td>\n",
       "      <td>NaN</td>\n",
       "      <td>NaN</td>\n",
       "      <td>NaN</td>\n",
       "      <td>NaN</td>\n",
       "    </tr>\n",
       "    <tr>\n",
       "      <th>2</th>\n",
       "      <td>IND</td>\n",
       "      <td>India</td>\n",
       "      <td>AES Saurashtra Windfarms</td>\n",
       "      <td>WRI1026669</td>\n",
       "      <td>39.2</td>\n",
       "      <td>21.9038</td>\n",
       "      <td>69.3732</td>\n",
       "      <td>Wind</td>\n",
       "      <td>NaN</td>\n",
       "      <td>NaN</td>\n",
       "      <td>...</td>\n",
       "      <td>NaN</td>\n",
       "      <td>NaN</td>\n",
       "      <td>NaN</td>\n",
       "      <td>NaN</td>\n",
       "      <td>NaN</td>\n",
       "      <td>NaN</td>\n",
       "      <td>NaN</td>\n",
       "      <td>NaN</td>\n",
       "      <td>NaN</td>\n",
       "      <td>NaN</td>\n",
       "    </tr>\n",
       "    <tr>\n",
       "      <th>3</th>\n",
       "      <td>IND</td>\n",
       "      <td>India</td>\n",
       "      <td>AGARTALA GT</td>\n",
       "      <td>IND0000001</td>\n",
       "      <td>135.0</td>\n",
       "      <td>23.8712</td>\n",
       "      <td>91.3602</td>\n",
       "      <td>Gas</td>\n",
       "      <td>NaN</td>\n",
       "      <td>NaN</td>\n",
       "      <td>...</td>\n",
       "      <td>2019.0</td>\n",
       "      <td>NaN</td>\n",
       "      <td>617.789264</td>\n",
       "      <td>843.747</td>\n",
       "      <td>886.004428</td>\n",
       "      <td>663.774500</td>\n",
       "      <td>626.239128</td>\n",
       "      <td>NaN</td>\n",
       "      <td>Central Electricity Authority</td>\n",
       "      <td>NaN</td>\n",
       "    </tr>\n",
       "    <tr>\n",
       "      <th>4</th>\n",
       "      <td>IND</td>\n",
       "      <td>India</td>\n",
       "      <td>AKALTARA TPP</td>\n",
       "      <td>IND0000002</td>\n",
       "      <td>1800.0</td>\n",
       "      <td>21.9603</td>\n",
       "      <td>82.4091</td>\n",
       "      <td>Coal</td>\n",
       "      <td>Oil</td>\n",
       "      <td>NaN</td>\n",
       "      <td>...</td>\n",
       "      <td>2019.0</td>\n",
       "      <td>NaN</td>\n",
       "      <td>3035.550000</td>\n",
       "      <td>5916.370</td>\n",
       "      <td>6243.000000</td>\n",
       "      <td>5385.579736</td>\n",
       "      <td>7279.000000</td>\n",
       "      <td>NaN</td>\n",
       "      <td>Central Electricity Authority</td>\n",
       "      <td>NaN</td>\n",
       "    </tr>\n",
       "  </tbody>\n",
       "</table>\n",
       "<p>5 rows × 27 columns</p>\n",
       "</div>"
      ],
      "text/plain": [
       "  country country_long                      name   gppd_idnr  capacity_mw  \\\n",
       "0     IND        India          ACME Solar Tower  WRI1020239          2.5   \n",
       "1     IND        India       ADITYA CEMENT WORKS  WRI1019881         98.0   \n",
       "2     IND        India  AES Saurashtra Windfarms  WRI1026669         39.2   \n",
       "3     IND        India               AGARTALA GT  IND0000001        135.0   \n",
       "4     IND        India              AKALTARA TPP  IND0000002       1800.0   \n",
       "\n",
       "   latitude  longitude primary_fuel other_fuel1 other_fuel2  ...  \\\n",
       "0   28.1839    73.2407        Solar         NaN         NaN  ...   \n",
       "1   24.7663    74.6090         Coal         NaN         NaN  ...   \n",
       "2   21.9038    69.3732         Wind         NaN         NaN  ...   \n",
       "3   23.8712    91.3602          Gas         NaN         NaN  ...   \n",
       "4   21.9603    82.4091         Coal         Oil         NaN  ...   \n",
       "\n",
       "   year_of_capacity_data  generation_gwh_2013 generation_gwh_2014  \\\n",
       "0                    NaN                  NaN                 NaN   \n",
       "1                    NaN                  NaN                 NaN   \n",
       "2                    NaN                  NaN                 NaN   \n",
       "3                 2019.0                  NaN          617.789264   \n",
       "4                 2019.0                  NaN         3035.550000   \n",
       "\n",
       "  generation_gwh_2015 generation_gwh_2016 generation_gwh_2017  \\\n",
       "0                 NaN                 NaN                 NaN   \n",
       "1                 NaN                 NaN                 NaN   \n",
       "2                 NaN                 NaN                 NaN   \n",
       "3             843.747          886.004428          663.774500   \n",
       "4            5916.370         6243.000000         5385.579736   \n",
       "\n",
       "   generation_gwh_2018  generation_gwh_2019         generation_data_source  \\\n",
       "0                  NaN                  NaN                            NaN   \n",
       "1                  NaN                  NaN                            NaN   \n",
       "2                  NaN                  NaN                            NaN   \n",
       "3           626.239128                  NaN  Central Electricity Authority   \n",
       "4          7279.000000                  NaN  Central Electricity Authority   \n",
       "\n",
       "   estimated_generation_gwh  \n",
       "0                       NaN  \n",
       "1                       NaN  \n",
       "2                       NaN  \n",
       "3                       NaN  \n",
       "4                       NaN  \n",
       "\n",
       "[5 rows x 27 columns]"
      ]
     },
     "execution_count": 2,
     "metadata": {},
     "output_type": "execute_result"
    }
   ],
   "source": [
    "df=pd.read_csv('database_IND.csv')\n",
    "df.head(5)"
   ]
  },
  {
   "cell_type": "code",
   "execution_count": 3,
   "id": "2633f8a8",
   "metadata": {},
   "outputs": [
    {
     "data": {
      "text/plain": [
       "country                       0\n",
       "country_long                  0\n",
       "name                          0\n",
       "gppd_idnr                     0\n",
       "capacity_mw                   0\n",
       "latitude                     46\n",
       "longitude                    46\n",
       "primary_fuel                  0\n",
       "other_fuel1                 709\n",
       "other_fuel2                 906\n",
       "other_fuel3                 907\n",
       "commissioning_year          380\n",
       "owner                       565\n",
       "source                        0\n",
       "url                           0\n",
       "geolocation_source           19\n",
       "wepp_id                     907\n",
       "year_of_capacity_data       388\n",
       "generation_gwh_2013         907\n",
       "generation_gwh_2014         509\n",
       "generation_gwh_2015         485\n",
       "generation_gwh_2016         473\n",
       "generation_gwh_2017         467\n",
       "generation_gwh_2018         459\n",
       "generation_gwh_2019         907\n",
       "generation_data_source      458\n",
       "estimated_generation_gwh    907\n",
       "dtype: int64"
      ]
     },
     "execution_count": 3,
     "metadata": {},
     "output_type": "execute_result"
    }
   ],
   "source": [
    "df.isnull().sum()"
   ]
  },
  {
   "cell_type": "code",
   "execution_count": 4,
   "id": "fd16d445",
   "metadata": {},
   "outputs": [
    {
     "name": "stdout",
     "output_type": "stream",
     "text": [
      "<class 'pandas.core.frame.DataFrame'>\n",
      "RangeIndex: 907 entries, 0 to 906\n",
      "Data columns (total 27 columns):\n",
      " #   Column                    Non-Null Count  Dtype  \n",
      "---  ------                    --------------  -----  \n",
      " 0   country                   907 non-null    object \n",
      " 1   country_long              907 non-null    object \n",
      " 2   name                      907 non-null    object \n",
      " 3   gppd_idnr                 907 non-null    object \n",
      " 4   capacity_mw               907 non-null    float64\n",
      " 5   latitude                  861 non-null    float64\n",
      " 6   longitude                 861 non-null    float64\n",
      " 7   primary_fuel              907 non-null    object \n",
      " 8   other_fuel1               198 non-null    object \n",
      " 9   other_fuel2               1 non-null      object \n",
      " 10  other_fuel3               0 non-null      float64\n",
      " 11  commissioning_year        527 non-null    float64\n",
      " 12  owner                     342 non-null    object \n",
      " 13  source                    907 non-null    object \n",
      " 14  url                       907 non-null    object \n",
      " 15  geolocation_source        888 non-null    object \n",
      " 16  wepp_id                   0 non-null      float64\n",
      " 17  year_of_capacity_data     519 non-null    float64\n",
      " 18  generation_gwh_2013       0 non-null      float64\n",
      " 19  generation_gwh_2014       398 non-null    float64\n",
      " 20  generation_gwh_2015       422 non-null    float64\n",
      " 21  generation_gwh_2016       434 non-null    float64\n",
      " 22  generation_gwh_2017       440 non-null    float64\n",
      " 23  generation_gwh_2018       448 non-null    float64\n",
      " 24  generation_gwh_2019       0 non-null      float64\n",
      " 25  generation_data_source    449 non-null    object \n",
      " 26  estimated_generation_gwh  0 non-null      float64\n",
      "dtypes: float64(15), object(12)\n",
      "memory usage: 191.4+ KB\n"
     ]
    }
   ],
   "source": [
    "df.info()"
   ]
  },
  {
   "cell_type": "markdown",
   "id": "f10004dd",
   "metadata": {},
   "source": [
    "As per observation:\n",
    "\n",
    "1. The dataset has 907 rows and 27 columns.\n",
    "2. So many null values in most of columns.\n",
    "3. Dataset has float and object types data.\n",
    "4. Drop unwanted columns.\n",
    "5. Columns with more than 70%-75% nulls, also drop them, otherwise it gives poor performance of models.\n",
    "   ['other_fuel1','other_fuel2','other_fuel3','wepp_id','generation_gwh_2013','generation_gwh_2019','estimated_generation_gwh']\n",
    "   drop these columns, which have more than 75% nulls."
   ]
  },
  {
   "cell_type": "code",
   "execution_count": 5,
   "id": "38cc049c",
   "metadata": {},
   "outputs": [],
   "source": [
    "df.drop(columns=['other_fuel1','other_fuel2','other_fuel3','wepp_id','generation_gwh_2013','generation_gwh_2019','estimated_generation_gwh'], inplace=True)"
   ]
  },
  {
   "cell_type": "code",
   "execution_count": 6,
   "id": "7f6627af",
   "metadata": {},
   "outputs": [],
   "source": [
    "df.drop_duplicates(inplace=True)"
   ]
  },
  {
   "cell_type": "markdown",
   "id": "0d14dda6",
   "metadata": {},
   "source": [
    "# Now Seperate Object and Numeric (Int, Float) datatype for future process."
   ]
  },
  {
   "cell_type": "code",
   "execution_count": 7,
   "id": "4d1ab31b",
   "metadata": {},
   "outputs": [
    {
     "name": "stdout",
     "output_type": "stream",
     "text": [
      "10\n"
     ]
    },
    {
     "data": {
      "text/plain": [
       "['country',\n",
       " 'country_long',\n",
       " 'name',\n",
       " 'gppd_idnr',\n",
       " 'primary_fuel',\n",
       " 'owner',\n",
       " 'source',\n",
       " 'url',\n",
       " 'geolocation_source',\n",
       " 'generation_data_source']"
      ]
     },
     "execution_count": 7,
     "metadata": {},
     "output_type": "execute_result"
    }
   ],
   "source": [
    "object_datatypes=[]\n",
    "for i in df.dtypes.index:\n",
    "    if df.dtypes[i]=='object':\n",
    "        object_datatypes.append(i)\n",
    "print(len(object_datatypes))\n",
    "object_datatypes  "
   ]
  },
  {
   "cell_type": "code",
   "execution_count": 8,
   "id": "7c4794ac",
   "metadata": {},
   "outputs": [
    {
     "name": "stdout",
     "output_type": "stream",
     "text": [
      "country \t: 1\n",
      "country_long \t: 1\n",
      "name \t: 907\n",
      "gppd_idnr \t: 907\n",
      "primary_fuel \t: 8\n",
      "owner \t: 280\n",
      "source \t: 191\n",
      "url \t: 304\n",
      "geolocation_source \t: 3\n",
      "generation_data_source \t: 1\n"
     ]
    }
   ],
   "source": [
    "for i in df.columns:\n",
    "    if df[i].dtypes == 'object':\n",
    "        val=df[i].unique()\n",
    "        nval=df[i].nunique()\n",
    "        print(i ,'\\t:', nval )"
   ]
  },
  {
   "cell_type": "markdown",
   "id": "edc6eaba",
   "metadata": {},
   "source": [
    "As per observation,\n",
    "1. country, country_long, generation_data_source have only 1 value in columns,\n",
    "2. name and gppd_idnr columns have totaly different values throught out columns, \n",
    "3. url, owner, geolocation_source based on only source value only.\n",
    "which are not give such information to predict data, So drop these columns."
   ]
  },
  {
   "cell_type": "code",
   "execution_count": 9,
   "id": "6780ac08",
   "metadata": {},
   "outputs": [],
   "source": [
    "df.drop(columns=['country','country_long','name','gppd_idnr','owner','generation_data_source','geolocation_source','url'],inplace=True)"
   ]
  },
  {
   "cell_type": "code",
   "execution_count": 10,
   "id": "0723cfe6",
   "metadata": {},
   "outputs": [
    {
     "name": "stdout",
     "output_type": "stream",
     "text": [
      "Total: 10\n"
     ]
    },
    {
     "data": {
      "text/plain": [
       "['capacity_mw',\n",
       " 'latitude',\n",
       " 'longitude',\n",
       " 'commissioning_year',\n",
       " 'year_of_capacity_data',\n",
       " 'generation_gwh_2014',\n",
       " 'generation_gwh_2015',\n",
       " 'generation_gwh_2016',\n",
       " 'generation_gwh_2017',\n",
       " 'generation_gwh_2018']"
      ]
     },
     "execution_count": 10,
     "metadata": {},
     "output_type": "execute_result"
    }
   ],
   "source": [
    "numeric_datatypes=[]\n",
    "for i in df.dtypes.index:\n",
    "    if df.dtypes[i]!='object':\n",
    "        numeric_datatypes.append(i) \n",
    "print('Total:', len(numeric_datatypes))\n",
    "numeric_datatypes"
   ]
  },
  {
   "cell_type": "code",
   "execution_count": 11,
   "id": "75becd6b",
   "metadata": {},
   "outputs": [
    {
     "name": "stdout",
     "output_type": "stream",
     "text": [
      "capacity_mw \t: 361\n",
      "latitude \t: 836\n",
      "longitude \t: 827\n",
      "commissioning_year \t: 73\n",
      "year_of_capacity_data \t: 1\n",
      "generation_gwh_2014 \t: 371\n",
      "generation_gwh_2015 \t: 396\n",
      "generation_gwh_2016 \t: 403\n",
      "generation_gwh_2017 \t: 408\n",
      "generation_gwh_2018 \t: 410\n"
     ]
    }
   ],
   "source": [
    "for i in df.columns:\n",
    "    if df[i].dtypes != 'object':\n",
    "        val=df[i].unique()\n",
    "        nval=df[i].nunique()\n",
    "        print(i ,'\\t:', nval )"
   ]
  },
  {
   "cell_type": "markdown",
   "id": "07fcba7c",
   "metadata": {},
   "source": [
    "As per observation,\n",
    "\n",
    "1 .year_of_capacity_data has only 1 value in columns, which is not give such information to predict data, So drop this column."
   ]
  },
  {
   "cell_type": "code",
   "execution_count": 12,
   "id": "84708dcd",
   "metadata": {},
   "outputs": [],
   "source": [
    "df.drop(columns='year_of_capacity_data',inplace=True)"
   ]
  },
  {
   "cell_type": "code",
   "execution_count": 13,
   "id": "e73b0500",
   "metadata": {},
   "outputs": [
    {
     "data": {
      "text/plain": [
       "capacity_mw              0\n",
       "latitude                46\n",
       "longitude               46\n",
       "primary_fuel             0\n",
       "commissioning_year     380\n",
       "source                   0\n",
       "generation_gwh_2014    509\n",
       "generation_gwh_2015    485\n",
       "generation_gwh_2016    473\n",
       "generation_gwh_2017    467\n",
       "generation_gwh_2018    459\n",
       "dtype: int64"
      ]
     },
     "execution_count": 13,
     "metadata": {},
     "output_type": "execute_result"
    }
   ],
   "source": [
    "df.isnull().sum()"
   ]
  },
  {
   "cell_type": "code",
   "execution_count": 14,
   "id": "e62e6a3c",
   "metadata": {},
   "outputs": [
    {
     "data": {
      "text/html": [
       "<div>\n",
       "<style scoped>\n",
       "    .dataframe tbody tr th:only-of-type {\n",
       "        vertical-align: middle;\n",
       "    }\n",
       "\n",
       "    .dataframe tbody tr th {\n",
       "        vertical-align: top;\n",
       "    }\n",
       "\n",
       "    .dataframe thead th {\n",
       "        text-align: right;\n",
       "    }\n",
       "</style>\n",
       "<table border=\"1\" class=\"dataframe\">\n",
       "  <thead>\n",
       "    <tr style=\"text-align: right;\">\n",
       "      <th></th>\n",
       "      <th>capacity_mw</th>\n",
       "      <th>latitude</th>\n",
       "      <th>longitude</th>\n",
       "      <th>primary_fuel</th>\n",
       "      <th>commissioning_year</th>\n",
       "      <th>source</th>\n",
       "      <th>generation_gwh_2014</th>\n",
       "      <th>generation_gwh_2015</th>\n",
       "      <th>generation_gwh_2016</th>\n",
       "      <th>generation_gwh_2017</th>\n",
       "      <th>generation_gwh_2018</th>\n",
       "    </tr>\n",
       "  </thead>\n",
       "  <tbody>\n",
       "    <tr>\n",
       "      <th>0</th>\n",
       "      <td>2.5</td>\n",
       "      <td>28.1839</td>\n",
       "      <td>73.2407</td>\n",
       "      <td>Solar</td>\n",
       "      <td>2011.0</td>\n",
       "      <td>National Renewable Energy Laboratory</td>\n",
       "      <td>NaN</td>\n",
       "      <td>NaN</td>\n",
       "      <td>NaN</td>\n",
       "      <td>NaN</td>\n",
       "      <td>NaN</td>\n",
       "    </tr>\n",
       "    <tr>\n",
       "      <th>1</th>\n",
       "      <td>98.0</td>\n",
       "      <td>24.7663</td>\n",
       "      <td>74.6090</td>\n",
       "      <td>Coal</td>\n",
       "      <td>NaN</td>\n",
       "      <td>Ultratech Cement ltd</td>\n",
       "      <td>NaN</td>\n",
       "      <td>NaN</td>\n",
       "      <td>NaN</td>\n",
       "      <td>NaN</td>\n",
       "      <td>NaN</td>\n",
       "    </tr>\n",
       "    <tr>\n",
       "      <th>2</th>\n",
       "      <td>39.2</td>\n",
       "      <td>21.9038</td>\n",
       "      <td>69.3732</td>\n",
       "      <td>Wind</td>\n",
       "      <td>NaN</td>\n",
       "      <td>CDM</td>\n",
       "      <td>NaN</td>\n",
       "      <td>NaN</td>\n",
       "      <td>NaN</td>\n",
       "      <td>NaN</td>\n",
       "      <td>NaN</td>\n",
       "    </tr>\n",
       "    <tr>\n",
       "      <th>3</th>\n",
       "      <td>135.0</td>\n",
       "      <td>23.8712</td>\n",
       "      <td>91.3602</td>\n",
       "      <td>Gas</td>\n",
       "      <td>2004.0</td>\n",
       "      <td>Central Electricity Authority</td>\n",
       "      <td>617.789264</td>\n",
       "      <td>843.747000</td>\n",
       "      <td>886.004428</td>\n",
       "      <td>663.774500</td>\n",
       "      <td>626.239128</td>\n",
       "    </tr>\n",
       "    <tr>\n",
       "      <th>4</th>\n",
       "      <td>1800.0</td>\n",
       "      <td>21.9603</td>\n",
       "      <td>82.4091</td>\n",
       "      <td>Coal</td>\n",
       "      <td>2015.0</td>\n",
       "      <td>Central Electricity Authority</td>\n",
       "      <td>3035.550000</td>\n",
       "      <td>5916.370000</td>\n",
       "      <td>6243.000000</td>\n",
       "      <td>5385.579736</td>\n",
       "      <td>7279.000000</td>\n",
       "    </tr>\n",
       "    <tr>\n",
       "      <th>...</th>\n",
       "      <td>...</td>\n",
       "      <td>...</td>\n",
       "      <td>...</td>\n",
       "      <td>...</td>\n",
       "      <td>...</td>\n",
       "      <td>...</td>\n",
       "      <td>...</td>\n",
       "      <td>...</td>\n",
       "      <td>...</td>\n",
       "      <td>...</td>\n",
       "      <td>...</td>\n",
       "    </tr>\n",
       "    <tr>\n",
       "      <th>902</th>\n",
       "      <td>1600.0</td>\n",
       "      <td>16.2949</td>\n",
       "      <td>77.3568</td>\n",
       "      <td>Coal</td>\n",
       "      <td>2016.0</td>\n",
       "      <td>Central Electricity Authority</td>\n",
       "      <td>NaN</td>\n",
       "      <td>0.994875</td>\n",
       "      <td>233.596650</td>\n",
       "      <td>865.400000</td>\n",
       "      <td>686.500000</td>\n",
       "    </tr>\n",
       "    <tr>\n",
       "      <th>903</th>\n",
       "      <td>3.0</td>\n",
       "      <td>12.8932</td>\n",
       "      <td>78.1654</td>\n",
       "      <td>Solar</td>\n",
       "      <td>NaN</td>\n",
       "      <td>Karnataka Power Corporation Limited</td>\n",
       "      <td>NaN</td>\n",
       "      <td>NaN</td>\n",
       "      <td>NaN</td>\n",
       "      <td>NaN</td>\n",
       "      <td>NaN</td>\n",
       "    </tr>\n",
       "    <tr>\n",
       "      <th>904</th>\n",
       "      <td>25.5</td>\n",
       "      <td>15.2758</td>\n",
       "      <td>75.5811</td>\n",
       "      <td>Wind</td>\n",
       "      <td>NaN</td>\n",
       "      <td>CDM</td>\n",
       "      <td>NaN</td>\n",
       "      <td>NaN</td>\n",
       "      <td>NaN</td>\n",
       "      <td>NaN</td>\n",
       "      <td>NaN</td>\n",
       "    </tr>\n",
       "    <tr>\n",
       "      <th>905</th>\n",
       "      <td>80.0</td>\n",
       "      <td>24.3500</td>\n",
       "      <td>73.7477</td>\n",
       "      <td>Coal</td>\n",
       "      <td>NaN</td>\n",
       "      <td>Hindustan Zinc ltd</td>\n",
       "      <td>NaN</td>\n",
       "      <td>NaN</td>\n",
       "      <td>NaN</td>\n",
       "      <td>NaN</td>\n",
       "      <td>NaN</td>\n",
       "    </tr>\n",
       "    <tr>\n",
       "      <th>906</th>\n",
       "      <td>16.5</td>\n",
       "      <td>9.9344</td>\n",
       "      <td>77.4768</td>\n",
       "      <td>Wind</td>\n",
       "      <td>NaN</td>\n",
       "      <td>CDM</td>\n",
       "      <td>NaN</td>\n",
       "      <td>NaN</td>\n",
       "      <td>NaN</td>\n",
       "      <td>NaN</td>\n",
       "      <td>NaN</td>\n",
       "    </tr>\n",
       "  </tbody>\n",
       "</table>\n",
       "<p>907 rows × 11 columns</p>\n",
       "</div>"
      ],
      "text/plain": [
       "     capacity_mw  latitude  longitude primary_fuel  commissioning_year  \\\n",
       "0            2.5   28.1839    73.2407        Solar              2011.0   \n",
       "1           98.0   24.7663    74.6090         Coal                 NaN   \n",
       "2           39.2   21.9038    69.3732         Wind                 NaN   \n",
       "3          135.0   23.8712    91.3602          Gas              2004.0   \n",
       "4         1800.0   21.9603    82.4091         Coal              2015.0   \n",
       "..           ...       ...        ...          ...                 ...   \n",
       "902       1600.0   16.2949    77.3568         Coal              2016.0   \n",
       "903          3.0   12.8932    78.1654        Solar                 NaN   \n",
       "904         25.5   15.2758    75.5811         Wind                 NaN   \n",
       "905         80.0   24.3500    73.7477         Coal                 NaN   \n",
       "906         16.5    9.9344    77.4768         Wind                 NaN   \n",
       "\n",
       "                                   source  generation_gwh_2014  \\\n",
       "0    National Renewable Energy Laboratory                  NaN   \n",
       "1                    Ultratech Cement ltd                  NaN   \n",
       "2                                     CDM                  NaN   \n",
       "3           Central Electricity Authority           617.789264   \n",
       "4           Central Electricity Authority          3035.550000   \n",
       "..                                    ...                  ...   \n",
       "902         Central Electricity Authority                  NaN   \n",
       "903   Karnataka Power Corporation Limited                  NaN   \n",
       "904                                   CDM                  NaN   \n",
       "905                    Hindustan Zinc ltd                  NaN   \n",
       "906                                   CDM                  NaN   \n",
       "\n",
       "     generation_gwh_2015  generation_gwh_2016  generation_gwh_2017  \\\n",
       "0                    NaN                  NaN                  NaN   \n",
       "1                    NaN                  NaN                  NaN   \n",
       "2                    NaN                  NaN                  NaN   \n",
       "3             843.747000           886.004428           663.774500   \n",
       "4            5916.370000          6243.000000          5385.579736   \n",
       "..                   ...                  ...                  ...   \n",
       "902             0.994875           233.596650           865.400000   \n",
       "903                  NaN                  NaN                  NaN   \n",
       "904                  NaN                  NaN                  NaN   \n",
       "905                  NaN                  NaN                  NaN   \n",
       "906                  NaN                  NaN                  NaN   \n",
       "\n",
       "     generation_gwh_2018  \n",
       "0                    NaN  \n",
       "1                    NaN  \n",
       "2                    NaN  \n",
       "3             626.239128  \n",
       "4            7279.000000  \n",
       "..                   ...  \n",
       "902           686.500000  \n",
       "903                  NaN  \n",
       "904                  NaN  \n",
       "905                  NaN  \n",
       "906                  NaN  \n",
       "\n",
       "[907 rows x 11 columns]"
      ]
     },
     "execution_count": 14,
     "metadata": {},
     "output_type": "execute_result"
    }
   ],
   "source": [
    "df1=df.copy()\n",
    "df1"
   ]
  },
  {
   "cell_type": "markdown",
   "id": "66f1d487",
   "metadata": {},
   "source": [
    "# Since the dataset has a lot of string vales. We will use the encoding techniques to convert the sring data to numerical data."
   ]
  },
  {
   "cell_type": "code",
   "execution_count": 15,
   "id": "c36cc662",
   "metadata": {},
   "outputs": [
    {
     "data": {
      "text/html": [
       "<div>\n",
       "<style scoped>\n",
       "    .dataframe tbody tr th:only-of-type {\n",
       "        vertical-align: middle;\n",
       "    }\n",
       "\n",
       "    .dataframe tbody tr th {\n",
       "        vertical-align: top;\n",
       "    }\n",
       "\n",
       "    .dataframe thead th {\n",
       "        text-align: right;\n",
       "    }\n",
       "</style>\n",
       "<table border=\"1\" class=\"dataframe\">\n",
       "  <thead>\n",
       "    <tr style=\"text-align: right;\">\n",
       "      <th></th>\n",
       "      <th>capacity_mw</th>\n",
       "      <th>latitude</th>\n",
       "      <th>longitude</th>\n",
       "      <th>primary_fuel</th>\n",
       "      <th>commissioning_year</th>\n",
       "      <th>source</th>\n",
       "      <th>generation_gwh_2014</th>\n",
       "      <th>generation_gwh_2015</th>\n",
       "      <th>generation_gwh_2016</th>\n",
       "      <th>generation_gwh_2017</th>\n",
       "      <th>generation_gwh_2018</th>\n",
       "    </tr>\n",
       "  </thead>\n",
       "  <tbody>\n",
       "    <tr>\n",
       "      <th>0</th>\n",
       "      <td>2.5</td>\n",
       "      <td>28.1839</td>\n",
       "      <td>73.2407</td>\n",
       "      <td>6.0</td>\n",
       "      <td>2011.0</td>\n",
       "      <td>109.0</td>\n",
       "      <td>NaN</td>\n",
       "      <td>NaN</td>\n",
       "      <td>NaN</td>\n",
       "      <td>NaN</td>\n",
       "      <td>NaN</td>\n",
       "    </tr>\n",
       "    <tr>\n",
       "      <th>1</th>\n",
       "      <td>98.0</td>\n",
       "      <td>24.7663</td>\n",
       "      <td>74.6090</td>\n",
       "      <td>1.0</td>\n",
       "      <td>NaN</td>\n",
       "      <td>174.0</td>\n",
       "      <td>NaN</td>\n",
       "      <td>NaN</td>\n",
       "      <td>NaN</td>\n",
       "      <td>NaN</td>\n",
       "      <td>NaN</td>\n",
       "    </tr>\n",
       "    <tr>\n",
       "      <th>2</th>\n",
       "      <td>39.2</td>\n",
       "      <td>21.9038</td>\n",
       "      <td>69.3732</td>\n",
       "      <td>7.0</td>\n",
       "      <td>NaN</td>\n",
       "      <td>21.0</td>\n",
       "      <td>NaN</td>\n",
       "      <td>NaN</td>\n",
       "      <td>NaN</td>\n",
       "      <td>NaN</td>\n",
       "      <td>NaN</td>\n",
       "    </tr>\n",
       "    <tr>\n",
       "      <th>3</th>\n",
       "      <td>135.0</td>\n",
       "      <td>23.8712</td>\n",
       "      <td>91.3602</td>\n",
       "      <td>2.0</td>\n",
       "      <td>2004.0</td>\n",
       "      <td>22.0</td>\n",
       "      <td>617.789264</td>\n",
       "      <td>843.747000</td>\n",
       "      <td>886.004428</td>\n",
       "      <td>663.774500</td>\n",
       "      <td>626.239128</td>\n",
       "    </tr>\n",
       "    <tr>\n",
       "      <th>4</th>\n",
       "      <td>1800.0</td>\n",
       "      <td>21.9603</td>\n",
       "      <td>82.4091</td>\n",
       "      <td>1.0</td>\n",
       "      <td>2015.0</td>\n",
       "      <td>22.0</td>\n",
       "      <td>3035.550000</td>\n",
       "      <td>5916.370000</td>\n",
       "      <td>6243.000000</td>\n",
       "      <td>5385.579736</td>\n",
       "      <td>7279.000000</td>\n",
       "    </tr>\n",
       "    <tr>\n",
       "      <th>...</th>\n",
       "      <td>...</td>\n",
       "      <td>...</td>\n",
       "      <td>...</td>\n",
       "      <td>...</td>\n",
       "      <td>...</td>\n",
       "      <td>...</td>\n",
       "      <td>...</td>\n",
       "      <td>...</td>\n",
       "      <td>...</td>\n",
       "      <td>...</td>\n",
       "      <td>...</td>\n",
       "    </tr>\n",
       "    <tr>\n",
       "      <th>902</th>\n",
       "      <td>1600.0</td>\n",
       "      <td>16.2949</td>\n",
       "      <td>77.3568</td>\n",
       "      <td>1.0</td>\n",
       "      <td>2016.0</td>\n",
       "      <td>22.0</td>\n",
       "      <td>NaN</td>\n",
       "      <td>0.994875</td>\n",
       "      <td>233.596650</td>\n",
       "      <td>865.400000</td>\n",
       "      <td>686.500000</td>\n",
       "    </tr>\n",
       "    <tr>\n",
       "      <th>903</th>\n",
       "      <td>3.0</td>\n",
       "      <td>12.8932</td>\n",
       "      <td>78.1654</td>\n",
       "      <td>6.0</td>\n",
       "      <td>NaN</td>\n",
       "      <td>77.0</td>\n",
       "      <td>NaN</td>\n",
       "      <td>NaN</td>\n",
       "      <td>NaN</td>\n",
       "      <td>NaN</td>\n",
       "      <td>NaN</td>\n",
       "    </tr>\n",
       "    <tr>\n",
       "      <th>904</th>\n",
       "      <td>25.5</td>\n",
       "      <td>15.2758</td>\n",
       "      <td>75.5811</td>\n",
       "      <td>7.0</td>\n",
       "      <td>NaN</td>\n",
       "      <td>21.0</td>\n",
       "      <td>NaN</td>\n",
       "      <td>NaN</td>\n",
       "      <td>NaN</td>\n",
       "      <td>NaN</td>\n",
       "      <td>NaN</td>\n",
       "    </tr>\n",
       "    <tr>\n",
       "      <th>905</th>\n",
       "      <td>80.0</td>\n",
       "      <td>24.3500</td>\n",
       "      <td>73.7477</td>\n",
       "      <td>1.0</td>\n",
       "      <td>NaN</td>\n",
       "      <td>59.0</td>\n",
       "      <td>NaN</td>\n",
       "      <td>NaN</td>\n",
       "      <td>NaN</td>\n",
       "      <td>NaN</td>\n",
       "      <td>NaN</td>\n",
       "    </tr>\n",
       "    <tr>\n",
       "      <th>906</th>\n",
       "      <td>16.5</td>\n",
       "      <td>9.9344</td>\n",
       "      <td>77.4768</td>\n",
       "      <td>7.0</td>\n",
       "      <td>NaN</td>\n",
       "      <td>21.0</td>\n",
       "      <td>NaN</td>\n",
       "      <td>NaN</td>\n",
       "      <td>NaN</td>\n",
       "      <td>NaN</td>\n",
       "      <td>NaN</td>\n",
       "    </tr>\n",
       "  </tbody>\n",
       "</table>\n",
       "<p>907 rows × 11 columns</p>\n",
       "</div>"
      ],
      "text/plain": [
       "     capacity_mw  latitude  longitude  primary_fuel  commissioning_year  \\\n",
       "0            2.5   28.1839    73.2407           6.0              2011.0   \n",
       "1           98.0   24.7663    74.6090           1.0                 NaN   \n",
       "2           39.2   21.9038    69.3732           7.0                 NaN   \n",
       "3          135.0   23.8712    91.3602           2.0              2004.0   \n",
       "4         1800.0   21.9603    82.4091           1.0              2015.0   \n",
       "..           ...       ...        ...           ...                 ...   \n",
       "902       1600.0   16.2949    77.3568           1.0              2016.0   \n",
       "903          3.0   12.8932    78.1654           6.0                 NaN   \n",
       "904         25.5   15.2758    75.5811           7.0                 NaN   \n",
       "905         80.0   24.3500    73.7477           1.0                 NaN   \n",
       "906         16.5    9.9344    77.4768           7.0                 NaN   \n",
       "\n",
       "     source  generation_gwh_2014  generation_gwh_2015  generation_gwh_2016  \\\n",
       "0     109.0                  NaN                  NaN                  NaN   \n",
       "1     174.0                  NaN                  NaN                  NaN   \n",
       "2      21.0                  NaN                  NaN                  NaN   \n",
       "3      22.0           617.789264           843.747000           886.004428   \n",
       "4      22.0          3035.550000          5916.370000          6243.000000   \n",
       "..      ...                  ...                  ...                  ...   \n",
       "902    22.0                  NaN             0.994875           233.596650   \n",
       "903    77.0                  NaN                  NaN                  NaN   \n",
       "904    21.0                  NaN                  NaN                  NaN   \n",
       "905    59.0                  NaN                  NaN                  NaN   \n",
       "906    21.0                  NaN                  NaN                  NaN   \n",
       "\n",
       "     generation_gwh_2017  generation_gwh_2018  \n",
       "0                    NaN                  NaN  \n",
       "1                    NaN                  NaN  \n",
       "2                    NaN                  NaN  \n",
       "3             663.774500           626.239128  \n",
       "4            5385.579736          7279.000000  \n",
       "..                   ...                  ...  \n",
       "902           865.400000           686.500000  \n",
       "903                  NaN                  NaN  \n",
       "904                  NaN                  NaN  \n",
       "905                  NaN                  NaN  \n",
       "906                  NaN                  NaN  \n",
       "\n",
       "[907 rows x 11 columns]"
      ]
     },
     "execution_count": 15,
     "metadata": {},
     "output_type": "execute_result"
    }
   ],
   "source": [
    "from sklearn.preprocessing import OrdinalEncoder\n",
    "enc = OrdinalEncoder()\n",
    "\n",
    "for i in df.columns:\n",
    "    if df[i].dtypes == 'object':\n",
    "        df[i]= enc.fit_transform(df[i].values.reshape(-1,1))\n",
    "        \n",
    "df"
   ]
  },
  {
   "cell_type": "markdown",
   "id": "78d28b86",
   "metadata": {},
   "source": [
    "# Handle the Null values with different techniques"
   ]
  },
  {
   "cell_type": "code",
   "execution_count": 16,
   "id": "e4f62352",
   "metadata": {},
   "outputs": [],
   "source": [
    "df.longitude = df.longitude.fillna(df.longitude.mode().iloc[0]) # 0 or ‘index’ : get mode of longitude column"
   ]
  },
  {
   "cell_type": "code",
   "execution_count": 17,
   "id": "a8db49a9",
   "metadata": {},
   "outputs": [],
   "source": [
    "df.latitude = df.latitude.fillna(df.latitude.mode().iloc[0]) # 0 or ‘index’ : get mode of latitute column"
   ]
  },
  {
   "cell_type": "code",
   "execution_count": 18,
   "id": "7167b913",
   "metadata": {},
   "outputs": [],
   "source": [
    "df['generation_gwh_2014'].fillna(value=df['generation_gwh_2014'].median(), inplace= True)\n",
    "df['generation_gwh_2015'].fillna(value=df['generation_gwh_2015'].median(), inplace= True)\n",
    "df['generation_gwh_2016'].fillna(value=df['generation_gwh_2016'].median(), inplace= True)\n",
    "df['generation_gwh_2017'].fillna(value=df['generation_gwh_2017'].median(), inplace= True)\n",
    "df['generation_gwh_2018'].fillna(value=df['generation_gwh_2018'].median(), inplace= True)"
   ]
  },
  {
   "cell_type": "code",
   "execution_count": 19,
   "id": "5ae2edfe",
   "metadata": {},
   "outputs": [
    {
     "data": {
      "text/plain": [
       "capacity_mw              0\n",
       "latitude                 0\n",
       "longitude                0\n",
       "primary_fuel             0\n",
       "commissioning_year     380\n",
       "source                   0\n",
       "generation_gwh_2014      0\n",
       "generation_gwh_2015      0\n",
       "generation_gwh_2016      0\n",
       "generation_gwh_2017      0\n",
       "generation_gwh_2018      0\n",
       "dtype: int64"
      ]
     },
     "execution_count": 19,
     "metadata": {},
     "output_type": "execute_result"
    }
   ],
   "source": [
    "df.isnull().sum()"
   ]
  },
  {
   "cell_type": "markdown",
   "id": "787ee60f",
   "metadata": {},
   "source": [
    "# Data Visualization"
   ]
  },
  {
   "cell_type": "code",
   "execution_count": 20,
   "id": "4fd36f95",
   "metadata": {},
   "outputs": [
    {
     "data": {
      "text/plain": [
       "Coal       258\n",
       "Hydro      251\n",
       "Solar      127\n",
       "Wind       123\n",
       "Gas         69\n",
       "Biomass     50\n",
       "Oil         20\n",
       "Nuclear      9\n",
       "Name: primary_fuel, dtype: int64"
      ]
     },
     "execution_count": 20,
     "metadata": {},
     "output_type": "execute_result"
    },
    {
     "data": {
      "image/png": "[encoded data removed]",
      "text/plain": [
       "<Figure size 1080x576 with 1 Axes>"
      ]
     },
     "metadata": {},
     "output_type": "display_data"
    }
   ],
   "source": [
    "sns.set_theme(style=\"darkgrid\")\n",
    "plt.figure(figsize=(15,8))\n",
    "sns.countplot(df1['primary_fuel'] )\n",
    "plt.xlabel('Count', fontsize=15 )\n",
    "plt.ylabel('primary_fuel', fontsize=15 )\n",
    "plt.title('primary_fuel', fontsize=15)\n",
    "\n",
    "df1.primary_fuel.value_counts()"
   ]
  },
  {
   "cell_type": "markdown",
   "id": "3069e50c",
   "metadata": {},
   "source": [
    "As per observation, most of the power plants are using Coal and Hydro as the primary fuel.\n",
    "Coal having maximum counts, which indicates most of the power generation plant using coal af primary fuel.\n",
    "Use of solar and wind also considerable."
   ]
  },
  {
   "cell_type": "code",
   "execution_count": 21,
   "id": "6fa1cb84",
   "metadata": {},
   "outputs": [
    {
     "data": {
      "image/png": "[encoded data removed]",
      "text/plain": [
       "<Figure size 1080x720 with 1 Axes>"
      ]
     },
     "metadata": {},
     "output_type": "display_data"
    }
   ],
   "source": [
    "plt.figure(figsize=(15,10))\n",
    "sns.lineplot(data=df1, x='commissioning_year',y='capacity_mw')\n",
    "locs, labels = plt.xticks()\n",
    "plt.title('commissioning_year vs capacity_mw ', fontsize=15)\n",
    "plt.setp(labels, rotation=80)\n",
    "plt.show()"
   ]
  },
  {
   "cell_type": "markdown",
   "id": "a2e136ee",
   "metadata": {},
   "source": [
    "As per observation, increase in the years the devlopment of plants (on record) and capcaity also incresed."
   ]
  },
  {
   "cell_type": "code",
   "execution_count": 22,
   "id": "14823d1d",
   "metadata": {},
   "outputs": [
    {
     "data": {
      "image/png": "[encoded data removed]",
      "text/plain": [
       "<Figure size 1440x432 with 1 Axes>"
      ]
     },
     "metadata": {},
     "output_type": "display_data"
    }
   ],
   "source": [
    "plt.figure(figsize=(20,6))\n",
    "sns.lineplot(x='commissioning_year',y='capacity_mw',hue=\"primary_fuel\",data=df1,ci=68)\n",
    "plt.show()"
   ]
  },
  {
   "cell_type": "code",
   "execution_count": 23,
   "id": "8e48a164",
   "metadata": {},
   "outputs": [
    {
     "data": {
      "image/png": "[encoded data removed]",
      "text/plain": [
       "<Figure size 1440x576 with 1 Axes>"
      ]
     },
     "metadata": {},
     "output_type": "display_data"
    }
   ],
   "source": [
    "plt.figure(figsize=(20,8))\n",
    "sns.countplot(df1['commissioning_year'])\n",
    "plt.xlabel('Commissioning_year', fontsize= 15)\n",
    "plt.ylabel('Counts', fontsize= 15)\n",
    "locs, labels = plt.xticks(fontsize= 12)\n",
    "plt.setp(labels, rotation=80)\n",
    "plt.show()"
   ]
  },
  {
   "cell_type": "markdown",
   "id": "f85af4fd",
   "metadata": {},
   "source": [
    "Commissioning year means he date notified by corporation as the year on which the Plant is ready to commence for operations after successfully completing the testing.\n",
    "Up to 1956 very less data avalilable of power plants in india, but after 1957 year by year the record is increase.\n",
    "This indicates only the year value, when the record is noted on respective year, so can drop this column."
   ]
  },
  {
   "cell_type": "code",
   "execution_count": 24,
   "id": "131b3ba6",
   "metadata": {},
   "outputs": [],
   "source": [
    "df.drop(columns='commissioning_year',inplace=True)"
   ]
  },
  {
   "cell_type": "code",
   "execution_count": 25,
   "id": "378a1bfe",
   "metadata": {},
   "outputs": [
    {
     "data": {
      "text/plain": [
       "Index(['capacity_mw', 'latitude', 'longitude', 'primary_fuel',\n",
       "       'commissioning_year', 'source', 'generation_gwh_2014',\n",
       "       'generation_gwh_2015', 'generation_gwh_2016', 'generation_gwh_2017',\n",
       "       'generation_gwh_2018'],\n",
       "      dtype='object')"
      ]
     },
     "execution_count": 25,
     "metadata": {},
     "output_type": "execute_result"
    }
   ],
   "source": [
    "df1.columns"
   ]
  },
  {
   "cell_type": "code",
   "execution_count": 26,
   "id": "7f85b8ef",
   "metadata": {},
   "outputs": [
    {
     "data": {
      "image/png": "[encoded data removed]",
      "text/plain": [
       "<Figure size 1080x1800 with 6 Axes>"
      ]
     },
     "metadata": {},
     "output_type": "display_data"
    }
   ],
   "source": [
    "df2=['capacity_mw', 'generation_gwh_2014', 'generation_gwh_2015', 'generation_gwh_2016', 'generation_gwh_2017',\n",
    "       'generation_gwh_2018']\n",
    "\n",
    "plt.figure (figsize=(15,25))\n",
    "plotnumber = 1\n",
    "\n",
    "for column in df2:\n",
    "    if plotnumber<=6:\n",
    "        ax=plt.subplot(3,2,plotnumber)\n",
    "        sns.distplot(df[column])\n",
    "        plt.xlabel(column,fontsize=20)          \n",
    "    plotnumber+=1\n",
    "                     \n",
    "plt.show()"
   ]
  },
  {
   "cell_type": "markdown",
   "id": "5dbe4f35",
   "metadata": {},
   "source": [
    "As per observation, capacity_mw is mostly dependent on Coal & Hydro as mostly they are primary fuel for most of power plants."
   ]
  },
  {
   "cell_type": "code",
   "execution_count": 27,
   "id": "a523293e",
   "metadata": {},
   "outputs": [
    {
     "data": {
      "image/png": "[encoded data removed]",
      "text/plain": [
       "<Figure size 1440x1080 with 6 Axes>"
      ]
     },
     "metadata": {},
     "output_type": "display_data"
    }
   ],
   "source": [
    "plt.figure (figsize=(20,15))\n",
    "plotnumber = 1\n",
    "\n",
    "for column in df2:\n",
    "    if plotnumber<=6:\n",
    "        ax=plt.subplot(2,3,plotnumber)\n",
    "        sns.boxplot(df[column])\n",
    "        plt.xlabel(column,fontsize=20)          \n",
    "    plotnumber+=1\n",
    "                     \n",
    "plt.show()"
   ]
  },
  {
   "cell_type": "code",
   "execution_count": 28,
   "id": "ef027bf3",
   "metadata": {},
   "outputs": [
    {
     "data": {
      "text/html": [
       "<div>\n",
       "<style scoped>\n",
       "    .dataframe tbody tr th:only-of-type {\n",
       "        vertical-align: middle;\n",
       "    }\n",
       "\n",
       "    .dataframe tbody tr th {\n",
       "        vertical-align: top;\n",
       "    }\n",
       "\n",
       "    .dataframe thead th {\n",
       "        text-align: right;\n",
       "    }\n",
       "</style>\n",
       "<table border=\"1\" class=\"dataframe\">\n",
       "  <thead>\n",
       "    <tr style=\"text-align: right;\">\n",
       "      <th></th>\n",
       "      <th>capacity_mw</th>\n",
       "      <th>latitude</th>\n",
       "      <th>longitude</th>\n",
       "      <th>primary_fuel</th>\n",
       "      <th>source</th>\n",
       "      <th>generation_gwh_2014</th>\n",
       "      <th>generation_gwh_2015</th>\n",
       "      <th>generation_gwh_2016</th>\n",
       "      <th>generation_gwh_2017</th>\n",
       "      <th>generation_gwh_2018</th>\n",
       "    </tr>\n",
       "  </thead>\n",
       "  <tbody>\n",
       "    <tr>\n",
       "      <th>count</th>\n",
       "      <td>907.000000</td>\n",
       "      <td>907.000000</td>\n",
       "      <td>907.000000</td>\n",
       "      <td>907.000000</td>\n",
       "      <td>907.000000</td>\n",
       "      <td>907.000000</td>\n",
       "      <td>907.000000</td>\n",
       "      <td>907.000000</td>\n",
       "      <td>907.000000</td>\n",
       "      <td>907.000000</td>\n",
       "    </tr>\n",
       "    <tr>\n",
       "      <th>mean</th>\n",
       "      <td>326.223755</td>\n",
       "      <td>21.086467</td>\n",
       "      <td>77.172109</td>\n",
       "      <td>3.206174</td>\n",
       "      <td>43.847850</td>\n",
       "      <td>1516.689956</td>\n",
       "      <td>1510.071296</td>\n",
       "      <td>1565.361383</td>\n",
       "      <td>1657.121797</td>\n",
       "      <td>1665.011030</td>\n",
       "    </tr>\n",
       "    <tr>\n",
       "      <th>std</th>\n",
       "      <td>590.085456</td>\n",
       "      <td>6.098262</td>\n",
       "      <td>4.976401</td>\n",
       "      <td>2.280652</td>\n",
       "      <td>44.642818</td>\n",
       "      <td>2785.604307</td>\n",
       "      <td>2984.994556</td>\n",
       "      <td>3005.087210</td>\n",
       "      <td>3046.862910</td>\n",
       "      <td>3168.826750</td>\n",
       "    </tr>\n",
       "    <tr>\n",
       "      <th>min</th>\n",
       "      <td>0.000000</td>\n",
       "      <td>8.168900</td>\n",
       "      <td>68.644700</td>\n",
       "      <td>0.000000</td>\n",
       "      <td>0.000000</td>\n",
       "      <td>0.000000</td>\n",
       "      <td>0.000000</td>\n",
       "      <td>0.000000</td>\n",
       "      <td>0.000000</td>\n",
       "      <td>0.000000</td>\n",
       "    </tr>\n",
       "    <tr>\n",
       "      <th>25%</th>\n",
       "      <td>16.725000</td>\n",
       "      <td>17.072000</td>\n",
       "      <td>73.811550</td>\n",
       "      <td>1.000000</td>\n",
       "      <td>22.000000</td>\n",
       "      <td>801.123775</td>\n",
       "      <td>711.181225</td>\n",
       "      <td>737.205450</td>\n",
       "      <td>817.977250</td>\n",
       "      <td>751.644375</td>\n",
       "    </tr>\n",
       "    <tr>\n",
       "      <th>50%</th>\n",
       "      <td>59.200000</td>\n",
       "      <td>21.281800</td>\n",
       "      <td>76.493800</td>\n",
       "      <td>3.000000</td>\n",
       "      <td>22.000000</td>\n",
       "      <td>801.123775</td>\n",
       "      <td>711.181225</td>\n",
       "      <td>737.205450</td>\n",
       "      <td>817.977250</td>\n",
       "      <td>751.644375</td>\n",
       "    </tr>\n",
       "    <tr>\n",
       "      <th>75%</th>\n",
       "      <td>385.250000</td>\n",
       "      <td>25.176450</td>\n",
       "      <td>79.206100</td>\n",
       "      <td>6.000000</td>\n",
       "      <td>29.500000</td>\n",
       "      <td>801.123775</td>\n",
       "      <td>711.181225</td>\n",
       "      <td>737.205450</td>\n",
       "      <td>817.977250</td>\n",
       "      <td>751.644375</td>\n",
       "    </tr>\n",
       "    <tr>\n",
       "      <th>max</th>\n",
       "      <td>4760.000000</td>\n",
       "      <td>34.649000</td>\n",
       "      <td>95.408000</td>\n",
       "      <td>7.000000</td>\n",
       "      <td>190.000000</td>\n",
       "      <td>28127.000000</td>\n",
       "      <td>30539.000000</td>\n",
       "      <td>30015.000000</td>\n",
       "      <td>35116.000000</td>\n",
       "      <td>35136.000000</td>\n",
       "    </tr>\n",
       "  </tbody>\n",
       "</table>\n",
       "</div>"
      ],
      "text/plain": [
       "       capacity_mw    latitude   longitude  primary_fuel      source  \\\n",
       "count   907.000000  907.000000  907.000000    907.000000  907.000000   \n",
       "mean    326.223755   21.086467   77.172109      3.206174   43.847850   \n",
       "std     590.085456    6.098262    4.976401      2.280652   44.642818   \n",
       "min       0.000000    8.168900   68.644700      0.000000    0.000000   \n",
       "25%      16.725000   17.072000   73.811550      1.000000   22.000000   \n",
       "50%      59.200000   21.281800   76.493800      3.000000   22.000000   \n",
       "75%     385.250000   25.176450   79.206100      6.000000   29.500000   \n",
       "max    4760.000000   34.649000   95.408000      7.000000  190.000000   \n",
       "\n",
       "       generation_gwh_2014  generation_gwh_2015  generation_gwh_2016  \\\n",
       "count           907.000000           907.000000           907.000000   \n",
       "mean           1516.689956          1510.071296          1565.361383   \n",
       "std            2785.604307          2984.994556          3005.087210   \n",
       "min               0.000000             0.000000             0.000000   \n",
       "25%             801.123775           711.181225           737.205450   \n",
       "50%             801.123775           711.181225           737.205450   \n",
       "75%             801.123775           711.181225           737.205450   \n",
       "max           28127.000000         30539.000000         30015.000000   \n",
       "\n",
       "       generation_gwh_2017  generation_gwh_2018  \n",
       "count           907.000000           907.000000  \n",
       "mean           1657.121797          1665.011030  \n",
       "std            3046.862910          3168.826750  \n",
       "min               0.000000             0.000000  \n",
       "25%             817.977250           751.644375  \n",
       "50%             817.977250           751.644375  \n",
       "75%             817.977250           751.644375  \n",
       "max           35116.000000         35136.000000  "
      ]
     },
     "execution_count": 28,
     "metadata": {},
     "output_type": "execute_result"
    }
   ],
   "source": [
    "df.describe()"
   ]
  },
  {
   "cell_type": "markdown",
   "id": "b3ad30ed",
   "metadata": {},
   "source": [
    "In very huge level of outlier in the 'capacity_mw', 'generation_gwh_2014', 'generation_gwh_2015', 'generation_gwh_2016', 'generation_gwh_2017',\n",
    "       'generation_gwh_2018' columns, let's try to reduce it."
   ]
  },
  {
   "cell_type": "markdown",
   "id": "78828e7d",
   "metadata": {},
   "source": [
    "# correlation of one variable vs all other variables, or multicorelation"
   ]
  },
  {
   "cell_type": "code",
   "execution_count": 29,
   "id": "bd1dc4af",
   "metadata": {},
   "outputs": [
    {
     "data": {
      "image/png": "[encoded data removed]",
      "text/plain": [
       "<Figure size 1080x720 with 2 Axes>"
      ]
     },
     "metadata": {},
     "output_type": "display_data"
    }
   ],
   "source": [
    "plt.figure(figsize=(15,10))\n",
    "sns.heatmap(df.corr(), annot=True, annot_kws={'size':10}, linewidths=0.1,fmt=\"0.2f\")\n",
    "plt.show()"
   ]
  },
  {
   "cell_type": "markdown",
   "id": "57bec258",
   "metadata": {},
   "source": [
    "# [1] Regression Problem (Target = capacity_mw)"
   ]
  },
  {
   "cell_type": "markdown",
   "id": "aa70be55",
   "metadata": {},
   "source": [
    "## Now Check correlation of the columns with the target column"
   ]
  },
  {
   "cell_type": "code",
   "execution_count": 30,
   "id": "8a93a430",
   "metadata": {},
   "outputs": [
    {
     "data": {
      "text/plain": [
       "primary_fuel          -0.380395\n",
       "source                -0.242122\n",
       "latitude               0.059041\n",
       "longitude              0.215875\n",
       "generation_gwh_2014    0.793497\n",
       "generation_gwh_2015    0.819676\n",
       "generation_gwh_2016    0.853008\n",
       "generation_gwh_2017    0.868338\n",
       "generation_gwh_2018    0.884840\n",
       "capacity_mw            1.000000\n",
       "Name: capacity_mw, dtype: float64"
      ]
     },
     "execution_count": 30,
     "metadata": {},
     "output_type": "execute_result"
    }
   ],
   "source": [
    "df.corr()['capacity_mw'].sort_values()"
   ]
  },
  {
   "cell_type": "code",
   "execution_count": 31,
   "id": "07cde94a",
   "metadata": {},
   "outputs": [
    {
     "data": {
      "image/png": "[encoded data removed]",
      "text/plain": [
       "<Figure size 864x576 with 1 Axes>"
      ]
     },
     "metadata": {},
     "output_type": "display_data"
    }
   ],
   "source": [
    "plt.figure(figsize=(12,8))\n",
    "df.corr()['capacity_mw'].sort_values().plot(kind='bar')\n",
    "plt.xlabel('Features')\n",
    "plt.title('Correlation with target')\n",
    "plt.show()"
   ]
  },
  {
   "cell_type": "markdown",
   "id": "fb497dfa",
   "metadata": {},
   "source": [
    "## Now Separting columns into features and target"
   ]
  },
  {
   "cell_type": "code",
   "execution_count": 32,
   "id": "c57516dd",
   "metadata": {},
   "outputs": [
    {
     "data": {
      "text/plain": [
       "latitude              -0.095721\n",
       "primary_fuel           0.472251\n",
       "longitude              1.130252\n",
       "source                 1.827373\n",
       "generation_gwh_2018    5.133226\n",
       "generation_gwh_2016    5.281953\n",
       "generation_gwh_2017    5.315103\n",
       "generation_gwh_2014    5.321360\n",
       "generation_gwh_2015    5.566773\n",
       "dtype: float64"
      ]
     },
     "execution_count": 32,
     "metadata": {},
     "output_type": "execute_result"
    }
   ],
   "source": [
    "x=df.drop(columns='capacity_mw')\n",
    "y=df.capacity_mw\n",
    "x.skew().sort_values()"
   ]
  },
  {
   "cell_type": "markdown",
   "id": "6bb4d24d",
   "metadata": {},
   "source": [
    "Dataset is very skewed, let's try to handle this or save it."
   ]
  },
  {
   "cell_type": "markdown",
   "id": "e47a5b2d",
   "metadata": {},
   "source": [
    "## Now use PowerTransformation method to save our skewed data."
   ]
  },
  {
   "cell_type": "code",
   "execution_count": 33,
   "id": "8fbf9ed6",
   "metadata": {},
   "outputs": [
    {
     "data": {
      "text/plain": [
       "source                -0.214066\n",
       "latitude              -0.069526\n",
       "primary_fuel          -0.047067\n",
       "longitude              0.040507\n",
       "generation_gwh_2018    0.193103\n",
       "generation_gwh_2017    0.196816\n",
       "generation_gwh_2016    0.204011\n",
       "generation_gwh_2015    0.222151\n",
       "generation_gwh_2014    0.285906\n",
       "dtype: float64"
      ]
     },
     "execution_count": 33,
     "metadata": {},
     "output_type": "execute_result"
    }
   ],
   "source": [
    "from sklearn.preprocessing import PowerTransformer\n",
    "\n",
    "df_pt = PowerTransformer()\n",
    "df_pw = pd.DataFrame(df_pt.fit_transform(x),columns=x.columns)\n",
    "df_pw.skew().sort_values()"
   ]
  },
  {
   "cell_type": "markdown",
   "id": "5ac16b82",
   "metadata": {},
   "source": [
    "Using power transformation, most of skewness has removed"
   ]
  },
  {
   "cell_type": "code",
   "execution_count": 34,
   "id": "af1b5405",
   "metadata": {},
   "outputs": [
    {
     "name": "stdout",
     "output_type": "stream",
     "text": [
      "Index(['latitude', 'longitude', 'generation_gwh_2014', 'generation_gwh_2015',\n",
      "       'generation_gwh_2016', 'generation_gwh_2017', 'generation_gwh_2018'],\n",
      "      dtype='object')\n"
     ]
    }
   ],
   "source": [
    "x1=df_pw.copy()\n",
    "x1=df_pw.drop(columns=['primary_fuel','source']) # These are categorical columns \n",
    "print(x1.columns)"
   ]
  },
  {
   "cell_type": "markdown",
   "id": "735c0e13",
   "metadata": {},
   "source": [
    "## Now remove remaining outliers using z-score technique."
   ]
  },
  {
   "cell_type": "code",
   "execution_count": 35,
   "id": "1c76cfee",
   "metadata": {},
   "outputs": [
    {
     "data": {
      "text/plain": [
       "(array([ 15, 308, 364, 364, 364, 364, 364, 493, 493, 493, 493, 493, 494,\n",
       "        494, 494, 494, 494, 648, 648, 648, 648, 648, 657, 657, 657, 657,\n",
       "        695, 695, 695, 695, 695, 721, 726, 726, 726, 726, 726, 786, 786,\n",
       "        786, 786, 786, 808, 808, 808, 808, 880, 880, 880, 880, 880],\n",
       "       dtype=int64),\n",
       " array([6, 2, 2, 3, 4, 5, 6, 2, 3, 4, 5, 6, 2, 3, 4, 5, 6, 2, 3, 4, 5, 6,\n",
       "        2, 3, 4, 5, 2, 3, 4, 5, 6, 2, 2, 3, 4, 5, 6, 2, 3, 4, 5, 6, 2, 3,\n",
       "        4, 6, 2, 3, 4, 5, 6], dtype=int64))"
      ]
     },
     "execution_count": 35,
     "metadata": {},
     "output_type": "execute_result"
    }
   ],
   "source": [
    "from scipy.stats import zscore\n",
    "z=np.abs(zscore(x1))\n",
    "threshold=3\n",
    "np.where(z>3)"
   ]
  },
  {
   "cell_type": "code",
   "execution_count": 36,
   "id": "119ff33a",
   "metadata": {},
   "outputs": [
    {
     "name": "stdout",
     "output_type": "stream",
     "text": [
      "percentage of loss of data by zscore is : 1.4332965821389196\n"
     ]
    }
   ],
   "source": [
    "df_new= df[(z<3).all(axis=1)]\n",
    "\n",
    "print('percentage of loss of data by zscore is :',((df.shape[0]-df_new.shape[0])/df.shape[0])*100)"
   ]
  },
  {
   "cell_type": "code",
   "execution_count": 37,
   "id": "c40d3af1",
   "metadata": {},
   "outputs": [
    {
     "data": {
      "text/plain": [
       "(894, 10)"
      ]
     },
     "execution_count": 37,
     "metadata": {},
     "output_type": "execute_result"
    }
   ],
   "source": [
    "df_new.shape"
   ]
  },
  {
   "cell_type": "markdown",
   "id": "587946f3",
   "metadata": {},
   "source": [
    "Very less data, we have loss using z-score method, let's proceed further."
   ]
  },
  {
   "cell_type": "code",
   "execution_count": 38,
   "id": "75e84a6c",
   "metadata": {},
   "outputs": [],
   "source": [
    "x_new=df_new.drop(columns='capacity_mw')\n",
    "y_new=df_new.capacity_mw"
   ]
  },
  {
   "cell_type": "markdown",
   "id": "e1f095fc",
   "metadata": {},
   "source": [
    "## Data Scaling using Standard Scaler"
   ]
  },
  {
   "cell_type": "code",
   "execution_count": 39,
   "id": "cb04e361",
   "metadata": {},
   "outputs": [
    {
     "data": {
      "text/html": [
       "<div>\n",
       "<style scoped>\n",
       "    .dataframe tbody tr th:only-of-type {\n",
       "        vertical-align: middle;\n",
       "    }\n",
       "\n",
       "    .dataframe tbody tr th {\n",
       "        vertical-align: top;\n",
       "    }\n",
       "\n",
       "    .dataframe thead th {\n",
       "        text-align: right;\n",
       "    }\n",
       "</style>\n",
       "<table border=\"1\" class=\"dataframe\">\n",
       "  <thead>\n",
       "    <tr style=\"text-align: right;\">\n",
       "      <th></th>\n",
       "      <th>latitude</th>\n",
       "      <th>longitude</th>\n",
       "      <th>primary_fuel</th>\n",
       "      <th>source</th>\n",
       "      <th>generation_gwh_2014</th>\n",
       "      <th>generation_gwh_2015</th>\n",
       "      <th>generation_gwh_2016</th>\n",
       "      <th>generation_gwh_2017</th>\n",
       "      <th>generation_gwh_2018</th>\n",
       "    </tr>\n",
       "  </thead>\n",
       "  <tbody>\n",
       "    <tr>\n",
       "      <th>0</th>\n",
       "      <td>1.160481</td>\n",
       "      <td>-0.783338</td>\n",
       "      <td>1.211177</td>\n",
       "      <td>1.445165</td>\n",
       "      <td>-0.271788</td>\n",
       "      <td>-0.299544</td>\n",
       "      <td>-0.304347</td>\n",
       "      <td>-0.301728</td>\n",
       "      <td>-0.317512</td>\n",
       "    </tr>\n",
       "    <tr>\n",
       "      <th>1</th>\n",
       "      <td>0.603122</td>\n",
       "      <td>-0.507043</td>\n",
       "      <td>-0.981598</td>\n",
       "      <td>2.894019</td>\n",
       "      <td>-0.271788</td>\n",
       "      <td>-0.299544</td>\n",
       "      <td>-0.304347</td>\n",
       "      <td>-0.301728</td>\n",
       "      <td>-0.317512</td>\n",
       "    </tr>\n",
       "    <tr>\n",
       "      <th>2</th>\n",
       "      <td>0.136292</td>\n",
       "      <td>-1.564287</td>\n",
       "      <td>1.649732</td>\n",
       "      <td>-0.516362</td>\n",
       "      <td>-0.271788</td>\n",
       "      <td>-0.299544</td>\n",
       "      <td>-0.304347</td>\n",
       "      <td>-0.301728</td>\n",
       "      <td>-0.317512</td>\n",
       "    </tr>\n",
       "    <tr>\n",
       "      <th>3</th>\n",
       "      <td>0.457145</td>\n",
       "      <td>2.875459</td>\n",
       "      <td>-0.543043</td>\n",
       "      <td>-0.494072</td>\n",
       "      <td>-0.380526</td>\n",
       "      <td>-0.222690</td>\n",
       "      <td>-0.221676</td>\n",
       "      <td>-0.384684</td>\n",
       "      <td>-0.381179</td>\n",
       "    </tr>\n",
       "    <tr>\n",
       "      <th>4</th>\n",
       "      <td>0.145506</td>\n",
       "      <td>1.068000</td>\n",
       "      <td>-0.981598</td>\n",
       "      <td>-0.494072</td>\n",
       "      <td>1.053468</td>\n",
       "      <td>2.718120</td>\n",
       "      <td>2.754618</td>\n",
       "      <td>2.155506</td>\n",
       "      <td>2.996341</td>\n",
       "    </tr>\n",
       "    <tr>\n",
       "      <th>...</th>\n",
       "      <td>...</td>\n",
       "      <td>...</td>\n",
       "      <td>...</td>\n",
       "      <td>...</td>\n",
       "      <td>...</td>\n",
       "      <td>...</td>\n",
       "      <td>...</td>\n",
       "      <td>...</td>\n",
       "      <td>...</td>\n",
       "    </tr>\n",
       "    <tr>\n",
       "      <th>889</th>\n",
       "      <td>-0.778435</td>\n",
       "      <td>0.047809</td>\n",
       "      <td>-0.981598</td>\n",
       "      <td>-0.494072</td>\n",
       "      <td>-0.271788</td>\n",
       "      <td>-0.711268</td>\n",
       "      <td>-0.584147</td>\n",
       "      <td>-0.276216</td>\n",
       "      <td>-0.350585</td>\n",
       "    </tr>\n",
       "    <tr>\n",
       "      <th>890</th>\n",
       "      <td>-1.333201</td>\n",
       "      <td>0.211086</td>\n",
       "      <td>1.211177</td>\n",
       "      <td>0.731882</td>\n",
       "      <td>-0.271788</td>\n",
       "      <td>-0.299544</td>\n",
       "      <td>-0.304347</td>\n",
       "      <td>-0.301728</td>\n",
       "      <td>-0.317512</td>\n",
       "    </tr>\n",
       "    <tr>\n",
       "      <th>891</th>\n",
       "      <td>-0.944635</td>\n",
       "      <td>-0.310751</td>\n",
       "      <td>1.649732</td>\n",
       "      <td>-0.516362</td>\n",
       "      <td>-0.271788</td>\n",
       "      <td>-0.299544</td>\n",
       "      <td>-0.304347</td>\n",
       "      <td>-0.301728</td>\n",
       "      <td>-0.317512</td>\n",
       "    </tr>\n",
       "    <tr>\n",
       "      <th>892</th>\n",
       "      <td>0.535230</td>\n",
       "      <td>-0.680962</td>\n",
       "      <td>-0.981598</td>\n",
       "      <td>0.330661</td>\n",
       "      <td>-0.271788</td>\n",
       "      <td>-0.299544</td>\n",
       "      <td>-0.304347</td>\n",
       "      <td>-0.301728</td>\n",
       "      <td>-0.317512</td>\n",
       "    </tr>\n",
       "    <tr>\n",
       "      <th>893</th>\n",
       "      <td>-1.815736</td>\n",
       "      <td>0.072040</td>\n",
       "      <td>1.649732</td>\n",
       "      <td>-0.516362</td>\n",
       "      <td>-0.271788</td>\n",
       "      <td>-0.299544</td>\n",
       "      <td>-0.304347</td>\n",
       "      <td>-0.301728</td>\n",
       "      <td>-0.317512</td>\n",
       "    </tr>\n",
       "  </tbody>\n",
       "</table>\n",
       "<p>894 rows × 9 columns</p>\n",
       "</div>"
      ],
      "text/plain": [
       "     latitude  longitude  primary_fuel    source  generation_gwh_2014  \\\n",
       "0    1.160481  -0.783338      1.211177  1.445165            -0.271788   \n",
       "1    0.603122  -0.507043     -0.981598  2.894019            -0.271788   \n",
       "2    0.136292  -1.564287      1.649732 -0.516362            -0.271788   \n",
       "3    0.457145   2.875459     -0.543043 -0.494072            -0.380526   \n",
       "4    0.145506   1.068000     -0.981598 -0.494072             1.053468   \n",
       "..        ...        ...           ...       ...                  ...   \n",
       "889 -0.778435   0.047809     -0.981598 -0.494072            -0.271788   \n",
       "890 -1.333201   0.211086      1.211177  0.731882            -0.271788   \n",
       "891 -0.944635  -0.310751      1.649732 -0.516362            -0.271788   \n",
       "892  0.535230  -0.680962     -0.981598  0.330661            -0.271788   \n",
       "893 -1.815736   0.072040      1.649732 -0.516362            -0.271788   \n",
       "\n",
       "     generation_gwh_2015  generation_gwh_2016  generation_gwh_2017  \\\n",
       "0              -0.299544            -0.304347            -0.301728   \n",
       "1              -0.299544            -0.304347            -0.301728   \n",
       "2              -0.299544            -0.304347            -0.301728   \n",
       "3              -0.222690            -0.221676            -0.384684   \n",
       "4               2.718120             2.754618             2.155506   \n",
       "..                   ...                  ...                  ...   \n",
       "889            -0.711268            -0.584147            -0.276216   \n",
       "890            -0.299544            -0.304347            -0.301728   \n",
       "891            -0.299544            -0.304347            -0.301728   \n",
       "892            -0.299544            -0.304347            -0.301728   \n",
       "893            -0.299544            -0.304347            -0.301728   \n",
       "\n",
       "     generation_gwh_2018  \n",
       "0              -0.317512  \n",
       "1              -0.317512  \n",
       "2              -0.317512  \n",
       "3              -0.381179  \n",
       "4               2.996341  \n",
       "..                   ...  \n",
       "889            -0.350585  \n",
       "890            -0.317512  \n",
       "891            -0.317512  \n",
       "892            -0.317512  \n",
       "893            -0.317512  \n",
       "\n",
       "[894 rows x 9 columns]"
      ]
     },
     "execution_count": 39,
     "metadata": {},
     "output_type": "execute_result"
    }
   ],
   "source": [
    "from sklearn.preprocessing import StandardScaler\n",
    "scaler = StandardScaler()\n",
    "x_scaled = pd.DataFrame(scaler.fit_transform(x_new),columns=x_new.columns)\n",
    "x_scaled"
   ]
  },
  {
   "cell_type": "markdown",
   "id": "0f7f119c",
   "metadata": {},
   "source": [
    "## PCA : Principal Component Analysis"
   ]
  },
  {
   "cell_type": "code",
   "execution_count": 40,
   "id": "ab567142",
   "metadata": {},
   "outputs": [
    {
     "name": "stdout",
     "output_type": "stream",
     "text": [
      "                     PC1   PC2   PC3   PC4   PC5   PC6   PC7   PC8   PC9\n",
      "Explained_Variance  4.73  1.28  1.05  0.91  0.57  0.31  0.08  0.04  0.03\n"
     ]
    },
    {
     "data": {
      "image/png": "[encoded data removed]",
      "text/plain": [
       "<Figure size 1440x720 with 1 Axes>"
      ]
     },
     "metadata": {},
     "output_type": "display_data"
    }
   ],
   "source": [
    "# Performing PCA\n",
    "from sklearn.decomposition import PCA\n",
    "\n",
    "pca = PCA(random_state = 1)\n",
    "pca.fit(x_scaled)\n",
    "var_exp = pca.explained_variance_ratio_\n",
    "cum_var_exp = np.cumsum(var_exp)\n",
    "var_df = pd.DataFrame(pca.explained_variance_.round(2), index=[\"PC\" + str(i) for i in range(1,10)],\n",
    "                      columns=[\"Explained_Variance\"])\n",
    "print(var_df.T)\n",
    "plt.figure(figsize=(20,10))\n",
    "plt.bar(range(1,len(cum_var_exp)+1), var_exp, align= 'center', label= 'individual variance', color='teal', alpha = 0.8)\n",
    "plt.step(range(1,len(cum_var_exp)+1), cum_var_exp, where = 'mid' , label= 'cumulative variance', color='red')\n",
    "plt.ylabel('Explained variance ratio')\n",
    "plt.xlabel('Principal components')\n",
    "plt.xticks(np.arange(1,len(var_exp)+1,1))\n",
    "plt.legend(loc='center right')\n",
    "plt.show()"
   ]
  },
  {
   "cell_type": "code",
   "execution_count": 41,
   "id": "be28a4b0",
   "metadata": {},
   "outputs": [],
   "source": [
    "pca_red = PCA(n_components=7)\n",
    "X_reduced = pca_red.fit_transform(x_scaled)"
   ]
  },
  {
   "cell_type": "markdown",
   "id": "8fbdd878",
   "metadata": {},
   "source": [
    "As per PCA observation the first 7 components account for above 99% of the total explained variance. The dataset can reduced with 7 components and proceed further."
   ]
  },
  {
   "cell_type": "code",
   "execution_count": 42,
   "id": "36556a19",
   "metadata": {},
   "outputs": [],
   "source": [
    "X=X_reduced\n",
    "y=y_new"
   ]
  },
  {
   "cell_type": "markdown",
   "id": "9c03f6d5",
   "metadata": {},
   "source": [
    "## Regression Model Development"
   ]
  },
  {
   "cell_type": "code",
   "execution_count": 43,
   "id": "f6e47fba",
   "metadata": {},
   "outputs": [],
   "source": [
    "#import the necessary model algos.\n",
    "#regression\n",
    "from sklearn.linear_model import LinearRegression,Ridge,Lasso,RidgeCV,LassoCV, SGDRegressor\n",
    "from sklearn.neighbors import KNeighborsRegressor\n",
    "from sklearn.ensemble import RandomForestRegressor\n",
    "from sklearn.tree import DecisionTreeRegressor\n",
    "from sklearn.svm import SVR\n",
    "from sklearn.ensemble import BaggingRegressor,GradientBoostingRegressor,AdaBoostRegressor\n",
    "from xgboost import XGBRegressor\n",
    "\n",
    "#model selection\n",
    "from sklearn.model_selection import train_test_split,cross_val_score\n",
    "from sklearn.model_selection import KFold\n",
    "\n",
    "#evaluation metrics\n",
    "from sklearn.metrics import r2_score"
   ]
  },
  {
   "cell_type": "code",
   "execution_count": 44,
   "id": "46449ec8",
   "metadata": {},
   "outputs": [],
   "source": [
    "LR = LinearRegression()\n",
    "LSO= Lasso()\n",
    "RIG= Ridge()\n",
    "KNNR= KNeighborsRegressor()\n",
    "RFR = RandomForestRegressor()\n",
    "DTR = DecisionTreeRegressor()\n",
    "SVr = SVR()\n",
    "BAGR= BaggingRegressor()\n",
    "GRAR= GradientBoostingRegressor()\n",
    "ADAR= AdaBoostRegressor()\n",
    "SGDR= SGDRegressor()\n",
    "XGBR= XGBRegressor()"
   ]
  },
  {
   "cell_type": "code",
   "execution_count": 69,
   "id": "31447c0b",
   "metadata": {},
   "outputs": [
    {
     "data": {
      "text/html": [
       "<div>\n",
       "<style scoped>\n",
       "    .dataframe tbody tr th:only-of-type {\n",
       "        vertical-align: middle;\n",
       "    }\n",
       "\n",
       "    .dataframe tbody tr th {\n",
       "        vertical-align: top;\n",
       "    }\n",
       "\n",
       "    .dataframe thead th {\n",
       "        text-align: right;\n",
       "    }\n",
       "</style>\n",
       "<table border=\"1\" class=\"dataframe\">\n",
       "  <thead>\n",
       "    <tr style=\"text-align: right;\">\n",
       "      <th></th>\n",
       "      <th>Model Name</th>\n",
       "      <th>Training Score:</th>\n",
       "      <th>Accuracy Score (without tuning)</th>\n",
       "    </tr>\n",
       "  </thead>\n",
       "  <tbody>\n",
       "    <tr>\n",
       "      <th>0</th>\n",
       "      <td>LR = LinearRegression()</td>\n",
       "      <td>72.77</td>\n",
       "      <td>74.21</td>\n",
       "    </tr>\n",
       "    <tr>\n",
       "      <th>1</th>\n",
       "      <td>LSO = Lasso()</td>\n",
       "      <td>72.77</td>\n",
       "      <td>74.44</td>\n",
       "    </tr>\n",
       "    <tr>\n",
       "      <th>2</th>\n",
       "      <td>RIG = Ridge()</td>\n",
       "      <td>72.77</td>\n",
       "      <td>74.28</td>\n",
       "    </tr>\n",
       "    <tr>\n",
       "      <th>3</th>\n",
       "      <td>KNNR = KNeighborsRegressor()</td>\n",
       "      <td>83.28</td>\n",
       "      <td>82.73</td>\n",
       "    </tr>\n",
       "    <tr>\n",
       "      <th>4</th>\n",
       "      <td>RFR = RandomForestRegressor()</td>\n",
       "      <td>96.78</td>\n",
       "      <td>81.08</td>\n",
       "    </tr>\n",
       "    <tr>\n",
       "      <th>5</th>\n",
       "      <td>DTR = DecisionTreeRegressor()</td>\n",
       "      <td>99.99</td>\n",
       "      <td>68.91</td>\n",
       "    </tr>\n",
       "    <tr>\n",
       "      <th>6</th>\n",
       "      <td>SVr = SVR()</td>\n",
       "      <td>-13.32</td>\n",
       "      <td>-30874.26</td>\n",
       "    </tr>\n",
       "    <tr>\n",
       "      <th>7</th>\n",
       "      <td>BAGR = BaggingRegressor()</td>\n",
       "      <td>94.44</td>\n",
       "      <td>80.98</td>\n",
       "    </tr>\n",
       "    <tr>\n",
       "      <th>8</th>\n",
       "      <td>GRAR = GradientBoostingRegressor()</td>\n",
       "      <td>95.78</td>\n",
       "      <td>80.86</td>\n",
       "    </tr>\n",
       "    <tr>\n",
       "      <th>9</th>\n",
       "      <td>ADAR = AdaBoostRegressor()</td>\n",
       "      <td>65.36</td>\n",
       "      <td>8.74</td>\n",
       "    </tr>\n",
       "    <tr>\n",
       "      <th>10</th>\n",
       "      <td>SGDR= SGDRegressor()</td>\n",
       "      <td>72.69</td>\n",
       "      <td>73.24</td>\n",
       "    </tr>\n",
       "    <tr>\n",
       "      <th>11</th>\n",
       "      <td>XGBR= XGBRegressor()</td>\n",
       "      <td>99.97</td>\n",
       "      <td>83.06</td>\n",
       "    </tr>\n",
       "  </tbody>\n",
       "</table>\n",
       "</div>"
      ],
      "text/plain": [
       "                            Model Name  Training Score:  \\\n",
       "0              LR = LinearRegression()            72.77   \n",
       "1                        LSO = Lasso()            72.77   \n",
       "2                        RIG = Ridge()            72.77   \n",
       "3         KNNR = KNeighborsRegressor()            83.28   \n",
       "4        RFR = RandomForestRegressor()            96.78   \n",
       "5        DTR = DecisionTreeRegressor()            99.99   \n",
       "6                          SVr = SVR()           -13.32   \n",
       "7            BAGR = BaggingRegressor()            94.44   \n",
       "8   GRAR = GradientBoostingRegressor()            95.78   \n",
       "9           ADAR = AdaBoostRegressor()            65.36   \n",
       "10                SGDR= SGDRegressor()            72.69   \n",
       "11                XGBR= XGBRegressor()            99.97   \n",
       "\n",
       "    Accuracy Score (without tuning)  \n",
       "0                             74.21  \n",
       "1                             74.44  \n",
       "2                             74.28  \n",
       "3                             82.73  \n",
       "4                             81.08  \n",
       "5                             68.91  \n",
       "6                         -30874.26  \n",
       "7                             80.98  \n",
       "8                             80.86  \n",
       "9                              8.74  \n",
       "10                            73.24  \n",
       "11                            83.06  "
      ]
     },
     "execution_count": 69,
     "metadata": {},
     "output_type": "execute_result"
    }
   ],
   "source": [
    "model=[LinearRegression(), Lasso(), Ridge(), KNeighborsRegressor(), RandomForestRegressor(), DecisionTreeRegressor(), SVR(), \n",
    "       BaggingRegressor(), GradientBoostingRegressor(), AdaBoostRegressor(), SGDRegressor(), XGBRegressor()]\n",
    "\n",
    "models=['LR = LinearRegression()','LSO = Lasso()', 'RIG = Ridge()', 'KNNR = KNeighborsRegressor()',\n",
    "        'RFR = RandomForestRegressor()', 'DTR = DecisionTreeRegressor()', 'SVr = SVR()', 'BAGR = BaggingRegressor()',\n",
    "        'GRAR = GradientBoostingRegressor()', 'ADAR = AdaBoostRegressor()', 'SGDR= SGDRegressor()', 'XGBR= XGBRegressor()' ]\n",
    "\n",
    "acc_result=[]\n",
    "train_result=[]\n",
    "\n",
    "x_train,x_test,y_train,y_test=train_test_split(X,y,test_size=0.20,random_state=11)\n",
    "\n",
    "for i in range(len(model)):\n",
    "    clf=model[i]\n",
    "    clf.fit(x_train,y_train)\n",
    "    \n",
    "    x_pred=clf.predict(x_train)\n",
    "    y_pred=clf.predict(x_test)\n",
    "    \n",
    "    train_result.append(round (r2_score(y_train,x_pred)*100,2))\n",
    "    acc_result.append(round (r2_score(y_pred,y_test)*100,2))\n",
    "\n",
    "Result_df=pd.DataFrame({'Model Name':models, 'Training Score:':train_result,'Accuracy Score (without tuning)':acc_result})\n",
    "Result_df"
   ]
  },
  {
   "cell_type": "markdown",
   "id": "ab7d5ae2",
   "metadata": {},
   "source": [
    "## 1.1 Linear Regression:"
   ]
  },
  {
   "cell_type": "code",
   "execution_count": 70,
   "id": "e2522132",
   "metadata": {},
   "outputs": [
    {
     "name": "stdout",
     "output_type": "stream",
     "text": [
      "Index of max vaule of train's accuracy_score at random_state: 99\n",
      "Index of max vaule of test's accuracy_score at random_state: 193\n"
     ]
    }
   ],
   "source": [
    "acc_train=[]\n",
    "acc_test=[]\n",
    "\n",
    "for i in range (0,1000):\n",
    "    x_train, x_test, y_train, y_test = train_test_split(X, y, test_size=0.20, random_state=i)\n",
    "    \n",
    "    lr = LinearRegression()\n",
    "    lr.fit(x_train,y_train)\n",
    "    \n",
    "    x_lr_predict=lr.predict(x_train)\n",
    "    y_lr_predict=lr.predict(x_test)\n",
    "    \n",
    "    acc_train.append(r2_score(y_train,x_lr_predict))\n",
    "    acc_test.append(r2_score(y_test,y_lr_predict))\n",
    "    \n",
    "\n",
    "acc_train_index= acc_train.index(max(acc_train))    \n",
    "print(\"Index of max vaule of train's accuracy_score at random_state:\",acc_train_index)\n",
    "\n",
    "acc_test_index= acc_test.index(max(acc_test))\n",
    "print(\"Index of max vaule of test's accuracy_score at random_state:\",acc_test_index)"
   ]
  },
  {
   "cell_type": "markdown",
   "id": "28740c0e",
   "metadata": {},
   "source": [
    "Always choose best training score for random_state, because\n",
    "\n",
    "1. if training score >= testing score ==> chance of best fit or undetfit\n",
    "2. if training score << testing score ==> overfit\n",
    "3. if training score >> testing score ==> undetfit"
   ]
  },
  {
   "cell_type": "code",
   "execution_count": 71,
   "id": "962dd9b4",
   "metadata": {},
   "outputs": [
    {
     "name": "stdout",
     "output_type": "stream",
     "text": [
      "The training accurancy @ 99 state is: 0.7910406559409485\n",
      "The testing accurancy @ 99 state is: 0.458182361357522\n"
     ]
    }
   ],
   "source": [
    "x_train, x_test, y_train, y_test = train_test_split(X, y, test_size=0.20, random_state=99)\n",
    "    \n",
    "lr.fit(x_train,y_train)\n",
    "x_lr_predict=lr.predict(x_train)\n",
    "y_lr_predict=lr.predict(x_test)\n",
    "    \n",
    "print (\"The training accurancy @ 99 state is:\",r2_score(y_train,x_lr_predict))\n",
    "print (\"The testing accurancy @ 99 state is:\",r2_score(y_test,y_lr_predict))"
   ]
  },
  {
   "cell_type": "code",
   "execution_count": 72,
   "id": "6dc697fc",
   "metadata": {},
   "outputs": [
    {
     "name": "stdout",
     "output_type": "stream",
     "text": [
      "At Cross fold 2 the cv score is 0.7173395510318294 \n",
      "  accuracy score for training is 0.7910406559409485 \n",
      "& accuracy for testing is 0.458182361357522\n",
      "\n",
      "\n",
      "At Cross fold 3 the cv score is 0.7173395510318294 \n",
      "  accuracy score for training is 0.7910406559409485 \n",
      "& accuracy for testing is 0.458182361357522\n",
      "\n",
      "\n",
      "At Cross fold 4 the cv score is 0.7173395510318294 \n",
      "  accuracy score for training is 0.7910406559409485 \n",
      "& accuracy for testing is 0.458182361357522\n",
      "\n",
      "\n",
      "At Cross fold 5 the cv score is 0.7173395510318294 \n",
      "  accuracy score for training is 0.7910406559409485 \n",
      "& accuracy for testing is 0.458182361357522\n",
      "\n",
      "\n",
      "At Cross fold 6 the cv score is 0.7173395510318294 \n",
      "  accuracy score for training is 0.7910406559409485 \n",
      "& accuracy for testing is 0.458182361357522\n",
      "\n",
      "\n",
      "At Cross fold 7 the cv score is 0.7173395510318294 \n",
      "  accuracy score for training is 0.7910406559409485 \n",
      "& accuracy for testing is 0.458182361357522\n",
      "\n",
      "\n",
      "At Cross fold 8 the cv score is 0.7173395510318294 \n",
      "  accuracy score for training is 0.7910406559409485 \n",
      "& accuracy for testing is 0.458182361357522\n",
      "\n",
      "\n",
      "At Cross fold 9 the cv score is 0.7173395510318294 \n",
      "  accuracy score for training is 0.7910406559409485 \n",
      "& accuracy for testing is 0.458182361357522\n",
      "\n",
      "\n"
     ]
    }
   ],
   "source": [
    "#Cross-Validation of the Model\n",
    "\n",
    "kford_val=KFold(n_splits=10,shuffle=False)\n",
    "\n",
    "Train_accuracy=r2_score(y_train,x_lr_predict)\n",
    "Test_accuracy =r2_score(y_test,y_lr_predict)\n",
    "\n",
    "from sklearn.model_selection import cross_val_score\n",
    "\n",
    "for i in range (2,10):\n",
    "    cv_score = cross_val_score(lr,X,y,cv=kford_val)\n",
    "    cv_mean = cv_score.mean()\n",
    "    print(\"At Cross fold\", i, \"the cv score is\", cv_mean, \"\\n  accuracy score for training is\", Train_accuracy,\n",
    "          \"\\n& accuracy for testing is\", Test_accuracy)\n",
    "    print(\"\\n\")"
   ]
  },
  {
   "cell_type": "markdown",
   "id": "292dd8ee",
   "metadata": {},
   "source": [
    "## 1.2 Lasso Regression:"
   ]
  },
  {
   "cell_type": "code",
   "execution_count": 51,
   "id": "56210c11",
   "metadata": {},
   "outputs": [
    {
     "data": {
      "text/plain": [
       "LassoCV(max_iter=100)"
      ]
     },
     "execution_count": 51,
     "metadata": {},
     "output_type": "execute_result"
    }
   ],
   "source": [
    "lasscv = LassoCV (alphas=None, max_iter= 100)\n",
    "lasscv.fit(x_train,y_train)"
   ]
  },
  {
   "cell_type": "code",
   "execution_count": 52,
   "id": "bf37f035",
   "metadata": {},
   "outputs": [
    {
     "data": {
      "text/plain": [
       "0.7909734861620291"
      ]
     },
     "execution_count": 52,
     "metadata": {},
     "output_type": "execute_result"
    }
   ],
   "source": [
    "# best alpha parameter\n",
    "alpha = lasscv.alpha_\n",
    "las = Lasso(alpha)\n",
    "las.fit(x_train,y_train)\n",
    "las.score(x_train,y_train)"
   ]
  },
  {
   "cell_type": "code",
   "execution_count": 53,
   "id": "252ac4a2",
   "metadata": {},
   "outputs": [
    {
     "data": {
      "text/plain": [
       "0.4645469437302565"
      ]
     },
     "execution_count": 53,
     "metadata": {},
     "output_type": "execute_result"
    }
   ],
   "source": [
    "y_las_predict=las.predict(x_test)\n",
    "r2_score(y_test,y_las_predict)"
   ]
  },
  {
   "cell_type": "code",
   "execution_count": 54,
   "id": "677ab07f",
   "metadata": {},
   "outputs": [
    {
     "data": {
      "text/plain": [
       "0.7176366198936335"
      ]
     },
     "execution_count": 54,
     "metadata": {},
     "output_type": "execute_result"
    }
   ],
   "source": [
    "cv_score=cross_val_score(las,X,y,cv=kford_val)\n",
    "cv_score.mean()"
   ]
  },
  {
   "cell_type": "markdown",
   "id": "0936ece6",
   "metadata": {},
   "source": [
    "## 1.3 Ridge Regression:"
   ]
  },
  {
   "cell_type": "code",
   "execution_count": 55,
   "id": "7193e497",
   "metadata": {},
   "outputs": [
    {
     "data": {
      "text/plain": [
       "0.7910405838359936"
      ]
     },
     "execution_count": 55,
     "metadata": {},
     "output_type": "execute_result"
    }
   ],
   "source": [
    "ridgecv = RidgeCV(alphas = np.arange(0.001,0.1,0.01))\n",
    "ridgecv.fit(x_train,y_train)\n",
    "alpha = ridgecv.alpha_\n",
    "\n",
    "rig = Ridge (alpha)\n",
    "rig.fit(x_train,y_train)\n",
    "rig.score(x_train,y_train)"
   ]
  },
  {
   "cell_type": "code",
   "execution_count": 56,
   "id": "2f8f2c84",
   "metadata": {},
   "outputs": [
    {
     "data": {
      "text/plain": [
       "0.45842395968235694"
      ]
     },
     "execution_count": 56,
     "metadata": {},
     "output_type": "execute_result"
    }
   ],
   "source": [
    "y_rig_predict=rig.predict(x_test)\n",
    "r2_score(y_test,y_rig_predict)"
   ]
  },
  {
   "cell_type": "code",
   "execution_count": 57,
   "id": "defe9933",
   "metadata": {},
   "outputs": [
    {
     "data": {
      "text/plain": [
       "0.7173595943034015"
      ]
     },
     "execution_count": 57,
     "metadata": {},
     "output_type": "execute_result"
    }
   ],
   "source": [
    "cv_score=cross_val_score(rig,X,y,cv=kford_val)\n",
    "cv_score.mean()"
   ]
  },
  {
   "cell_type": "markdown",
   "id": "c61be7f6",
   "metadata": {},
   "source": [
    "## 1.4 KNeighbors Regressor:"
   ]
  },
  {
   "cell_type": "code",
   "execution_count": 58,
   "id": "33bad32d",
   "metadata": {},
   "outputs": [
    {
     "name": "stdout",
     "output_type": "stream",
     "text": [
      "R2 Score: 0.599857888007428\n",
      "Cross validation: 0.7633693698370305\n"
     ]
    }
   ],
   "source": [
    "knnr=KNeighborsRegressor(n_neighbors = 10)\n",
    "knnr.fit(x_train,y_train)\n",
    "\n",
    "y_knnr_predict=knnr.predict(x_test)\n",
    "print('R2 Score:',r2_score(y_test,y_knnr_predict))\n",
    "\n",
    "cv_score=cross_val_score(knnr,X,y,cv=kford_val)\n",
    "print ('Cross validation:',cv_score.mean())"
   ]
  },
  {
   "cell_type": "markdown",
   "id": "e0ec2417",
   "metadata": {},
   "source": [
    "## 1.5 RandomForest Regression:"
   ]
  },
  {
   "cell_type": "code",
   "execution_count": 59,
   "id": "3c2f78d8",
   "metadata": {},
   "outputs": [
    {
     "name": "stdout",
     "output_type": "stream",
     "text": [
      "R2 Score: 0.6126241156870595\n",
      "Cross validation: 0.7870179055719447\n"
     ]
    }
   ],
   "source": [
    "rfr=RandomForestRegressor(criterion='mse')\n",
    "\n",
    "rfr.fit(x_train,y_train)\n",
    "\n",
    "y_rfr_predict=rfr.predict(x_test)\n",
    "print('R2 Score:',r2_score(y_test,y_rfr_predict))\n",
    "\n",
    "cv_score=cross_val_score(rfr,X,y,cv=kford_val)\n",
    "print ('Cross validation:',cv_score.mean())"
   ]
  },
  {
   "cell_type": "markdown",
   "id": "6e1e89a9",
   "metadata": {},
   "source": [
    "## 1.6 Decision Tree Regression:"
   ]
  },
  {
   "cell_type": "code",
   "execution_count": 60,
   "id": "d3a9783b",
   "metadata": {},
   "outputs": [
    {
     "name": "stdout",
     "output_type": "stream",
     "text": [
      "R2 Score: 0.4641772152994522\n",
      "Cross validation: 0.5961817472316047\n"
     ]
    }
   ],
   "source": [
    "dtr=DecisionTreeRegressor(criterion='mse')\n",
    "\n",
    "dtr.fit(x_train,y_train)\n",
    "\n",
    "y_dtr_predict=dtr.predict(x_test)\n",
    "print('R2 Score:',r2_score(y_test,y_dtr_predict))\n",
    "\n",
    "cv_score=cross_val_score(dtr,X,y,cv=kford_val)\n",
    "print ('Cross validation:',cv_score.mean())"
   ]
  },
  {
   "cell_type": "markdown",
   "id": "8300dcef",
   "metadata": {},
   "source": [
    "## 1.7 SVR:"
   ]
  },
  {
   "cell_type": "code",
   "execution_count": 61,
   "id": "2326cf61",
   "metadata": {},
   "outputs": [
    {
     "name": "stdout",
     "output_type": "stream",
     "text": [
      "R2 Score: -0.175304149239079\n",
      "Cross validation: -0.14032956025885898\n"
     ]
    }
   ],
   "source": [
    "svr=SVR(gamma='auto')\n",
    "\n",
    "svr.fit(x_train,y_train)\n",
    "\n",
    "y_svr_predict=svr.predict(x_test)\n",
    "print('R2 Score:',r2_score(y_test,y_svr_predict))\n",
    "\n",
    "cv_score=cross_val_score(svr,X,y,cv=kford_val)\n",
    "print ('Cross validation:',cv_score.mean())"
   ]
  },
  {
   "cell_type": "markdown",
   "id": "f6d0a61a",
   "metadata": {},
   "source": [
    "## 1.8 Bagging Regression:"
   ]
  },
  {
   "cell_type": "code",
   "execution_count": 62,
   "id": "b3977a79",
   "metadata": {},
   "outputs": [
    {
     "name": "stdout",
     "output_type": "stream",
     "text": [
      "R2 Score: 0.6339595839525416\n",
      "Cross validation: 0.7948878977187643\n"
     ]
    }
   ],
   "source": [
    "bagr=BaggingRegressor(base_estimator=RandomForestRegressor())\n",
    "\n",
    "bagr.fit(x_train,y_train)\n",
    "\n",
    "y_bagr_predict=bagr.predict(x_test)\n",
    "print('R2 Score:',r2_score(y_test,y_bagr_predict))\n",
    "\n",
    "cv_score=cross_val_score(bagr,X,y,cv=kford_val)\n",
    "print ('Cross validation:',cv_score.mean())"
   ]
  },
  {
   "cell_type": "markdown",
   "id": "249d0d35",
   "metadata": {},
   "source": [
    "## 1.9 Gradient Boosting Regression:"
   ]
  },
  {
   "cell_type": "code",
   "execution_count": 63,
   "id": "b76a5504",
   "metadata": {},
   "outputs": [
    {
     "name": "stdout",
     "output_type": "stream",
     "text": [
      "R2 Score: 0.5171428630382027\n",
      "Cross validation: 0.6686622575827559\n"
     ]
    }
   ],
   "source": [
    "grar=GradientBoostingRegressor(criterion='mse', n_estimators=10, learning_rate=1)\n",
    "\n",
    "grar.fit(x_train,y_train)\n",
    "\n",
    "y_grar_predict=grar.predict(x_test)\n",
    "print('R2 Score:',r2_score(y_test,y_grar_predict))\n",
    "\n",
    "cv_score=cross_val_score(grar,X,y,cv=kford_val)\n",
    "print ('Cross validation:',cv_score.mean())"
   ]
  },
  {
   "cell_type": "markdown",
   "id": "959fb8c2",
   "metadata": {},
   "source": [
    "## 1.10 AdaBoost Regression:"
   ]
  },
  {
   "cell_type": "code",
   "execution_count": 64,
   "id": "51c543ce",
   "metadata": {},
   "outputs": [
    {
     "name": "stdout",
     "output_type": "stream",
     "text": [
      "R2 Score: 0.6306832741805981\n",
      "Cross validation: 0.7927937432628631\n"
     ]
    }
   ],
   "source": [
    "adar=AdaBoostRegressor(base_estimator=BaggingRegressor(),learning_rate=0.01)\n",
    "\n",
    "adar.fit(x_train,y_train)\n",
    "\n",
    "y_adar_predict=adar.predict(x_test)\n",
    "print('R2 Score:',r2_score(y_test,y_adar_predict))\n",
    "\n",
    "cv_score=cross_val_score(adar,X,y,cv=kford_val)\n",
    "print ('Cross validation:',cv_score.mean())"
   ]
  },
  {
   "cell_type": "markdown",
   "id": "bd893c58",
   "metadata": {},
   "source": [
    "## 1.11 SGDRegressor:"
   ]
  },
  {
   "cell_type": "code",
   "execution_count": 65,
   "id": "f5d137c3",
   "metadata": {},
   "outputs": [
    {
     "name": "stdout",
     "output_type": "stream",
     "text": [
      "R2 Score: 0.5443208200536325\n",
      "Cross validation: 0.7205843542046256\n"
     ]
    }
   ],
   "source": [
    "sgdr=SGDRegressor(alpha=0.1)\n",
    "\n",
    "sgdr.fit(x_train,y_train)\n",
    "\n",
    "y_sgdr_predict=sgdr.predict(x_test)\n",
    "print('R2 Score:',r2_score(y_test,y_sgdr_predict))\n",
    "\n",
    "cv_score=cross_val_score(sgdr,X,y,cv=kford_val)\n",
    "print ('Cross validation:',cv_score.mean())"
   ]
  },
  {
   "cell_type": "markdown",
   "id": "b7d6a605",
   "metadata": {},
   "source": [
    "## 1.12 XGBRegressor:"
   ]
  },
  {
   "cell_type": "code",
   "execution_count": 66,
   "id": "55de11cd",
   "metadata": {},
   "outputs": [
    {
     "name": "stdout",
     "output_type": "stream",
     "text": [
      "R2 Score: 0.6306832741805981\n",
      "Cross validation: 0.6889982811785647\n"
     ]
    }
   ],
   "source": [
    "xgbr=XGBRegressor(n_estimators = 10, learning_rate = 1)\n",
    "\n",
    "xgbr.fit(x_train,y_train)\n",
    "\n",
    "y_xgbr_predict=adar.predict(x_test)\n",
    "print('R2 Score:',r2_score(y_test,y_xgbr_predict))\n",
    "\n",
    "cv_score=cross_val_score(xgbr,X,y,cv=kford_val)\n",
    "print ('Cross validation:',cv_score.mean())"
   ]
  },
  {
   "cell_type": "code",
   "execution_count": 73,
   "id": "0bdc2852",
   "metadata": {},
   "outputs": [
    {
     "data": {
      "text/html": [
       "<div>\n",
       "<style scoped>\n",
       "    .dataframe tbody tr th:only-of-type {\n",
       "        vertical-align: middle;\n",
       "    }\n",
       "\n",
       "    .dataframe tbody tr th {\n",
       "        vertical-align: top;\n",
       "    }\n",
       "\n",
       "    .dataframe thead th {\n",
       "        text-align: right;\n",
       "    }\n",
       "</style>\n",
       "<table border=\"1\" class=\"dataframe\">\n",
       "  <thead>\n",
       "    <tr style=\"text-align: right;\">\n",
       "      <th></th>\n",
       "      <th>Regressor</th>\n",
       "      <th>Accuracy Score (with tuning)</th>\n",
       "    </tr>\n",
       "  </thead>\n",
       "  <tbody>\n",
       "    <tr>\n",
       "      <th>0</th>\n",
       "      <td>lr = LinearRegression()</td>\n",
       "      <td>45.82</td>\n",
       "    </tr>\n",
       "    <tr>\n",
       "      <th>1</th>\n",
       "      <td>las = Lasso()</td>\n",
       "      <td>46.45</td>\n",
       "    </tr>\n",
       "    <tr>\n",
       "      <th>2</th>\n",
       "      <td>rig = Ridge()</td>\n",
       "      <td>45.84</td>\n",
       "    </tr>\n",
       "    <tr>\n",
       "      <th>3</th>\n",
       "      <td>knn = KNeighborsRegressor()</td>\n",
       "      <td>59.99</td>\n",
       "    </tr>\n",
       "    <tr>\n",
       "      <th>4</th>\n",
       "      <td>rf = RandomForestRegressor()</td>\n",
       "      <td>61.26</td>\n",
       "    </tr>\n",
       "    <tr>\n",
       "      <th>5</th>\n",
       "      <td>dt = DecisionTreeRegressor()</td>\n",
       "      <td>46.42</td>\n",
       "    </tr>\n",
       "    <tr>\n",
       "      <th>6</th>\n",
       "      <td>svr = SVR()</td>\n",
       "      <td>-17.53</td>\n",
       "    </tr>\n",
       "    <tr>\n",
       "      <th>7</th>\n",
       "      <td>bag = BaggingRegressor()</td>\n",
       "      <td>63.40</td>\n",
       "    </tr>\n",
       "    <tr>\n",
       "      <th>8</th>\n",
       "      <td>gra = GradientBoostingRegressor()</td>\n",
       "      <td>51.71</td>\n",
       "    </tr>\n",
       "    <tr>\n",
       "      <th>9</th>\n",
       "      <td>ada = AdaBoostRegressor()</td>\n",
       "      <td>63.07</td>\n",
       "    </tr>\n",
       "    <tr>\n",
       "      <th>10</th>\n",
       "      <td>sgdr = SGDRegressor()</td>\n",
       "      <td>54.43</td>\n",
       "    </tr>\n",
       "    <tr>\n",
       "      <th>11</th>\n",
       "      <td>xgbr = XGBRegressor()</td>\n",
       "      <td>63.07</td>\n",
       "    </tr>\n",
       "  </tbody>\n",
       "</table>\n",
       "</div>"
      ],
      "text/plain": [
       "                            Regressor  Accuracy Score (with tuning)\n",
       "0             lr = LinearRegression()                         45.82\n",
       "1                       las = Lasso()                         46.45\n",
       "2                       rig = Ridge()                         45.84\n",
       "3         knn = KNeighborsRegressor()                         59.99\n",
       "4        rf = RandomForestRegressor()                         61.26\n",
       "5        dt = DecisionTreeRegressor()                         46.42\n",
       "6                         svr = SVR()                        -17.53\n",
       "7            bag = BaggingRegressor()                         63.40\n",
       "8   gra = GradientBoostingRegressor()                         51.71\n",
       "9           ada = AdaBoostRegressor()                         63.07\n",
       "10              sgdr = SGDRegressor()                         54.43\n",
       "11              xgbr = XGBRegressor()                         63.07"
      ]
     },
     "execution_count": 73,
     "metadata": {},
     "output_type": "execute_result"
    }
   ],
   "source": [
    "Acc_Score_tun =[round (r2_score(y_test,y_lr_predict)*100,2),\n",
    "                round (r2_score(y_test,y_las_predict)*100,2),\n",
    "                round (r2_score(y_test,y_rig_predict)*100,2),\n",
    "                round (r2_score(y_test,y_knnr_predict)*100,2),\n",
    "                round (r2_score(y_test,y_rfr_predict)*100,2),\n",
    "                round (r2_score(y_test,y_dtr_predict)*100,2),\n",
    "                round (r2_score(y_test,y_svr_predict)*100,2),\n",
    "                round (r2_score(y_test,y_bagr_predict)*100,2),\n",
    "                round (r2_score(y_test,y_grar_predict)*100,2),\n",
    "                round (r2_score(y_test,y_adar_predict)*100,2),\n",
    "                round (r2_score(y_test,y_sgdr_predict)*100,2),\n",
    "                round (r2_score(y_test,y_xgbr_predict)*100,2)]\n",
    "\n",
    "GPP_Capacity = pd.DataFrame({'Regressor':['lr = LinearRegression()', 'las = Lasso()','rig = Ridge()',\n",
    "                                'knn = KNeighborsRegressor()' ,'rf = RandomForestRegressor()', 'dt = DecisionTreeRegressor()',\n",
    "                                 'svr = SVR()', 'bag = BaggingRegressor()', 'gra = GradientBoostingRegressor()',\n",
    "                                 'ada = AdaBoostRegressor()','sgdr = SGDRegressor()', 'xgbr = XGBRegressor()'],\n",
    "                                 \n",
    "                                'Accuracy Score (with tuning)':Acc_Score_tun})\n",
    "GPP_Capacity"
   ]
  },
  {
   "cell_type": "code",
   "execution_count": 74,
   "id": "a66490ba",
   "metadata": {},
   "outputs": [
    {
     "data": {
      "text/html": [
       "<div>\n",
       "<style scoped>\n",
       "    .dataframe tbody tr th:only-of-type {\n",
       "        vertical-align: middle;\n",
       "    }\n",
       "\n",
       "    .dataframe tbody tr th {\n",
       "        vertical-align: top;\n",
       "    }\n",
       "\n",
       "    .dataframe thead th {\n",
       "        text-align: right;\n",
       "    }\n",
       "</style>\n",
       "<table border=\"1\" class=\"dataframe\">\n",
       "  <thead>\n",
       "    <tr style=\"text-align: right;\">\n",
       "      <th></th>\n",
       "      <th>Model Name</th>\n",
       "      <th>Training Score:</th>\n",
       "      <th>Accuracy Score (without tuning)</th>\n",
       "      <th>Regressor</th>\n",
       "      <th>Accuracy Score (with tuning)</th>\n",
       "    </tr>\n",
       "  </thead>\n",
       "  <tbody>\n",
       "    <tr>\n",
       "      <th>0</th>\n",
       "      <td>LR = LinearRegression()</td>\n",
       "      <td>72.77</td>\n",
       "      <td>74.21</td>\n",
       "      <td>lr = LinearRegression()</td>\n",
       "      <td>45.82</td>\n",
       "    </tr>\n",
       "    <tr>\n",
       "      <th>1</th>\n",
       "      <td>LSO = Lasso()</td>\n",
       "      <td>72.77</td>\n",
       "      <td>74.44</td>\n",
       "      <td>las = Lasso()</td>\n",
       "      <td>46.45</td>\n",
       "    </tr>\n",
       "    <tr>\n",
       "      <th>2</th>\n",
       "      <td>RIG = Ridge()</td>\n",
       "      <td>72.77</td>\n",
       "      <td>74.28</td>\n",
       "      <td>rig = Ridge()</td>\n",
       "      <td>45.84</td>\n",
       "    </tr>\n",
       "    <tr>\n",
       "      <th>3</th>\n",
       "      <td>KNNR = KNeighborsRegressor()</td>\n",
       "      <td>83.28</td>\n",
       "      <td>82.73</td>\n",
       "      <td>knn = KNeighborsRegressor()</td>\n",
       "      <td>59.99</td>\n",
       "    </tr>\n",
       "    <tr>\n",
       "      <th>4</th>\n",
       "      <td>RFR = RandomForestRegressor()</td>\n",
       "      <td>96.78</td>\n",
       "      <td>81.08</td>\n",
       "      <td>rf = RandomForestRegressor()</td>\n",
       "      <td>61.26</td>\n",
       "    </tr>\n",
       "    <tr>\n",
       "      <th>5</th>\n",
       "      <td>DTR = DecisionTreeRegressor()</td>\n",
       "      <td>99.99</td>\n",
       "      <td>68.91</td>\n",
       "      <td>dt = DecisionTreeRegressor()</td>\n",
       "      <td>46.42</td>\n",
       "    </tr>\n",
       "    <tr>\n",
       "      <th>6</th>\n",
       "      <td>SVr = SVR()</td>\n",
       "      <td>-13.32</td>\n",
       "      <td>-30874.26</td>\n",
       "      <td>svr = SVR()</td>\n",
       "      <td>-17.53</td>\n",
       "    </tr>\n",
       "    <tr>\n",
       "      <th>7</th>\n",
       "      <td>BAGR = BaggingRegressor()</td>\n",
       "      <td>94.44</td>\n",
       "      <td>80.98</td>\n",
       "      <td>bag = BaggingRegressor()</td>\n",
       "      <td>63.40</td>\n",
       "    </tr>\n",
       "    <tr>\n",
       "      <th>8</th>\n",
       "      <td>GRAR = GradientBoostingRegressor()</td>\n",
       "      <td>95.78</td>\n",
       "      <td>80.86</td>\n",
       "      <td>gra = GradientBoostingRegressor()</td>\n",
       "      <td>51.71</td>\n",
       "    </tr>\n",
       "    <tr>\n",
       "      <th>9</th>\n",
       "      <td>ADAR = AdaBoostRegressor()</td>\n",
       "      <td>65.36</td>\n",
       "      <td>8.74</td>\n",
       "      <td>ada = AdaBoostRegressor()</td>\n",
       "      <td>63.07</td>\n",
       "    </tr>\n",
       "    <tr>\n",
       "      <th>10</th>\n",
       "      <td>SGDR= SGDRegressor()</td>\n",
       "      <td>72.69</td>\n",
       "      <td>73.24</td>\n",
       "      <td>sgdr = SGDRegressor()</td>\n",
       "      <td>54.43</td>\n",
       "    </tr>\n",
       "    <tr>\n",
       "      <th>11</th>\n",
       "      <td>XGBR= XGBRegressor()</td>\n",
       "      <td>99.97</td>\n",
       "      <td>83.06</td>\n",
       "      <td>xgbr = XGBRegressor()</td>\n",
       "      <td>63.07</td>\n",
       "    </tr>\n",
       "  </tbody>\n",
       "</table>\n",
       "</div>"
      ],
      "text/plain": [
       "                            Model Name  Training Score:  \\\n",
       "0              LR = LinearRegression()            72.77   \n",
       "1                        LSO = Lasso()            72.77   \n",
       "2                        RIG = Ridge()            72.77   \n",
       "3         KNNR = KNeighborsRegressor()            83.28   \n",
       "4        RFR = RandomForestRegressor()            96.78   \n",
       "5        DTR = DecisionTreeRegressor()            99.99   \n",
       "6                          SVr = SVR()           -13.32   \n",
       "7            BAGR = BaggingRegressor()            94.44   \n",
       "8   GRAR = GradientBoostingRegressor()            95.78   \n",
       "9           ADAR = AdaBoostRegressor()            65.36   \n",
       "10                SGDR= SGDRegressor()            72.69   \n",
       "11                XGBR= XGBRegressor()            99.97   \n",
       "\n",
       "    Accuracy Score (without tuning)                          Regressor  \\\n",
       "0                             74.21            lr = LinearRegression()   \n",
       "1                             74.44                      las = Lasso()   \n",
       "2                             74.28                      rig = Ridge()   \n",
       "3                             82.73        knn = KNeighborsRegressor()   \n",
       "4                             81.08       rf = RandomForestRegressor()   \n",
       "5                             68.91       dt = DecisionTreeRegressor()   \n",
       "6                         -30874.26                        svr = SVR()   \n",
       "7                             80.98           bag = BaggingRegressor()   \n",
       "8                             80.86  gra = GradientBoostingRegressor()   \n",
       "9                              8.74          ada = AdaBoostRegressor()   \n",
       "10                            73.24              sgdr = SGDRegressor()   \n",
       "11                            83.06              xgbr = XGBRegressor()   \n",
       "\n",
       "    Accuracy Score (with tuning)  \n",
       "0                          45.82  \n",
       "1                          46.45  \n",
       "2                          45.84  \n",
       "3                          59.99  \n",
       "4                          61.26  \n",
       "5                          46.42  \n",
       "6                         -17.53  \n",
       "7                          63.40  \n",
       "8                          51.71  \n",
       "9                          63.07  \n",
       "10                         54.43  \n",
       "11                         63.07  "
      ]
     },
     "execution_count": 74,
     "metadata": {},
     "output_type": "execute_result"
    }
   ],
   "source": [
    "GLOBAL_POWER_PLANT_CAPACITY= pd.concat([Result_df,GPP_Capacity],axis=1)\n",
    "GLOBAL_POWER_PLANT_CAPACITY"
   ]
  },
  {
   "cell_type": "markdown",
   "id": "b9045a41",
   "metadata": {},
   "source": [
    "# We are gettig high model accuracy: 83.06% in XGBRegressor model without tuning with very good cross_val_score,\n",
    "# The XGBRegressor shows model is performing exremely well, so we can save this model.\n",
    "# Save the model using pickle"
   ]
  },
  {
   "cell_type": "code",
   "execution_count": 75,
   "id": "19403c97",
   "metadata": {},
   "outputs": [],
   "source": [
    "import pickle\n",
    "pickle.dump(XGBR,open('Global_Power_Plant-RegressionModel_Capacity_mw','wb'))"
   ]
  },
  {
   "cell_type": "code",
   "execution_count": null,
   "id": "04629ad8",
   "metadata": {},
   "outputs": [],
   "source": []
  },
  {
   "cell_type": "markdown",
   "id": "94e7a6ac",
   "metadata": {},
   "source": [
    "# [2] Classification Problem (Target = primary_fuel)"
   ]
  },
  {
   "cell_type": "markdown",
   "id": "c2b837f2",
   "metadata": {},
   "source": [
    "## Now Check correlation of the columns with the target column"
   ]
  },
  {
   "cell_type": "code",
   "execution_count": 76,
   "id": "6a1afa22",
   "metadata": {},
   "outputs": [
    {
     "data": {
      "text/plain": [
       "capacity_mw           -0.380395\n",
       "longitude             -0.368766\n",
       "generation_gwh_2018   -0.271198\n",
       "generation_gwh_2017   -0.263599\n",
       "generation_gwh_2016   -0.259708\n",
       "generation_gwh_2015   -0.249304\n",
       "generation_gwh_2014   -0.240656\n",
       "latitude              -0.020203\n",
       "source                 0.053613\n",
       "primary_fuel           1.000000\n",
       "Name: primary_fuel, dtype: float64"
      ]
     },
     "execution_count": 76,
     "metadata": {},
     "output_type": "execute_result"
    }
   ],
   "source": [
    "df.corr()['primary_fuel'].sort_values()"
   ]
  },
  {
   "cell_type": "code",
   "execution_count": 77,
   "id": "37477a15",
   "metadata": {},
   "outputs": [
    {
     "data": {
      "image/png": "[encoded data removed]",
      "text/plain": [
       "<Figure size 864x576 with 1 Axes>"
      ]
     },
     "metadata": {},
     "output_type": "display_data"
    }
   ],
   "source": [
    "plt.figure(figsize=(12,8))\n",
    "df.corr()['primary_fuel'].sort_values().plot(kind='bar')\n",
    "plt.xlabel('Features')\n",
    "plt.title('Correlation with target')\n",
    "plt.show()"
   ]
  },
  {
   "cell_type": "markdown",
   "id": "addd0d2d",
   "metadata": {},
   "source": [
    "## Now Separting columns into features and target"
   ]
  },
  {
   "cell_type": "code",
   "execution_count": 78,
   "id": "b4302545",
   "metadata": {},
   "outputs": [
    {
     "data": {
      "text/plain": [
       "latitude              -0.095721\n",
       "longitude              1.130252\n",
       "source                 1.827373\n",
       "capacity_mw            3.123576\n",
       "generation_gwh_2018    5.133226\n",
       "generation_gwh_2016    5.281953\n",
       "generation_gwh_2017    5.315103\n",
       "generation_gwh_2014    5.321360\n",
       "generation_gwh_2015    5.566773\n",
       "dtype: float64"
      ]
     },
     "execution_count": 78,
     "metadata": {},
     "output_type": "execute_result"
    }
   ],
   "source": [
    "x=df.drop(columns='primary_fuel')\n",
    "y=df.primary_fuel\n",
    "x.skew().sort_values()"
   ]
  },
  {
   "cell_type": "markdown",
   "id": "5b1a9486",
   "metadata": {},
   "source": [
    "Dataset is very skewed, let's try to handle it or save it."
   ]
  },
  {
   "cell_type": "markdown",
   "id": "c7796c70",
   "metadata": {},
   "source": [
    "## Now use PowerTransformation method to save our skewed data"
   ]
  },
  {
   "cell_type": "code",
   "execution_count": 79,
   "id": "01df0181",
   "metadata": {},
   "outputs": [
    {
     "data": {
      "text/plain": [
       "source                -0.214066\n",
       "latitude              -0.069526\n",
       "capacity_mw            0.022164\n",
       "longitude              0.040507\n",
       "generation_gwh_2018    0.193103\n",
       "generation_gwh_2017    0.196816\n",
       "generation_gwh_2016    0.204011\n",
       "generation_gwh_2015    0.222151\n",
       "generation_gwh_2014    0.285906\n",
       "dtype: float64"
      ]
     },
     "execution_count": 79,
     "metadata": {},
     "output_type": "execute_result"
    }
   ],
   "source": [
    "from sklearn.preprocessing import PowerTransformer\n",
    "\n",
    "df_pt = PowerTransformer()\n",
    "df_pw = pd.DataFrame(df_pt.fit_transform(x),columns=x.columns)\n",
    "df_pw.skew().sort_values()"
   ]
  },
  {
   "cell_type": "markdown",
   "id": "38d81507",
   "metadata": {},
   "source": [
    "Using power transformation, most of skewness has removed"
   ]
  },
  {
   "cell_type": "code",
   "execution_count": 80,
   "id": "cb5f4787",
   "metadata": {},
   "outputs": [
    {
     "name": "stdout",
     "output_type": "stream",
     "text": [
      "Index(['capacity_mw', 'latitude', 'longitude', 'generation_gwh_2014',\n",
      "       'generation_gwh_2015', 'generation_gwh_2016', 'generation_gwh_2017',\n",
      "       'generation_gwh_2018'],\n",
      "      dtype='object')\n"
     ]
    }
   ],
   "source": [
    "x1=df_pw.copy()\n",
    "x1=df_pw.drop(columns=['source']) # This is categorical columns \n",
    "print(x1.columns)"
   ]
  },
  {
   "cell_type": "markdown",
   "id": "a6799483",
   "metadata": {},
   "source": [
    "## Now remove remaining outliers using z-score technique"
   ]
  },
  {
   "cell_type": "code",
   "execution_count": 81,
   "id": "91a1bc2d",
   "metadata": {},
   "outputs": [
    {
     "data": {
      "text/plain": [
       "(array([ 15, 308, 364, 364, 364, 364, 364, 493, 493, 493, 493, 493, 494,\n",
       "        494, 494, 494, 494, 648, 648, 648, 648, 648, 657, 657, 657, 657,\n",
       "        695, 695, 695, 695, 695, 721, 726, 726, 726, 726, 726, 786, 786,\n",
       "        786, 786, 786, 808, 808, 808, 808, 880, 880, 880, 880, 880],\n",
       "       dtype=int64),\n",
       " array([7, 3, 3, 4, 5, 6, 7, 3, 4, 5, 6, 7, 3, 4, 5, 6, 7, 3, 4, 5, 6, 7,\n",
       "        3, 4, 5, 6, 3, 4, 5, 6, 7, 3, 3, 4, 5, 6, 7, 3, 4, 5, 6, 7, 3, 4,\n",
       "        5, 7, 3, 4, 5, 6, 7], dtype=int64))"
      ]
     },
     "execution_count": 81,
     "metadata": {},
     "output_type": "execute_result"
    }
   ],
   "source": [
    "from scipy.stats import zscore\n",
    "z=np.abs(zscore(x1))\n",
    "threshold=3\n",
    "np.where(z>3)"
   ]
  },
  {
   "cell_type": "code",
   "execution_count": 82,
   "id": "4c3379fb",
   "metadata": {},
   "outputs": [
    {
     "name": "stdout",
     "output_type": "stream",
     "text": [
      "percentage of loss of data by zscore is : 1.4332965821389196\n"
     ]
    }
   ],
   "source": [
    "df_new= df[(z<3).all(axis=1)]\n",
    "\n",
    "print('percentage of loss of data by zscore is :',((df.shape[0]-df_new.shape[0])/df.shape[0])*100)"
   ]
  },
  {
   "cell_type": "code",
   "execution_count": 83,
   "id": "fcaa2765",
   "metadata": {},
   "outputs": [
    {
     "data": {
      "text/plain": [
       "(894, 10)"
      ]
     },
     "execution_count": 83,
     "metadata": {},
     "output_type": "execute_result"
    }
   ],
   "source": [
    "df_new.shape"
   ]
  },
  {
   "cell_type": "markdown",
   "id": "64872a62",
   "metadata": {},
   "source": [
    "Very less data, we have loss using z-tarnsformation method, let's proceed further."
   ]
  },
  {
   "cell_type": "code",
   "execution_count": 84,
   "id": "03b49572",
   "metadata": {},
   "outputs": [],
   "source": [
    "x_new=df_new.drop(columns='primary_fuel')\n",
    "y_new=df_new.primary_fuel"
   ]
  },
  {
   "cell_type": "markdown",
   "id": "c8746495",
   "metadata": {},
   "source": [
    "## Data Scaling using Standard Scaler"
   ]
  },
  {
   "cell_type": "code",
   "execution_count": 85,
   "id": "fe4eb455",
   "metadata": {},
   "outputs": [
    {
     "data": {
      "text/html": [
       "<div>\n",
       "<style scoped>\n",
       "    .dataframe tbody tr th:only-of-type {\n",
       "        vertical-align: middle;\n",
       "    }\n",
       "\n",
       "    .dataframe tbody tr th {\n",
       "        vertical-align: top;\n",
       "    }\n",
       "\n",
       "    .dataframe thead th {\n",
       "        text-align: right;\n",
       "    }\n",
       "</style>\n",
       "<table border=\"1\" class=\"dataframe\">\n",
       "  <thead>\n",
       "    <tr style=\"text-align: right;\">\n",
       "      <th></th>\n",
       "      <th>capacity_mw</th>\n",
       "      <th>latitude</th>\n",
       "      <th>longitude</th>\n",
       "      <th>source</th>\n",
       "      <th>generation_gwh_2014</th>\n",
       "      <th>generation_gwh_2015</th>\n",
       "      <th>generation_gwh_2016</th>\n",
       "      <th>generation_gwh_2017</th>\n",
       "      <th>generation_gwh_2018</th>\n",
       "    </tr>\n",
       "  </thead>\n",
       "  <tbody>\n",
       "    <tr>\n",
       "      <th>0</th>\n",
       "      <td>-0.601049</td>\n",
       "      <td>1.160481</td>\n",
       "      <td>-0.783338</td>\n",
       "      <td>1.445165</td>\n",
       "      <td>-0.271788</td>\n",
       "      <td>-0.299544</td>\n",
       "      <td>-0.304347</td>\n",
       "      <td>-0.301728</td>\n",
       "      <td>-0.317512</td>\n",
       "    </tr>\n",
       "    <tr>\n",
       "      <th>1</th>\n",
       "      <td>-0.397302</td>\n",
       "      <td>0.603122</td>\n",
       "      <td>-0.507043</td>\n",
       "      <td>2.894019</td>\n",
       "      <td>-0.271788</td>\n",
       "      <td>-0.299544</td>\n",
       "      <td>-0.304347</td>\n",
       "      <td>-0.301728</td>\n",
       "      <td>-0.317512</td>\n",
       "    </tr>\n",
       "    <tr>\n",
       "      <th>2</th>\n",
       "      <td>-0.522751</td>\n",
       "      <td>0.136292</td>\n",
       "      <td>-1.564287</td>\n",
       "      <td>-0.516362</td>\n",
       "      <td>-0.271788</td>\n",
       "      <td>-0.299544</td>\n",
       "      <td>-0.304347</td>\n",
       "      <td>-0.301728</td>\n",
       "      <td>-0.317512</td>\n",
       "    </tr>\n",
       "    <tr>\n",
       "      <th>3</th>\n",
       "      <td>-0.318363</td>\n",
       "      <td>0.457145</td>\n",
       "      <td>2.875459</td>\n",
       "      <td>-0.494072</td>\n",
       "      <td>-0.380526</td>\n",
       "      <td>-0.222690</td>\n",
       "      <td>-0.221676</td>\n",
       "      <td>-0.384684</td>\n",
       "      <td>-0.381179</td>\n",
       "    </tr>\n",
       "    <tr>\n",
       "      <th>4</th>\n",
       "      <td>3.233880</td>\n",
       "      <td>0.145506</td>\n",
       "      <td>1.068000</td>\n",
       "      <td>-0.494072</td>\n",
       "      <td>1.053468</td>\n",
       "      <td>2.718120</td>\n",
       "      <td>2.754618</td>\n",
       "      <td>2.155506</td>\n",
       "      <td>2.996341</td>\n",
       "    </tr>\n",
       "    <tr>\n",
       "      <th>...</th>\n",
       "      <td>...</td>\n",
       "      <td>...</td>\n",
       "      <td>...</td>\n",
       "      <td>...</td>\n",
       "      <td>...</td>\n",
       "      <td>...</td>\n",
       "      <td>...</td>\n",
       "      <td>...</td>\n",
       "      <td>...</td>\n",
       "    </tr>\n",
       "    <tr>\n",
       "      <th>889</th>\n",
       "      <td>2.807184</td>\n",
       "      <td>-0.778435</td>\n",
       "      <td>0.047809</td>\n",
       "      <td>-0.494072</td>\n",
       "      <td>-0.271788</td>\n",
       "      <td>-0.711268</td>\n",
       "      <td>-0.584147</td>\n",
       "      <td>-0.276216</td>\n",
       "      <td>-0.350585</td>\n",
       "    </tr>\n",
       "    <tr>\n",
       "      <th>890</th>\n",
       "      <td>-0.599982</td>\n",
       "      <td>-1.333201</td>\n",
       "      <td>0.211086</td>\n",
       "      <td>0.731882</td>\n",
       "      <td>-0.271788</td>\n",
       "      <td>-0.299544</td>\n",
       "      <td>-0.304347</td>\n",
       "      <td>-0.301728</td>\n",
       "      <td>-0.317512</td>\n",
       "    </tr>\n",
       "    <tr>\n",
       "      <th>891</th>\n",
       "      <td>-0.551979</td>\n",
       "      <td>-0.944635</td>\n",
       "      <td>-0.310751</td>\n",
       "      <td>-0.516362</td>\n",
       "      <td>-0.271788</td>\n",
       "      <td>-0.299544</td>\n",
       "      <td>-0.304347</td>\n",
       "      <td>-0.301728</td>\n",
       "      <td>-0.317512</td>\n",
       "    </tr>\n",
       "    <tr>\n",
       "      <th>892</th>\n",
       "      <td>-0.435705</td>\n",
       "      <td>0.535230</td>\n",
       "      <td>-0.680962</td>\n",
       "      <td>0.330661</td>\n",
       "      <td>-0.271788</td>\n",
       "      <td>-0.299544</td>\n",
       "      <td>-0.304347</td>\n",
       "      <td>-0.301728</td>\n",
       "      <td>-0.317512</td>\n",
       "    </tr>\n",
       "    <tr>\n",
       "      <th>893</th>\n",
       "      <td>-0.571181</td>\n",
       "      <td>-1.815736</td>\n",
       "      <td>0.072040</td>\n",
       "      <td>-0.516362</td>\n",
       "      <td>-0.271788</td>\n",
       "      <td>-0.299544</td>\n",
       "      <td>-0.304347</td>\n",
       "      <td>-0.301728</td>\n",
       "      <td>-0.317512</td>\n",
       "    </tr>\n",
       "  </tbody>\n",
       "</table>\n",
       "<p>894 rows × 9 columns</p>\n",
       "</div>"
      ],
      "text/plain": [
       "     capacity_mw  latitude  longitude    source  generation_gwh_2014  \\\n",
       "0      -0.601049  1.160481  -0.783338  1.445165            -0.271788   \n",
       "1      -0.397302  0.603122  -0.507043  2.894019            -0.271788   \n",
       "2      -0.522751  0.136292  -1.564287 -0.516362            -0.271788   \n",
       "3      -0.318363  0.457145   2.875459 -0.494072            -0.380526   \n",
       "4       3.233880  0.145506   1.068000 -0.494072             1.053468   \n",
       "..           ...       ...        ...       ...                  ...   \n",
       "889     2.807184 -0.778435   0.047809 -0.494072            -0.271788   \n",
       "890    -0.599982 -1.333201   0.211086  0.731882            -0.271788   \n",
       "891    -0.551979 -0.944635  -0.310751 -0.516362            -0.271788   \n",
       "892    -0.435705  0.535230  -0.680962  0.330661            -0.271788   \n",
       "893    -0.571181 -1.815736   0.072040 -0.516362            -0.271788   \n",
       "\n",
       "     generation_gwh_2015  generation_gwh_2016  generation_gwh_2017  \\\n",
       "0              -0.299544            -0.304347            -0.301728   \n",
       "1              -0.299544            -0.304347            -0.301728   \n",
       "2              -0.299544            -0.304347            -0.301728   \n",
       "3              -0.222690            -0.221676            -0.384684   \n",
       "4               2.718120             2.754618             2.155506   \n",
       "..                   ...                  ...                  ...   \n",
       "889            -0.711268            -0.584147            -0.276216   \n",
       "890            -0.299544            -0.304347            -0.301728   \n",
       "891            -0.299544            -0.304347            -0.301728   \n",
       "892            -0.299544            -0.304347            -0.301728   \n",
       "893            -0.299544            -0.304347            -0.301728   \n",
       "\n",
       "     generation_gwh_2018  \n",
       "0              -0.317512  \n",
       "1              -0.317512  \n",
       "2              -0.317512  \n",
       "3              -0.381179  \n",
       "4               2.996341  \n",
       "..                   ...  \n",
       "889            -0.350585  \n",
       "890            -0.317512  \n",
       "891            -0.317512  \n",
       "892            -0.317512  \n",
       "893            -0.317512  \n",
       "\n",
       "[894 rows x 9 columns]"
      ]
     },
     "execution_count": 85,
     "metadata": {},
     "output_type": "execute_result"
    }
   ],
   "source": [
    "from sklearn.preprocessing import StandardScaler\n",
    "scaler = StandardScaler()\n",
    "x_scaled = pd.DataFrame(scaler.fit_transform(x_new),columns=x_new.columns)\n",
    "x_scaled"
   ]
  },
  {
   "cell_type": "markdown",
   "id": "8f8744a4",
   "metadata": {},
   "source": [
    "## PCA : Principal Component Analysis"
   ]
  },
  {
   "cell_type": "code",
   "execution_count": 86,
   "id": "e8df0d35",
   "metadata": {},
   "outputs": [
    {
     "name": "stdout",
     "output_type": "stream",
     "text": [
      "                     PC1   PC2   PC3   PC4   PC5  PC6   PC7   PC8   PC9\n",
      "Explained_Variance  5.31  1.16  1.02  0.76  0.41  0.2  0.08  0.04  0.02\n"
     ]
    },
    {
     "data": {
      "image/png": "[encoded data removed]",
      "text/plain": [
       "<Figure size 1440x720 with 1 Axes>"
      ]
     },
     "metadata": {},
     "output_type": "display_data"
    }
   ],
   "source": [
    "# Performing PCA\n",
    "from sklearn.decomposition import PCA\n",
    "\n",
    "pca = PCA(random_state = 1)\n",
    "pca.fit(x_scaled)\n",
    "var_exp = pca.explained_variance_ratio_\n",
    "cum_var_exp = np.cumsum(var_exp)\n",
    "var_df = pd.DataFrame(pca.explained_variance_.round(2), index=[\"PC\" + str(i) for i in range(1,10)],\n",
    "                      columns=[\"Explained_Variance\"])\n",
    "print(var_df.T)\n",
    "plt.figure(figsize=(20,10))\n",
    "plt.bar(range(1,len(cum_var_exp)+1), var_exp, align= 'center', label= 'individual variance', color='teal', alpha = 0.8)\n",
    "plt.step(range(1,len(cum_var_exp)+1), cum_var_exp, where = 'mid' , label= 'cumulative variance', color='red')\n",
    "plt.ylabel('Explained variance ratio')\n",
    "plt.xlabel('Principal components')\n",
    "plt.xticks(np.arange(1,len(var_exp)+1,1))\n",
    "plt.legend(loc='center right')\n",
    "plt.show()"
   ]
  },
  {
   "cell_type": "code",
   "execution_count": 87,
   "id": "22319f0b",
   "metadata": {},
   "outputs": [],
   "source": [
    "pca_red = PCA(n_components=7)\n",
    "X_reduced = pca_red.fit_transform(x_scaled)"
   ]
  },
  {
   "cell_type": "markdown",
   "id": "a6c03ab4",
   "metadata": {},
   "source": [
    "As per PCA observation the first 7 components account for about 99% of the total explained variance. The dataset can reduced with 7 components and proceed further."
   ]
  },
  {
   "cell_type": "code",
   "execution_count": 88,
   "id": "79342a33",
   "metadata": {},
   "outputs": [],
   "source": [
    "XC=X_reduced\n",
    "yc=y_new"
   ]
  },
  {
   "cell_type": "code",
   "execution_count": null,
   "id": "206148bb",
   "metadata": {},
   "outputs": [],
   "source": []
  },
  {
   "cell_type": "markdown",
   "id": "3642d97f",
   "metadata": {},
   "source": [
    "## Classification Model Development"
   ]
  },
  {
   "cell_type": "code",
   "execution_count": 89,
   "id": "0fdaa811",
   "metadata": {},
   "outputs": [],
   "source": [
    "#!pip install xgboost"
   ]
  },
  {
   "cell_type": "code",
   "execution_count": 90,
   "id": "056383ce",
   "metadata": {},
   "outputs": [],
   "source": [
    "#import the necessary model algos.\n",
    "\n",
    "#classifiaction\n",
    "from sklearn.linear_model import LogisticRegression, SGDClassifier\n",
    "from sklearn.tree import DecisionTreeClassifier\n",
    "from sklearn.neighbors import KNeighborsClassifier\n",
    "from sklearn.ensemble import RandomForestClassifier\n",
    "from sklearn.svm import SVC\n",
    "from sklearn.ensemble import GradientBoostingClassifier,AdaBoostClassifier\n",
    "from xgboost import XGBClassifier\n",
    "from sklearn.naive_bayes import GaussianNB\n",
    "\n",
    "#model selection\n",
    "from sklearn.model_selection import train_test_split,cross_validate\n",
    "from sklearn.model_selection import KFold\n",
    "from sklearn.model_selection import GridSearchCV\n",
    "\n",
    "#evaluation metrics\n",
    "from sklearn.metrics import accuracy_score, classification_report, confusion_matrix\n",
    "from sklearn.metrics import roc_auc_score, roc_curve, plot_roc_curve"
   ]
  },
  {
   "cell_type": "code",
   "execution_count": 91,
   "id": "7a07bcac",
   "metadata": {},
   "outputs": [],
   "source": [
    "LC = LogisticRegression()\n",
    "DTC = DecisionTreeClassifier()\n",
    "KNNC= KNeighborsClassifier()\n",
    "RFC = RandomForestClassifier()\n",
    "SVc = SVC()\n",
    "GRAC= GradientBoostingClassifier()\n",
    "ADAC= AdaBoostClassifier()\n",
    "GNBC= GaussianNB()\n",
    "SGDC= SGDClassifier()\n",
    "XGBC= XGBClassifier()"
   ]
  },
  {
   "cell_type": "code",
   "execution_count": 93,
   "id": "9048b81e",
   "metadata": {},
   "outputs": [
    {
     "data": {
      "text/html": [
       "<div>\n",
       "<style scoped>\n",
       "    .dataframe tbody tr th:only-of-type {\n",
       "        vertical-align: middle;\n",
       "    }\n",
       "\n",
       "    .dataframe tbody tr th {\n",
       "        vertical-align: top;\n",
       "    }\n",
       "\n",
       "    .dataframe thead th {\n",
       "        text-align: right;\n",
       "    }\n",
       "</style>\n",
       "<table border=\"1\" class=\"dataframe\">\n",
       "  <thead>\n",
       "    <tr style=\"text-align: right;\">\n",
       "      <th></th>\n",
       "      <th>Model Name</th>\n",
       "      <th>Training Score:</th>\n",
       "      <th>Accuracy Score (without tuning)</th>\n",
       "    </tr>\n",
       "  </thead>\n",
       "  <tbody>\n",
       "    <tr>\n",
       "      <th>0</th>\n",
       "      <td>LC=LogisticRegression</td>\n",
       "      <td>63.64</td>\n",
       "      <td>59.22</td>\n",
       "    </tr>\n",
       "    <tr>\n",
       "      <th>1</th>\n",
       "      <td>DTC=DecisionTreeClassifier</td>\n",
       "      <td>100.00</td>\n",
       "      <td>60.34</td>\n",
       "    </tr>\n",
       "    <tr>\n",
       "      <th>2</th>\n",
       "      <td>KNNC=KNeighborsClassifier</td>\n",
       "      <td>78.88</td>\n",
       "      <td>64.25</td>\n",
       "    </tr>\n",
       "    <tr>\n",
       "      <th>3</th>\n",
       "      <td>RFC=RandomForestClassifier</td>\n",
       "      <td>100.00</td>\n",
       "      <td>72.63</td>\n",
       "    </tr>\n",
       "    <tr>\n",
       "      <th>4</th>\n",
       "      <td>SVc=SVC()</td>\n",
       "      <td>68.11</td>\n",
       "      <td>58.66</td>\n",
       "    </tr>\n",
       "    <tr>\n",
       "      <th>5</th>\n",
       "      <td>GRAC=GradientBoostingClassifier</td>\n",
       "      <td>100.00</td>\n",
       "      <td>69.27</td>\n",
       "    </tr>\n",
       "    <tr>\n",
       "      <th>6</th>\n",
       "      <td>ADAC=AdaBoostClassifier</td>\n",
       "      <td>37.62</td>\n",
       "      <td>34.08</td>\n",
       "    </tr>\n",
       "    <tr>\n",
       "      <th>7</th>\n",
       "      <td>GNBC=GaussianNB</td>\n",
       "      <td>58.46</td>\n",
       "      <td>48.60</td>\n",
       "    </tr>\n",
       "    <tr>\n",
       "      <th>8</th>\n",
       "      <td>SGDC=SGDClassifier()</td>\n",
       "      <td>49.37</td>\n",
       "      <td>45.81</td>\n",
       "    </tr>\n",
       "    <tr>\n",
       "      <th>9</th>\n",
       "      <td>XGBC=XGBClassifier()</td>\n",
       "      <td>100.00</td>\n",
       "      <td>74.30</td>\n",
       "    </tr>\n",
       "  </tbody>\n",
       "</table>\n",
       "</div>"
      ],
      "text/plain": [
       "                        Model Name  Training Score:  \\\n",
       "0            LC=LogisticRegression            63.64   \n",
       "1       DTC=DecisionTreeClassifier           100.00   \n",
       "2        KNNC=KNeighborsClassifier            78.88   \n",
       "3       RFC=RandomForestClassifier           100.00   \n",
       "4                        SVc=SVC()            68.11   \n",
       "5  GRAC=GradientBoostingClassifier           100.00   \n",
       "6          ADAC=AdaBoostClassifier            37.62   \n",
       "7                  GNBC=GaussianNB            58.46   \n",
       "8             SGDC=SGDClassifier()            49.37   \n",
       "9             XGBC=XGBClassifier()           100.00   \n",
       "\n",
       "   Accuracy Score (without tuning)  \n",
       "0                            59.22  \n",
       "1                            60.34  \n",
       "2                            64.25  \n",
       "3                            72.63  \n",
       "4                            58.66  \n",
       "5                            69.27  \n",
       "6                            34.08  \n",
       "7                            48.60  \n",
       "8                            45.81  \n",
       "9                            74.30  "
      ]
     },
     "execution_count": 93,
     "metadata": {},
     "output_type": "execute_result"
    }
   ],
   "source": [
    "model=[LogisticRegression(),DecisionTreeClassifier(),KNeighborsClassifier(),RandomForestClassifier(), SVC(),\n",
    "       GradientBoostingClassifier(),AdaBoostClassifier(),GaussianNB(),SGDClassifier(),XGBClassifier()]\n",
    "\n",
    "models=['LC=LogisticRegression','DTC=DecisionTreeClassifier','KNNC=KNeighborsClassifier','RFC=RandomForestClassifier',\n",
    "        'SVc=SVC()','GRAC=GradientBoostingClassifier','ADAC=AdaBoostClassifier','GNBC=GaussianNB', 'SGDC=SGDClassifier()',\n",
    "        'XGBC=XGBClassifier()']\n",
    "\n",
    "acc_result=[]\n",
    "train_result=[]\n",
    "\n",
    "x_train,x_test,y_train,y_test=train_test_split(XC,yc,test_size=0.20,random_state=11)\n",
    "\n",
    "for i in range(len(model)):\n",
    "    clf=model[i]\n",
    "    clf.fit(x_train,y_train)\n",
    "    x_pred=clf.predict(x_train)\n",
    "    y_pred=clf.predict(x_test)\n",
    "    train_result.append(round (accuracy_score(y_train,x_pred)*100,2))\n",
    "    acc_result.append(round (accuracy_score(y_pred,y_test)*100,2))\n",
    "\n",
    "Result_df=pd.DataFrame({'Model Name':models, 'Training Score:':train_result ,'Accuracy Score (without tuning)':acc_result})\n",
    "Result_df"
   ]
  },
  {
   "cell_type": "markdown",
   "id": "808749ae",
   "metadata": {},
   "source": [
    "## 1.1 Logistic Regression:"
   ]
  },
  {
   "cell_type": "code",
   "execution_count": 94,
   "id": "267fd828",
   "metadata": {},
   "outputs": [
    {
     "name": "stdout",
     "output_type": "stream",
     "text": [
      "Index of max vaule of train's accuracy_score at random_state: 427\n",
      "Index of max vaule of test's accuracy_score at random_state: 366\n"
     ]
    }
   ],
   "source": [
    "acc_train=[]\n",
    "acc_test=[]\n",
    "\n",
    "for i in range (0,1000):\n",
    "    x_train, x_test, y_train, y_test = train_test_split(XC, yc, test_size=0.20, random_state=i)\n",
    "    \n",
    "    lc = LogisticRegression()\n",
    "    lc.fit(x_train,y_train)\n",
    "    \n",
    "    x_lc_predict=lc.predict(x_train)\n",
    "    y_lc_predict=lc.predict(x_test)\n",
    "    \n",
    "    acc_train.append(accuracy_score(y_train,x_lc_predict))\n",
    "    acc_test.append(accuracy_score(y_test,y_lc_predict))\n",
    "    \n",
    "\n",
    "acc_train_index= acc_train.index(max(acc_train))    \n",
    "print(\"Index of max vaule of train's accuracy_score at random_state:\",acc_train_index)\n",
    "\n",
    "acc_test_index= acc_test.index(max(acc_test))\n",
    "print(\"Index of max vaule of test's accuracy_score at random_state:\",acc_test_index)\n"
   ]
  },
  {
   "cell_type": "markdown",
   "id": "d1624a0d",
   "metadata": {},
   "source": [
    "Always choose best training score for random_state, because\n",
    "\n",
    "1. if training score >= testing score ==> chance of best fit or undetfit\n",
    "2. if training score << testing score ==> overfit\n",
    "3. if training score >> testing score ==> undetfit"
   ]
  },
  {
   "cell_type": "code",
   "execution_count": 96,
   "id": "bf3c4ddc",
   "metadata": {},
   "outputs": [
    {
     "name": "stdout",
     "output_type": "stream",
     "text": [
      "The training accurancy @ 427 random_state is: 0.6587412587412588\n",
      "The testing accurancy @ 427 ranom_state is: 0.5418994413407822\n",
      "Cross Validation:  0.6129837702871411\n",
      "\n",
      "  \n",
      " Test Classification Report \n",
      "               precision    recall  f1-score   support\n",
      "\n",
      "         0.0       0.29      0.33      0.31         6\n",
      "         1.0       0.68      0.52      0.59        54\n",
      "         2.0       1.00      0.08      0.15        12\n",
      "         3.0       0.54      0.58      0.56        64\n",
      "         5.0       0.00      0.00      0.00         1\n",
      "         6.0       0.62      0.57      0.59        23\n",
      "         7.0       0.39      0.84      0.53        19\n",
      "\n",
      "    accuracy                           0.54       179\n",
      "   macro avg       0.50      0.42      0.39       179\n",
      "weighted avg       0.60      0.54      0.53       179\n",
      "\n",
      "\n",
      " Conconfusion_matrix:\n",
      " [[ 2  2  0  0  0  1  1]\n",
      " [ 2 28  0 18  0  4  2]\n",
      " [ 1  2  1  6  0  2  0]\n",
      " [ 0  7  0 37  0  0 20]\n",
      " [ 0  0  0  0  0  1  0]\n",
      " [ 2  2  0  4  0 13  2]\n",
      " [ 0  0  0  3  0  0 16]]\n"
     ]
    }
   ],
   "source": [
    "kford_cv=KFold(n_splits=10,shuffle=False)\n",
    "x_train, x_test, y_train, y_test = train_test_split(XC, yc, test_size=0.20, random_state=427)\n",
    "    \n",
    "lc.fit(x_train,y_train)\n",
    "x_lc_predict=lc.predict(x_train)\n",
    "y_lc_predict=lc.predict(x_test)\n",
    "lc_cv = cross_val_score(lc,XC,yc,cv=kford_cv, scoring='accuracy')\n",
    "    \n",
    "print (\"The training accurancy @ 427 random_state is:\",accuracy_score(y_train,x_lc_predict))\n",
    "print (\"The testing accurancy @ 427 ranom_state is:\",accuracy_score(y_test,y_lc_predict))\n",
    "print (\"Cross Validation: \", lc_cv.mean())\n",
    "print ('\\n  \\n Test Classification Report \\n', classification_report(y_test,y_lc_predict,digits=2))\n",
    "print (\"\\n Conconfusion_matrix:\\n\",confusion_matrix(y_test,y_lc_predict))"
   ]
  },
  {
   "cell_type": "markdown",
   "id": "e58a9082",
   "metadata": {},
   "source": [
    "## 2.2 Decision Tree:"
   ]
  },
  {
   "cell_type": "code",
   "execution_count": 97,
   "id": "888d7e80",
   "metadata": {},
   "outputs": [
    {
     "data": {
      "text/plain": [
       "GridSearchCV(cv=KFold(n_splits=10, random_state=None, shuffle=False),\n",
       "             estimator=DecisionTreeClassifier(), n_jobs=-1,\n",
       "             param_grid={'criterion': ['gini', 'entropy'],\n",
       "                         'max_depth': range(10, 15),\n",
       "                         'max_features': ['auto', 'sqrt', 'log2'],\n",
       "                         'max_leaf_nodes': range(5, 10),\n",
       "                         'min_samples_leaf': range(2, 6),\n",
       "                         'min_samples_split': range(3, 8),\n",
       "                         'splitter': ['best', 'random']})"
      ]
     },
     "execution_count": 97,
     "metadata": {},
     "output_type": "execute_result"
    }
   ],
   "source": [
    "kfld=KFold(n_splits=10)\n",
    "\n",
    "\n",
    "grid_param = {\n",
    "            'criterion':['gini','entropy'],\n",
    "            'splitter':['best','random'],\n",
    "            'max_features':['auto','sqrt','log2'],\n",
    "            'max_depth': range(10,15), # the max depth of the tree.\n",
    "            'min_samples_leaf': range (2,6), # the max no of samples required to be at a leaf node.\n",
    "            'min_samples_split': range (3,8), # the max no of samples required to split on interval node.\n",
    "            'max_leaf_nodes': range (5,10) # Best nodes are defined as a realtive in impurity. If none then nunlimited no of leaf nodes.\n",
    "}\n",
    "grid_search = GridSearchCV (DTC, param_grid = grid_param, cv=kfld, n_jobs = -1)\n",
    "# n_jobs : Use all the cores in your system. For performance improvement.\n",
    "grid_search.fit(x_train,y_train)"
   ]
  },
  {
   "cell_type": "code",
   "execution_count": 98,
   "id": "8effbae0",
   "metadata": {},
   "outputs": [
    {
     "name": "stdout",
     "output_type": "stream",
     "text": [
      "The training accurancy is: 0.6097902097902098\n",
      "The testing accurancy is: 0.4972067039106145\n",
      "\n",
      "  \n",
      " Test Classification Report \n",
      "               precision    recall  f1-score   support\n",
      "\n",
      "         0.0       0.11      0.17      0.13         6\n",
      "         1.0       0.56      0.37      0.44        54\n",
      "         2.0       0.00      0.00      0.00        12\n",
      "         3.0       0.58      0.64      0.61        64\n",
      "         5.0       0.00      0.00      0.00         1\n",
      "         6.0       0.82      0.39      0.53        23\n",
      "         7.0       0.35      0.95      0.51        19\n",
      "\n",
      "    accuracy                           0.50       179\n",
      "   macro avg       0.34      0.36      0.32       179\n",
      "weighted avg       0.52      0.50      0.48       179\n",
      "\n",
      "\n",
      " Conconfusion_matrix:\n",
      " [[ 1  2  0  0  0  0  3]\n",
      " [ 4 20  0 22  0  1  7]\n",
      " [ 0  4  0  6  0  1  1]\n",
      " [ 0  5  0 41  0  0 18]\n",
      " [ 0  1  0  0  0  0  0]\n",
      " [ 4  4  0  1  0  9  5]\n",
      " [ 0  0  0  1  0  0 18]]\n"
     ]
    }
   ],
   "source": [
    "#Initiate DecisitionTreeClassifier with new parametes and train\n",
    "dtc=grid_search.best_estimator_\n",
    "\n",
    "# Train the model\n",
    "dtc.fit(x_train,y_train)\n",
    "\n",
    "x_dtc_predict=dtc.predict(x_train)\n",
    "y_dtc_predict=dtc.predict(x_test)\n",
    "\n",
    "print (\"The training accurancy is:\",accuracy_score(y_train,x_dtc_predict))\n",
    "print (\"The testing accurancy is:\",accuracy_score(y_test,y_dtc_predict))\n",
    "print ('\\n  \\n Test Classification Report \\n', classification_report(y_test,y_dtc_predict,digits=2))\n",
    "print (\"\\n Conconfusion_matrix:\\n\",confusion_matrix(y_test,y_dtc_predict))"
   ]
  },
  {
   "cell_type": "markdown",
   "id": "4213571b",
   "metadata": {},
   "source": [
    "## 2.3 K-Nearest Neighbour:"
   ]
  },
  {
   "cell_type": "code",
   "execution_count": 99,
   "id": "a03259b1",
   "metadata": {},
   "outputs": [
    {
     "data": {
      "text/plain": [
       "GridSearchCV(estimator=KNeighborsClassifier(),\n",
       "             param_grid={'algorithm': ['kd_tree', 'brute'],\n",
       "                         'leaf_size': [3, 5, 6, 7, 8, 10],\n",
       "                         'n_neighbors': [1, 2, 3, 4, 5, 6, 7, 8, 9],\n",
       "                         'weights': ['uniform', 'distance']})"
      ]
     },
     "execution_count": 99,
     "metadata": {},
     "output_type": "execute_result"
    }
   ],
   "source": [
    "neighbors = [i for i in range(1,10)]\n",
    "parameter_grid = { 'algorithm' : ['kd_tree', 'brute'],\n",
    "                   'weights':['uniform', 'distance'],\n",
    "                   'leaf_size' : [3,5,6,7,8,10],\n",
    "                   'n_neighbors': neighbors}\n",
    "gridsearch = GridSearchCV(KNNC, param_grid=parameter_grid)\n",
    "gridsearch.fit(x_train, y_train)"
   ]
  },
  {
   "cell_type": "code",
   "execution_count": 100,
   "id": "5a4dcd07",
   "metadata": {},
   "outputs": [
    {
     "name": "stdout",
     "output_type": "stream",
     "text": [
      "The training accurancy is: 1.0\n",
      "The testing accurancy is: 0.7039106145251397\n",
      "\n",
      "  \n",
      " Test Classification Report \n",
      "               precision    recall  f1-score   support\n",
      "\n",
      "         0.0       0.50      0.50      0.50         6\n",
      "         1.0       0.71      0.63      0.67        54\n",
      "         2.0       0.56      0.42      0.48        12\n",
      "         3.0       0.78      0.78      0.78        64\n",
      "         5.0       1.00      1.00      1.00         1\n",
      "         6.0       0.76      0.70      0.73        23\n",
      "         7.0       0.57      0.89      0.69        19\n",
      "\n",
      "    accuracy                           0.70       179\n",
      "   macro avg       0.70      0.70      0.69       179\n",
      "weighted avg       0.71      0.70      0.70       179\n",
      "\n",
      "\n",
      " Conconfusion_matrix:\n",
      " [[ 3  1  0  0  0  2  0]\n",
      " [ 2 34  3 10  0  3  2]\n",
      " [ 0  5  5  1  0  0  1]\n",
      " [ 0  5  1 50  0  0  8]\n",
      " [ 0  0  0  0  1  0  0]\n",
      " [ 1  3  0  1  0 16  2]\n",
      " [ 0  0  0  2  0  0 17]]\n"
     ]
    }
   ],
   "source": [
    "#Initiate KNN with new parametes and train\n",
    "knnc=gridsearch.best_estimator_\n",
    "\n",
    "# Train the model\n",
    "knnc.fit(x_train,y_train)\n",
    "\n",
    "x_knnc_predict=knnc.predict(x_train)\n",
    "y_knnc_predict=knnc.predict(x_test)\n",
    "\n",
    "print (\"The training accurancy is:\",accuracy_score(y_train,x_knnc_predict))\n",
    "print (\"The testing accurancy is:\",accuracy_score(y_test,y_knnc_predict))\n",
    "print ('\\n  \\n Test Classification Report \\n', classification_report(y_test,y_knnc_predict,digits=2))\n",
    "print (\"\\n Conconfusion_matrix:\\n\",confusion_matrix(y_test,y_knnc_predict))"
   ]
  },
  {
   "cell_type": "markdown",
   "id": "3556ae56",
   "metadata": {},
   "source": [
    "## 2.4 Random forest:"
   ]
  },
  {
   "cell_type": "code",
   "execution_count": 101,
   "id": "746c1164",
   "metadata": {},
   "outputs": [
    {
     "data": {
      "text/plain": [
       "GridSearchCV(cv=10, estimator=RandomForestClassifier(), n_jobs=-1,\n",
       "             param_grid={'criterion': ['gini', 'entropy'],\n",
       "                         'max_depth': [10, 15, 40], 'min_samples_leaf': [5, 6],\n",
       "                         'min_samples_split': [10, 11],\n",
       "                         'n_estimators': [10, 15, 30, 40, 50]})"
      ]
     },
     "execution_count": 101,
     "metadata": {},
     "output_type": "execute_result"
    }
   ],
   "source": [
    "params = {  'n_estimators' : [10,15,30,40,50],\n",
    "            'criterion':['gini','entropy'],\n",
    "            'max_depth': [10,15,40], # the max depth of the tree.\n",
    "            'min_samples_leaf': [5,6], # the max no of samples required to be at a leaf node.\n",
    "            'min_samples_split': [10,11] # the max no of samples required to split on interval node.\n",
    "            #'max_leaf_nodes': range (5,10) # Best nodes are defined as a realtive in impurity. If none then nunlimited no of leaf nodes.\n",
    "}\n",
    "\n",
    "gridsearch_rf = GridSearchCV(RFC, param_grid=params,cv=10, n_jobs = -1)\n",
    "gridsearch_rf.fit(x_train,y_train)"
   ]
  },
  {
   "cell_type": "code",
   "execution_count": 102,
   "id": "821021ed",
   "metadata": {},
   "outputs": [
    {
     "name": "stdout",
     "output_type": "stream",
     "text": [
      "The training accurancy is: 0.855944055944056\n",
      "The testing accurancy is: 0.6983240223463687\n",
      "\n",
      "  \n",
      " Test Classification Report \n",
      "               precision    recall  f1-score   support\n",
      "\n",
      "         0.0       0.33      0.17      0.22         6\n",
      "         1.0       0.70      0.70      0.70        54\n",
      "         2.0       0.33      0.17      0.22        12\n",
      "         3.0       0.86      0.77      0.81        64\n",
      "         5.0       0.00      0.00      0.00         1\n",
      "         6.0       0.63      0.74      0.68        23\n",
      "         7.0       0.56      0.95      0.71        19\n",
      "\n",
      "    accuracy                           0.70       179\n",
      "   macro avg       0.49      0.50      0.48       179\n",
      "weighted avg       0.69      0.70      0.69       179\n",
      "\n",
      "\n",
      " Conconfusion_matrix:\n",
      " [[ 1  1  0  0  0  3  1]\n",
      " [ 0 38  1  6  0  5  4]\n",
      " [ 1  7  2  1  0  1  0]\n",
      " [ 0  5  3 49  0  0  7]\n",
      " [ 0  0  0  0  0  1  0]\n",
      " [ 1  3  0  0  0 17  2]\n",
      " [ 0  0  0  1  0  0 18]]\n"
     ]
    }
   ],
   "source": [
    "#Initiate RandomForestClassifier with new parametes and train\n",
    "rfc=gridsearch_rf.best_estimator_\n",
    "\n",
    "# Train the model\n",
    "rfc.fit(x_train,y_train)\n",
    "\n",
    "x_rfc_predict=rfc.predict(x_train)\n",
    "y_rfc_predict=rfc.predict(x_test)\n",
    "\n",
    "print (\"The training accurancy is:\",accuracy_score(y_train,x_rfc_predict))\n",
    "print (\"The testing accurancy is:\",accuracy_score(y_test,y_rfc_predict))\n",
    "print ('\\n  \\n Test Classification Report \\n', classification_report(y_test,y_rfc_predict,digits=2))\n",
    "print (\"\\n Conconfusion_matrix:\\n\",confusion_matrix(y_test,y_rfc_predict))"
   ]
  },
  {
   "cell_type": "markdown",
   "id": "d8e211cb",
   "metadata": {},
   "source": [
    "## 2.5 SVC"
   ]
  },
  {
   "cell_type": "code",
   "execution_count": 103,
   "id": "ee27236f",
   "metadata": {},
   "outputs": [
    {
     "name": "stdout",
     "output_type": "stream",
     "text": [
      "The training accurancy is: 0.6853146853146853\n",
      "The testing accurancy is: 0.5921787709497207\n",
      "\n",
      "  \n",
      " Test Classification Report \n",
      "               precision    recall  f1-score   support\n",
      "\n",
      "         0.0       0.23      0.50      0.32         6\n",
      "         1.0       0.71      0.59      0.65        54\n",
      "         2.0       0.50      0.08      0.14        12\n",
      "         3.0       0.72      0.59      0.65        64\n",
      "         5.0       0.00      0.00      0.00         1\n",
      "         6.0       0.72      0.57      0.63        23\n",
      "         7.0       0.40      1.00      0.57        19\n",
      "\n",
      "    accuracy                           0.59       179\n",
      "   macro avg       0.47      0.48      0.42       179\n",
      "weighted avg       0.65      0.59      0.59       179\n",
      "\n",
      "\n",
      " Conconfusion_matrix:\n",
      " [[ 3  1  0  0  0  1  1]\n",
      " [ 4 32  0 11  0  3  4]\n",
      " [ 2  5  1  3  0  1  0]\n",
      " [ 0  6  1 38  0  0 19]\n",
      " [ 1  0  0  0  0  0  0]\n",
      " [ 3  1  0  1  0 13  5]\n",
      " [ 0  0  0  0  0  0 19]]\n"
     ]
    }
   ],
   "source": [
    "#Initiate RandomForestClassifier with new parametes and train\n",
    "svc=SVC(gamma='auto')\n",
    "\n",
    "# Train the model\n",
    "svc.fit(x_train,y_train)\n",
    "\n",
    "x_svc_predict=svc.predict(x_train)\n",
    "y_svc_predict=svc.predict(x_test)\n",
    "\n",
    "print (\"The training accurancy is:\",accuracy_score(y_train,x_svc_predict))\n",
    "print (\"The testing accurancy is:\",accuracy_score(y_test,y_svc_predict))\n",
    "print ('\\n  \\n Test Classification Report \\n', classification_report(y_test,y_svc_predict,digits=2))\n",
    "print (\"\\n Conconfusion_matrix:\\n\",confusion_matrix(y_test,y_svc_predict))"
   ]
  },
  {
   "cell_type": "markdown",
   "id": "b5b428ac",
   "metadata": {},
   "source": [
    "## 2.6 Gradient Boosting Classifier:"
   ]
  },
  {
   "cell_type": "code",
   "execution_count": 104,
   "id": "75795940",
   "metadata": {},
   "outputs": [
    {
     "name": "stdout",
     "output_type": "stream",
     "text": [
      "The training accurancy is: 1.0\n",
      "The testing accurancy is: 0.6871508379888268\n",
      "\n",
      "  \n",
      " Test Classification Report \n",
      "               precision    recall  f1-score   support\n",
      "\n",
      "         0.0       0.33      0.33      0.33         6\n",
      "         1.0       0.64      0.70      0.67        54\n",
      "         2.0       0.44      0.33      0.38        12\n",
      "         3.0       0.83      0.78      0.81        64\n",
      "         5.0       0.00      0.00      0.00         1\n",
      "         6.0       0.64      0.70      0.67        23\n",
      "         7.0       0.65      0.68      0.67        19\n",
      "\n",
      "    accuracy                           0.69       179\n",
      "   macro avg       0.51      0.50      0.50       179\n",
      "weighted avg       0.68      0.69      0.68       179\n",
      "\n",
      "\n",
      " Conconfusion_matrix:\n",
      " [[ 2  2  0  0  0  2  0]\n",
      " [ 2 38  3  6  0  4  1]\n",
      " [ 0  6  4  2  0  0  0]\n",
      " [ 0  6  2 50  0  0  6]\n",
      " [ 0  0  0  0  0  1  0]\n",
      " [ 2  5  0  0  0 16  0]\n",
      " [ 0  2  0  2  0  2 13]]\n"
     ]
    }
   ],
   "source": [
    "#Initiate RandomForestClassifier with new parametes and train\n",
    "grac=GradientBoostingClassifier(learning_rate= 0.1)\n",
    "\n",
    "# Train the model\n",
    "grac.fit(x_train,y_train)\n",
    "\n",
    "x_grac_predict=grac.predict(x_train)\n",
    "y_grac_predict=grac.predict(x_test)\n",
    "\n",
    "print (\"The training accurancy is:\",accuracy_score(y_train,x_grac_predict))\n",
    "print (\"The testing accurancy is:\",accuracy_score(y_test,y_grac_predict))\n",
    "print ('\\n  \\n Test Classification Report \\n', classification_report(y_test,y_grac_predict,digits=2))\n",
    "print (\"\\n Conconfusion_matrix:\\n\",confusion_matrix(y_test,y_grac_predict))"
   ]
  },
  {
   "cell_type": "markdown",
   "id": "814cc7c5",
   "metadata": {},
   "source": [
    "## 2.7 AdaBoost Classifier:"
   ]
  },
  {
   "cell_type": "code",
   "execution_count": 105,
   "id": "134b0128",
   "metadata": {},
   "outputs": [
    {
     "name": "stdout",
     "output_type": "stream",
     "text": [
      "The training accurancy is: 1.0\n",
      "The testing accurancy is: 0.7374301675977654\n",
      "\n",
      "  \n",
      " Test Classification Report \n",
      "               precision    recall  f1-score   support\n",
      "\n",
      "         0.0       0.67      0.67      0.67         6\n",
      "         1.0       0.73      0.76      0.75        54\n",
      "         2.0       0.56      0.42      0.48        12\n",
      "         3.0       0.88      0.77      0.82        64\n",
      "         5.0       1.00      1.00      1.00         1\n",
      "         6.0       0.70      0.70      0.70        23\n",
      "         7.0       0.57      0.84      0.68        19\n",
      "\n",
      "    accuracy                           0.74       179\n",
      "   macro avg       0.73      0.74      0.73       179\n",
      "weighted avg       0.75      0.74      0.74       179\n",
      "\n",
      "\n",
      " Conconfusion_matrix:\n",
      " [[ 4  1  0  0  0  1  0]\n",
      " [ 1 41  0  6  0  3  3]\n",
      " [ 0  6  5  0  0  1  0]\n",
      " [ 0  4  4 49  0  0  7]\n",
      " [ 0  0  0  0  1  0  0]\n",
      " [ 1  3  0  1  0 16  2]\n",
      " [ 0  1  0  0  0  2 16]]\n"
     ]
    }
   ],
   "source": [
    "#Initiate RandomForestClassifier with new parametes and train\n",
    "adac=AdaBoostClassifier(learning_rate= 0.01, base_estimator=RandomForestClassifier())\n",
    "\n",
    "# Train the model\n",
    "adac.fit(x_train,y_train)\n",
    "\n",
    "x_adac_predict=adac.predict(x_train)\n",
    "y_adac_predict=adac.predict(x_test)\n",
    "\n",
    "print (\"The training accurancy is:\",accuracy_score(y_train,x_adac_predict))\n",
    "print (\"The testing accurancy is:\",accuracy_score(y_test,y_adac_predict))\n",
    "print ('\\n  \\n Test Classification Report \\n', classification_report(y_test,y_adac_predict,digits=2))\n",
    "print (\"\\n Conconfusion_matrix:\\n\",confusion_matrix(y_test,y_adac_predict))"
   ]
  },
  {
   "cell_type": "markdown",
   "id": "dbe63994",
   "metadata": {},
   "source": [
    "## 2.8 GaussianNB:"
   ]
  },
  {
   "cell_type": "code",
   "execution_count": 106,
   "id": "e961a90e",
   "metadata": {},
   "outputs": [
    {
     "name": "stdout",
     "output_type": "stream",
     "text": [
      "The training accurancy is: 0.5776223776223777\n",
      "The testing accurancy is: 0.441340782122905\n",
      "\n",
      "  \n",
      " Test Classification Report \n",
      "               precision    recall  f1-score   support\n",
      "\n",
      "         0.0       0.20      0.33      0.25         6\n",
      "         1.0       0.71      0.37      0.49        54\n",
      "         2.0       0.30      0.25      0.27        12\n",
      "         3.0       0.55      0.34      0.42        64\n",
      "         5.0       0.00      0.00      0.00         1\n",
      "         6.0       0.54      0.57      0.55        23\n",
      "         7.0       0.37      1.00      0.54        19\n",
      "\n",
      "    accuracy                           0.44       179\n",
      "   macro avg       0.38      0.41      0.36       179\n",
      "weighted avg       0.55      0.44      0.45       179\n",
      "\n",
      "\n",
      " Conconfusion_matrix:\n",
      " [[ 2  0  0  0  0  2  2]\n",
      " [ 1 20  5 14  2  6  6]\n",
      " [ 2  2  3  3  0  1  1]\n",
      " [ 1  6  2 22 13  2 18]\n",
      " [ 1  0  0  0  0  0  0]\n",
      " [ 3  0  0  1  0 13  6]\n",
      " [ 0  0  0  0  0  0 19]]\n"
     ]
    }
   ],
   "source": [
    "#Initiate RandomForestClassifier with new parametes and train\n",
    "gnbc=GaussianNB()\n",
    "\n",
    "# Train the model\n",
    "gnbc.fit(x_train,y_train)\n",
    "\n",
    "x_gnbc_predict=gnbc.predict(x_train)\n",
    "y_gnbc_predict=gnbc.predict(x_test)\n",
    "\n",
    "print (\"The training accurancy is:\",accuracy_score(y_train,x_gnbc_predict))\n",
    "print (\"The testing accurancy is:\",accuracy_score(y_test,y_gnbc_predict))\n",
    "print ('\\n  \\n Test Classification Report \\n', classification_report(y_test,y_gnbc_predict,digits=2))\n",
    "print (\"\\n Conconfusion_matrix:\\n\",confusion_matrix(y_test,y_gnbc_predict))"
   ]
  },
  {
   "cell_type": "markdown",
   "id": "343a0910",
   "metadata": {},
   "source": [
    "## 2.9 SGDClassifier:"
   ]
  },
  {
   "cell_type": "code",
   "execution_count": 107,
   "id": "58f5c4d1",
   "metadata": {},
   "outputs": [
    {
     "name": "stdout",
     "output_type": "stream",
     "text": [
      "The training accurancy is: 0.6335664335664336\n",
      "The testing accurancy is: 0.5418994413407822\n",
      "\n",
      "  \n",
      " Test Classification Report \n",
      "               precision    recall  f1-score   support\n",
      "\n",
      "         0.0       0.40      0.33      0.36         6\n",
      "         1.0       0.65      0.52      0.58        54\n",
      "         2.0       0.20      0.08      0.12        12\n",
      "         3.0       0.58      0.56      0.57        64\n",
      "         5.0       0.00      0.00      0.00         1\n",
      "         6.0       0.59      0.57      0.58        23\n",
      "         7.0       0.40      0.89      0.56        19\n",
      "\n",
      "    accuracy                           0.54       179\n",
      "   macro avg       0.40      0.42      0.40       179\n",
      "weighted avg       0.55      0.54      0.53       179\n",
      "\n",
      "\n",
      " Conconfusion_matrix:\n",
      " [[ 2  2  1  0  0  1  0]\n",
      " [ 1 28  2 15  0  5  3]\n",
      " [ 0  3  1  6  0  2  0]\n",
      " [ 0  7  1 36  0  1 19]\n",
      " [ 0  1  0  0  0  0  0]\n",
      " [ 2  2  0  3  0 13  3]\n",
      " [ 0  0  0  2  0  0 17]]\n"
     ]
    }
   ],
   "source": [
    "#Initiate RandomForestClassifier with new parametes and train\n",
    "sgdc=SGDClassifier(alpha=0.001)\n",
    "\n",
    "# Train the model\n",
    "sgdc.fit(x_train,y_train)\n",
    "\n",
    "x_sgdc_predict=sgdc.predict(x_train)\n",
    "y_sgdc_predict=sgdc.predict(x_test)\n",
    "\n",
    "print (\"The training accurancy is:\",accuracy_score(y_train,x_sgdc_predict))\n",
    "print (\"The testing accurancy is:\",accuracy_score(y_test,y_sgdc_predict))\n",
    "print ('\\n  \\n Test Classification Report \\n', classification_report(y_test,y_sgdc_predict,digits=2))\n",
    "print (\"\\n Conconfusion_matrix:\\n\",confusion_matrix(y_test,y_sgdc_predict))"
   ]
  },
  {
   "cell_type": "markdown",
   "id": "9ae23c0d",
   "metadata": {},
   "source": [
    "## 2.10 XGBClassifier:"
   ]
  },
  {
   "cell_type": "code",
   "execution_count": 108,
   "id": "d4cb5ecf",
   "metadata": {},
   "outputs": [
    {
     "name": "stdout",
     "output_type": "stream",
     "text": [
      "The training accurancy is: 1.0\n",
      "The testing accurancy is: 0.664804469273743\n",
      "\n",
      "  \n",
      " Test Classification Report \n",
      "               precision    recall  f1-score   support\n",
      "\n",
      "         0.0       0.25      0.17      0.20         6\n",
      "         1.0       0.62      0.69      0.65        54\n",
      "         2.0       0.25      0.17      0.20        12\n",
      "         3.0       0.87      0.70      0.78        64\n",
      "         4.0       0.00      0.00      0.00         0\n",
      "         5.0       0.00      0.00      0.00         1\n",
      "         6.0       0.61      0.83      0.70        23\n",
      "         7.0       0.65      0.79      0.71        19\n",
      "\n",
      "    accuracy                           0.66       179\n",
      "   macro avg       0.41      0.42      0.41       179\n",
      "weighted avg       0.67      0.66      0.66       179\n",
      "\n",
      "\n",
      " Conconfusion_matrix:\n",
      " [[ 1  2  0  0  0  0  3  0]\n",
      " [ 2 37  2  4  1  0  5  3]\n",
      " [ 0  9  2  1  0  0  0  0]\n",
      " [ 0  7  4 45  0  0  3  5]\n",
      " [ 0  0  0  0  0  0  0  0]\n",
      " [ 0  1  0  0  0  0  0  0]\n",
      " [ 1  2  0  1  0  0 19  0]\n",
      " [ 0  2  0  1  0  0  1 15]]\n"
     ]
    }
   ],
   "source": [
    "#Initiate RandomForestClassifier with new parametes and train\n",
    "xgbc=XGBClassifier(n_estimators = 10, learning_rate = 1.5)\n",
    "\n",
    "# Train the model\n",
    "xgbc.fit(x_train,y_train)\n",
    "\n",
    "x_xgbc_predict=xgbc.predict(x_train)\n",
    "y_xgbc_predict=xgbc.predict(x_test)\n",
    "\n",
    "print (\"The training accurancy is:\",accuracy_score(y_train,x_xgbc_predict))\n",
    "print (\"The testing accurancy is:\",accuracy_score(y_test,y_xgbc_predict))\n",
    "print ('\\n  \\n Test Classification Report \\n', classification_report(y_test,y_xgbc_predict,digits=2))\n",
    "print (\"\\n Conconfusion_matrix:\\n\",confusion_matrix(y_test,y_xgbc_predict))"
   ]
  },
  {
   "cell_type": "code",
   "execution_count": 109,
   "id": "c75454a5",
   "metadata": {},
   "outputs": [
    {
     "data": {
      "text/html": [
       "<div>\n",
       "<style scoped>\n",
       "    .dataframe tbody tr th:only-of-type {\n",
       "        vertical-align: middle;\n",
       "    }\n",
       "\n",
       "    .dataframe tbody tr th {\n",
       "        vertical-align: top;\n",
       "    }\n",
       "\n",
       "    .dataframe thead th {\n",
       "        text-align: right;\n",
       "    }\n",
       "</style>\n",
       "<table border=\"1\" class=\"dataframe\">\n",
       "  <thead>\n",
       "    <tr style=\"text-align: right;\">\n",
       "      <th></th>\n",
       "      <th>Classifier</th>\n",
       "      <th>Accuracy Score (with tuning)</th>\n",
       "    </tr>\n",
       "  </thead>\n",
       "  <tbody>\n",
       "    <tr>\n",
       "      <th>0</th>\n",
       "      <td>lc= LogisticRegression()</td>\n",
       "      <td>54.19</td>\n",
       "    </tr>\n",
       "    <tr>\n",
       "      <th>1</th>\n",
       "      <td>dtc = DecisionTreeClassifier()</td>\n",
       "      <td>49.72</td>\n",
       "    </tr>\n",
       "    <tr>\n",
       "      <th>2</th>\n",
       "      <td>knnc = KNeighborsClassifier()</td>\n",
       "      <td>70.39</td>\n",
       "    </tr>\n",
       "    <tr>\n",
       "      <th>3</th>\n",
       "      <td>rfc = RandomForestClassifier()</td>\n",
       "      <td>69.83</td>\n",
       "    </tr>\n",
       "    <tr>\n",
       "      <th>4</th>\n",
       "      <td>svc=SVC()</td>\n",
       "      <td>59.22</td>\n",
       "    </tr>\n",
       "    <tr>\n",
       "      <th>5</th>\n",
       "      <td>grac = GradientBoostingClassifier()</td>\n",
       "      <td>68.72</td>\n",
       "    </tr>\n",
       "    <tr>\n",
       "      <th>6</th>\n",
       "      <td>adac=AdaBoostClassifier</td>\n",
       "      <td>73.74</td>\n",
       "    </tr>\n",
       "    <tr>\n",
       "      <th>7</th>\n",
       "      <td>gnbc=GaussianNB</td>\n",
       "      <td>44.13</td>\n",
       "    </tr>\n",
       "    <tr>\n",
       "      <th>8</th>\n",
       "      <td>sgdc=SGDClassifier()</td>\n",
       "      <td>54.19</td>\n",
       "    </tr>\n",
       "    <tr>\n",
       "      <th>9</th>\n",
       "      <td>xgbc=XGBClassifier()</td>\n",
       "      <td>66.48</td>\n",
       "    </tr>\n",
       "  </tbody>\n",
       "</table>\n",
       "</div>"
      ],
      "text/plain": [
       "                            Classifier  Accuracy Score (with tuning)\n",
       "0             lc= LogisticRegression()                         54.19\n",
       "1       dtc = DecisionTreeClassifier()                         49.72\n",
       "2        knnc = KNeighborsClassifier()                         70.39\n",
       "3       rfc = RandomForestClassifier()                         69.83\n",
       "4                            svc=SVC()                         59.22\n",
       "5  grac = GradientBoostingClassifier()                         68.72\n",
       "6              adac=AdaBoostClassifier                         73.74\n",
       "7                      gnbc=GaussianNB                         44.13\n",
       "8                 sgdc=SGDClassifier()                         54.19\n",
       "9                 xgbc=XGBClassifier()                         66.48"
      ]
     },
     "execution_count": 109,
     "metadata": {},
     "output_type": "execute_result"
    }
   ],
   "source": [
    "Acc_Score_tun =[round (accuracy_score(y_test,y_lc_predict)*100,2),\n",
    "                round (accuracy_score(y_test,y_dtc_predict)*100,2),\n",
    "                round (accuracy_score(y_test,y_knnc_predict)*100,2),\n",
    "                round (accuracy_score(y_test,y_rfc_predict)*100,2),\n",
    "                round (accuracy_score(y_test,y_svc_predict)*100,2),\n",
    "                round (accuracy_score(y_test,y_grac_predict)*100,2),\n",
    "                round (accuracy_score(y_test,y_adac_predict)*100,2),\n",
    "                round (accuracy_score(y_test,y_gnbc_predict)*100,2),\n",
    "                round (accuracy_score(y_test,y_sgdc_predict)*100,2),\n",
    "                round (accuracy_score(y_test,y_xgbc_predict)*100,2)]\n",
    "GPP_Fuel_Type = pd.DataFrame({'Classifier':['lc= LogisticRegression()', 'dtc = DecisionTreeClassifier()',\n",
    "                                 'knnc = KNeighborsClassifier()','rfc = RandomForestClassifier()','svc=SVC()',\n",
    "                                 'grac = GradientBoostingClassifier()', 'adac=AdaBoostClassifier','gnbc=GaussianNB', \n",
    "                                  'sgdc=SGDClassifier()', 'xgbc=XGBClassifier()'], \n",
    "                                 \n",
    "                                'Accuracy Score (with tuning)':Acc_Score_tun})\n",
    "GPP_Fuel_Type"
   ]
  },
  {
   "cell_type": "code",
   "execution_count": 110,
   "id": "ae115f38",
   "metadata": {},
   "outputs": [
    {
     "data": {
      "text/html": [
       "<div>\n",
       "<style scoped>\n",
       "    .dataframe tbody tr th:only-of-type {\n",
       "        vertical-align: middle;\n",
       "    }\n",
       "\n",
       "    .dataframe tbody tr th {\n",
       "        vertical-align: top;\n",
       "    }\n",
       "\n",
       "    .dataframe thead th {\n",
       "        text-align: right;\n",
       "    }\n",
       "</style>\n",
       "<table border=\"1\" class=\"dataframe\">\n",
       "  <thead>\n",
       "    <tr style=\"text-align: right;\">\n",
       "      <th></th>\n",
       "      <th>Model Name</th>\n",
       "      <th>Training Score:</th>\n",
       "      <th>Accuracy Score (without tuning)</th>\n",
       "      <th>Classifier</th>\n",
       "      <th>Accuracy Score (with tuning)</th>\n",
       "    </tr>\n",
       "  </thead>\n",
       "  <tbody>\n",
       "    <tr>\n",
       "      <th>0</th>\n",
       "      <td>LC=LogisticRegression</td>\n",
       "      <td>63.64</td>\n",
       "      <td>59.22</td>\n",
       "      <td>lc= LogisticRegression()</td>\n",
       "      <td>54.19</td>\n",
       "    </tr>\n",
       "    <tr>\n",
       "      <th>1</th>\n",
       "      <td>DTC=DecisionTreeClassifier</td>\n",
       "      <td>100.00</td>\n",
       "      <td>60.34</td>\n",
       "      <td>dtc = DecisionTreeClassifier()</td>\n",
       "      <td>49.72</td>\n",
       "    </tr>\n",
       "    <tr>\n",
       "      <th>2</th>\n",
       "      <td>KNNC=KNeighborsClassifier</td>\n",
       "      <td>78.88</td>\n",
       "      <td>64.25</td>\n",
       "      <td>knnc = KNeighborsClassifier()</td>\n",
       "      <td>70.39</td>\n",
       "    </tr>\n",
       "    <tr>\n",
       "      <th>3</th>\n",
       "      <td>RFC=RandomForestClassifier</td>\n",
       "      <td>100.00</td>\n",
       "      <td>72.63</td>\n",
       "      <td>rfc = RandomForestClassifier()</td>\n",
       "      <td>69.83</td>\n",
       "    </tr>\n",
       "    <tr>\n",
       "      <th>4</th>\n",
       "      <td>SVc=SVC()</td>\n",
       "      <td>68.11</td>\n",
       "      <td>58.66</td>\n",
       "      <td>svc=SVC()</td>\n",
       "      <td>59.22</td>\n",
       "    </tr>\n",
       "    <tr>\n",
       "      <th>5</th>\n",
       "      <td>GRAC=GradientBoostingClassifier</td>\n",
       "      <td>100.00</td>\n",
       "      <td>69.27</td>\n",
       "      <td>grac = GradientBoostingClassifier()</td>\n",
       "      <td>68.72</td>\n",
       "    </tr>\n",
       "    <tr>\n",
       "      <th>6</th>\n",
       "      <td>ADAC=AdaBoostClassifier</td>\n",
       "      <td>37.62</td>\n",
       "      <td>34.08</td>\n",
       "      <td>adac=AdaBoostClassifier</td>\n",
       "      <td>73.74</td>\n",
       "    </tr>\n",
       "    <tr>\n",
       "      <th>7</th>\n",
       "      <td>GNBC=GaussianNB</td>\n",
       "      <td>58.46</td>\n",
       "      <td>48.60</td>\n",
       "      <td>gnbc=GaussianNB</td>\n",
       "      <td>44.13</td>\n",
       "    </tr>\n",
       "    <tr>\n",
       "      <th>8</th>\n",
       "      <td>SGDC=SGDClassifier()</td>\n",
       "      <td>49.37</td>\n",
       "      <td>45.81</td>\n",
       "      <td>sgdc=SGDClassifier()</td>\n",
       "      <td>54.19</td>\n",
       "    </tr>\n",
       "    <tr>\n",
       "      <th>9</th>\n",
       "      <td>XGBC=XGBClassifier()</td>\n",
       "      <td>100.00</td>\n",
       "      <td>74.30</td>\n",
       "      <td>xgbc=XGBClassifier()</td>\n",
       "      <td>66.48</td>\n",
       "    </tr>\n",
       "  </tbody>\n",
       "</table>\n",
       "</div>"
      ],
      "text/plain": [
       "                        Model Name  Training Score:  \\\n",
       "0            LC=LogisticRegression            63.64   \n",
       "1       DTC=DecisionTreeClassifier           100.00   \n",
       "2        KNNC=KNeighborsClassifier            78.88   \n",
       "3       RFC=RandomForestClassifier           100.00   \n",
       "4                        SVc=SVC()            68.11   \n",
       "5  GRAC=GradientBoostingClassifier           100.00   \n",
       "6          ADAC=AdaBoostClassifier            37.62   \n",
       "7                  GNBC=GaussianNB            58.46   \n",
       "8             SGDC=SGDClassifier()            49.37   \n",
       "9             XGBC=XGBClassifier()           100.00   \n",
       "\n",
       "   Accuracy Score (without tuning)                           Classifier  \\\n",
       "0                            59.22             lc= LogisticRegression()   \n",
       "1                            60.34       dtc = DecisionTreeClassifier()   \n",
       "2                            64.25        knnc = KNeighborsClassifier()   \n",
       "3                            72.63       rfc = RandomForestClassifier()   \n",
       "4                            58.66                            svc=SVC()   \n",
       "5                            69.27  grac = GradientBoostingClassifier()   \n",
       "6                            34.08              adac=AdaBoostClassifier   \n",
       "7                            48.60                      gnbc=GaussianNB   \n",
       "8                            45.81                 sgdc=SGDClassifier()   \n",
       "9                            74.30                 xgbc=XGBClassifier()   \n",
       "\n",
       "   Accuracy Score (with tuning)  \n",
       "0                         54.19  \n",
       "1                         49.72  \n",
       "2                         70.39  \n",
       "3                         69.83  \n",
       "4                         59.22  \n",
       "5                         68.72  \n",
       "6                         73.74  \n",
       "7                         44.13  \n",
       "8                         54.19  \n",
       "9                         66.48  "
      ]
     },
     "execution_count": 110,
     "metadata": {},
     "output_type": "execute_result"
    }
   ],
   "source": [
    "GLOBAL_POWER_PLANT_FUELTYPE= pd.concat([Result_df,GPP_Fuel_Type],axis=1)\n",
    "GLOBAL_POWER_PLANT_FUELTYPE"
   ]
  },
  {
   "cell_type": "markdown",
   "id": "13938eb6",
   "metadata": {},
   "source": [
    "# We are gettig high model accuracy: 74.30% with XGBClassifier model without tuning, which shows model is performing exremely well, so we can save this model.\n",
    "# Save the model using pickle"
   ]
  },
  {
   "cell_type": "code",
   "execution_count": 111,
   "id": "fb3901a7",
   "metadata": {},
   "outputs": [],
   "source": [
    "pickle.dump(XGBC,open('Global_Power_Plant-ClassificationModel_Fuel_Type','wb'))"
   ]
  },
  {
   "cell_type": "code",
   "execution_count": null,
   "id": "bb851c01",
   "metadata": {},
   "outputs": [],
   "source": []
  }
 ],
 "metadata": {
  "kernelspec": {
   "display_name": "Python 3 (ipykernel)",
   "language": "python",
   "name": "python3"
  },
  "language_info": {
   "codemirror_mode": {
    "name": "ipython",
    "version": 3
   },
   "file_extension": ".py",
   "mimetype": "text/x-python",
   "name": "python",
   "nbconvert_exporter": "python",
   "pygments_lexer": "ipython3",
   "version": "3.9.12"
  }
 },
 "nbformat": 4,
 "nbformat_minor": 5
}
