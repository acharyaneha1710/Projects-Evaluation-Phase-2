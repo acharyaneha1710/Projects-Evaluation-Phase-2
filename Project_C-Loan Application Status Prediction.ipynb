{
 "cells": [
  {
   "cell_type": "markdown",
   "id": "af57a793",
   "metadata": {},
   "source": [
    "# Loan Application Status Prediction\n",
    "\n",
    "## Project Description\n",
    "\n",
    "This dataset includes details of applicants who have applied for loan. The dataset includes details like credit history, loan amount, their income, dependents etc. \n"
   ]
  },
  {
   "cell_type": "markdown",
   "id": "30fba9bd",
   "metadata": {},
   "source": [
    "# Features:\n",
    "\n",
    "Loan_ID, Gender, Married, Dependents, Education, Self_Employed, ApplicantIncome, CoapplicantIncome, Loan_Amount, Loan_Amount_Term,\n",
    "Credit History, Property_Area\n",
    "\n",
    "## Target:\n",
    "\n",
    "Loan_Status"
   ]
  },
  {
   "cell_type": "code",
   "execution_count": 1,
   "id": "8a2ab7da",
   "metadata": {},
   "outputs": [],
   "source": [
    "import pandas as pd\n",
    "import numpy as np\n",
    "\n",
    "import matplotlib.pyplot as plt\n",
    "import seaborn as sns\n",
    "%matplotlib inline\n",
    "\n",
    "import warnings\n",
    "warnings.filterwarnings('ignore')"
   ]
  },
  {
   "cell_type": "code",
   "execution_count": 2,
   "id": "86847b20",
   "metadata": {},
   "outputs": [
    {
     "data": {
      "text/html": [
       "<div>\n",
       "<style scoped>\n",
       "    .dataframe tbody tr th:only-of-type {\n",
       "        vertical-align: middle;\n",
       "    }\n",
       "\n",
       "    .dataframe tbody tr th {\n",
       "        vertical-align: top;\n",
       "    }\n",
       "\n",
       "    .dataframe thead th {\n",
       "        text-align: right;\n",
       "    }\n",
       "</style>\n",
       "<table border=\"1\" class=\"dataframe\">\n",
       "  <thead>\n",
       "    <tr style=\"text-align: right;\">\n",
       "      <th></th>\n",
       "      <th>Loan_ID</th>\n",
       "      <th>Gender</th>\n",
       "      <th>Married</th>\n",
       "      <th>Dependents</th>\n",
       "      <th>Education</th>\n",
       "      <th>Self_Employed</th>\n",
       "      <th>ApplicantIncome</th>\n",
       "      <th>CoapplicantIncome</th>\n",
       "      <th>LoanAmount</th>\n",
       "      <th>Loan_Amount_Term</th>\n",
       "      <th>Credit_History</th>\n",
       "      <th>Property_Area</th>\n",
       "      <th>Loan_Status</th>\n",
       "    </tr>\n",
       "  </thead>\n",
       "  <tbody>\n",
       "    <tr>\n",
       "      <th>0</th>\n",
       "      <td>LP001002</td>\n",
       "      <td>Male</td>\n",
       "      <td>No</td>\n",
       "      <td>0</td>\n",
       "      <td>Graduate</td>\n",
       "      <td>No</td>\n",
       "      <td>5849</td>\n",
       "      <td>0.0</td>\n",
       "      <td>NaN</td>\n",
       "      <td>360.0</td>\n",
       "      <td>1.0</td>\n",
       "      <td>Urban</td>\n",
       "      <td>Y</td>\n",
       "    </tr>\n",
       "    <tr>\n",
       "      <th>1</th>\n",
       "      <td>LP001003</td>\n",
       "      <td>Male</td>\n",
       "      <td>Yes</td>\n",
       "      <td>1</td>\n",
       "      <td>Graduate</td>\n",
       "      <td>No</td>\n",
       "      <td>4583</td>\n",
       "      <td>1508.0</td>\n",
       "      <td>128.0</td>\n",
       "      <td>360.0</td>\n",
       "      <td>1.0</td>\n",
       "      <td>Rural</td>\n",
       "      <td>N</td>\n",
       "    </tr>\n",
       "    <tr>\n",
       "      <th>2</th>\n",
       "      <td>LP001005</td>\n",
       "      <td>Male</td>\n",
       "      <td>Yes</td>\n",
       "      <td>0</td>\n",
       "      <td>Graduate</td>\n",
       "      <td>Yes</td>\n",
       "      <td>3000</td>\n",
       "      <td>0.0</td>\n",
       "      <td>66.0</td>\n",
       "      <td>360.0</td>\n",
       "      <td>1.0</td>\n",
       "      <td>Urban</td>\n",
       "      <td>Y</td>\n",
       "    </tr>\n",
       "    <tr>\n",
       "      <th>3</th>\n",
       "      <td>LP001006</td>\n",
       "      <td>Male</td>\n",
       "      <td>Yes</td>\n",
       "      <td>0</td>\n",
       "      <td>Not Graduate</td>\n",
       "      <td>No</td>\n",
       "      <td>2583</td>\n",
       "      <td>2358.0</td>\n",
       "      <td>120.0</td>\n",
       "      <td>360.0</td>\n",
       "      <td>1.0</td>\n",
       "      <td>Urban</td>\n",
       "      <td>Y</td>\n",
       "    </tr>\n",
       "    <tr>\n",
       "      <th>4</th>\n",
       "      <td>LP001008</td>\n",
       "      <td>Male</td>\n",
       "      <td>No</td>\n",
       "      <td>0</td>\n",
       "      <td>Graduate</td>\n",
       "      <td>No</td>\n",
       "      <td>6000</td>\n",
       "      <td>0.0</td>\n",
       "      <td>141.0</td>\n",
       "      <td>360.0</td>\n",
       "      <td>1.0</td>\n",
       "      <td>Urban</td>\n",
       "      <td>Y</td>\n",
       "    </tr>\n",
       "    <tr>\n",
       "      <th>...</th>\n",
       "      <td>...</td>\n",
       "      <td>...</td>\n",
       "      <td>...</td>\n",
       "      <td>...</td>\n",
       "      <td>...</td>\n",
       "      <td>...</td>\n",
       "      <td>...</td>\n",
       "      <td>...</td>\n",
       "      <td>...</td>\n",
       "      <td>...</td>\n",
       "      <td>...</td>\n",
       "      <td>...</td>\n",
       "      <td>...</td>\n",
       "    </tr>\n",
       "    <tr>\n",
       "      <th>609</th>\n",
       "      <td>LP002978</td>\n",
       "      <td>Female</td>\n",
       "      <td>No</td>\n",
       "      <td>0</td>\n",
       "      <td>Graduate</td>\n",
       "      <td>No</td>\n",
       "      <td>2900</td>\n",
       "      <td>0.0</td>\n",
       "      <td>71.0</td>\n",
       "      <td>360.0</td>\n",
       "      <td>1.0</td>\n",
       "      <td>Rural</td>\n",
       "      <td>Y</td>\n",
       "    </tr>\n",
       "    <tr>\n",
       "      <th>610</th>\n",
       "      <td>LP002979</td>\n",
       "      <td>Male</td>\n",
       "      <td>Yes</td>\n",
       "      <td>3+</td>\n",
       "      <td>Graduate</td>\n",
       "      <td>No</td>\n",
       "      <td>4106</td>\n",
       "      <td>0.0</td>\n",
       "      <td>40.0</td>\n",
       "      <td>180.0</td>\n",
       "      <td>1.0</td>\n",
       "      <td>Rural</td>\n",
       "      <td>Y</td>\n",
       "    </tr>\n",
       "    <tr>\n",
       "      <th>611</th>\n",
       "      <td>LP002983</td>\n",
       "      <td>Male</td>\n",
       "      <td>Yes</td>\n",
       "      <td>1</td>\n",
       "      <td>Graduate</td>\n",
       "      <td>No</td>\n",
       "      <td>8072</td>\n",
       "      <td>240.0</td>\n",
       "      <td>253.0</td>\n",
       "      <td>360.0</td>\n",
       "      <td>1.0</td>\n",
       "      <td>Urban</td>\n",
       "      <td>Y</td>\n",
       "    </tr>\n",
       "    <tr>\n",
       "      <th>612</th>\n",
       "      <td>LP002984</td>\n",
       "      <td>Male</td>\n",
       "      <td>Yes</td>\n",
       "      <td>2</td>\n",
       "      <td>Graduate</td>\n",
       "      <td>No</td>\n",
       "      <td>7583</td>\n",
       "      <td>0.0</td>\n",
       "      <td>187.0</td>\n",
       "      <td>360.0</td>\n",
       "      <td>1.0</td>\n",
       "      <td>Urban</td>\n",
       "      <td>Y</td>\n",
       "    </tr>\n",
       "    <tr>\n",
       "      <th>613</th>\n",
       "      <td>LP002990</td>\n",
       "      <td>Female</td>\n",
       "      <td>No</td>\n",
       "      <td>0</td>\n",
       "      <td>Graduate</td>\n",
       "      <td>Yes</td>\n",
       "      <td>4583</td>\n",
       "      <td>0.0</td>\n",
       "      <td>133.0</td>\n",
       "      <td>360.0</td>\n",
       "      <td>0.0</td>\n",
       "      <td>Semiurban</td>\n",
       "      <td>N</td>\n",
       "    </tr>\n",
       "  </tbody>\n",
       "</table>\n",
       "<p>614 rows × 13 columns</p>\n",
       "</div>"
      ],
      "text/plain": [
       "      Loan_ID  Gender Married Dependents     Education Self_Employed  \\\n",
       "0    LP001002    Male      No          0      Graduate            No   \n",
       "1    LP001003    Male     Yes          1      Graduate            No   \n",
       "2    LP001005    Male     Yes          0      Graduate           Yes   \n",
       "3    LP001006    Male     Yes          0  Not Graduate            No   \n",
       "4    LP001008    Male      No          0      Graduate            No   \n",
       "..        ...     ...     ...        ...           ...           ...   \n",
       "609  LP002978  Female      No          0      Graduate            No   \n",
       "610  LP002979    Male     Yes         3+      Graduate            No   \n",
       "611  LP002983    Male     Yes          1      Graduate            No   \n",
       "612  LP002984    Male     Yes          2      Graduate            No   \n",
       "613  LP002990  Female      No          0      Graduate           Yes   \n",
       "\n",
       "     ApplicantIncome  CoapplicantIncome  LoanAmount  Loan_Amount_Term  \\\n",
       "0               5849                0.0         NaN             360.0   \n",
       "1               4583             1508.0       128.0             360.0   \n",
       "2               3000                0.0        66.0             360.0   \n",
       "3               2583             2358.0       120.0             360.0   \n",
       "4               6000                0.0       141.0             360.0   \n",
       "..               ...                ...         ...               ...   \n",
       "609             2900                0.0        71.0             360.0   \n",
       "610             4106                0.0        40.0             180.0   \n",
       "611             8072              240.0       253.0             360.0   \n",
       "612             7583                0.0       187.0             360.0   \n",
       "613             4583                0.0       133.0             360.0   \n",
       "\n",
       "     Credit_History Property_Area Loan_Status  \n",
       "0               1.0         Urban           Y  \n",
       "1               1.0         Rural           N  \n",
       "2               1.0         Urban           Y  \n",
       "3               1.0         Urban           Y  \n",
       "4               1.0         Urban           Y  \n",
       "..              ...           ...         ...  \n",
       "609             1.0         Rural           Y  \n",
       "610             1.0         Rural           Y  \n",
       "611             1.0         Urban           Y  \n",
       "612             1.0         Urban           Y  \n",
       "613             0.0     Semiurban           N  \n",
       "\n",
       "[614 rows x 13 columns]"
      ]
     },
     "execution_count": 2,
     "metadata": {},
     "output_type": "execute_result"
    }
   ],
   "source": [
    "df=pd.read_csv('loan_prediction.csv')\n",
    "df"
   ]
  },
  {
   "cell_type": "code",
   "execution_count": 3,
   "id": "b54220fb",
   "metadata": {},
   "outputs": [
    {
     "data": {
      "text/plain": [
       "Loan_ID               0\n",
       "Gender               13\n",
       "Married               3\n",
       "Dependents           15\n",
       "Education             0\n",
       "Self_Employed        32\n",
       "ApplicantIncome       0\n",
       "CoapplicantIncome     0\n",
       "LoanAmount           22\n",
       "Loan_Amount_Term     14\n",
       "Credit_History       50\n",
       "Property_Area         0\n",
       "Loan_Status           0\n",
       "dtype: int64"
      ]
     },
     "execution_count": 3,
     "metadata": {},
     "output_type": "execute_result"
    }
   ],
   "source": [
    "df.isnull().sum()"
   ]
  },
  {
   "cell_type": "code",
   "execution_count": 4,
   "id": "0955137e",
   "metadata": {},
   "outputs": [
    {
     "name": "stdout",
     "output_type": "stream",
     "text": [
      "<class 'pandas.core.frame.DataFrame'>\n",
      "RangeIndex: 614 entries, 0 to 613\n",
      "Data columns (total 13 columns):\n",
      " #   Column             Non-Null Count  Dtype  \n",
      "---  ------             --------------  -----  \n",
      " 0   Loan_ID            614 non-null    object \n",
      " 1   Gender             601 non-null    object \n",
      " 2   Married            611 non-null    object \n",
      " 3   Dependents         599 non-null    object \n",
      " 4   Education          614 non-null    object \n",
      " 5   Self_Employed      582 non-null    object \n",
      " 6   ApplicantIncome    614 non-null    int64  \n",
      " 7   CoapplicantIncome  614 non-null    float64\n",
      " 8   LoanAmount         592 non-null    float64\n",
      " 9   Loan_Amount_Term   600 non-null    float64\n",
      " 10  Credit_History     564 non-null    float64\n",
      " 11  Property_Area      614 non-null    object \n",
      " 12  Loan_Status        614 non-null    object \n",
      "dtypes: float64(4), int64(1), object(8)\n",
      "memory usage: 62.5+ KB\n"
     ]
    }
   ],
   "source": [
    "df.info()"
   ]
  },
  {
   "cell_type": "markdown",
   "id": "69abb5df",
   "metadata": {},
   "source": [
    "As per observation:\n",
    "\n",
    "1. The dataset has 614 rows and 13 columns.\n",
    "2. Many null values in Gender, Married, Dependents, Self_Employed, Loan_Amount, Loan_Amount_Term, Credit History columns.\n",
    "3. 'Loan_ID' column is unwanted column,which has no any corelation with target, now drop it."
   ]
  },
  {
   "cell_type": "code",
   "execution_count": 5,
   "id": "45a73edd",
   "metadata": {},
   "outputs": [],
   "source": [
    "df.drop(columns='Loan_ID',inplace=True)"
   ]
  },
  {
   "cell_type": "code",
   "execution_count": 6,
   "id": "73791b69",
   "metadata": {},
   "outputs": [],
   "source": [
    "df.drop_duplicates(inplace=True)"
   ]
  },
  {
   "cell_type": "markdown",
   "id": "e090fe65",
   "metadata": {},
   "source": [
    "# Now Seperate Object and Numeric (Int, Float) datatype for future process."
   ]
  },
  {
   "cell_type": "code",
   "execution_count": 7,
   "id": "d978533a",
   "metadata": {},
   "outputs": [
    {
     "name": "stdout",
     "output_type": "stream",
     "text": [
      "5\n"
     ]
    },
    {
     "data": {
      "text/plain": [
       "['ApplicantIncome',\n",
       " 'CoapplicantIncome',\n",
       " 'LoanAmount',\n",
       " 'Loan_Amount_Term',\n",
       " 'Credit_History']"
      ]
     },
     "execution_count": 7,
     "metadata": {},
     "output_type": "execute_result"
    }
   ],
   "source": [
    "numeric_datatypes=[]\n",
    "for i in df.dtypes.index:\n",
    "    if df.dtypes[i]!='object':\n",
    "        numeric_datatypes.append(i)\n",
    "print(len(numeric_datatypes))\n",
    "numeric_datatypes"
   ]
  },
  {
   "cell_type": "code",
   "execution_count": 8,
   "id": "c9d61f79",
   "metadata": {},
   "outputs": [
    {
     "name": "stdout",
     "output_type": "stream",
     "text": [
      "7\n"
     ]
    },
    {
     "data": {
      "text/plain": [
       "['Gender',\n",
       " 'Married',\n",
       " 'Dependents',\n",
       " 'Education',\n",
       " 'Self_Employed',\n",
       " 'Property_Area',\n",
       " 'Loan_Status']"
      ]
     },
     "execution_count": 8,
     "metadata": {},
     "output_type": "execute_result"
    }
   ],
   "source": [
    "object_datatypes=[]\n",
    "for i in df.dtypes.index:\n",
    "    if df.dtypes[i]=='object':\n",
    "        object_datatypes.append(i)\n",
    "print(len(object_datatypes))\n",
    "object_datatypes  "
   ]
  },
  {
   "cell_type": "markdown",
   "id": "a8068047",
   "metadata": {},
   "source": [
    "# Since the dataset has a lot of string vales. We will use the encoding techniques to convert the sring data to numerical data."
   ]
  },
  {
   "cell_type": "code",
   "execution_count": 9,
   "id": "c1b777e6",
   "metadata": {},
   "outputs": [
    {
     "name": "stdout",
     "output_type": "stream",
     "text": [
      "Gender ['Male' 'Female' nan] 2 \n",
      "\n",
      "Married ['No' 'Yes' nan] 2 \n",
      "\n",
      "Dependents ['0' '1' '2' '3+' nan] 4 \n",
      "\n",
      "Education ['Graduate' 'Not Graduate'] 2 \n",
      "\n",
      "Self_Employed ['No' 'Yes' nan] 2 \n",
      "\n",
      "Property_Area ['Urban' 'Rural' 'Semiurban'] 3 \n",
      "\n",
      "Loan_Status ['Y' 'N'] 2 \n",
      "\n"
     ]
    }
   ],
   "source": [
    "for i in df.columns:\n",
    "    if df[i].dtypes == 'object':\n",
    "        val=df[i].unique()\n",
    "        nval=df[i].nunique()\n",
    "        print(i , val , nval , \"\\n\")"
   ]
  },
  {
   "cell_type": "markdown",
   "id": "cfd7f994",
   "metadata": {},
   "source": [
    "# Handle the Null values with different techniques"
   ]
  },
  {
   "cell_type": "code",
   "execution_count": 10,
   "id": "e40b8745",
   "metadata": {},
   "outputs": [],
   "source": [
    "df.Gender = df.Gender.fillna(df.Gender.mode().iloc[0]) # 0 or ‘index’ : get mode of Gender column"
   ]
  },
  {
   "cell_type": "code",
   "execution_count": 11,
   "id": "b269b70e",
   "metadata": {},
   "outputs": [],
   "source": [
    "df.Married = df.Married.fillna(df.Married.mode().iloc[0])"
   ]
  },
  {
   "cell_type": "code",
   "execution_count": 12,
   "id": "9046bc91",
   "metadata": {},
   "outputs": [
    {
     "data": {
      "text/html": [
       "<div>\n",
       "<style scoped>\n",
       "    .dataframe tbody tr th:only-of-type {\n",
       "        vertical-align: middle;\n",
       "    }\n",
       "\n",
       "    .dataframe tbody tr th {\n",
       "        vertical-align: top;\n",
       "    }\n",
       "\n",
       "    .dataframe thead th {\n",
       "        text-align: right;\n",
       "    }\n",
       "</style>\n",
       "<table border=\"1\" class=\"dataframe\">\n",
       "  <thead>\n",
       "    <tr style=\"text-align: right;\">\n",
       "      <th></th>\n",
       "      <th>Gender</th>\n",
       "      <th>Married</th>\n",
       "      <th>Dependents</th>\n",
       "      <th>Education</th>\n",
       "      <th>Self_Employed</th>\n",
       "      <th>ApplicantIncome</th>\n",
       "      <th>CoapplicantIncome</th>\n",
       "      <th>LoanAmount</th>\n",
       "      <th>Loan_Amount_Term</th>\n",
       "      <th>Credit_History</th>\n",
       "      <th>Property_Area</th>\n",
       "      <th>Loan_Status</th>\n",
       "    </tr>\n",
       "  </thead>\n",
       "  <tbody>\n",
       "    <tr>\n",
       "      <th>0</th>\n",
       "      <td>Male</td>\n",
       "      <td>No</td>\n",
       "      <td>0</td>\n",
       "      <td>Graduate</td>\n",
       "      <td>No</td>\n",
       "      <td>5849</td>\n",
       "      <td>0.0</td>\n",
       "      <td>NaN</td>\n",
       "      <td>360.0</td>\n",
       "      <td>1.0</td>\n",
       "      <td>Urban</td>\n",
       "      <td>Y</td>\n",
       "    </tr>\n",
       "    <tr>\n",
       "      <th>1</th>\n",
       "      <td>Male</td>\n",
       "      <td>Yes</td>\n",
       "      <td>1</td>\n",
       "      <td>Graduate</td>\n",
       "      <td>No</td>\n",
       "      <td>4583</td>\n",
       "      <td>1508.0</td>\n",
       "      <td>128.0</td>\n",
       "      <td>360.0</td>\n",
       "      <td>1.0</td>\n",
       "      <td>Rural</td>\n",
       "      <td>N</td>\n",
       "    </tr>\n",
       "    <tr>\n",
       "      <th>2</th>\n",
       "      <td>Male</td>\n",
       "      <td>Yes</td>\n",
       "      <td>0</td>\n",
       "      <td>Graduate</td>\n",
       "      <td>Yes</td>\n",
       "      <td>3000</td>\n",
       "      <td>0.0</td>\n",
       "      <td>66.0</td>\n",
       "      <td>360.0</td>\n",
       "      <td>1.0</td>\n",
       "      <td>Urban</td>\n",
       "      <td>Y</td>\n",
       "    </tr>\n",
       "    <tr>\n",
       "      <th>3</th>\n",
       "      <td>Male</td>\n",
       "      <td>Yes</td>\n",
       "      <td>0</td>\n",
       "      <td>Not Graduate</td>\n",
       "      <td>No</td>\n",
       "      <td>2583</td>\n",
       "      <td>2358.0</td>\n",
       "      <td>120.0</td>\n",
       "      <td>360.0</td>\n",
       "      <td>1.0</td>\n",
       "      <td>Urban</td>\n",
       "      <td>Y</td>\n",
       "    </tr>\n",
       "    <tr>\n",
       "      <th>4</th>\n",
       "      <td>Male</td>\n",
       "      <td>No</td>\n",
       "      <td>0</td>\n",
       "      <td>Graduate</td>\n",
       "      <td>No</td>\n",
       "      <td>6000</td>\n",
       "      <td>0.0</td>\n",
       "      <td>141.0</td>\n",
       "      <td>360.0</td>\n",
       "      <td>1.0</td>\n",
       "      <td>Urban</td>\n",
       "      <td>Y</td>\n",
       "    </tr>\n",
       "    <tr>\n",
       "      <th>...</th>\n",
       "      <td>...</td>\n",
       "      <td>...</td>\n",
       "      <td>...</td>\n",
       "      <td>...</td>\n",
       "      <td>...</td>\n",
       "      <td>...</td>\n",
       "      <td>...</td>\n",
       "      <td>...</td>\n",
       "      <td>...</td>\n",
       "      <td>...</td>\n",
       "      <td>...</td>\n",
       "      <td>...</td>\n",
       "    </tr>\n",
       "    <tr>\n",
       "      <th>609</th>\n",
       "      <td>Female</td>\n",
       "      <td>No</td>\n",
       "      <td>0</td>\n",
       "      <td>Graduate</td>\n",
       "      <td>No</td>\n",
       "      <td>2900</td>\n",
       "      <td>0.0</td>\n",
       "      <td>71.0</td>\n",
       "      <td>360.0</td>\n",
       "      <td>1.0</td>\n",
       "      <td>Rural</td>\n",
       "      <td>Y</td>\n",
       "    </tr>\n",
       "    <tr>\n",
       "      <th>610</th>\n",
       "      <td>Male</td>\n",
       "      <td>Yes</td>\n",
       "      <td>3+</td>\n",
       "      <td>Graduate</td>\n",
       "      <td>No</td>\n",
       "      <td>4106</td>\n",
       "      <td>0.0</td>\n",
       "      <td>40.0</td>\n",
       "      <td>180.0</td>\n",
       "      <td>1.0</td>\n",
       "      <td>Rural</td>\n",
       "      <td>Y</td>\n",
       "    </tr>\n",
       "    <tr>\n",
       "      <th>611</th>\n",
       "      <td>Male</td>\n",
       "      <td>Yes</td>\n",
       "      <td>1</td>\n",
       "      <td>Graduate</td>\n",
       "      <td>No</td>\n",
       "      <td>8072</td>\n",
       "      <td>240.0</td>\n",
       "      <td>253.0</td>\n",
       "      <td>360.0</td>\n",
       "      <td>1.0</td>\n",
       "      <td>Urban</td>\n",
       "      <td>Y</td>\n",
       "    </tr>\n",
       "    <tr>\n",
       "      <th>612</th>\n",
       "      <td>Male</td>\n",
       "      <td>Yes</td>\n",
       "      <td>2</td>\n",
       "      <td>Graduate</td>\n",
       "      <td>No</td>\n",
       "      <td>7583</td>\n",
       "      <td>0.0</td>\n",
       "      <td>187.0</td>\n",
       "      <td>360.0</td>\n",
       "      <td>1.0</td>\n",
       "      <td>Urban</td>\n",
       "      <td>Y</td>\n",
       "    </tr>\n",
       "    <tr>\n",
       "      <th>613</th>\n",
       "      <td>Female</td>\n",
       "      <td>No</td>\n",
       "      <td>0</td>\n",
       "      <td>Graduate</td>\n",
       "      <td>Yes</td>\n",
       "      <td>4583</td>\n",
       "      <td>0.0</td>\n",
       "      <td>133.0</td>\n",
       "      <td>360.0</td>\n",
       "      <td>0.0</td>\n",
       "      <td>Semiurban</td>\n",
       "      <td>N</td>\n",
       "    </tr>\n",
       "  </tbody>\n",
       "</table>\n",
       "<p>614 rows × 12 columns</p>\n",
       "</div>"
      ],
      "text/plain": [
       "     Gender Married Dependents     Education Self_Employed  ApplicantIncome  \\\n",
       "0      Male      No          0      Graduate            No             5849   \n",
       "1      Male     Yes          1      Graduate            No             4583   \n",
       "2      Male     Yes          0      Graduate           Yes             3000   \n",
       "3      Male     Yes          0  Not Graduate            No             2583   \n",
       "4      Male      No          0      Graduate            No             6000   \n",
       "..      ...     ...        ...           ...           ...              ...   \n",
       "609  Female      No          0      Graduate            No             2900   \n",
       "610    Male     Yes         3+      Graduate            No             4106   \n",
       "611    Male     Yes          1      Graduate            No             8072   \n",
       "612    Male     Yes          2      Graduate            No             7583   \n",
       "613  Female      No          0      Graduate           Yes             4583   \n",
       "\n",
       "     CoapplicantIncome  LoanAmount  Loan_Amount_Term  Credit_History  \\\n",
       "0                  0.0         NaN             360.0             1.0   \n",
       "1               1508.0       128.0             360.0             1.0   \n",
       "2                  0.0        66.0             360.0             1.0   \n",
       "3               2358.0       120.0             360.0             1.0   \n",
       "4                  0.0       141.0             360.0             1.0   \n",
       "..                 ...         ...               ...             ...   \n",
       "609                0.0        71.0             360.0             1.0   \n",
       "610                0.0        40.0             180.0             1.0   \n",
       "611              240.0       253.0             360.0             1.0   \n",
       "612                0.0       187.0             360.0             1.0   \n",
       "613                0.0       133.0             360.0             0.0   \n",
       "\n",
       "    Property_Area Loan_Status  \n",
       "0           Urban           Y  \n",
       "1           Rural           N  \n",
       "2           Urban           Y  \n",
       "3           Urban           Y  \n",
       "4           Urban           Y  \n",
       "..            ...         ...  \n",
       "609         Rural           Y  \n",
       "610         Rural           Y  \n",
       "611         Urban           Y  \n",
       "612         Urban           Y  \n",
       "613     Semiurban           N  \n",
       "\n",
       "[614 rows x 12 columns]"
      ]
     },
     "execution_count": 12,
     "metadata": {},
     "output_type": "execute_result"
    }
   ],
   "source": [
    "df"
   ]
  },
  {
   "cell_type": "code",
   "execution_count": 13,
   "id": "59fd1ea7",
   "metadata": {},
   "outputs": [
    {
     "data": {
      "text/html": [
       "<div>\n",
       "<style scoped>\n",
       "    .dataframe tbody tr th:only-of-type {\n",
       "        vertical-align: middle;\n",
       "    }\n",
       "\n",
       "    .dataframe tbody tr th {\n",
       "        vertical-align: top;\n",
       "    }\n",
       "\n",
       "    .dataframe thead th {\n",
       "        text-align: right;\n",
       "    }\n",
       "</style>\n",
       "<table border=\"1\" class=\"dataframe\">\n",
       "  <thead>\n",
       "    <tr style=\"text-align: right;\">\n",
       "      <th></th>\n",
       "      <th>Gender</th>\n",
       "      <th>Married</th>\n",
       "      <th>Dependents</th>\n",
       "      <th>Education</th>\n",
       "      <th>Self_Employed</th>\n",
       "      <th>ApplicantIncome</th>\n",
       "      <th>CoapplicantIncome</th>\n",
       "      <th>LoanAmount</th>\n",
       "      <th>Loan_Amount_Term</th>\n",
       "      <th>Credit_History</th>\n",
       "      <th>Property_Area</th>\n",
       "      <th>Loan_Status</th>\n",
       "    </tr>\n",
       "  </thead>\n",
       "  <tbody>\n",
       "    <tr>\n",
       "      <th>0</th>\n",
       "      <td>1.0</td>\n",
       "      <td>0.0</td>\n",
       "      <td>0.0</td>\n",
       "      <td>0.0</td>\n",
       "      <td>0.0</td>\n",
       "      <td>5849</td>\n",
       "      <td>0.0</td>\n",
       "      <td>NaN</td>\n",
       "      <td>360.0</td>\n",
       "      <td>1.0</td>\n",
       "      <td>2.0</td>\n",
       "      <td>1.0</td>\n",
       "    </tr>\n",
       "    <tr>\n",
       "      <th>1</th>\n",
       "      <td>1.0</td>\n",
       "      <td>1.0</td>\n",
       "      <td>1.0</td>\n",
       "      <td>0.0</td>\n",
       "      <td>0.0</td>\n",
       "      <td>4583</td>\n",
       "      <td>1508.0</td>\n",
       "      <td>128.0</td>\n",
       "      <td>360.0</td>\n",
       "      <td>1.0</td>\n",
       "      <td>0.0</td>\n",
       "      <td>0.0</td>\n",
       "    </tr>\n",
       "    <tr>\n",
       "      <th>2</th>\n",
       "      <td>1.0</td>\n",
       "      <td>1.0</td>\n",
       "      <td>0.0</td>\n",
       "      <td>0.0</td>\n",
       "      <td>1.0</td>\n",
       "      <td>3000</td>\n",
       "      <td>0.0</td>\n",
       "      <td>66.0</td>\n",
       "      <td>360.0</td>\n",
       "      <td>1.0</td>\n",
       "      <td>2.0</td>\n",
       "      <td>1.0</td>\n",
       "    </tr>\n",
       "    <tr>\n",
       "      <th>3</th>\n",
       "      <td>1.0</td>\n",
       "      <td>1.0</td>\n",
       "      <td>0.0</td>\n",
       "      <td>1.0</td>\n",
       "      <td>0.0</td>\n",
       "      <td>2583</td>\n",
       "      <td>2358.0</td>\n",
       "      <td>120.0</td>\n",
       "      <td>360.0</td>\n",
       "      <td>1.0</td>\n",
       "      <td>2.0</td>\n",
       "      <td>1.0</td>\n",
       "    </tr>\n",
       "    <tr>\n",
       "      <th>4</th>\n",
       "      <td>1.0</td>\n",
       "      <td>0.0</td>\n",
       "      <td>0.0</td>\n",
       "      <td>0.0</td>\n",
       "      <td>0.0</td>\n",
       "      <td>6000</td>\n",
       "      <td>0.0</td>\n",
       "      <td>141.0</td>\n",
       "      <td>360.0</td>\n",
       "      <td>1.0</td>\n",
       "      <td>2.0</td>\n",
       "      <td>1.0</td>\n",
       "    </tr>\n",
       "    <tr>\n",
       "      <th>...</th>\n",
       "      <td>...</td>\n",
       "      <td>...</td>\n",
       "      <td>...</td>\n",
       "      <td>...</td>\n",
       "      <td>...</td>\n",
       "      <td>...</td>\n",
       "      <td>...</td>\n",
       "      <td>...</td>\n",
       "      <td>...</td>\n",
       "      <td>...</td>\n",
       "      <td>...</td>\n",
       "      <td>...</td>\n",
       "    </tr>\n",
       "    <tr>\n",
       "      <th>609</th>\n",
       "      <td>0.0</td>\n",
       "      <td>0.0</td>\n",
       "      <td>0.0</td>\n",
       "      <td>0.0</td>\n",
       "      <td>0.0</td>\n",
       "      <td>2900</td>\n",
       "      <td>0.0</td>\n",
       "      <td>71.0</td>\n",
       "      <td>360.0</td>\n",
       "      <td>1.0</td>\n",
       "      <td>0.0</td>\n",
       "      <td>1.0</td>\n",
       "    </tr>\n",
       "    <tr>\n",
       "      <th>610</th>\n",
       "      <td>1.0</td>\n",
       "      <td>1.0</td>\n",
       "      <td>3.0</td>\n",
       "      <td>0.0</td>\n",
       "      <td>0.0</td>\n",
       "      <td>4106</td>\n",
       "      <td>0.0</td>\n",
       "      <td>40.0</td>\n",
       "      <td>180.0</td>\n",
       "      <td>1.0</td>\n",
       "      <td>0.0</td>\n",
       "      <td>1.0</td>\n",
       "    </tr>\n",
       "    <tr>\n",
       "      <th>611</th>\n",
       "      <td>1.0</td>\n",
       "      <td>1.0</td>\n",
       "      <td>1.0</td>\n",
       "      <td>0.0</td>\n",
       "      <td>0.0</td>\n",
       "      <td>8072</td>\n",
       "      <td>240.0</td>\n",
       "      <td>253.0</td>\n",
       "      <td>360.0</td>\n",
       "      <td>1.0</td>\n",
       "      <td>2.0</td>\n",
       "      <td>1.0</td>\n",
       "    </tr>\n",
       "    <tr>\n",
       "      <th>612</th>\n",
       "      <td>1.0</td>\n",
       "      <td>1.0</td>\n",
       "      <td>2.0</td>\n",
       "      <td>0.0</td>\n",
       "      <td>0.0</td>\n",
       "      <td>7583</td>\n",
       "      <td>0.0</td>\n",
       "      <td>187.0</td>\n",
       "      <td>360.0</td>\n",
       "      <td>1.0</td>\n",
       "      <td>2.0</td>\n",
       "      <td>1.0</td>\n",
       "    </tr>\n",
       "    <tr>\n",
       "      <th>613</th>\n",
       "      <td>0.0</td>\n",
       "      <td>0.0</td>\n",
       "      <td>0.0</td>\n",
       "      <td>0.0</td>\n",
       "      <td>1.0</td>\n",
       "      <td>4583</td>\n",
       "      <td>0.0</td>\n",
       "      <td>133.0</td>\n",
       "      <td>360.0</td>\n",
       "      <td>0.0</td>\n",
       "      <td>1.0</td>\n",
       "      <td>0.0</td>\n",
       "    </tr>\n",
       "  </tbody>\n",
       "</table>\n",
       "<p>614 rows × 12 columns</p>\n",
       "</div>"
      ],
      "text/plain": [
       "     Gender  Married  Dependents  Education  Self_Employed  ApplicantIncome  \\\n",
       "0       1.0      0.0         0.0        0.0            0.0             5849   \n",
       "1       1.0      1.0         1.0        0.0            0.0             4583   \n",
       "2       1.0      1.0         0.0        0.0            1.0             3000   \n",
       "3       1.0      1.0         0.0        1.0            0.0             2583   \n",
       "4       1.0      0.0         0.0        0.0            0.0             6000   \n",
       "..      ...      ...         ...        ...            ...              ...   \n",
       "609     0.0      0.0         0.0        0.0            0.0             2900   \n",
       "610     1.0      1.0         3.0        0.0            0.0             4106   \n",
       "611     1.0      1.0         1.0        0.0            0.0             8072   \n",
       "612     1.0      1.0         2.0        0.0            0.0             7583   \n",
       "613     0.0      0.0         0.0        0.0            1.0             4583   \n",
       "\n",
       "     CoapplicantIncome  LoanAmount  Loan_Amount_Term  Credit_History  \\\n",
       "0                  0.0         NaN             360.0             1.0   \n",
       "1               1508.0       128.0             360.0             1.0   \n",
       "2                  0.0        66.0             360.0             1.0   \n",
       "3               2358.0       120.0             360.0             1.0   \n",
       "4                  0.0       141.0             360.0             1.0   \n",
       "..                 ...         ...               ...             ...   \n",
       "609                0.0        71.0             360.0             1.0   \n",
       "610                0.0        40.0             180.0             1.0   \n",
       "611              240.0       253.0             360.0             1.0   \n",
       "612                0.0       187.0             360.0             1.0   \n",
       "613                0.0       133.0             360.0             0.0   \n",
       "\n",
       "     Property_Area  Loan_Status  \n",
       "0              2.0          1.0  \n",
       "1              0.0          0.0  \n",
       "2              2.0          1.0  \n",
       "3              2.0          1.0  \n",
       "4              2.0          1.0  \n",
       "..             ...          ...  \n",
       "609            0.0          1.0  \n",
       "610            0.0          1.0  \n",
       "611            2.0          1.0  \n",
       "612            2.0          1.0  \n",
       "613            1.0          0.0  \n",
       "\n",
       "[614 rows x 12 columns]"
      ]
     },
     "execution_count": 13,
     "metadata": {},
     "output_type": "execute_result"
    }
   ],
   "source": [
    "from sklearn.preprocessing import OrdinalEncoder\n",
    "enc = OrdinalEncoder()\n",
    "\n",
    "for i in df.columns:\n",
    "    if df[i].dtypes == 'object':\n",
    "        df[i]= enc.fit_transform(df[i].values.reshape(-1,1))\n",
    "        \n",
    "df"
   ]
  },
  {
   "cell_type": "markdown",
   "id": "c5e496af",
   "metadata": {},
   "source": [
    "## Handle the Null values in object columns with KNN Imputer techniques"
   ]
  },
  {
   "cell_type": "code",
   "execution_count": 14,
   "id": "8367c063",
   "metadata": {},
   "outputs": [],
   "source": [
    "#KNN Imputer will try to find the relation with other columns and impute the data according the related nearest neighbors.\n",
    "\n",
    "from sklearn.impute import KNNImputer\n",
    "\n",
    "knnimp = KNNImputer(n_neighbors=2)\n",
    "df.Dependents = knnimp.fit_transform(df[['Married','Dependents']])\n",
    "df.Self_Employed = knnimp.fit_transform(df[['Education','Self_Employed']])"
   ]
  },
  {
   "cell_type": "markdown",
   "id": "5501019a",
   "metadata": {},
   "source": [
    "## Handle the Null values in numeric columns using Interative Imputer Technique"
   ]
  },
  {
   "cell_type": "code",
   "execution_count": 15,
   "id": "671effe8",
   "metadata": {},
   "outputs": [],
   "source": [
    "#This method treat other columns (which does not have nulls) as features and train on them. Whereas treat null column as label.\n",
    "#Finally it will predict the NAN data & impute it, its just like regression problem.\n",
    "\n",
    "# Before importing Iterative Imputer, we need to enable it using below code\n",
    "from sklearn.experimental import enable_iterative_imputer\n",
    "\n",
    "from sklearn.impute import IterativeImputer"
   ]
  },
  {
   "cell_type": "code",
   "execution_count": 16,
   "id": "405989a3",
   "metadata": {},
   "outputs": [],
   "source": [
    "iterimp = IterativeImputer()\n",
    "df.LoanAmount = df.LoanAmount.fillna(df.LoanAmount.median())"
   ]
  },
  {
   "cell_type": "code",
   "execution_count": 17,
   "id": "bcbca59f",
   "metadata": {},
   "outputs": [],
   "source": [
    "df.Loan_Amount_Term = iterimp.fit_transform(df[['LoanAmount','Loan_Amount_Term']])"
   ]
  },
  {
   "cell_type": "code",
   "execution_count": 18,
   "id": "075bb61a",
   "metadata": {},
   "outputs": [],
   "source": [
    "df.Credit_History = df.Credit_History.fillna(df.Credit_History.median())"
   ]
  },
  {
   "cell_type": "code",
   "execution_count": 19,
   "id": "b278a93e",
   "metadata": {},
   "outputs": [
    {
     "name": "stdout",
     "output_type": "stream",
     "text": [
      "<class 'pandas.core.frame.DataFrame'>\n",
      "Int64Index: 614 entries, 0 to 613\n",
      "Data columns (total 12 columns):\n",
      " #   Column             Non-Null Count  Dtype  \n",
      "---  ------             --------------  -----  \n",
      " 0   Gender             614 non-null    float64\n",
      " 1   Married            614 non-null    float64\n",
      " 2   Dependents         614 non-null    float64\n",
      " 3   Education          614 non-null    float64\n",
      " 4   Self_Employed      614 non-null    float64\n",
      " 5   ApplicantIncome    614 non-null    int64  \n",
      " 6   CoapplicantIncome  614 non-null    float64\n",
      " 7   LoanAmount         614 non-null    float64\n",
      " 8   Loan_Amount_Term   614 non-null    float64\n",
      " 9   Credit_History     614 non-null    float64\n",
      " 10  Property_Area      614 non-null    float64\n",
      " 11  Loan_Status        614 non-null    float64\n",
      "dtypes: float64(11), int64(1)\n",
      "memory usage: 62.4 KB\n"
     ]
    }
   ],
   "source": [
    "df.info()"
   ]
  },
  {
   "cell_type": "markdown",
   "id": "860dd705",
   "metadata": {},
   "source": [
    "As per observation,\n",
    "1. Now all colunms in int or float types only.\n",
    "2. No any null values in dataset."
   ]
  },
  {
   "cell_type": "markdown",
   "id": "4996febf",
   "metadata": {},
   "source": [
    "# Data Visualization"
   ]
  },
  {
   "cell_type": "code",
   "execution_count": 20,
   "id": "2bd46d45",
   "metadata": {},
   "outputs": [
    {
     "data": {
      "image/png": "[encoded data removed]",
      "text/plain": [
       "<Figure size 1440x2520 with 12 Axes>"
      ]
     },
     "metadata": {
      "needs_background": "light"
     },
     "output_type": "display_data"
    }
   ],
   "source": [
    "plt.figure (figsize=(20,35))\n",
    "plotnumber = 1\n",
    "\n",
    "for column in df:\n",
    "    if plotnumber<=12:\n",
    "        ax=plt.subplot(4,3,plotnumber)\n",
    "        sns.distplot(df[column])\n",
    "        plt.xlabel(column,fontsize=20)          \n",
    "    plotnumber+=1\n",
    "                     \n",
    "plt.show()"
   ]
  },
  {
   "cell_type": "markdown",
   "id": "e97d8d4e",
   "metadata": {},
   "source": [
    "As per observation,\n",
    "1. ApplicantIncome, CoapplicantIncome, LoanAmount, Loan_Amount_Term, Credit_History have skewed data.\n",
    "2. Just ignore other columns becoze they are categorical columns.\n",
    "3. Now check outlier in ApplicantIncome, CoapplicantIncome, LoanAmount, Loan_Amount_Term, Credit_History columns."
   ]
  },
  {
   "cell_type": "code",
   "execution_count": 21,
   "id": "f29dd8da",
   "metadata": {},
   "outputs": [
    {
     "data": {
      "image/png": "[encoded data removed]",
      "text/plain": [
       "<Figure size 1440x2520 with 5 Axes>"
      ]
     },
     "metadata": {
      "needs_background": "light"
     },
     "output_type": "display_data"
    }
   ],
   "source": [
    "plt.figure (figsize=(20,35))\n",
    "plotnumber = 1\n",
    "\n",
    "for column in numeric_datatypes:\n",
    "    if plotnumber<=12:\n",
    "        ax=plt.subplot(4,3,plotnumber)\n",
    "        sns.boxplot(df[column])\n",
    "        plt.xlabel(column,fontsize=15)          \n",
    "    plotnumber+=1\n",
    "        \n",
    "plt.show()"
   ]
  },
  {
   "cell_type": "code",
   "execution_count": 22,
   "id": "5fe36ffc",
   "metadata": {},
   "outputs": [
    {
     "data": {
      "text/html": [
       "<div>\n",
       "<style scoped>\n",
       "    .dataframe tbody tr th:only-of-type {\n",
       "        vertical-align: middle;\n",
       "    }\n",
       "\n",
       "    .dataframe tbody tr th {\n",
       "        vertical-align: top;\n",
       "    }\n",
       "\n",
       "    .dataframe thead th {\n",
       "        text-align: right;\n",
       "    }\n",
       "</style>\n",
       "<table border=\"1\" class=\"dataframe\">\n",
       "  <thead>\n",
       "    <tr style=\"text-align: right;\">\n",
       "      <th></th>\n",
       "      <th>Gender</th>\n",
       "      <th>Married</th>\n",
       "      <th>Dependents</th>\n",
       "      <th>Education</th>\n",
       "      <th>Self_Employed</th>\n",
       "      <th>ApplicantIncome</th>\n",
       "      <th>CoapplicantIncome</th>\n",
       "      <th>LoanAmount</th>\n",
       "      <th>Loan_Amount_Term</th>\n",
       "      <th>Credit_History</th>\n",
       "      <th>Property_Area</th>\n",
       "      <th>Loan_Status</th>\n",
       "    </tr>\n",
       "  </thead>\n",
       "  <tbody>\n",
       "    <tr>\n",
       "      <th>count</th>\n",
       "      <td>614.000000</td>\n",
       "      <td>614.000000</td>\n",
       "      <td>614.000000</td>\n",
       "      <td>614.000000</td>\n",
       "      <td>614.000000</td>\n",
       "      <td>614.000000</td>\n",
       "      <td>614.000000</td>\n",
       "      <td>614.000000</td>\n",
       "      <td>614.000000</td>\n",
       "      <td>614.000000</td>\n",
       "      <td>614.000000</td>\n",
       "      <td>614.000000</td>\n",
       "    </tr>\n",
       "    <tr>\n",
       "      <th>mean</th>\n",
       "      <td>0.817590</td>\n",
       "      <td>0.653094</td>\n",
       "      <td>0.653094</td>\n",
       "      <td>0.218241</td>\n",
       "      <td>0.218241</td>\n",
       "      <td>5403.459283</td>\n",
       "      <td>1621.245798</td>\n",
       "      <td>145.752443</td>\n",
       "      <td>145.752443</td>\n",
       "      <td>0.855049</td>\n",
       "      <td>1.037459</td>\n",
       "      <td>0.687296</td>\n",
       "    </tr>\n",
       "    <tr>\n",
       "      <th>std</th>\n",
       "      <td>0.386497</td>\n",
       "      <td>0.476373</td>\n",
       "      <td>0.476373</td>\n",
       "      <td>0.413389</td>\n",
       "      <td>0.413389</td>\n",
       "      <td>6109.041673</td>\n",
       "      <td>2926.248369</td>\n",
       "      <td>84.107233</td>\n",
       "      <td>84.107233</td>\n",
       "      <td>0.352339</td>\n",
       "      <td>0.787482</td>\n",
       "      <td>0.463973</td>\n",
       "    </tr>\n",
       "    <tr>\n",
       "      <th>min</th>\n",
       "      <td>0.000000</td>\n",
       "      <td>0.000000</td>\n",
       "      <td>0.000000</td>\n",
       "      <td>0.000000</td>\n",
       "      <td>0.000000</td>\n",
       "      <td>150.000000</td>\n",
       "      <td>0.000000</td>\n",
       "      <td>9.000000</td>\n",
       "      <td>9.000000</td>\n",
       "      <td>0.000000</td>\n",
       "      <td>0.000000</td>\n",
       "      <td>0.000000</td>\n",
       "    </tr>\n",
       "    <tr>\n",
       "      <th>25%</th>\n",
       "      <td>1.000000</td>\n",
       "      <td>0.000000</td>\n",
       "      <td>0.000000</td>\n",
       "      <td>0.000000</td>\n",
       "      <td>0.000000</td>\n",
       "      <td>2877.500000</td>\n",
       "      <td>0.000000</td>\n",
       "      <td>100.250000</td>\n",
       "      <td>100.250000</td>\n",
       "      <td>1.000000</td>\n",
       "      <td>0.000000</td>\n",
       "      <td>0.000000</td>\n",
       "    </tr>\n",
       "    <tr>\n",
       "      <th>50%</th>\n",
       "      <td>1.000000</td>\n",
       "      <td>1.000000</td>\n",
       "      <td>1.000000</td>\n",
       "      <td>0.000000</td>\n",
       "      <td>0.000000</td>\n",
       "      <td>3812.500000</td>\n",
       "      <td>1188.500000</td>\n",
       "      <td>128.000000</td>\n",
       "      <td>128.000000</td>\n",
       "      <td>1.000000</td>\n",
       "      <td>1.000000</td>\n",
       "      <td>1.000000</td>\n",
       "    </tr>\n",
       "    <tr>\n",
       "      <th>75%</th>\n",
       "      <td>1.000000</td>\n",
       "      <td>1.000000</td>\n",
       "      <td>1.000000</td>\n",
       "      <td>0.000000</td>\n",
       "      <td>0.000000</td>\n",
       "      <td>5795.000000</td>\n",
       "      <td>2297.250000</td>\n",
       "      <td>164.750000</td>\n",
       "      <td>164.750000</td>\n",
       "      <td>1.000000</td>\n",
       "      <td>2.000000</td>\n",
       "      <td>1.000000</td>\n",
       "    </tr>\n",
       "    <tr>\n",
       "      <th>max</th>\n",
       "      <td>1.000000</td>\n",
       "      <td>1.000000</td>\n",
       "      <td>1.000000</td>\n",
       "      <td>1.000000</td>\n",
       "      <td>1.000000</td>\n",
       "      <td>81000.000000</td>\n",
       "      <td>41667.000000</td>\n",
       "      <td>700.000000</td>\n",
       "      <td>700.000000</td>\n",
       "      <td>1.000000</td>\n",
       "      <td>2.000000</td>\n",
       "      <td>1.000000</td>\n",
       "    </tr>\n",
       "  </tbody>\n",
       "</table>\n",
       "</div>"
      ],
      "text/plain": [
       "           Gender     Married  Dependents   Education  Self_Employed  \\\n",
       "count  614.000000  614.000000  614.000000  614.000000     614.000000   \n",
       "mean     0.817590    0.653094    0.653094    0.218241       0.218241   \n",
       "std      0.386497    0.476373    0.476373    0.413389       0.413389   \n",
       "min      0.000000    0.000000    0.000000    0.000000       0.000000   \n",
       "25%      1.000000    0.000000    0.000000    0.000000       0.000000   \n",
       "50%      1.000000    1.000000    1.000000    0.000000       0.000000   \n",
       "75%      1.000000    1.000000    1.000000    0.000000       0.000000   \n",
       "max      1.000000    1.000000    1.000000    1.000000       1.000000   \n",
       "\n",
       "       ApplicantIncome  CoapplicantIncome  LoanAmount  Loan_Amount_Term  \\\n",
       "count       614.000000         614.000000  614.000000        614.000000   \n",
       "mean       5403.459283        1621.245798  145.752443        145.752443   \n",
       "std        6109.041673        2926.248369   84.107233         84.107233   \n",
       "min         150.000000           0.000000    9.000000          9.000000   \n",
       "25%        2877.500000           0.000000  100.250000        100.250000   \n",
       "50%        3812.500000        1188.500000  128.000000        128.000000   \n",
       "75%        5795.000000        2297.250000  164.750000        164.750000   \n",
       "max       81000.000000       41667.000000  700.000000        700.000000   \n",
       "\n",
       "       Credit_History  Property_Area  Loan_Status  \n",
       "count      614.000000     614.000000   614.000000  \n",
       "mean         0.855049       1.037459     0.687296  \n",
       "std          0.352339       0.787482     0.463973  \n",
       "min          0.000000       0.000000     0.000000  \n",
       "25%          1.000000       0.000000     0.000000  \n",
       "50%          1.000000       1.000000     1.000000  \n",
       "75%          1.000000       2.000000     1.000000  \n",
       "max          1.000000       2.000000     1.000000  "
      ]
     },
     "execution_count": 22,
     "metadata": {},
     "output_type": "execute_result"
    }
   ],
   "source": [
    "df.describe()"
   ]
  },
  {
   "cell_type": "markdown",
   "id": "3540732b",
   "metadata": {},
   "source": [
    "If mean value is grater than median (50%) value than the data is in right skewed. & \n",
    "If mean value is less than median (50%) value than the data is in left skewed.\n",
    "\n",
    "From plosts and static describetiob,\n",
    "The dataset is right skewed in ApplicantIncome, CoapplicantIncome, LoanAmount, Loan_Amount_Term, Credit_History columns."
   ]
  },
  {
   "cell_type": "markdown",
   "id": "f0d12778",
   "metadata": {},
   "source": [
    "# Now Separting columns into features and target"
   ]
  },
  {
   "cell_type": "code",
   "execution_count": 23,
   "id": "39a15483",
   "metadata": {},
   "outputs": [
    {
     "data": {
      "text/plain": [
       "Credit_History      -2.021971\n",
       "Gender              -1.648795\n",
       "Married             -0.644850\n",
       "Dependents          -0.644850\n",
       "Property_Area       -0.066196\n",
       "Education            1.367622\n",
       "Self_Employed        1.367622\n",
       "LoanAmount           2.743053\n",
       "Loan_Amount_Term     2.743053\n",
       "ApplicantIncome      6.539513\n",
       "CoapplicantIncome    7.491531\n",
       "dtype: float64"
      ]
     },
     "execution_count": 23,
     "metadata": {},
     "output_type": "execute_result"
    }
   ],
   "source": [
    "x=df.drop(columns='Loan_Status')\n",
    "y=df.Loan_Status\n",
    "x.skew().sort_values()"
   ]
  },
  {
   "cell_type": "markdown",
   "id": "46f4032e",
   "metadata": {},
   "source": [
    "# Now use Transformation method to save our skewed data."
   ]
  },
  {
   "cell_type": "code",
   "execution_count": 24,
   "id": "977e9a65",
   "metadata": {},
   "outputs": [
    {
     "data": {
      "text/plain": [
       "Credit_History      -2.021971\n",
       "Gender              -1.648795\n",
       "Married             -0.644850\n",
       "Dependents          -0.644850\n",
       "Property_Area       -0.158267\n",
       "CoapplicantIncome   -0.145646\n",
       "ApplicantIncome     -0.092946\n",
       "LoanAmount           0.020831\n",
       "Loan_Amount_Term     0.020831\n",
       "Education            1.367622\n",
       "Self_Employed        1.367622\n",
       "dtype: float64"
      ]
     },
     "execution_count": 24,
     "metadata": {},
     "output_type": "execute_result"
    }
   ],
   "source": [
    "from sklearn.preprocessing import PowerTransformer\n",
    "\n",
    "df_pt = PowerTransformer()\n",
    "df_pw = pd.DataFrame(df_pt.fit_transform(x),columns=x.columns)\n",
    "df_pw.skew().sort_values()"
   ]
  },
  {
   "cell_type": "markdown",
   "id": "ca308645",
   "metadata": {},
   "source": [
    "# Now remove remaining outliers using z-score technique."
   ]
  },
  {
   "cell_type": "code",
   "execution_count": 25,
   "id": "5e4892ca",
   "metadata": {},
   "outputs": [
    {
     "data": {
      "text/plain": [
       "(array([ 14,  14,  94,  94, 130, 130, 133, 133, 155, 155, 155, 171, 171,\n",
       "        171, 185, 188, 216, 333, 369, 369, 409, 443, 468, 500, 555, 555,\n",
       "        561, 561, 568, 568, 600], dtype=int64),\n",
       " array([7, 8, 7, 8, 7, 8, 7, 8, 5, 7, 8, 5, 7, 8, 5, 5, 5, 5, 7, 8, 5, 5,\n",
       "        5, 5, 7, 8, 7, 8, 7, 8, 5], dtype=int64))"
      ]
     },
     "execution_count": 25,
     "metadata": {},
     "output_type": "execute_result"
    }
   ],
   "source": [
    "from scipy.stats import zscore\n",
    "z=np.abs(zscore(df_pw))\n",
    "threshold=3\n",
    "np.where(z>3)"
   ]
  },
  {
   "cell_type": "code",
   "execution_count": 26,
   "id": "cac1cea5",
   "metadata": {},
   "outputs": [
    {
     "name": "stdout",
     "output_type": "stream",
     "text": [
      "percentage of loss of data by zscore is : 3.0944625407166124\n"
     ]
    }
   ],
   "source": [
    "df_new= df[(z<3).all(axis=1)]\n",
    "\n",
    "print('percentage of loss of data by zscore is :',((df.shape[0]-df_new.shape[0])/df.shape[0])*100)"
   ]
  },
  {
   "cell_type": "markdown",
   "id": "e4a50858",
   "metadata": {},
   "source": [
    "Very less data, we have loss using z-tarnsformation method, let's proceed further."
   ]
  },
  {
   "cell_type": "code",
   "execution_count": 27,
   "id": "b44145e2",
   "metadata": {},
   "outputs": [
    {
     "data": {
      "text/plain": [
       "1.0    408\n",
       "0.0    187\n",
       "Name: Loan_Status, dtype: int64"
      ]
     },
     "execution_count": 27,
     "metadata": {},
     "output_type": "execute_result"
    }
   ],
   "source": [
    "df_new.Loan_Status.value_counts()"
   ]
  },
  {
   "cell_type": "markdown",
   "id": "816b3bfe",
   "metadata": {},
   "source": [
    "It has been observed that our target 'Loan_Status' has an imbalance data. So, we’ll try to resample the data."
   ]
  },
  {
   "cell_type": "code",
   "execution_count": 28,
   "id": "05768a1f",
   "metadata": {},
   "outputs": [],
   "source": [
    "# Now seperating features and target.\n",
    "x_new=df_new.drop(columns='Loan_Status')\n",
    "y_new=df_new.Loan_Status"
   ]
  },
  {
   "cell_type": "markdown",
   "id": "9a30c63e",
   "metadata": {},
   "source": [
    "# SMOTE smapling"
   ]
  },
  {
   "cell_type": "code",
   "execution_count": 29,
   "id": "a09689a2",
   "metadata": {},
   "outputs": [
    {
     "data": {
      "image/png": "[encoded data removed]",
      "text/plain": [
       "<Figure size 720x576 with 1 Axes>"
      ]
     },
     "metadata": {
      "needs_background": "light"
     },
     "output_type": "display_data"
    }
   ],
   "source": [
    "#Synthetic Minority Oversampling Technique (SMOTE)\n",
    "#It is a statistical technique for increasing the number of cases in your dataset in a balanced way. \n",
    "\n",
    "from imblearn.over_sampling import SMOTE\n",
    "\n",
    "sm = SMOTE(sampling_strategy = 'not majority', random_state = 29)\n",
    "x_res, y_res = sm.fit_resample(x_new, y_new)\n",
    "y_res_df = pd.DataFrame(y_res)\n",
    "\n",
    "plt.figure(figsize=(10,8))\n",
    "\n",
    "sns.set(style = 'whitegrid')\n",
    "sns.countplot(y_res_df.Loan_Status).set_title('After SMOTE')\n",
    "plt.xlabel('Loan_Status',fontsize=20)\n",
    "plt.show()"
   ]
  },
  {
   "cell_type": "code",
   "execution_count": 30,
   "id": "6f7ac1b0",
   "metadata": {},
   "outputs": [
    {
     "data": {
      "text/plain": [
       "(816, 11)"
      ]
     },
     "execution_count": 30,
     "metadata": {},
     "output_type": "execute_result"
    }
   ],
   "source": [
    "x_res.shape"
   ]
  },
  {
   "cell_type": "code",
   "execution_count": 31,
   "id": "0dbd2590",
   "metadata": {},
   "outputs": [
    {
     "data": {
      "text/plain": [
       "(816, 1)"
      ]
     },
     "execution_count": 31,
     "metadata": {},
     "output_type": "execute_result"
    }
   ],
   "source": [
    "y_res_df.shape"
   ]
  },
  {
   "cell_type": "markdown",
   "id": "3c37cca2",
   "metadata": {},
   "source": [
    "# Data Scaling using Standard Scaler"
   ]
  },
  {
   "cell_type": "code",
   "execution_count": 32,
   "id": "b0eaadf2",
   "metadata": {},
   "outputs": [
    {
     "data": {
      "text/plain": [
       "array([[ 0.48229214, -1.33853356, -1.33853356, ..., -0.22144114,\n",
       "         0.5618146 ,  1.30608809],\n",
       "       [ 0.48229214,  0.81027873,  0.81027873, ..., -0.22144114,\n",
       "         0.5618146 , -1.33892533],\n",
       "       [ 0.48229214,  0.81027873,  0.81027873, ..., -1.08270708,\n",
       "         0.5618146 ,  1.30608809],\n",
       "       ...,\n",
       "       [ 0.48229214, -1.1528396 , -1.1528396 , ...,  2.42649775,\n",
       "         0.5618146 , -1.33892533],\n",
       "       [ 0.48229214,  0.81027873,  0.81027873, ...,  0.31529684,\n",
       "         0.5618146 ,  0.39721355],\n",
       "       [ 0.48229214,  0.81027873,  0.81027873, ..., -0.23160173,\n",
       "         0.18608706,  1.11262372]])"
      ]
     },
     "execution_count": 32,
     "metadata": {},
     "output_type": "execute_result"
    }
   ],
   "source": [
    "from sklearn.preprocessing import StandardScaler\n",
    "scaler = StandardScaler()\n",
    "x_scaled = scaler.fit_transform(x_res)\n",
    "x_scaled"
   ]
  },
  {
   "cell_type": "code",
   "execution_count": 33,
   "id": "da7fc901",
   "metadata": {},
   "outputs": [],
   "source": [
    "XC=x_scaled"
   ]
  },
  {
   "cell_type": "code",
   "execution_count": 34,
   "id": "32a8a1de",
   "metadata": {},
   "outputs": [],
   "source": [
    "yc=y_res_df"
   ]
  },
  {
   "cell_type": "markdown",
   "id": "3a566f7d",
   "metadata": {},
   "source": [
    "# Model Development"
   ]
  },
  {
   "cell_type": "code",
   "execution_count": 35,
   "id": "4dcd9e71",
   "metadata": {},
   "outputs": [],
   "source": [
    "#import the necessary model algos.\n",
    "\n",
    "#classifiaction\n",
    "from sklearn.linear_model import LogisticRegression, SGDClassifier\n",
    "from sklearn.tree import DecisionTreeClassifier\n",
    "from sklearn.neighbors import KNeighborsClassifier\n",
    "from sklearn.ensemble import RandomForestClassifier\n",
    "from sklearn.svm import SVC\n",
    "from sklearn.ensemble import GradientBoostingClassifier,AdaBoostClassifier\n",
    "from xgboost import XGBClassifier\n",
    "from sklearn.naive_bayes import GaussianNB\n",
    "\n",
    "#model selection\n",
    "from sklearn.model_selection import train_test_split,cross_validate, cross_val_score\n",
    "from sklearn.model_selection import KFold\n",
    "from sklearn.model_selection import GridSearchCV\n",
    "\n",
    "#evaluation metrics\n",
    "from sklearn.metrics import accuracy_score, classification_report, confusion_matrix\n",
    "from sklearn.metrics import roc_auc_score, roc_curve, plot_roc_curve"
   ]
  },
  {
   "cell_type": "code",
   "execution_count": 36,
   "id": "ee682a6c",
   "metadata": {},
   "outputs": [],
   "source": [
    "LC = LogisticRegression()\n",
    "DTC = DecisionTreeClassifier()\n",
    "KNNC= KNeighborsClassifier()\n",
    "RFC = RandomForestClassifier()\n",
    "SVc = SVC()\n",
    "GRAC= GradientBoostingClassifier()\n",
    "ADAC= AdaBoostClassifier()\n",
    "GNBC= GaussianNB()\n",
    "SGDC= SGDClassifier()\n",
    "XGBC= XGBClassifier()"
   ]
  },
  {
   "cell_type": "code",
   "execution_count": 38,
   "id": "e003b603",
   "metadata": {},
   "outputs": [
    {
     "data": {
      "text/html": [
       "<div>\n",
       "<style scoped>\n",
       "    .dataframe tbody tr th:only-of-type {\n",
       "        vertical-align: middle;\n",
       "    }\n",
       "\n",
       "    .dataframe tbody tr th {\n",
       "        vertical-align: top;\n",
       "    }\n",
       "\n",
       "    .dataframe thead th {\n",
       "        text-align: right;\n",
       "    }\n",
       "</style>\n",
       "<table border=\"1\" class=\"dataframe\">\n",
       "  <thead>\n",
       "    <tr style=\"text-align: right;\">\n",
       "      <th></th>\n",
       "      <th>Model Name</th>\n",
       "      <th>Training Score:</th>\n",
       "      <th>Accuracy Score (without tuning)</th>\n",
       "    </tr>\n",
       "  </thead>\n",
       "  <tbody>\n",
       "    <tr>\n",
       "      <th>0</th>\n",
       "      <td>LC=LogisticRegression</td>\n",
       "      <td>75.61</td>\n",
       "      <td>75.00</td>\n",
       "    </tr>\n",
       "    <tr>\n",
       "      <th>1</th>\n",
       "      <td>DTC=DecisionTreeClassifier</td>\n",
       "      <td>100.00</td>\n",
       "      <td>81.10</td>\n",
       "    </tr>\n",
       "    <tr>\n",
       "      <th>2</th>\n",
       "      <td>KNNC=KNeighborsClassifier</td>\n",
       "      <td>82.98</td>\n",
       "      <td>79.88</td>\n",
       "    </tr>\n",
       "    <tr>\n",
       "      <th>3</th>\n",
       "      <td>RFC=RandomForestClassifier</td>\n",
       "      <td>100.00</td>\n",
       "      <td>85.37</td>\n",
       "    </tr>\n",
       "    <tr>\n",
       "      <th>4</th>\n",
       "      <td>SVc=SVC()</td>\n",
       "      <td>79.29</td>\n",
       "      <td>76.83</td>\n",
       "    </tr>\n",
       "    <tr>\n",
       "      <th>5</th>\n",
       "      <td>GRAC=GradientBoostingClassifier</td>\n",
       "      <td>91.26</td>\n",
       "      <td>89.02</td>\n",
       "    </tr>\n",
       "    <tr>\n",
       "      <th>6</th>\n",
       "      <td>ADAC=AdaBoostClassifier</td>\n",
       "      <td>84.66</td>\n",
       "      <td>82.93</td>\n",
       "    </tr>\n",
       "    <tr>\n",
       "      <th>7</th>\n",
       "      <td>GNBC=GaussianNB</td>\n",
       "      <td>74.39</td>\n",
       "      <td>71.95</td>\n",
       "    </tr>\n",
       "    <tr>\n",
       "      <th>8</th>\n",
       "      <td>SGDC=SGDClassifier()</td>\n",
       "      <td>69.63</td>\n",
       "      <td>72.56</td>\n",
       "    </tr>\n",
       "    <tr>\n",
       "      <th>9</th>\n",
       "      <td>XGBC=XGBClassifier()</td>\n",
       "      <td>100.00</td>\n",
       "      <td>84.15</td>\n",
       "    </tr>\n",
       "  </tbody>\n",
       "</table>\n",
       "</div>"
      ],
      "text/plain": [
       "                        Model Name  Training Score:  \\\n",
       "0            LC=LogisticRegression            75.61   \n",
       "1       DTC=DecisionTreeClassifier           100.00   \n",
       "2        KNNC=KNeighborsClassifier            82.98   \n",
       "3       RFC=RandomForestClassifier           100.00   \n",
       "4                        SVc=SVC()            79.29   \n",
       "5  GRAC=GradientBoostingClassifier            91.26   \n",
       "6          ADAC=AdaBoostClassifier            84.66   \n",
       "7                  GNBC=GaussianNB            74.39   \n",
       "8             SGDC=SGDClassifier()            69.63   \n",
       "9             XGBC=XGBClassifier()           100.00   \n",
       "\n",
       "   Accuracy Score (without tuning)  \n",
       "0                            75.00  \n",
       "1                            81.10  \n",
       "2                            79.88  \n",
       "3                            85.37  \n",
       "4                            76.83  \n",
       "5                            89.02  \n",
       "6                            82.93  \n",
       "7                            71.95  \n",
       "8                            72.56  \n",
       "9                            84.15  "
      ]
     },
     "execution_count": 38,
     "metadata": {},
     "output_type": "execute_result"
    }
   ],
   "source": [
    "model=[LogisticRegression(),DecisionTreeClassifier(),KNeighborsClassifier(),RandomForestClassifier(), SVC(),\n",
    "       GradientBoostingClassifier(),AdaBoostClassifier(),GaussianNB(),SGDClassifier(),XGBClassifier()]\n",
    "\n",
    "models=['LC=LogisticRegression','DTC=DecisionTreeClassifier','KNNC=KNeighborsClassifier','RFC=RandomForestClassifier',\n",
    "        'SVc=SVC()','GRAC=GradientBoostingClassifier','ADAC=AdaBoostClassifier','GNBC=GaussianNB', 'SGDC=SGDClassifier()',\n",
    "        'XGBC=XGBClassifier()']\n",
    "\n",
    "acc_result=[]\n",
    "train_result=[]\n",
    "\n",
    "x_train,x_test,y_train,y_test=train_test_split(XC,yc,test_size=0.20,random_state=29)\n",
    "\n",
    "for i in range(len(model)):\n",
    "    clf=model[i]\n",
    "    clf.fit(x_train,y_train)\n",
    "    \n",
    "    x_pred=clf.predict(x_train)\n",
    "    y_pred=clf.predict(x_test)\n",
    "    \n",
    "    train_result.append(round (accuracy_score(y_train,x_pred)*100,2))\n",
    "    acc_result.append(round (accuracy_score(y_pred,y_test)*100,2))\n",
    "\n",
    "Result_df=pd.DataFrame({'Model Name':models, 'Training Score:':train_result ,'Accuracy Score (without tuning)':acc_result})\n",
    "Result_df"
   ]
  },
  {
   "cell_type": "markdown",
   "id": "e8883ce4",
   "metadata": {},
   "source": [
    "# 1. Logistic Regression:"
   ]
  },
  {
   "cell_type": "code",
   "execution_count": 39,
   "id": "57ee3ac1",
   "metadata": {},
   "outputs": [
    {
     "name": "stdout",
     "output_type": "stream",
     "text": [
      "Index of max vaule of train's accuracy_score at random_state: 620\n",
      "Index of max vaule of test's accuracy_score at random_state: 158\n"
     ]
    }
   ],
   "source": [
    "acc_train=[]\n",
    "acc_test=[]\n",
    "\n",
    "for i in range (0,1000):\n",
    "    x_train, x_test, y_train, y_test = train_test_split(XC, yc, test_size=0.20, random_state=i)\n",
    "    \n",
    "    lc = LogisticRegression()\n",
    "    lc.fit(x_train,y_train)\n",
    "    \n",
    "    x_lc_predict=lc.predict(x_train)\n",
    "    y_lc_predict=lc.predict(x_test)\n",
    "    \n",
    "    acc_train.append(accuracy_score(y_train,x_lc_predict))\n",
    "    acc_test.append(accuracy_score(y_test,y_lc_predict))\n",
    "    \n",
    "\n",
    "acc_train_index= acc_train.index(max(acc_train))    \n",
    "print(\"Index of max vaule of train's accuracy_score at random_state:\",acc_train_index)\n",
    "\n",
    "acc_test_index= acc_test.index(max(acc_test))\n",
    "print(\"Index of max vaule of test's accuracy_score at random_state:\",acc_test_index)"
   ]
  },
  {
   "cell_type": "markdown",
   "id": "5dd64b42",
   "metadata": {},
   "source": [
    "Always choose best training score for random_state, because\n",
    "1. if training score >= testing score ==> chance of best fit or undetfit\n",
    "2. if training score << testing score ==> overfit\n",
    "3. if training score >> testing score ==> undetfit"
   ]
  },
  {
   "cell_type": "code",
   "execution_count": 40,
   "id": "7abd984c",
   "metadata": {},
   "outputs": [
    {
     "name": "stdout",
     "output_type": "stream",
     "text": [
      "The training accurancy @ 620 random_state is: 0.7701863354037267\n",
      "The testing accurancy @ 620 ranom_state is: 0.6802325581395349\n",
      "Cross Validation:  0.7153869316470942\n",
      "\n",
      "  \n",
      " Test Classification Report \n",
      "               precision    recall  f1-score   support\n",
      "\n",
      "         0.0       0.82      0.43      0.57        83\n",
      "         1.0       0.63      0.91      0.75        89\n",
      "\n",
      "    accuracy                           0.68       172\n",
      "   macro avg       0.73      0.67      0.66       172\n",
      "weighted avg       0.72      0.68      0.66       172\n",
      "\n",
      "\n",
      " Conconfusion_matrix:\n",
      " [[36 47]\n",
      " [ 8 81]]\n"
     ]
    }
   ],
   "source": [
    "kford_cv=KFold(n_splits=10,shuffle=False)\n",
    "x_train, x_test, y_train, y_test = train_test_split(XC, yc, test_size=0.21, random_state=620)\n",
    "    \n",
    "lc.fit(x_train,y_train)\n",
    "x_lc_predict=lc.predict(x_train)\n",
    "y_lc_predict=lc.predict(x_test)\n",
    "lc_cv = cross_val_score(lc,XC,yc,cv=kford_cv, scoring='accuracy')\n",
    "    \n",
    "print (\"The training accurancy @ 620 random_state is:\",accuracy_score(y_train,x_lc_predict))\n",
    "print (\"The testing accurancy @ 620 ranom_state is:\",accuracy_score(y_test,y_lc_predict))\n",
    "print (\"Cross Validation: \", lc_cv.mean())\n",
    "print ('\\n  \\n Test Classification Report \\n', classification_report(y_test,y_lc_predict,digits=2))\n",
    "print (\"\\n Conconfusion_matrix:\\n\",confusion_matrix(y_test,y_lc_predict))"
   ]
  },
  {
   "cell_type": "markdown",
   "id": "f1bfc861",
   "metadata": {},
   "source": [
    "# 2. Decision Tree:"
   ]
  },
  {
   "cell_type": "code",
   "execution_count": 41,
   "id": "4dc5e0f8",
   "metadata": {},
   "outputs": [
    {
     "data": {
      "text/plain": [
       "GridSearchCV(cv=KFold(n_splits=10, random_state=None, shuffle=False),\n",
       "             estimator=DecisionTreeClassifier(), n_jobs=-1,\n",
       "             param_grid={'criterion': ['gini', 'entropy'],\n",
       "                         'max_depth': [10, 20, 30, 40, 50],\n",
       "                         'max_features': ['auto', 'sqrt', 'log2'],\n",
       "                         'max_leaf_nodes': range(5, 10),\n",
       "                         'min_samples_leaf': range(2, 6),\n",
       "                         'min_samples_split': range(3, 8),\n",
       "                         'splitter': ['best', 'random']})"
      ]
     },
     "execution_count": 41,
     "metadata": {},
     "output_type": "execute_result"
    }
   ],
   "source": [
    "kford_val=KFold(n_splits=10)\n",
    "\n",
    "grid_param = {\n",
    "            'criterion':['gini','entropy'],\n",
    "            'splitter':['best','random'],\n",
    "            'max_features':['auto','sqrt','log2'],\n",
    "            'max_depth': [10,20,30,40,50],\n",
    "            'min_samples_leaf': range (2,6), \n",
    "            'min_samples_split': range (3,8),\n",
    "            'max_leaf_nodes': range (5,10)} \n",
    "    \n",
    "grid_search = GridSearchCV (DTC, param_grid = grid_param, cv=kford_val, n_jobs = -1)\n",
    "# n_jobs : Use all the cores in your system. For performance improvement.\n",
    "grid_search.fit(x_train,y_train)"
   ]
  },
  {
   "cell_type": "code",
   "execution_count": 42,
   "id": "da4d297d",
   "metadata": {},
   "outputs": [
    {
     "name": "stdout",
     "output_type": "stream",
     "text": [
      "The training accurancy is: 0.827639751552795\n",
      "The testing accurancy is: 0.7325581395348837\n",
      "\n",
      "  \n",
      " Test Classification Report \n",
      "               precision    recall  f1-score   support\n",
      "\n",
      "         0.0       0.84      0.55      0.67        83\n",
      "         1.0       0.68      0.90      0.78        89\n",
      "\n",
      "    accuracy                           0.73       172\n",
      "   macro avg       0.76      0.73      0.72       172\n",
      "weighted avg       0.76      0.73      0.72       172\n",
      "\n",
      "\n",
      " Conconfusion_matrix:\n",
      " [[46 37]\n",
      " [ 9 80]]\n"
     ]
    }
   ],
   "source": [
    "#Initiate DecisitionTreeClassifier with new parametes and train\n",
    "dtc=grid_search.best_estimator_\n",
    "\n",
    "# Train the model\n",
    "dtc.fit(x_train,y_train)\n",
    "\n",
    "x_dtc_predict=dtc.predict(x_train)\n",
    "y_dtc_predict=dtc.predict(x_test)\n",
    "\n",
    "print (\"The training accurancy is:\",accuracy_score(y_train,x_dtc_predict))\n",
    "print (\"The testing accurancy is:\",accuracy_score(y_test,y_dtc_predict))\n",
    "print ('\\n  \\n Test Classification Report \\n', classification_report(y_test,y_dtc_predict,digits=2))\n",
    "print (\"\\n Conconfusion_matrix:\\n\",confusion_matrix(y_test,y_dtc_predict))"
   ]
  },
  {
   "cell_type": "markdown",
   "id": "2ba1e54e",
   "metadata": {},
   "source": [
    "# 3. K-Nearest Neighbour:"
   ]
  },
  {
   "cell_type": "code",
   "execution_count": 43,
   "id": "856e4719",
   "metadata": {},
   "outputs": [
    {
     "data": {
      "text/plain": [
       "GridSearchCV(cv=KFold(n_splits=10, random_state=None, shuffle=False),\n",
       "             estimator=KNeighborsClassifier(),\n",
       "             param_grid={'algorithm': ['auto', 'ball_tree', 'kd_tree', 'brute'],\n",
       "                         'leaf_size': [3, 5, 6, 7, 8, 10],\n",
       "                         'n_neighbors': [1, 2, 3, 4, 5, 6, 7, 8, 9],\n",
       "                         'weights': ['uniform', 'distance']})"
      ]
     },
     "execution_count": 43,
     "metadata": {},
     "output_type": "execute_result"
    }
   ],
   "source": [
    "neighbors = [i for i in range(1,10)]\n",
    "parameter_grid = { 'algorithm' : ['auto','ball_tree','kd_tree', 'brute'],\n",
    "                   'weights':['uniform', 'distance'],\n",
    "                   'leaf_size' : [3,5,6,7,8,10],\n",
    "                   'n_neighbors': neighbors}\n",
    "gridsearch = GridSearchCV(KNNC, param_grid=parameter_grid, cv=kford_val)\n",
    "gridsearch.fit(x_train, y_train)"
   ]
  },
  {
   "cell_type": "code",
   "execution_count": 44,
   "id": "2899fb66",
   "metadata": {},
   "outputs": [
    {
     "name": "stdout",
     "output_type": "stream",
     "text": [
      "The training accurancy is: 1.0\n",
      "The testing accurancy is: 0.7383720930232558\n",
      "\n",
      "  \n",
      " Test Classification Report \n",
      "               precision    recall  f1-score   support\n",
      "\n",
      "         0.0       0.78      0.64      0.70        83\n",
      "         1.0       0.71      0.83      0.77        89\n",
      "\n",
      "    accuracy                           0.74       172\n",
      "   macro avg       0.75      0.74      0.73       172\n",
      "weighted avg       0.74      0.74      0.74       172\n",
      "\n",
      "\n",
      " Conconfusion_matrix:\n",
      " [[53 30]\n",
      " [15 74]]\n"
     ]
    }
   ],
   "source": [
    "#Initiate KNN with new parametes and train\n",
    "knnc=gridsearch.best_estimator_\n",
    "\n",
    "# Train the model\n",
    "knnc.fit(x_train,y_train)\n",
    "\n",
    "x_knnc_predict=knnc.predict(x_train)\n",
    "y_knnc_predict=knnc.predict(x_test)\n",
    "\n",
    "print (\"The training accurancy is:\",accuracy_score(y_train,x_knnc_predict))\n",
    "print (\"The testing accurancy is:\",accuracy_score(y_test,y_knnc_predict))\n",
    "print ('\\n  \\n Test Classification Report \\n', classification_report(y_test,y_knnc_predict,digits=2))\n",
    "print (\"\\n Conconfusion_matrix:\\n\",confusion_matrix(y_test,y_knnc_predict))"
   ]
  },
  {
   "cell_type": "markdown",
   "id": "a5a29f81",
   "metadata": {},
   "source": [
    "# 4. Random forest:"
   ]
  },
  {
   "cell_type": "code",
   "execution_count": 45,
   "id": "b33c27d3",
   "metadata": {},
   "outputs": [
    {
     "data": {
      "text/plain": [
       "GridSearchCV(cv=KFold(n_splits=10, random_state=None, shuffle=False),\n",
       "             estimator=RandomForestClassifier(), n_jobs=-1,\n",
       "             param_grid={'criterion': ['gini', 'entropy'],\n",
       "                         'max_depth': [10, 15, 45, 80],\n",
       "                         'max_leaf_nodes': range(5, 10),\n",
       "                         'min_samples_leaf': [5, 6],\n",
       "                         'min_samples_split': [10, 11],\n",
       "                         'n_estimators': [10, 50, 100, 200]})"
      ]
     },
     "execution_count": 45,
     "metadata": {},
     "output_type": "execute_result"
    }
   ],
   "source": [
    "params = {  'n_estimators' : [10,50,100,200,],\n",
    "            'criterion':['gini','entropy'],\n",
    "            'max_depth': [10,15,45,80,], \n",
    "            'min_samples_leaf': [5,6],\n",
    "            'min_samples_split': [10,11], \n",
    "            'max_leaf_nodes': range (5,10)}\n",
    "\n",
    "gridsearch_rfc = GridSearchCV(RFC, param_grid=params,cv=kford_val, n_jobs = -1)\n",
    "gridsearch_rfc.fit(x_train,y_train)\n"
   ]
  },
  {
   "cell_type": "code",
   "execution_count": 46,
   "id": "ece4ff5b",
   "metadata": {},
   "outputs": [
    {
     "name": "stdout",
     "output_type": "stream",
     "text": [
      "The training accurancy is: 0.8354037267080745\n",
      "The testing accurancy is: 0.7674418604651163\n",
      "\n",
      "  \n",
      " Test Classification Report \n",
      "               precision    recall  f1-score   support\n",
      "\n",
      "         0.0       0.91      0.58      0.71        83\n",
      "         1.0       0.71      0.94      0.81        89\n",
      "\n",
      "    accuracy                           0.77       172\n",
      "   macro avg       0.81      0.76      0.76       172\n",
      "weighted avg       0.80      0.77      0.76       172\n",
      "\n",
      "\n",
      " Conconfusion_matrix:\n",
      " [[48 35]\n",
      " [ 5 84]]\n"
     ]
    }
   ],
   "source": [
    "#Initiate RandomForestClassifier with new parametes and train\n",
    "rfc=gridsearch_rfc.best_estimator_\n",
    "\n",
    "# Train the model\n",
    "rfc.fit(x_train,y_train)\n",
    "\n",
    "x_rfc_predict=rfc.predict(x_train)\n",
    "y_rfc_predict=rfc.predict(x_test)\n",
    "\n",
    "print (\"The training accurancy is:\",accuracy_score(y_train,x_rfc_predict))\n",
    "print (\"The testing accurancy is:\",accuracy_score(y_test,y_rfc_predict))\n",
    "print ('\\n  \\n Test Classification Report \\n', classification_report(y_test,y_rfc_predict,digits=2))\n",
    "print (\"\\n Conconfusion_matrix:\\n\",confusion_matrix(y_test,y_rfc_predict))"
   ]
  },
  {
   "cell_type": "markdown",
   "id": "1c906167",
   "metadata": {},
   "source": [
    "# 5. SVC"
   ]
  },
  {
   "cell_type": "code",
   "execution_count": 47,
   "id": "7973a4fe",
   "metadata": {},
   "outputs": [
    {
     "name": "stdout",
     "output_type": "stream",
     "text": [
      "The training accurancy is: 0.8136645962732919\n",
      "The testing accurancy is: 0.6569767441860465\n",
      "\n",
      "  \n",
      " Test Classification Report \n",
      "               precision    recall  f1-score   support\n",
      "\n",
      "         0.0       0.74      0.45      0.56        83\n",
      "         1.0       0.62      0.85      0.72        89\n",
      "\n",
      "    accuracy                           0.66       172\n",
      "   macro avg       0.68      0.65      0.64       172\n",
      "weighted avg       0.68      0.66      0.64       172\n",
      "\n",
      "\n",
      " Conconfusion_matrix:\n",
      " [[37 46]\n",
      " [13 76]]\n"
     ]
    }
   ],
   "source": [
    "#Initiate RandomForestClassifier with new parametes and train\n",
    "svc=SVC(gamma='auto')\n",
    "\n",
    "# Train the model\n",
    "svc.fit(x_train,y_train)\n",
    "\n",
    "x_svc_predict=svc.predict(x_train)\n",
    "y_svc_predict=svc.predict(x_test)\n",
    "\n",
    "print (\"The training accurancy is:\",accuracy_score(y_train,x_svc_predict))\n",
    "print (\"The testing accurancy is:\",accuracy_score(y_test,y_svc_predict))\n",
    "print ('\\n  \\n Test Classification Report \\n', classification_report(y_test,y_svc_predict,digits=2))\n",
    "print (\"\\n Conconfusion_matrix:\\n\",confusion_matrix(y_test,y_svc_predict))"
   ]
  },
  {
   "cell_type": "markdown",
   "id": "2a3610a8",
   "metadata": {},
   "source": [
    "# 6. Gradient Boosting Classifier:"
   ]
  },
  {
   "cell_type": "code",
   "execution_count": 48,
   "id": "68e3169f",
   "metadata": {},
   "outputs": [
    {
     "name": "stdout",
     "output_type": "stream",
     "text": [
      "The training accurancy is: 0.8260869565217391\n",
      "The testing accurancy is: 0.7441860465116279\n",
      "\n",
      "  \n",
      " Test Classification Report \n",
      "               precision    recall  f1-score   support\n",
      "\n",
      "         0.0       0.91      0.52      0.66        83\n",
      "         1.0       0.68      0.96      0.79        89\n",
      "\n",
      "    accuracy                           0.74       172\n",
      "   macro avg       0.80      0.74      0.73       172\n",
      "weighted avg       0.79      0.74      0.73       172\n",
      "\n",
      "\n",
      " Conconfusion_matrix:\n",
      " [[43 40]\n",
      " [ 4 85]]\n"
     ]
    }
   ],
   "source": [
    "#Initiate RandomForestClassifier with new parametes and train\n",
    "grac=GradientBoostingClassifier(learning_rate= 0.01)\n",
    "\n",
    "# Train the model\n",
    "grac.fit(x_train,y_train)\n",
    "\n",
    "x_grac_predict=grac.predict(x_train)\n",
    "y_grac_predict=grac.predict(x_test)\n",
    "\n",
    "print (\"The training accurancy is:\",accuracy_score(y_train,x_grac_predict))\n",
    "print (\"The testing accurancy is:\",accuracy_score(y_test,y_grac_predict))\n",
    "print ('\\n  \\n Test Classification Report \\n', classification_report(y_test,y_grac_predict,digits=2))\n",
    "print (\"\\n Conconfusion_matrix:\\n\",confusion_matrix(y_test,y_grac_predict))"
   ]
  },
  {
   "cell_type": "markdown",
   "id": "c7faedaf",
   "metadata": {},
   "source": [
    "# 7 AdaBoost Classifier:"
   ]
  },
  {
   "cell_type": "code",
   "execution_count": 49,
   "id": "84c83a8a",
   "metadata": {},
   "outputs": [
    {
     "name": "stdout",
     "output_type": "stream",
     "text": [
      "The training accurancy is: 1.0\n",
      "The testing accurancy is: 0.7965116279069767\n",
      "\n",
      "  \n",
      " Test Classification Report \n",
      "               precision    recall  f1-score   support\n",
      "\n",
      "         0.0       0.86      0.69      0.77        83\n",
      "         1.0       0.75      0.90      0.82        89\n",
      "\n",
      "    accuracy                           0.80       172\n",
      "   macro avg       0.81      0.79      0.79       172\n",
      "weighted avg       0.81      0.80      0.79       172\n",
      "\n",
      "\n",
      " Conconfusion_matrix:\n",
      " [[57 26]\n",
      " [ 9 80]]\n"
     ]
    }
   ],
   "source": [
    "#Initiate RandomForestClassifier with new parametes and train\n",
    "adac=AdaBoostClassifier(learning_rate= 0.01, base_estimator=RandomForestClassifier())\n",
    "\n",
    "# Train the model\n",
    "adac.fit(x_train,y_train)\n",
    "\n",
    "x_adac_predict=adac.predict(x_train)\n",
    "y_adac_predict=adac.predict(x_test)\n",
    "\n",
    "print (\"The training accurancy is:\",accuracy_score(y_train,x_adac_predict))\n",
    "print (\"The testing accurancy is:\",accuracy_score(y_test,y_adac_predict))\n",
    "print ('\\n  \\n Test Classification Report \\n', classification_report(y_test,y_adac_predict,digits=2))\n",
    "print (\"\\n Conconfusion_matrix:\\n\",confusion_matrix(y_test,y_adac_predict))"
   ]
  },
  {
   "cell_type": "markdown",
   "id": "a102f073",
   "metadata": {},
   "source": [
    "# 8 GaussianNB:"
   ]
  },
  {
   "cell_type": "code",
   "execution_count": 50,
   "id": "fca7a9ab",
   "metadata": {},
   "outputs": [
    {
     "name": "stdout",
     "output_type": "stream",
     "text": [
      "The training accurancy is: 0.7670807453416149\n",
      "The testing accurancy is: 0.6686046511627907\n",
      "\n",
      "  \n",
      " Test Classification Report \n",
      "               precision    recall  f1-score   support\n",
      "\n",
      "         0.0       0.86      0.37      0.52        83\n",
      "         1.0       0.62      0.94      0.75        89\n",
      "\n",
      "    accuracy                           0.67       172\n",
      "   macro avg       0.74      0.66      0.63       172\n",
      "weighted avg       0.74      0.67      0.64       172\n",
      "\n",
      "\n",
      " Conconfusion_matrix:\n",
      " [[31 52]\n",
      " [ 5 84]]\n"
     ]
    }
   ],
   "source": [
    "#Initiate RandomForestClassifier with new parametes and train\n",
    "gnbc=GaussianNB()\n",
    "\n",
    "# Train the model\n",
    "gnbc.fit(x_train,y_train)\n",
    "\n",
    "x_gnbc_predict=gnbc.predict(x_train)\n",
    "y_gnbc_predict=gnbc.predict(x_test)\n",
    "\n",
    "print (\"The training accurancy is:\",accuracy_score(y_train,x_gnbc_predict))\n",
    "print (\"The testing accurancy is:\",accuracy_score(y_test,y_gnbc_predict))\n",
    "print ('\\n  \\n Test Classification Report \\n', classification_report(y_test,y_gnbc_predict,digits=2))\n",
    "print (\"\\n Conconfusion_matrix:\\n\",confusion_matrix(y_test,y_gnbc_predict))"
   ]
  },
  {
   "cell_type": "markdown",
   "id": "52e7fe26",
   "metadata": {},
   "source": [
    "# 9 SGDClassifier:"
   ]
  },
  {
   "cell_type": "code",
   "execution_count": 51,
   "id": "c2666de9",
   "metadata": {},
   "outputs": [
    {
     "name": "stdout",
     "output_type": "stream",
     "text": [
      "The training accurancy is: 0.7531055900621118\n",
      "The testing accurancy is: 0.686046511627907\n",
      "\n",
      "  \n",
      " Test Classification Report \n",
      "               precision    recall  f1-score   support\n",
      "\n",
      "         0.0       0.89      0.40      0.55        83\n",
      "         1.0       0.63      0.96      0.76        89\n",
      "\n",
      "    accuracy                           0.69       172\n",
      "   macro avg       0.76      0.68      0.65       172\n",
      "weighted avg       0.76      0.69      0.66       172\n",
      "\n",
      "\n",
      " Conconfusion_matrix:\n",
      " [[33 50]\n",
      " [ 4 85]]\n"
     ]
    }
   ],
   "source": [
    "#Initiate RandomForestClassifier with new parametes and train\n",
    "sgdc=SGDClassifier(alpha=0.001)\n",
    "\n",
    "# Train the model\n",
    "sgdc.fit(x_train,y_train)\n",
    "\n",
    "x_sgdc_predict=sgdc.predict(x_train)\n",
    "y_sgdc_predict=sgdc.predict(x_test)\n",
    "\n",
    "print (\"The training accurancy is:\",accuracy_score(y_train,x_sgdc_predict))\n",
    "print (\"The testing accurancy is:\",accuracy_score(y_test,y_sgdc_predict))\n",
    "print ('\\n  \\n Test Classification Report \\n', classification_report(y_test,y_sgdc_predict,digits=2))\n",
    "print (\"\\n Conconfusion_matrix:\\n\",confusion_matrix(y_test,y_sgdc_predict))"
   ]
  },
  {
   "cell_type": "markdown",
   "id": "82138f8e",
   "metadata": {},
   "source": [
    "# 10 XGBClassifier:"
   ]
  },
  {
   "cell_type": "code",
   "execution_count": 52,
   "id": "6f7c48f3",
   "metadata": {},
   "outputs": [
    {
     "name": "stdout",
     "output_type": "stream",
     "text": [
      "The training accurancy is: 0.9953416149068323\n",
      "The testing accurancy is: 0.7906976744186046\n",
      "\n",
      "  \n",
      " Test Classification Report \n",
      "               precision    recall  f1-score   support\n",
      "\n",
      "         0.0       0.81      0.75      0.77        83\n",
      "         1.0       0.78      0.83      0.80        89\n",
      "\n",
      "    accuracy                           0.79       172\n",
      "   macro avg       0.79      0.79      0.79       172\n",
      "weighted avg       0.79      0.79      0.79       172\n",
      "\n",
      "\n",
      " Conconfusion_matrix:\n",
      " [[62 21]\n",
      " [15 74]]\n"
     ]
    }
   ],
   "source": [
    "#Initiate RandomForestClassifier with new parametes and train\n",
    "xgbc=XGBClassifier(n_estimators = 10, learning_rate = 1.5)\n",
    "\n",
    "# Train the model\n",
    "xgbc.fit(x_train,y_train)\n",
    "\n",
    "x_xgbc_predict=xgbc.predict(x_train)\n",
    "y_xgbc_predict=xgbc.predict(x_test)\n",
    "\n",
    "print (\"The training accurancy is:\",accuracy_score(y_train,x_xgbc_predict))\n",
    "print (\"The testing accurancy is:\",accuracy_score(y_test,y_xgbc_predict))\n",
    "print ('\\n  \\n Test Classification Report \\n', classification_report(y_test,y_xgbc_predict,digits=2))\n",
    "print (\"\\n Conconfusion_matrix:\\n\",confusion_matrix(y_test,y_xgbc_predict))"
   ]
  },
  {
   "cell_type": "code",
   "execution_count": null,
   "id": "ff13c976",
   "metadata": {},
   "outputs": [],
   "source": []
  },
  {
   "cell_type": "code",
   "execution_count": 53,
   "id": "6b0b7d68",
   "metadata": {},
   "outputs": [
    {
     "data": {
      "text/html": [
       "<div>\n",
       "<style scoped>\n",
       "    .dataframe tbody tr th:only-of-type {\n",
       "        vertical-align: middle;\n",
       "    }\n",
       "\n",
       "    .dataframe tbody tr th {\n",
       "        vertical-align: top;\n",
       "    }\n",
       "\n",
       "    .dataframe thead th {\n",
       "        text-align: right;\n",
       "    }\n",
       "</style>\n",
       "<table border=\"1\" class=\"dataframe\">\n",
       "  <thead>\n",
       "    <tr style=\"text-align: right;\">\n",
       "      <th></th>\n",
       "      <th>Classifier</th>\n",
       "      <th>Accuracy Score (with tuning)</th>\n",
       "    </tr>\n",
       "  </thead>\n",
       "  <tbody>\n",
       "    <tr>\n",
       "      <th>0</th>\n",
       "      <td>lc= LogisticRegression()</td>\n",
       "      <td>68.02</td>\n",
       "    </tr>\n",
       "    <tr>\n",
       "      <th>1</th>\n",
       "      <td>dtc = DecisionTreeClassifier()</td>\n",
       "      <td>73.26</td>\n",
       "    </tr>\n",
       "    <tr>\n",
       "      <th>2</th>\n",
       "      <td>knnc = KNeighborsClassifier()</td>\n",
       "      <td>73.84</td>\n",
       "    </tr>\n",
       "    <tr>\n",
       "      <th>3</th>\n",
       "      <td>rfc = RandomForestClassifier()</td>\n",
       "      <td>76.74</td>\n",
       "    </tr>\n",
       "    <tr>\n",
       "      <th>4</th>\n",
       "      <td>svc=SVC()</td>\n",
       "      <td>65.70</td>\n",
       "    </tr>\n",
       "    <tr>\n",
       "      <th>5</th>\n",
       "      <td>grac = GradientBoostingClassifier()</td>\n",
       "      <td>74.42</td>\n",
       "    </tr>\n",
       "    <tr>\n",
       "      <th>6</th>\n",
       "      <td>adac=AdaBoostClassifier</td>\n",
       "      <td>79.65</td>\n",
       "    </tr>\n",
       "    <tr>\n",
       "      <th>7</th>\n",
       "      <td>gnbc=GaussianNB</td>\n",
       "      <td>66.86</td>\n",
       "    </tr>\n",
       "    <tr>\n",
       "      <th>8</th>\n",
       "      <td>sgdc=SGDClassifier()</td>\n",
       "      <td>68.60</td>\n",
       "    </tr>\n",
       "    <tr>\n",
       "      <th>9</th>\n",
       "      <td>xgbc=XGBClassifier()</td>\n",
       "      <td>79.07</td>\n",
       "    </tr>\n",
       "  </tbody>\n",
       "</table>\n",
       "</div>"
      ],
      "text/plain": [
       "                            Classifier  Accuracy Score (with tuning)\n",
       "0             lc= LogisticRegression()                         68.02\n",
       "1       dtc = DecisionTreeClassifier()                         73.26\n",
       "2        knnc = KNeighborsClassifier()                         73.84\n",
       "3       rfc = RandomForestClassifier()                         76.74\n",
       "4                            svc=SVC()                         65.70\n",
       "5  grac = GradientBoostingClassifier()                         74.42\n",
       "6              adac=AdaBoostClassifier                         79.65\n",
       "7                      gnbc=GaussianNB                         66.86\n",
       "8                 sgdc=SGDClassifier()                         68.60\n",
       "9                 xgbc=XGBClassifier()                         79.07"
      ]
     },
     "execution_count": 53,
     "metadata": {},
     "output_type": "execute_result"
    }
   ],
   "source": [
    "Acc_Score_tun =[round (accuracy_score(y_test,y_lc_predict)*100,2),\n",
    "                round (accuracy_score(y_test,y_dtc_predict)*100,2),\n",
    "                round (accuracy_score(y_test,y_knnc_predict)*100,2),\n",
    "                round (accuracy_score(y_test,y_rfc_predict)*100,2),\n",
    "                round (accuracy_score(y_test,y_svc_predict)*100,2),\n",
    "                round (accuracy_score(y_test,y_grac_predict)*100,2),\n",
    "                round (accuracy_score(y_test,y_adac_predict)*100,2),\n",
    "                round (accuracy_score(y_test,y_gnbc_predict)*100,2),\n",
    "                round (accuracy_score(y_test,y_sgdc_predict)*100,2),\n",
    "                round (accuracy_score(y_test,y_xgbc_predict)*100,2)]\n",
    "LAS = pd.DataFrame({'Classifier':['lc= LogisticRegression()', 'dtc = DecisionTreeClassifier()',\n",
    "                                 'knnc = KNeighborsClassifier()','rfc = RandomForestClassifier()','svc=SVC()',\n",
    "                                 'grac = GradientBoostingClassifier()', 'adac=AdaBoostClassifier','gnbc=GaussianNB', \n",
    "                                  'sgdc=SGDClassifier()', 'xgbc=XGBClassifier()'], \n",
    "                                 \n",
    "                                'Accuracy Score (with tuning)':Acc_Score_tun})\n",
    "LAS"
   ]
  },
  {
   "cell_type": "code",
   "execution_count": 54,
   "id": "57934dae",
   "metadata": {},
   "outputs": [
    {
     "data": {
      "text/html": [
       "<div>\n",
       "<style scoped>\n",
       "    .dataframe tbody tr th:only-of-type {\n",
       "        vertical-align: middle;\n",
       "    }\n",
       "\n",
       "    .dataframe tbody tr th {\n",
       "        vertical-align: top;\n",
       "    }\n",
       "\n",
       "    .dataframe thead th {\n",
       "        text-align: right;\n",
       "    }\n",
       "</style>\n",
       "<table border=\"1\" class=\"dataframe\">\n",
       "  <thead>\n",
       "    <tr style=\"text-align: right;\">\n",
       "      <th></th>\n",
       "      <th>Model Name</th>\n",
       "      <th>Training Score:</th>\n",
       "      <th>Accuracy Score (without tuning)</th>\n",
       "      <th>Classifier</th>\n",
       "      <th>Accuracy Score (with tuning)</th>\n",
       "    </tr>\n",
       "  </thead>\n",
       "  <tbody>\n",
       "    <tr>\n",
       "      <th>0</th>\n",
       "      <td>LC=LogisticRegression</td>\n",
       "      <td>75.61</td>\n",
       "      <td>75.00</td>\n",
       "      <td>lc= LogisticRegression()</td>\n",
       "      <td>68.02</td>\n",
       "    </tr>\n",
       "    <tr>\n",
       "      <th>1</th>\n",
       "      <td>DTC=DecisionTreeClassifier</td>\n",
       "      <td>100.00</td>\n",
       "      <td>81.10</td>\n",
       "      <td>dtc = DecisionTreeClassifier()</td>\n",
       "      <td>73.26</td>\n",
       "    </tr>\n",
       "    <tr>\n",
       "      <th>2</th>\n",
       "      <td>KNNC=KNeighborsClassifier</td>\n",
       "      <td>82.98</td>\n",
       "      <td>79.88</td>\n",
       "      <td>knnc = KNeighborsClassifier()</td>\n",
       "      <td>73.84</td>\n",
       "    </tr>\n",
       "    <tr>\n",
       "      <th>3</th>\n",
       "      <td>RFC=RandomForestClassifier</td>\n",
       "      <td>100.00</td>\n",
       "      <td>85.37</td>\n",
       "      <td>rfc = RandomForestClassifier()</td>\n",
       "      <td>76.74</td>\n",
       "    </tr>\n",
       "    <tr>\n",
       "      <th>4</th>\n",
       "      <td>SVc=SVC()</td>\n",
       "      <td>79.29</td>\n",
       "      <td>76.83</td>\n",
       "      <td>svc=SVC()</td>\n",
       "      <td>65.70</td>\n",
       "    </tr>\n",
       "    <tr>\n",
       "      <th>5</th>\n",
       "      <td>GRAC=GradientBoostingClassifier</td>\n",
       "      <td>91.26</td>\n",
       "      <td>89.02</td>\n",
       "      <td>grac = GradientBoostingClassifier()</td>\n",
       "      <td>74.42</td>\n",
       "    </tr>\n",
       "    <tr>\n",
       "      <th>6</th>\n",
       "      <td>ADAC=AdaBoostClassifier</td>\n",
       "      <td>84.66</td>\n",
       "      <td>82.93</td>\n",
       "      <td>adac=AdaBoostClassifier</td>\n",
       "      <td>79.65</td>\n",
       "    </tr>\n",
       "    <tr>\n",
       "      <th>7</th>\n",
       "      <td>GNBC=GaussianNB</td>\n",
       "      <td>74.39</td>\n",
       "      <td>71.95</td>\n",
       "      <td>gnbc=GaussianNB</td>\n",
       "      <td>66.86</td>\n",
       "    </tr>\n",
       "    <tr>\n",
       "      <th>8</th>\n",
       "      <td>SGDC=SGDClassifier()</td>\n",
       "      <td>69.63</td>\n",
       "      <td>72.56</td>\n",
       "      <td>sgdc=SGDClassifier()</td>\n",
       "      <td>68.60</td>\n",
       "    </tr>\n",
       "    <tr>\n",
       "      <th>9</th>\n",
       "      <td>XGBC=XGBClassifier()</td>\n",
       "      <td>100.00</td>\n",
       "      <td>84.15</td>\n",
       "      <td>xgbc=XGBClassifier()</td>\n",
       "      <td>79.07</td>\n",
       "    </tr>\n",
       "  </tbody>\n",
       "</table>\n",
       "</div>"
      ],
      "text/plain": [
       "                        Model Name  Training Score:  \\\n",
       "0            LC=LogisticRegression            75.61   \n",
       "1       DTC=DecisionTreeClassifier           100.00   \n",
       "2        KNNC=KNeighborsClassifier            82.98   \n",
       "3       RFC=RandomForestClassifier           100.00   \n",
       "4                        SVc=SVC()            79.29   \n",
       "5  GRAC=GradientBoostingClassifier            91.26   \n",
       "6          ADAC=AdaBoostClassifier            84.66   \n",
       "7                  GNBC=GaussianNB            74.39   \n",
       "8             SGDC=SGDClassifier()            69.63   \n",
       "9             XGBC=XGBClassifier()           100.00   \n",
       "\n",
       "   Accuracy Score (without tuning)                           Classifier  \\\n",
       "0                            75.00             lc= LogisticRegression()   \n",
       "1                            81.10       dtc = DecisionTreeClassifier()   \n",
       "2                            79.88        knnc = KNeighborsClassifier()   \n",
       "3                            85.37       rfc = RandomForestClassifier()   \n",
       "4                            76.83                            svc=SVC()   \n",
       "5                            89.02  grac = GradientBoostingClassifier()   \n",
       "6                            82.93              adac=AdaBoostClassifier   \n",
       "7                            71.95                      gnbc=GaussianNB   \n",
       "8                            72.56                 sgdc=SGDClassifier()   \n",
       "9                            84.15                 xgbc=XGBClassifier()   \n",
       "\n",
       "   Accuracy Score (with tuning)  \n",
       "0                         68.02  \n",
       "1                         73.26  \n",
       "2                         73.84  \n",
       "3                         76.74  \n",
       "4                         65.70  \n",
       "5                         74.42  \n",
       "6                         79.65  \n",
       "7                         66.86  \n",
       "8                         68.60  \n",
       "9                         79.07  "
      ]
     },
     "execution_count": 54,
     "metadata": {},
     "output_type": "execute_result"
    }
   ],
   "source": [
    "Loan_Application_Status= pd.concat([Result_df,LAS],axis=1)\n",
    "Loan_Application_Status"
   ]
  },
  {
   "cell_type": "markdown",
   "id": "d149dddb",
   "metadata": {},
   "source": [
    "# We are gettig high model accuracy: 89.02% with GradientBoostingClassifier model without tuning, which shows model is performing exremely well, so we can save this model.\n",
    "\n",
    "# Save the model using pickle"
   ]
  },
  {
   "cell_type": "code",
   "execution_count": 55,
   "id": "63fd7f9c",
   "metadata": {},
   "outputs": [],
   "source": [
    "import pickle\n",
    "pickle.dump(GRAC,open('LOAN_APPLICATION_STATUS','wb'))"
   ]
  },
  {
   "cell_type": "code",
   "execution_count": null,
   "id": "2db8926d",
   "metadata": {},
   "outputs": [],
   "source": []
  }
 ],
 "metadata": {
  "kernelspec": {
   "display_name": "Python 3 (ipykernel)",
   "language": "python",
   "name": "python3"
  },
  "language_info": {
   "codemirror_mode": {
    "name": "ipython",
    "version": 3
   },
   "file_extension": ".py",
   "mimetype": "text/x-python",
   "name": "python",
   "nbconvert_exporter": "python",
   "pygments_lexer": "ipython3",
   "version": "3.9.12"
  }
 },
 "nbformat": 4,
 "nbformat_minor": 5
}
