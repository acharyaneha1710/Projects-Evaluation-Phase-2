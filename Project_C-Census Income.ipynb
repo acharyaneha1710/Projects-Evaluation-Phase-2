{
 "cells": [
  {
   "cell_type": "markdown",
   "id": "d0e3cfe5",
   "metadata": {},
   "source": [
    "# Census Income\n",
    "\n",
    "## Project Description\n",
    "\n",
    "This data was extracted from the 1994 Census bureau database by Ronny Kohavi and Barry Becker (Data Mining and Visualization, Silicon Graphics). A set of reasonably clean records was extracted using the following conditions: ((AAGE>16) && (AGI>100) && (AFNLWGT>1) && (HRSWK>0)). The prediction task is to determine whether a person makes over $50K a year.\n"
   ]
  },
  {
   "cell_type": "markdown",
   "id": "e1a2d1fc",
   "metadata": {},
   "source": [
    "## Featues:\n",
    "\n",
    "Age, Workclass, Fnlwgt, Education, Education_num, Marital_status, Occupation, Relationship, Race, Sex, Capital_gain, \n",
    "Capital_loss, Hours_per_week, Native_country."
   ]
  },
  {
   "cell_type": "markdown",
   "id": "be9c5c98",
   "metadata": {},
   "source": [
    "## Target:\n",
    "\n",
    "Income"
   ]
  },
  {
   "cell_type": "markdown",
   "id": "e0487bda",
   "metadata": {},
   "source": [
    "## Census money income defination: \n",
    "It is defined as income received on a regular basis (exclusive of certain money receipts such as capital gains) before payments for personal income taxes, social security, union dues, medicare deductions, etc."
   ]
  },
  {
   "cell_type": "code",
   "execution_count": null,
   "id": "6da4fcb0",
   "metadata": {},
   "outputs": [],
   "source": []
  },
  {
   "cell_type": "code",
   "execution_count": 1,
   "id": "a9204e45",
   "metadata": {},
   "outputs": [],
   "source": [
    "import pandas as pd\n",
    "import numpy as np\n",
    "\n",
    "import matplotlib.pyplot as plt\n",
    "import seaborn as sns\n",
    "%matplotlib inline\n",
    "\n",
    "import warnings\n",
    "warnings.filterwarnings('ignore')"
   ]
  },
  {
   "cell_type": "code",
   "execution_count": 2,
   "id": "c1671f3c",
   "metadata": {},
   "outputs": [
    {
     "data": {
      "text/html": [
       "<div>\n",
       "<style scoped>\n",
       "    .dataframe tbody tr th:only-of-type {\n",
       "        vertical-align: middle;\n",
       "    }\n",
       "\n",
       "    .dataframe tbody tr th {\n",
       "        vertical-align: top;\n",
       "    }\n",
       "\n",
       "    .dataframe thead th {\n",
       "        text-align: right;\n",
       "    }\n",
       "</style>\n",
       "<table border=\"1\" class=\"dataframe\">\n",
       "  <thead>\n",
       "    <tr style=\"text-align: right;\">\n",
       "      <th></th>\n",
       "      <th>Age</th>\n",
       "      <th>Workclass</th>\n",
       "      <th>Fnlwgt</th>\n",
       "      <th>Education</th>\n",
       "      <th>Education_num</th>\n",
       "      <th>Marital_status</th>\n",
       "      <th>Occupation</th>\n",
       "      <th>Relationship</th>\n",
       "      <th>Race</th>\n",
       "      <th>Sex</th>\n",
       "      <th>Capital_gain</th>\n",
       "      <th>Capital_loss</th>\n",
       "      <th>Hours_per_week</th>\n",
       "      <th>Native_country</th>\n",
       "      <th>Income</th>\n",
       "    </tr>\n",
       "  </thead>\n",
       "  <tbody>\n",
       "    <tr>\n",
       "      <th>0</th>\n",
       "      <td>50</td>\n",
       "      <td>Self-emp-not-inc</td>\n",
       "      <td>83311</td>\n",
       "      <td>Bachelors</td>\n",
       "      <td>13</td>\n",
       "      <td>Married-civ-spouse</td>\n",
       "      <td>Exec-managerial</td>\n",
       "      <td>Husband</td>\n",
       "      <td>White</td>\n",
       "      <td>Male</td>\n",
       "      <td>0</td>\n",
       "      <td>0</td>\n",
       "      <td>13</td>\n",
       "      <td>United-States</td>\n",
       "      <td>&lt;=50K</td>\n",
       "    </tr>\n",
       "    <tr>\n",
       "      <th>1</th>\n",
       "      <td>38</td>\n",
       "      <td>Private</td>\n",
       "      <td>215646</td>\n",
       "      <td>HS-grad</td>\n",
       "      <td>9</td>\n",
       "      <td>Divorced</td>\n",
       "      <td>Handlers-cleaners</td>\n",
       "      <td>Not-in-family</td>\n",
       "      <td>White</td>\n",
       "      <td>Male</td>\n",
       "      <td>0</td>\n",
       "      <td>0</td>\n",
       "      <td>40</td>\n",
       "      <td>United-States</td>\n",
       "      <td>&lt;=50K</td>\n",
       "    </tr>\n",
       "    <tr>\n",
       "      <th>2</th>\n",
       "      <td>53</td>\n",
       "      <td>Private</td>\n",
       "      <td>234721</td>\n",
       "      <td>11th</td>\n",
       "      <td>7</td>\n",
       "      <td>Married-civ-spouse</td>\n",
       "      <td>Handlers-cleaners</td>\n",
       "      <td>Husband</td>\n",
       "      <td>Black</td>\n",
       "      <td>Male</td>\n",
       "      <td>0</td>\n",
       "      <td>0</td>\n",
       "      <td>40</td>\n",
       "      <td>United-States</td>\n",
       "      <td>&lt;=50K</td>\n",
       "    </tr>\n",
       "    <tr>\n",
       "      <th>3</th>\n",
       "      <td>28</td>\n",
       "      <td>Private</td>\n",
       "      <td>338409</td>\n",
       "      <td>Bachelors</td>\n",
       "      <td>13</td>\n",
       "      <td>Married-civ-spouse</td>\n",
       "      <td>Prof-specialty</td>\n",
       "      <td>Wife</td>\n",
       "      <td>Black</td>\n",
       "      <td>Female</td>\n",
       "      <td>0</td>\n",
       "      <td>0</td>\n",
       "      <td>40</td>\n",
       "      <td>Cuba</td>\n",
       "      <td>&lt;=50K</td>\n",
       "    </tr>\n",
       "    <tr>\n",
       "      <th>4</th>\n",
       "      <td>37</td>\n",
       "      <td>Private</td>\n",
       "      <td>284582</td>\n",
       "      <td>Masters</td>\n",
       "      <td>14</td>\n",
       "      <td>Married-civ-spouse</td>\n",
       "      <td>Exec-managerial</td>\n",
       "      <td>Wife</td>\n",
       "      <td>White</td>\n",
       "      <td>Female</td>\n",
       "      <td>0</td>\n",
       "      <td>0</td>\n",
       "      <td>40</td>\n",
       "      <td>United-States</td>\n",
       "      <td>&lt;=50K</td>\n",
       "    </tr>\n",
       "    <tr>\n",
       "      <th>...</th>\n",
       "      <td>...</td>\n",
       "      <td>...</td>\n",
       "      <td>...</td>\n",
       "      <td>...</td>\n",
       "      <td>...</td>\n",
       "      <td>...</td>\n",
       "      <td>...</td>\n",
       "      <td>...</td>\n",
       "      <td>...</td>\n",
       "      <td>...</td>\n",
       "      <td>...</td>\n",
       "      <td>...</td>\n",
       "      <td>...</td>\n",
       "      <td>...</td>\n",
       "      <td>...</td>\n",
       "    </tr>\n",
       "    <tr>\n",
       "      <th>32555</th>\n",
       "      <td>27</td>\n",
       "      <td>Private</td>\n",
       "      <td>257302</td>\n",
       "      <td>Assoc-acdm</td>\n",
       "      <td>12</td>\n",
       "      <td>Married-civ-spouse</td>\n",
       "      <td>Tech-support</td>\n",
       "      <td>Wife</td>\n",
       "      <td>White</td>\n",
       "      <td>Female</td>\n",
       "      <td>0</td>\n",
       "      <td>0</td>\n",
       "      <td>38</td>\n",
       "      <td>United-States</td>\n",
       "      <td>&lt;=50K</td>\n",
       "    </tr>\n",
       "    <tr>\n",
       "      <th>32556</th>\n",
       "      <td>40</td>\n",
       "      <td>Private</td>\n",
       "      <td>154374</td>\n",
       "      <td>HS-grad</td>\n",
       "      <td>9</td>\n",
       "      <td>Married-civ-spouse</td>\n",
       "      <td>Machine-op-inspct</td>\n",
       "      <td>Husband</td>\n",
       "      <td>White</td>\n",
       "      <td>Male</td>\n",
       "      <td>0</td>\n",
       "      <td>0</td>\n",
       "      <td>40</td>\n",
       "      <td>United-States</td>\n",
       "      <td>&gt;50K</td>\n",
       "    </tr>\n",
       "    <tr>\n",
       "      <th>32557</th>\n",
       "      <td>58</td>\n",
       "      <td>Private</td>\n",
       "      <td>151910</td>\n",
       "      <td>HS-grad</td>\n",
       "      <td>9</td>\n",
       "      <td>Widowed</td>\n",
       "      <td>Adm-clerical</td>\n",
       "      <td>Unmarried</td>\n",
       "      <td>White</td>\n",
       "      <td>Female</td>\n",
       "      <td>0</td>\n",
       "      <td>0</td>\n",
       "      <td>40</td>\n",
       "      <td>United-States</td>\n",
       "      <td>&lt;=50K</td>\n",
       "    </tr>\n",
       "    <tr>\n",
       "      <th>32558</th>\n",
       "      <td>22</td>\n",
       "      <td>Private</td>\n",
       "      <td>201490</td>\n",
       "      <td>HS-grad</td>\n",
       "      <td>9</td>\n",
       "      <td>Never-married</td>\n",
       "      <td>Adm-clerical</td>\n",
       "      <td>Own-child</td>\n",
       "      <td>White</td>\n",
       "      <td>Male</td>\n",
       "      <td>0</td>\n",
       "      <td>0</td>\n",
       "      <td>20</td>\n",
       "      <td>United-States</td>\n",
       "      <td>&lt;=50K</td>\n",
       "    </tr>\n",
       "    <tr>\n",
       "      <th>32559</th>\n",
       "      <td>52</td>\n",
       "      <td>Self-emp-inc</td>\n",
       "      <td>287927</td>\n",
       "      <td>HS-grad</td>\n",
       "      <td>9</td>\n",
       "      <td>Married-civ-spouse</td>\n",
       "      <td>Exec-managerial</td>\n",
       "      <td>Wife</td>\n",
       "      <td>White</td>\n",
       "      <td>Female</td>\n",
       "      <td>15024</td>\n",
       "      <td>0</td>\n",
       "      <td>40</td>\n",
       "      <td>United-States</td>\n",
       "      <td>&gt;50K</td>\n",
       "    </tr>\n",
       "  </tbody>\n",
       "</table>\n",
       "<p>32560 rows × 15 columns</p>\n",
       "</div>"
      ],
      "text/plain": [
       "       Age          Workclass  Fnlwgt    Education  Education_num  \\\n",
       "0       50   Self-emp-not-inc   83311    Bachelors             13   \n",
       "1       38            Private  215646      HS-grad              9   \n",
       "2       53            Private  234721         11th              7   \n",
       "3       28            Private  338409    Bachelors             13   \n",
       "4       37            Private  284582      Masters             14   \n",
       "...    ...                ...     ...          ...            ...   \n",
       "32555   27            Private  257302   Assoc-acdm             12   \n",
       "32556   40            Private  154374      HS-grad              9   \n",
       "32557   58            Private  151910      HS-grad              9   \n",
       "32558   22            Private  201490      HS-grad              9   \n",
       "32559   52       Self-emp-inc  287927      HS-grad              9   \n",
       "\n",
       "            Marital_status          Occupation    Relationship    Race  \\\n",
       "0       Married-civ-spouse     Exec-managerial         Husband   White   \n",
       "1                 Divorced   Handlers-cleaners   Not-in-family   White   \n",
       "2       Married-civ-spouse   Handlers-cleaners         Husband   Black   \n",
       "3       Married-civ-spouse      Prof-specialty            Wife   Black   \n",
       "4       Married-civ-spouse     Exec-managerial            Wife   White   \n",
       "...                    ...                 ...             ...     ...   \n",
       "32555   Married-civ-spouse        Tech-support            Wife   White   \n",
       "32556   Married-civ-spouse   Machine-op-inspct         Husband   White   \n",
       "32557              Widowed        Adm-clerical       Unmarried   White   \n",
       "32558        Never-married        Adm-clerical       Own-child   White   \n",
       "32559   Married-civ-spouse     Exec-managerial            Wife   White   \n",
       "\n",
       "           Sex  Capital_gain  Capital_loss  Hours_per_week  Native_country  \\\n",
       "0         Male             0             0              13   United-States   \n",
       "1         Male             0             0              40   United-States   \n",
       "2         Male             0             0              40   United-States   \n",
       "3       Female             0             0              40            Cuba   \n",
       "4       Female             0             0              40   United-States   \n",
       "...        ...           ...           ...             ...             ...   \n",
       "32555   Female             0             0              38   United-States   \n",
       "32556     Male             0             0              40   United-States   \n",
       "32557   Female             0             0              40   United-States   \n",
       "32558     Male             0             0              20   United-States   \n",
       "32559   Female         15024             0              40   United-States   \n",
       "\n",
       "       Income  \n",
       "0       <=50K  \n",
       "1       <=50K  \n",
       "2       <=50K  \n",
       "3       <=50K  \n",
       "4       <=50K  \n",
       "...       ...  \n",
       "32555   <=50K  \n",
       "32556    >50K  \n",
       "32557   <=50K  \n",
       "32558   <=50K  \n",
       "32559    >50K  \n",
       "\n",
       "[32560 rows x 15 columns]"
      ]
     },
     "execution_count": 2,
     "metadata": {},
     "output_type": "execute_result"
    }
   ],
   "source": [
    "df=pd.read_csv('census_income.csv')\n",
    "df"
   ]
  },
  {
   "cell_type": "code",
   "execution_count": 3,
   "id": "93ec1090",
   "metadata": {},
   "outputs": [
    {
     "data": {
      "text/plain": [
       "Age               0\n",
       "Workclass         0\n",
       "Fnlwgt            0\n",
       "Education         0\n",
       "Education_num     0\n",
       "Marital_status    0\n",
       "Occupation        0\n",
       "Relationship      0\n",
       "Race              0\n",
       "Sex               0\n",
       "Capital_gain      0\n",
       "Capital_loss      0\n",
       "Hours_per_week    0\n",
       "Native_country    0\n",
       "Income            0\n",
       "dtype: int64"
      ]
     },
     "execution_count": 3,
     "metadata": {},
     "output_type": "execute_result"
    }
   ],
   "source": [
    "df.isnull().sum()"
   ]
  },
  {
   "cell_type": "code",
   "execution_count": 4,
   "id": "d74a4fd3",
   "metadata": {},
   "outputs": [
    {
     "name": "stdout",
     "output_type": "stream",
     "text": [
      "<class 'pandas.core.frame.DataFrame'>\n",
      "RangeIndex: 32560 entries, 0 to 32559\n",
      "Data columns (total 15 columns):\n",
      " #   Column          Non-Null Count  Dtype \n",
      "---  ------          --------------  ----- \n",
      " 0   Age             32560 non-null  int64 \n",
      " 1   Workclass       32560 non-null  object\n",
      " 2   Fnlwgt          32560 non-null  int64 \n",
      " 3   Education       32560 non-null  object\n",
      " 4   Education_num   32560 non-null  int64 \n",
      " 5   Marital_status  32560 non-null  object\n",
      " 6   Occupation      32560 non-null  object\n",
      " 7   Relationship    32560 non-null  object\n",
      " 8   Race            32560 non-null  object\n",
      " 9   Sex             32560 non-null  object\n",
      " 10  Capital_gain    32560 non-null  int64 \n",
      " 11  Capital_loss    32560 non-null  int64 \n",
      " 12  Hours_per_week  32560 non-null  int64 \n",
      " 13  Native_country  32560 non-null  object\n",
      " 14  Income          32560 non-null  object\n",
      "dtypes: int64(6), object(9)\n",
      "memory usage: 3.7+ MB\n"
     ]
    }
   ],
   "source": [
    "df.info()"
   ]
  },
  {
   "cell_type": "markdown",
   "id": "e8680759",
   "metadata": {},
   "source": [
    "As per observation:\n",
    "\n",
    "1. The dataset has 32560 rows and 15 columns.\n",
    "2. No any null values.\n",
    "3. Dataset has object and int types data."
   ]
  },
  {
   "cell_type": "code",
   "execution_count": 5,
   "id": "86ad511d",
   "metadata": {},
   "outputs": [],
   "source": [
    "df.drop_duplicates(inplace=True)"
   ]
  },
  {
   "cell_type": "code",
   "execution_count": 6,
   "id": "74905fef",
   "metadata": {},
   "outputs": [
    {
     "data": {
      "text/plain": [
       "(32536, 15)"
      ]
     },
     "execution_count": 6,
     "metadata": {},
     "output_type": "execute_result"
    }
   ],
   "source": [
    "df.shape"
   ]
  },
  {
   "cell_type": "markdown",
   "id": "79be35c5",
   "metadata": {},
   "source": [
    "After removing duplicate values, dataset has 32536 rows and 15 columns."
   ]
  },
  {
   "cell_type": "markdown",
   "id": "c8be2c4e",
   "metadata": {},
   "source": [
    "# Now Seperate Object and Numeric (Int, Float) datatype for future process."
   ]
  },
  {
   "cell_type": "code",
   "execution_count": 7,
   "id": "7bb6ca54",
   "metadata": {},
   "outputs": [
    {
     "name": "stdout",
     "output_type": "stream",
     "text": [
      "9\n"
     ]
    },
    {
     "data": {
      "text/plain": [
       "['Workclass',\n",
       " 'Education',\n",
       " 'Marital_status',\n",
       " 'Occupation',\n",
       " 'Relationship',\n",
       " 'Race',\n",
       " 'Sex',\n",
       " 'Native_country',\n",
       " 'Income']"
      ]
     },
     "execution_count": 7,
     "metadata": {},
     "output_type": "execute_result"
    }
   ],
   "source": [
    "object_datatypes=[]\n",
    "for i in df.dtypes.index:\n",
    "    if df.dtypes[i]=='object':\n",
    "        object_datatypes.append(i)\n",
    "print(len(object_datatypes))\n",
    "object_datatypes  "
   ]
  },
  {
   "cell_type": "code",
   "execution_count": 8,
   "id": "986e92ef",
   "metadata": {},
   "outputs": [
    {
     "name": "stdout",
     "output_type": "stream",
     "text": [
      "Workclass : \n",
      "  Private             22673\n",
      " Self-emp-not-inc     2540\n",
      " Local-gov            2093\n",
      " ?                    1836\n",
      " State-gov            1297\n",
      " Self-emp-inc         1116\n",
      " Federal-gov           960\n",
      " Without-pay            14\n",
      " Never-worked            7\n",
      "Name: Workclass, dtype: int64 \t:Total Categories: 9 \n",
      "\n",
      "Education : \n",
      "  HS-grad         10494\n",
      " Some-college     7282\n",
      " Bachelors        5352\n",
      " Masters          1722\n",
      " Assoc-voc        1382\n",
      " 11th             1175\n",
      " Assoc-acdm       1067\n",
      " 10th              933\n",
      " 7th-8th           645\n",
      " Prof-school       576\n",
      " 9th               514\n",
      " 12th              433\n",
      " Doctorate         413\n",
      " 5th-6th           332\n",
      " 1st-4th           166\n",
      " Preschool          50\n",
      "Name: Education, dtype: int64 \t:Total Categories: 16 \n",
      "\n",
      "Marital_status : \n",
      "  Married-civ-spouse       14970\n",
      " Never-married            10666\n",
      " Divorced                  4441\n",
      " Separated                 1025\n",
      " Widowed                    993\n",
      " Married-spouse-absent      418\n",
      " Married-AF-spouse           23\n",
      "Name: Marital_status, dtype: int64 \t:Total Categories: 7 \n",
      "\n",
      "Occupation : \n",
      "  Prof-specialty       4136\n",
      " Craft-repair         4094\n",
      " Exec-managerial      4065\n",
      " Adm-clerical         3767\n",
      " Sales                3650\n",
      " Other-service        3291\n",
      " Machine-op-inspct    2000\n",
      " ?                    1843\n",
      " Transport-moving     1597\n",
      " Handlers-cleaners    1369\n",
      " Farming-fishing       992\n",
      " Tech-support          927\n",
      " Protective-serv       649\n",
      " Priv-house-serv       147\n",
      " Armed-Forces            9\n",
      "Name: Occupation, dtype: int64 \t:Total Categories: 15 \n",
      "\n",
      "Relationship : \n",
      "  Husband           13187\n",
      " Not-in-family      8291\n",
      " Own-child          5064\n",
      " Unmarried          3445\n",
      " Wife               1568\n",
      " Other-relative      981\n",
      "Name: Relationship, dtype: int64 \t:Total Categories: 6 \n",
      "\n",
      "Race : \n",
      "  White                 27794\n",
      " Black                  3122\n",
      " Asian-Pac-Islander     1038\n",
      " Amer-Indian-Eskimo      311\n",
      " Other                   271\n",
      "Name: Race, dtype: int64 \t:Total Categories: 5 \n",
      "\n",
      "Sex : \n",
      "  Male      21774\n",
      " Female    10762\n",
      "Name: Sex, dtype: int64 \t:Total Categories: 2 \n",
      "\n",
      "Native_country : \n",
      "  United-States                 29152\n",
      " Mexico                          639\n",
      " ?                               582\n",
      " Philippines                     198\n",
      " Germany                         137\n",
      " Canada                          121\n",
      " Puerto-Rico                     114\n",
      " El-Salvador                     106\n",
      " India                           100\n",
      " Cuba                             95\n",
      " England                          90\n",
      " Jamaica                          81\n",
      " South                            80\n",
      " China                            75\n",
      " Italy                            73\n",
      " Dominican-Republic               70\n",
      " Vietnam                          67\n",
      " Japan                            62\n",
      " Guatemala                        62\n",
      " Poland                           60\n",
      " Columbia                         59\n",
      " Taiwan                           51\n",
      " Haiti                            44\n",
      " Iran                             43\n",
      " Portugal                         37\n",
      " Nicaragua                        34\n",
      " Peru                             31\n",
      " France                           29\n",
      " Greece                           29\n",
      " Ecuador                          28\n",
      " Ireland                          24\n",
      " Hong                             20\n",
      " Cambodia                         19\n",
      " Trinadad&Tobago                  19\n",
      " Laos                             18\n",
      " Thailand                         18\n",
      " Yugoslavia                       16\n",
      " Outlying-US(Guam-USVI-etc)       14\n",
      " Honduras                         13\n",
      " Hungary                          13\n",
      " Scotland                         12\n",
      " Holand-Netherlands                1\n",
      "Name: Native_country, dtype: int64 \t:Total Categories: 42 \n",
      "\n",
      "Income : \n",
      "  <=50K    24697\n",
      " >50K      7839\n",
      "Name: Income, dtype: int64 \t:Total Categories: 2 \n",
      "\n"
     ]
    }
   ],
   "source": [
    "for i in df.columns:\n",
    "    if df[i].dtypes == 'object':\n",
    "        val=df[i].value_counts()\n",
    "        nval=df[i].nunique()\n",
    "        print(i ,':','\\n',val, '\\t:Total Categories:', nval, '\\n')"
   ]
  },
  {
   "cell_type": "code",
   "execution_count": 9,
   "id": "2beae880",
   "metadata": {},
   "outputs": [
    {
     "name": "stdout",
     "output_type": "stream",
     "text": [
      "Total: 6\n"
     ]
    },
    {
     "data": {
      "text/plain": [
       "['Age',\n",
       " 'Fnlwgt',\n",
       " 'Education_num',\n",
       " 'Capital_gain',\n",
       " 'Capital_loss',\n",
       " 'Hours_per_week']"
      ]
     },
     "execution_count": 9,
     "metadata": {},
     "output_type": "execute_result"
    }
   ],
   "source": [
    "numeric_datatypes=[]\n",
    "for i in df.dtypes.index:\n",
    "    if df.dtypes[i]!='object':\n",
    "        numeric_datatypes.append(i) \n",
    "print('Total:', len(numeric_datatypes))\n",
    "numeric_datatypes"
   ]
  },
  {
   "cell_type": "code",
   "execution_count": 10,
   "id": "b11a1dd6",
   "metadata": {},
   "outputs": [
    {
     "name": "stdout",
     "output_type": "stream",
     "text": [
      "Age : \n",
      " 36    898\n",
      "31    888\n",
      "34    886\n",
      "23    876\n",
      "33    875\n",
      "     ... \n",
      "83      6\n",
      "88      3\n",
      "85      3\n",
      "86      1\n",
      "87      1\n",
      "Name: Age, Length: 73, dtype: int64 \t:Total Categories: 73 \n",
      "\n",
      "Fnlwgt : \n",
      " 123011    13\n",
      "164190    13\n",
      "203488    13\n",
      "121124    12\n",
      "126675    12\n",
      "          ..\n",
      "158040     1\n",
      "232784     1\n",
      "325573     1\n",
      "140176     1\n",
      "257302     1\n",
      "Name: Fnlwgt, Length: 21647, dtype: int64 \t:Total Categories: 21647 \n",
      "\n",
      "Education_num : \n",
      " 9     10494\n",
      "10     7282\n",
      "13     5352\n",
      "14     1722\n",
      "11     1382\n",
      "7      1175\n",
      "12     1067\n",
      "6       933\n",
      "4       645\n",
      "15      576\n",
      "5       514\n",
      "8       433\n",
      "16      413\n",
      "3       332\n",
      "2       166\n",
      "1        50\n",
      "Name: Education_num, dtype: int64 \t:Total Categories: 16 \n",
      "\n",
      "Capital_gain : \n",
      " 0        29825\n",
      "15024      347\n",
      "7688       284\n",
      "7298       246\n",
      "99999      159\n",
      "         ...  \n",
      "1111         1\n",
      "2538         1\n",
      "22040        1\n",
      "4931         1\n",
      "5060         1\n",
      "Name: Capital_gain, Length: 119, dtype: int64 \t:Total Categories: 119 \n",
      "\n",
      "Capital_loss : \n",
      " 0       31017\n",
      "1902      202\n",
      "1977      168\n",
      "1887      159\n",
      "1848       51\n",
      "        ...  \n",
      "2080        1\n",
      "1539        1\n",
      "1844        1\n",
      "2489        1\n",
      "1411        1\n",
      "Name: Capital_loss, Length: 92, dtype: int64 \t:Total Categories: 92 \n",
      "\n",
      "Hours_per_week : \n",
      " 40    15203\n",
      "50     2817\n",
      "45     1823\n",
      "60     1475\n",
      "35     1296\n",
      "      ...  \n",
      "82        1\n",
      "94        1\n",
      "92        1\n",
      "74        1\n",
      "87        1\n",
      "Name: Hours_per_week, Length: 94, dtype: int64 \t:Total Categories: 94 \n",
      "\n"
     ]
    }
   ],
   "source": [
    "for i in df.columns:\n",
    "    if df[i].dtypes != 'object':\n",
    "        val=df[i].value_counts()\n",
    "        nval=df[i].nunique()\n",
    "        print(i ,':','\\n',val, '\\t:Total Categories:', nval, '\\n')"
   ]
  },
  {
   "cell_type": "markdown",
   "id": "82e66529",
   "metadata": {},
   "source": [
    "As per observarion of value_count and nunique values,\n",
    "1. 'workclass', 'occupation', 'Native_country' categorical columns have \"?\" value, which menas unknown values.\n",
    "2. Numeric columns with more than 70%-75% nulls means here it is '0' value, drop them, otherwise it gives poor performance of models."
   ]
  },
  {
   "cell_type": "markdown",
   "id": "88ccb3fe",
   "metadata": {},
   "source": [
    "# Let's handle unknown '?' value & Data Visualization."
   ]
  },
  {
   "cell_type": "code",
   "execution_count": 11,
   "id": "3e735c59",
   "metadata": {},
   "outputs": [
    {
     "data": {
      "text/plain": [
       "<Figure size 1080x576 with 0 Axes>"
      ]
     },
     "metadata": {},
     "output_type": "display_data"
    },
    {
     "data": {
      "image/png": "[encoded data removed]",
      "text/plain": [
       "<Figure size 795x360 with 1 Axes>"
      ]
     },
     "metadata": {
      "needs_background": "light"
     },
     "output_type": "display_data"
    }
   ],
   "source": [
    "plt.figure(figsize=(15,8))\n",
    "sns.factorplot(x='Workclass',data=df,kind='count',hue='Income',height=5, aspect=2)\n",
    "locs, labels = plt.xticks()\n",
    "plt.setp(labels, rotation=80)\n",
    "plt.show()"
   ]
  },
  {
   "cell_type": "code",
   "execution_count": 12,
   "id": "626f1d1f",
   "metadata": {},
   "outputs": [],
   "source": [
    "df.Workclass = df.Workclass.str.replace('?',df.Workclass.mode().iloc[0]) # get mode of Workclass column"
   ]
  },
  {
   "cell_type": "code",
   "execution_count": 13,
   "id": "9ceadd2a",
   "metadata": {},
   "outputs": [
    {
     "data": {
      "text/plain": [
       "<Figure size 1440x720 with 0 Axes>"
      ]
     },
     "metadata": {},
     "output_type": "display_data"
    },
    {
     "data": {
      "image/png": "[encoded data removed]",
      "text/plain": [
       "<Figure size 795x360 with 1 Axes>"
      ]
     },
     "metadata": {
      "needs_background": "light"
     },
     "output_type": "display_data"
    }
   ],
   "source": [
    "plt.figure(figsize=(20,10))\n",
    "sns.factorplot(x='Occupation',data=df,kind='count',hue='Income',height=5, aspect=2)\n",
    "locs, labels = plt.xticks()\n",
    "plt.setp(labels, rotation=80)\n",
    "plt.show()"
   ]
  },
  {
   "cell_type": "code",
   "execution_count": 14,
   "id": "3650c4c2",
   "metadata": {},
   "outputs": [],
   "source": [
    "df.Occupation = df.Occupation.str.replace('?','Other-service')"
   ]
  },
  {
   "cell_type": "code",
   "execution_count": 15,
   "id": "6d3dd207",
   "metadata": {},
   "outputs": [],
   "source": [
    "df.Native_country = df.Native_country.str.replace('?',df.Native_country.mode().iloc[0])"
   ]
  },
  {
   "cell_type": "code",
   "execution_count": 16,
   "id": "3a60cd76",
   "metadata": {},
   "outputs": [
    {
     "data": {
      "image/png": "[encoded data removed]",
      "text/plain": [
       "<Figure size 795x360 with 1 Axes>"
      ]
     },
     "metadata": {
      "needs_background": "light"
     },
     "output_type": "display_data"
    }
   ],
   "source": [
    "#plt.figure(figsize=(20,10))\n",
    "sns.catplot(x='Education',y='Education_num', data=df,hue=\"Income\",kind='bar',height=5, aspect=2)\n",
    "locs, labels = plt.xticks()\n",
    "plt.setp(labels, rotation=80)\n",
    "plt.show()"
   ]
  },
  {
   "cell_type": "markdown",
   "id": "e0edeca0",
   "metadata": {},
   "source": [
    "As per observation, Education_num is totaly same as Education, so can drop Education column."
   ]
  },
  {
   "cell_type": "code",
   "execution_count": 17,
   "id": "bb0c58d8",
   "metadata": {},
   "outputs": [],
   "source": [
    "df.drop(columns='Education',inplace=True)"
   ]
  },
  {
   "cell_type": "code",
   "execution_count": 18,
   "id": "9568faa3",
   "metadata": {},
   "outputs": [
    {
     "data": {
      "image/png": "[encoded data removed]",
      "text/plain": [
       "<Figure size 795x360 with 1 Axes>"
      ]
     },
     "metadata": {
      "needs_background": "light"
     },
     "output_type": "display_data"
    }
   ],
   "source": [
    "sns.factorplot(x='Education_num',data=df,kind='count',hue='Income',height=5, aspect=2)\n",
    "locs, labels = plt.xticks()\n",
    "plt.setp(labels, rotation=80)\n",
    "plt.show()"
   ]
  },
  {
   "cell_type": "code",
   "execution_count": 19,
   "id": "fb4477a5",
   "metadata": {},
   "outputs": [
    {
     "data": {
      "image/png": "[encoded data removed]",
      "text/plain": [
       "<Figure size 795x360 with 1 Axes>"
      ]
     },
     "metadata": {
      "needs_background": "light"
     },
     "output_type": "display_data"
    }
   ],
   "source": [
    "sns.factorplot(x='Marital_status',data=df,kind='count',hue='Income',height=5, aspect=2)\n",
    "locs, labels = plt.xticks()\n",
    "plt.setp(labels, rotation=80)\n",
    "plt.show()"
   ]
  },
  {
   "cell_type": "code",
   "execution_count": 35,
   "id": "b066fa8b",
   "metadata": {},
   "outputs": [],
   "source": [
    "# As per Defination of Census Income, It excluded the Capital gain, Capital loss, etc,money.\n",
    "# Also these columns having more number of 0's, so dropt them\n",
    "df.drop(\"Capital_gain\",axis=1,inplace=True)\n",
    "df.drop(\"Capital_loss\",axis=1,inplace=True)"
   ]
  },
  {
   "cell_type": "code",
   "execution_count": 36,
   "id": "0225b115",
   "metadata": {},
   "outputs": [
    {
     "data": {
      "image/png": "[encoded data removed]",
      "text/plain": [
       "<Figure size 1155x360 with 1 Axes>"
      ]
     },
     "metadata": {
      "needs_background": "light"
     },
     "output_type": "display_data"
    }
   ],
   "source": [
    "sns.factorplot(x='Age',data=df,kind='count',hue='Income',height=5, aspect=3)\n",
    "locs, labels = plt.xticks()\n",
    "plt.setp(labels, rotation=80)\n",
    "plt.show()"
   ]
  },
  {
   "cell_type": "code",
   "execution_count": 37,
   "id": "23fde984",
   "metadata": {},
   "outputs": [
    {
     "data": {
      "image/png": "[encoded data removed]",
      "text/plain": [
       "<Figure size 1440x504 with 3 Axes>"
      ]
     },
     "metadata": {
      "needs_background": "light"
     },
     "output_type": "display_data"
    }
   ],
   "source": [
    "plt.figure (figsize=(20,7))\n",
    "plotnumber = 1\n",
    "\n",
    "numeric_featues=['Age','Fnlwgt','Hours_per_week']\n",
    "for column in numeric_featues:\n",
    "    if plotnumber<=16:\n",
    "        ax=plt.subplot(1,3,plotnumber)\n",
    "        sns.distplot(df[column])\n",
    "        plt.xlabel(column,fontsize=20)          \n",
    "    plotnumber+=1\n",
    "                     \n",
    "plt.show()"
   ]
  },
  {
   "cell_type": "code",
   "execution_count": 38,
   "id": "8bccd522",
   "metadata": {},
   "outputs": [
    {
     "data": {
      "image/png": "[encoded data removed]",
      "text/plain": [
       "<Figure size 1440x504 with 3 Axes>"
      ]
     },
     "metadata": {
      "needs_background": "light"
     },
     "output_type": "display_data"
    }
   ],
   "source": [
    "plt.figure (figsize=(20,7))\n",
    "plotnumber = 1\n",
    "\n",
    "for column in numeric_featues:\n",
    "    if plotnumber<=16:\n",
    "        ax=plt.subplot(2,3,plotnumber)\n",
    "        sns.boxplot(df[column])\n",
    "        plt.xlabel(column,fontsize=20)          \n",
    "    plotnumber+=1\n",
    "                     \n",
    "plt.show()"
   ]
  },
  {
   "cell_type": "code",
   "execution_count": 39,
   "id": "032c019d",
   "metadata": {},
   "outputs": [
    {
     "data": {
      "text/html": [
       "<div>\n",
       "<style scoped>\n",
       "    .dataframe tbody tr th:only-of-type {\n",
       "        vertical-align: middle;\n",
       "    }\n",
       "\n",
       "    .dataframe tbody tr th {\n",
       "        vertical-align: top;\n",
       "    }\n",
       "\n",
       "    .dataframe thead th {\n",
       "        text-align: right;\n",
       "    }\n",
       "</style>\n",
       "<table border=\"1\" class=\"dataframe\">\n",
       "  <thead>\n",
       "    <tr style=\"text-align: right;\">\n",
       "      <th></th>\n",
       "      <th>Age</th>\n",
       "      <th>Fnlwgt</th>\n",
       "      <th>Education_num</th>\n",
       "      <th>Hours_per_week</th>\n",
       "    </tr>\n",
       "  </thead>\n",
       "  <tbody>\n",
       "    <tr>\n",
       "      <th>count</th>\n",
       "      <td>32536.000000</td>\n",
       "      <td>3.253600e+04</td>\n",
       "      <td>32536.000000</td>\n",
       "      <td>32536.000000</td>\n",
       "    </tr>\n",
       "    <tr>\n",
       "      <th>mean</th>\n",
       "      <td>38.585536</td>\n",
       "      <td>1.897843e+05</td>\n",
       "      <td>10.081725</td>\n",
       "      <td>40.440343</td>\n",
       "    </tr>\n",
       "    <tr>\n",
       "      <th>std</th>\n",
       "      <td>13.638193</td>\n",
       "      <td>1.055563e+05</td>\n",
       "      <td>2.571622</td>\n",
       "      <td>12.347079</td>\n",
       "    </tr>\n",
       "    <tr>\n",
       "      <th>min</th>\n",
       "      <td>17.000000</td>\n",
       "      <td>1.228500e+04</td>\n",
       "      <td>1.000000</td>\n",
       "      <td>1.000000</td>\n",
       "    </tr>\n",
       "    <tr>\n",
       "      <th>25%</th>\n",
       "      <td>28.000000</td>\n",
       "      <td>1.178315e+05</td>\n",
       "      <td>9.000000</td>\n",
       "      <td>40.000000</td>\n",
       "    </tr>\n",
       "    <tr>\n",
       "      <th>50%</th>\n",
       "      <td>37.000000</td>\n",
       "      <td>1.783560e+05</td>\n",
       "      <td>10.000000</td>\n",
       "      <td>40.000000</td>\n",
       "    </tr>\n",
       "    <tr>\n",
       "      <th>75%</th>\n",
       "      <td>48.000000</td>\n",
       "      <td>2.369932e+05</td>\n",
       "      <td>12.000000</td>\n",
       "      <td>45.000000</td>\n",
       "    </tr>\n",
       "    <tr>\n",
       "      <th>max</th>\n",
       "      <td>90.000000</td>\n",
       "      <td>1.484705e+06</td>\n",
       "      <td>16.000000</td>\n",
       "      <td>99.000000</td>\n",
       "    </tr>\n",
       "  </tbody>\n",
       "</table>\n",
       "</div>"
      ],
      "text/plain": [
       "                Age        Fnlwgt  Education_num  Hours_per_week\n",
       "count  32536.000000  3.253600e+04   32536.000000    32536.000000\n",
       "mean      38.585536  1.897843e+05      10.081725       40.440343\n",
       "std       13.638193  1.055563e+05       2.571622       12.347079\n",
       "min       17.000000  1.228500e+04       1.000000        1.000000\n",
       "25%       28.000000  1.178315e+05       9.000000       40.000000\n",
       "50%       37.000000  1.783560e+05      10.000000       40.000000\n",
       "75%       48.000000  2.369932e+05      12.000000       45.000000\n",
       "max       90.000000  1.484705e+06      16.000000       99.000000"
      ]
     },
     "execution_count": 39,
     "metadata": {},
     "output_type": "execute_result"
    }
   ],
   "source": [
    "df.describe()"
   ]
  },
  {
   "cell_type": "markdown",
   "id": "acd4f388",
   "metadata": {},
   "source": [
    "As per observation, in huge level of outliers in numericdatatypes columns, let's try to reduce it."
   ]
  },
  {
   "cell_type": "markdown",
   "id": "90b5f46b",
   "metadata": {},
   "source": [
    "# correlation of one variable vs all other variables, or multicorelation"
   ]
  },
  {
   "cell_type": "code",
   "execution_count": 40,
   "id": "e9bbcb58",
   "metadata": {},
   "outputs": [
    {
     "data": {
      "image/png": "[encoded data removed]",
      "text/plain": [
       "<Figure size 576x504 with 2 Axes>"
      ]
     },
     "metadata": {
      "needs_background": "light"
     },
     "output_type": "display_data"
    }
   ],
   "source": [
    "plt.figure(figsize=(8,7))\n",
    "sns.heatmap(df.corr(), annot=True, annot_kws={'size':10}, linewidths=0.1,fmt=\"0.2f\")\n",
    "plt.show()"
   ]
  },
  {
   "cell_type": "markdown",
   "id": "e960b9a2",
   "metadata": {},
   "source": [
    "# Since the dataset has a lot of string vales. We will use the encoding techniques to convert the sring data to numerical data."
   ]
  },
  {
   "cell_type": "code",
   "execution_count": 41,
   "id": "2e009cb2",
   "metadata": {},
   "outputs": [
    {
     "data": {
      "text/html": [
       "<div>\n",
       "<style scoped>\n",
       "    .dataframe tbody tr th:only-of-type {\n",
       "        vertical-align: middle;\n",
       "    }\n",
       "\n",
       "    .dataframe tbody tr th {\n",
       "        vertical-align: top;\n",
       "    }\n",
       "\n",
       "    .dataframe thead th {\n",
       "        text-align: right;\n",
       "    }\n",
       "</style>\n",
       "<table border=\"1\" class=\"dataframe\">\n",
       "  <thead>\n",
       "    <tr style=\"text-align: right;\">\n",
       "      <th></th>\n",
       "      <th>Age</th>\n",
       "      <th>Workclass</th>\n",
       "      <th>Fnlwgt</th>\n",
       "      <th>Education_num</th>\n",
       "      <th>Marital_status</th>\n",
       "      <th>Occupation</th>\n",
       "      <th>Relationship</th>\n",
       "      <th>Race</th>\n",
       "      <th>Sex</th>\n",
       "      <th>Hours_per_week</th>\n",
       "      <th>Native_country</th>\n",
       "      <th>Income</th>\n",
       "    </tr>\n",
       "  </thead>\n",
       "  <tbody>\n",
       "    <tr>\n",
       "      <th>0</th>\n",
       "      <td>50</td>\n",
       "      <td>6.0</td>\n",
       "      <td>83311</td>\n",
       "      <td>13</td>\n",
       "      <td>2.0</td>\n",
       "      <td>3.0</td>\n",
       "      <td>0.0</td>\n",
       "      <td>4.0</td>\n",
       "      <td>1.0</td>\n",
       "      <td>13</td>\n",
       "      <td>39.0</td>\n",
       "      <td>0.0</td>\n",
       "    </tr>\n",
       "    <tr>\n",
       "      <th>1</th>\n",
       "      <td>38</td>\n",
       "      <td>4.0</td>\n",
       "      <td>215646</td>\n",
       "      <td>9</td>\n",
       "      <td>0.0</td>\n",
       "      <td>5.0</td>\n",
       "      <td>1.0</td>\n",
       "      <td>4.0</td>\n",
       "      <td>1.0</td>\n",
       "      <td>40</td>\n",
       "      <td>39.0</td>\n",
       "      <td>0.0</td>\n",
       "    </tr>\n",
       "    <tr>\n",
       "      <th>2</th>\n",
       "      <td>53</td>\n",
       "      <td>4.0</td>\n",
       "      <td>234721</td>\n",
       "      <td>7</td>\n",
       "      <td>2.0</td>\n",
       "      <td>5.0</td>\n",
       "      <td>0.0</td>\n",
       "      <td>2.0</td>\n",
       "      <td>1.0</td>\n",
       "      <td>40</td>\n",
       "      <td>39.0</td>\n",
       "      <td>0.0</td>\n",
       "    </tr>\n",
       "    <tr>\n",
       "      <th>3</th>\n",
       "      <td>28</td>\n",
       "      <td>4.0</td>\n",
       "      <td>338409</td>\n",
       "      <td>13</td>\n",
       "      <td>2.0</td>\n",
       "      <td>9.0</td>\n",
       "      <td>5.0</td>\n",
       "      <td>2.0</td>\n",
       "      <td>0.0</td>\n",
       "      <td>40</td>\n",
       "      <td>5.0</td>\n",
       "      <td>0.0</td>\n",
       "    </tr>\n",
       "    <tr>\n",
       "      <th>4</th>\n",
       "      <td>37</td>\n",
       "      <td>4.0</td>\n",
       "      <td>284582</td>\n",
       "      <td>14</td>\n",
       "      <td>2.0</td>\n",
       "      <td>3.0</td>\n",
       "      <td>5.0</td>\n",
       "      <td>4.0</td>\n",
       "      <td>0.0</td>\n",
       "      <td>40</td>\n",
       "      <td>39.0</td>\n",
       "      <td>0.0</td>\n",
       "    </tr>\n",
       "    <tr>\n",
       "      <th>...</th>\n",
       "      <td>...</td>\n",
       "      <td>...</td>\n",
       "      <td>...</td>\n",
       "      <td>...</td>\n",
       "      <td>...</td>\n",
       "      <td>...</td>\n",
       "      <td>...</td>\n",
       "      <td>...</td>\n",
       "      <td>...</td>\n",
       "      <td>...</td>\n",
       "      <td>...</td>\n",
       "      <td>...</td>\n",
       "    </tr>\n",
       "    <tr>\n",
       "      <th>32555</th>\n",
       "      <td>27</td>\n",
       "      <td>4.0</td>\n",
       "      <td>257302</td>\n",
       "      <td>12</td>\n",
       "      <td>2.0</td>\n",
       "      <td>12.0</td>\n",
       "      <td>5.0</td>\n",
       "      <td>4.0</td>\n",
       "      <td>0.0</td>\n",
       "      <td>38</td>\n",
       "      <td>39.0</td>\n",
       "      <td>0.0</td>\n",
       "    </tr>\n",
       "    <tr>\n",
       "      <th>32556</th>\n",
       "      <td>40</td>\n",
       "      <td>4.0</td>\n",
       "      <td>154374</td>\n",
       "      <td>9</td>\n",
       "      <td>2.0</td>\n",
       "      <td>6.0</td>\n",
       "      <td>0.0</td>\n",
       "      <td>4.0</td>\n",
       "      <td>1.0</td>\n",
       "      <td>40</td>\n",
       "      <td>39.0</td>\n",
       "      <td>1.0</td>\n",
       "    </tr>\n",
       "    <tr>\n",
       "      <th>32557</th>\n",
       "      <td>58</td>\n",
       "      <td>4.0</td>\n",
       "      <td>151910</td>\n",
       "      <td>9</td>\n",
       "      <td>6.0</td>\n",
       "      <td>0.0</td>\n",
       "      <td>4.0</td>\n",
       "      <td>4.0</td>\n",
       "      <td>0.0</td>\n",
       "      <td>40</td>\n",
       "      <td>39.0</td>\n",
       "      <td>0.0</td>\n",
       "    </tr>\n",
       "    <tr>\n",
       "      <th>32558</th>\n",
       "      <td>22</td>\n",
       "      <td>4.0</td>\n",
       "      <td>201490</td>\n",
       "      <td>9</td>\n",
       "      <td>4.0</td>\n",
       "      <td>0.0</td>\n",
       "      <td>3.0</td>\n",
       "      <td>4.0</td>\n",
       "      <td>1.0</td>\n",
       "      <td>20</td>\n",
       "      <td>39.0</td>\n",
       "      <td>0.0</td>\n",
       "    </tr>\n",
       "    <tr>\n",
       "      <th>32559</th>\n",
       "      <td>52</td>\n",
       "      <td>5.0</td>\n",
       "      <td>287927</td>\n",
       "      <td>9</td>\n",
       "      <td>2.0</td>\n",
       "      <td>3.0</td>\n",
       "      <td>5.0</td>\n",
       "      <td>4.0</td>\n",
       "      <td>0.0</td>\n",
       "      <td>40</td>\n",
       "      <td>39.0</td>\n",
       "      <td>1.0</td>\n",
       "    </tr>\n",
       "  </tbody>\n",
       "</table>\n",
       "<p>32536 rows × 12 columns</p>\n",
       "</div>"
      ],
      "text/plain": [
       "       Age  Workclass  Fnlwgt  Education_num  Marital_status  Occupation  \\\n",
       "0       50        6.0   83311             13             2.0         3.0   \n",
       "1       38        4.0  215646              9             0.0         5.0   \n",
       "2       53        4.0  234721              7             2.0         5.0   \n",
       "3       28        4.0  338409             13             2.0         9.0   \n",
       "4       37        4.0  284582             14             2.0         3.0   \n",
       "...    ...        ...     ...            ...             ...         ...   \n",
       "32555   27        4.0  257302             12             2.0        12.0   \n",
       "32556   40        4.0  154374              9             2.0         6.0   \n",
       "32557   58        4.0  151910              9             6.0         0.0   \n",
       "32558   22        4.0  201490              9             4.0         0.0   \n",
       "32559   52        5.0  287927              9             2.0         3.0   \n",
       "\n",
       "       Relationship  Race  Sex  Hours_per_week  Native_country  Income  \n",
       "0               0.0   4.0  1.0              13            39.0     0.0  \n",
       "1               1.0   4.0  1.0              40            39.0     0.0  \n",
       "2               0.0   2.0  1.0              40            39.0     0.0  \n",
       "3               5.0   2.0  0.0              40             5.0     0.0  \n",
       "4               5.0   4.0  0.0              40            39.0     0.0  \n",
       "...             ...   ...  ...             ...             ...     ...  \n",
       "32555           5.0   4.0  0.0              38            39.0     0.0  \n",
       "32556           0.0   4.0  1.0              40            39.0     1.0  \n",
       "32557           4.0   4.0  0.0              40            39.0     0.0  \n",
       "32558           3.0   4.0  1.0              20            39.0     0.0  \n",
       "32559           5.0   4.0  0.0              40            39.0     1.0  \n",
       "\n",
       "[32536 rows x 12 columns]"
      ]
     },
     "execution_count": 41,
     "metadata": {},
     "output_type": "execute_result"
    }
   ],
   "source": [
    "from sklearn.preprocessing import OrdinalEncoder\n",
    "enc = OrdinalEncoder()\n",
    "\n",
    "for i in df.columns:\n",
    "    if df[i].dtypes == 'object':\n",
    "        df[i]= enc.fit_transform(df[i].values.reshape(-1,1))\n",
    "        \n",
    "df"
   ]
  },
  {
   "cell_type": "markdown",
   "id": "a12f5749",
   "metadata": {},
   "source": [
    "# Now Check correlation of the columns with the target column"
   ]
  },
  {
   "cell_type": "code",
   "execution_count": 42,
   "id": "4fefe46c",
   "metadata": {},
   "outputs": [
    {
     "data": {
      "text/plain": [
       "Relationship     -0.250955\n",
       "Marital_status   -0.199187\n",
       "Fnlwgt           -0.009521\n",
       "Native_country    0.015623\n",
       "Occupation        0.044258\n",
       "Workclass         0.051706\n",
       "Race              0.071855\n",
       "Sex               0.215984\n",
       "Hours_per_week    0.229659\n",
       "Age               0.234039\n",
       "Education_num     0.335299\n",
       "Income            1.000000\n",
       "Name: Income, dtype: float64"
      ]
     },
     "execution_count": 42,
     "metadata": {},
     "output_type": "execute_result"
    }
   ],
   "source": [
    "df.corr()['Income'].sort_values()"
   ]
  },
  {
   "cell_type": "code",
   "execution_count": 43,
   "id": "3bb4163b",
   "metadata": {},
   "outputs": [
    {
     "data": {
      "image/png": "[encoded data removed]",
      "text/plain": [
       "<Figure size 1440x576 with 1 Axes>"
      ]
     },
     "metadata": {
      "needs_background": "light"
     },
     "output_type": "display_data"
    }
   ],
   "source": [
    "plt.figure(figsize=(20,8))\n",
    "df.corr()['Income'].sort_values().plot(kind='bar')\n",
    "plt.xlabel('Features')\n",
    "plt.title('Correlation with target')\n",
    "plt.show()"
   ]
  },
  {
   "cell_type": "markdown",
   "id": "fa80f548",
   "metadata": {},
   "source": [
    "As per observation,\n",
    "1. Fnlwgt, Native_contry, Occupation, Workclass, Race, features have very low corelation with target.\n",
    "2. Education_num means Education corelate with traget. "
   ]
  },
  {
   "cell_type": "code",
   "execution_count": 44,
   "id": "c8ece249",
   "metadata": {},
   "outputs": [
    {
     "data": {
      "text/plain": [
       "Native_country   -3.661060\n",
       "Race             -2.435283\n",
       "Workclass        -0.751854\n",
       "Sex              -0.719400\n",
       "Education_num    -0.309454\n",
       "Marital_status   -0.012692\n",
       "Occupation        0.065753\n",
       "Hours_per_week    0.228752\n",
       "Age               0.557657\n",
       "Relationship      0.786514\n",
       "Fnlwgt            1.447695\n",
       "dtype: float64"
      ]
     },
     "execution_count": 44,
     "metadata": {},
     "output_type": "execute_result"
    }
   ],
   "source": [
    "x=df.drop(columns='Income')\n",
    "y=df.Income\n",
    "x.skew().sort_values()"
   ]
  },
  {
   "cell_type": "markdown",
   "id": "6006d97d",
   "metadata": {},
   "source": [
    "Dataset is very skewed, let's try to handle it or save the most of data."
   ]
  },
  {
   "cell_type": "markdown",
   "id": "5033bf9c",
   "metadata": {},
   "source": [
    "# Now use PowerTransformation method to save our skewed data."
   ]
  },
  {
   "cell_type": "code",
   "execution_count": 45,
   "id": "e7efdef9",
   "metadata": {},
   "outputs": [
    {
     "data": {
      "text/plain": [
       "Native_country   -2.728041\n",
       "Race             -2.010646\n",
       "Sex              -0.719400\n",
       "Occupation       -0.213620\n",
       "Marital_status   -0.114050\n",
       "Age              -0.013967\n",
       "Fnlwgt            0.016961\n",
       "Education_num     0.023862\n",
       "Workclass         0.061229\n",
       "Relationship      0.123000\n",
       "Hours_per_week    0.229590\n",
       "dtype: float64"
      ]
     },
     "execution_count": 45,
     "metadata": {},
     "output_type": "execute_result"
    }
   ],
   "source": [
    "from sklearn.preprocessing import PowerTransformer\n",
    "\n",
    "df_pt = PowerTransformer()\n",
    "df_pw = pd.DataFrame(df_pt.fit_transform(x),columns=x.columns)\n",
    "df_pw.skew().sort_values()"
   ]
  },
  {
   "cell_type": "markdown",
   "id": "5532ef77",
   "metadata": {},
   "source": [
    "Using power transformation, most of skewness has removed"
   ]
  },
  {
   "cell_type": "code",
   "execution_count": 46,
   "id": "12f5a0f9",
   "metadata": {},
   "outputs": [
    {
     "data": {
      "text/plain": [
       "Index(['Age', 'Fnlwgt', 'Hours_per_week'], dtype='object')"
      ]
     },
     "execution_count": 46,
     "metadata": {},
     "output_type": "execute_result"
    }
   ],
   "source": [
    "x1=df_pw.copy\n",
    "x1=df_pw.drop(columns=['Workclass', 'Marital_status', 'Occupation', 'Relationship', 'Race', 'Sex',\n",
    "                        'Native_country', 'Education_num'])\n",
    "x1.columns"
   ]
  },
  {
   "cell_type": "markdown",
   "id": "482fc17a",
   "metadata": {},
   "source": [
    "# Now remove remaining outliers using z-score technique."
   ]
  },
  {
   "cell_type": "code",
   "execution_count": 47,
   "id": "c8728f2a",
   "metadata": {},
   "outputs": [],
   "source": [
    "from scipy.stats import zscore\n",
    "z=np.abs(zscore(df_pw[['Age', 'Fnlwgt', 'Hours_per_week']]))\n",
    "threshold=3\n",
    "outliers_df=np.where(z>3)\n"
   ]
  },
  {
   "cell_type": "code",
   "execution_count": 48,
   "id": "4a901ea5",
   "metadata": {},
   "outputs": [
    {
     "name": "stdout",
     "output_type": "stream",
     "text": [
      "percentage of loss of data by zscore is : 1.675067617408409\n"
     ]
    }
   ],
   "source": [
    "df_new = df.drop(df.index[outliers_df[0]])\n",
    "\n",
    "print('percentage of loss of data by zscore is :',((df.shape[0]-df_new.shape[0])/df.shape[0])*100)"
   ]
  },
  {
   "cell_type": "markdown",
   "id": "656cfda7",
   "metadata": {},
   "source": [
    "Very less data, we have loss using z-score method, let's proceed further."
   ]
  },
  {
   "cell_type": "markdown",
   "id": "d8d75f69",
   "metadata": {},
   "source": [
    "# Now Separting columns into features and target"
   ]
  },
  {
   "cell_type": "code",
   "execution_count": 49,
   "id": "6cc6c00e",
   "metadata": {},
   "outputs": [],
   "source": [
    "x_new=df_new.drop(columns='Income')\n",
    "y_new=df_new.Income"
   ]
  },
  {
   "cell_type": "code",
   "execution_count": 50,
   "id": "0b8eae23",
   "metadata": {},
   "outputs": [
    {
     "data": {
      "text/plain": [
       "0.0    24697\n",
       "1.0     7839\n",
       "Name: Income, dtype: int64"
      ]
     },
     "execution_count": 50,
     "metadata": {},
     "output_type": "execute_result"
    }
   ],
   "source": [
    "df.Income.value_counts()"
   ]
  },
  {
   "cell_type": "markdown",
   "id": "1950e64f",
   "metadata": {},
   "source": [
    "It has been observed that our target class has an imbalance. So, we’ll try to resample the data"
   ]
  },
  {
   "cell_type": "markdown",
   "id": "3f287ad4",
   "metadata": {},
   "source": [
    "# SMOTE smapling"
   ]
  },
  {
   "cell_type": "code",
   "execution_count": 51,
   "id": "f8d16a65",
   "metadata": {},
   "outputs": [
    {
     "data": {
      "image/png": "[encoded data removed]",
      "text/plain": [
       "<Figure size 360x360 with 1 Axes>"
      ]
     },
     "metadata": {
      "needs_background": "light"
     },
     "output_type": "display_data"
    }
   ],
   "source": [
    "#Synthetic Minority Oversampling Technique (SMOTE)\n",
    "#It is a statistical technique for increasing the number of cases in your dataset in a balanced way. \n",
    "\n",
    "from imblearn.over_sampling import SMOTE\n",
    "\n",
    "sm = SMOTE(sampling_strategy = 'not majority', random_state = 29)\n",
    "x_res, y_res = sm.fit_resample(x_new, y_new)\n",
    "y_res_df = pd.DataFrame(y_res)\n",
    "\n",
    "plt.figure(figsize=(5,5))\n",
    "\n",
    "sns.set(style = 'whitegrid')\n",
    "sns.countplot(y_res_df.Income).set_title('After SMOTE')\n",
    "plt.xlabel('Income',fontsize=20)\n",
    "plt.show()"
   ]
  },
  {
   "cell_type": "code",
   "execution_count": 52,
   "id": "133f7985",
   "metadata": {},
   "outputs": [
    {
     "data": {
      "text/plain": [
       "Income\n",
       "0.0       24305\n",
       "1.0       24305\n",
       "dtype: int64"
      ]
     },
     "execution_count": 52,
     "metadata": {},
     "output_type": "execute_result"
    }
   ],
   "source": [
    "y_res_df.value_counts()"
   ]
  },
  {
   "cell_type": "code",
   "execution_count": 53,
   "id": "e73185ba",
   "metadata": {},
   "outputs": [
    {
     "data": {
      "text/plain": [
       "(48610, 11)"
      ]
     },
     "execution_count": 53,
     "metadata": {},
     "output_type": "execute_result"
    }
   ],
   "source": [
    "x_res.shape"
   ]
  },
  {
   "cell_type": "markdown",
   "id": "b20d9334",
   "metadata": {},
   "source": [
    "# Data Scaling using Standard Scaler"
   ]
  },
  {
   "cell_type": "code",
   "execution_count": 54,
   "id": "196953ea",
   "metadata": {},
   "outputs": [
    {
     "data": {
      "text/html": [
       "<div>\n",
       "<style scoped>\n",
       "    .dataframe tbody tr th:only-of-type {\n",
       "        vertical-align: middle;\n",
       "    }\n",
       "\n",
       "    .dataframe tbody tr th {\n",
       "        vertical-align: top;\n",
       "    }\n",
       "\n",
       "    .dataframe thead th {\n",
       "        text-align: right;\n",
       "    }\n",
       "</style>\n",
       "<table border=\"1\" class=\"dataframe\">\n",
       "  <thead>\n",
       "    <tr style=\"text-align: right;\">\n",
       "      <th></th>\n",
       "      <th>Age</th>\n",
       "      <th>Workclass</th>\n",
       "      <th>Fnlwgt</th>\n",
       "      <th>Education_num</th>\n",
       "      <th>Marital_status</th>\n",
       "      <th>Occupation</th>\n",
       "      <th>Relationship</th>\n",
       "      <th>Race</th>\n",
       "      <th>Sex</th>\n",
       "      <th>Hours_per_week</th>\n",
       "      <th>Native_country</th>\n",
       "    </tr>\n",
       "  </thead>\n",
       "  <tbody>\n",
       "    <tr>\n",
       "      <th>0</th>\n",
       "      <td>0.782354</td>\n",
       "      <td>1.537420</td>\n",
       "      <td>-1.056709</td>\n",
       "      <td>1.045907</td>\n",
       "      <td>-0.326262</td>\n",
       "      <td>-0.837076</td>\n",
       "      <td>-0.776149</td>\n",
       "      <td>0.379231</td>\n",
       "      <td>0.628371</td>\n",
       "      <td>-2.749974</td>\n",
       "      <td>0.295387</td>\n",
       "    </tr>\n",
       "    <tr>\n",
       "      <th>1</th>\n",
       "      <td>-0.186828</td>\n",
       "      <td>0.060914</td>\n",
       "      <td>0.285360</td>\n",
       "      <td>-0.602077</td>\n",
       "      <td>-1.848645</td>\n",
       "      <td>-0.297158</td>\n",
       "      <td>-0.130172</td>\n",
       "      <td>0.379231</td>\n",
       "      <td>0.628371</td>\n",
       "      <td>-0.150277</td>\n",
       "      <td>0.295387</td>\n",
       "    </tr>\n",
       "    <tr>\n",
       "      <th>2</th>\n",
       "      <td>1.024649</td>\n",
       "      <td>0.060914</td>\n",
       "      <td>0.478808</td>\n",
       "      <td>-1.426069</td>\n",
       "      <td>-0.326262</td>\n",
       "      <td>-0.297158</td>\n",
       "      <td>-0.776149</td>\n",
       "      <td>-2.210670</td>\n",
       "      <td>0.628371</td>\n",
       "      <td>-0.150277</td>\n",
       "      <td>0.295387</td>\n",
       "    </tr>\n",
       "    <tr>\n",
       "      <th>3</th>\n",
       "      <td>-0.994480</td>\n",
       "      <td>0.060914</td>\n",
       "      <td>1.530355</td>\n",
       "      <td>1.045907</td>\n",
       "      <td>-0.326262</td>\n",
       "      <td>0.782677</td>\n",
       "      <td>2.453737</td>\n",
       "      <td>-2.210670</td>\n",
       "      <td>-1.706951</td>\n",
       "      <td>-0.150277</td>\n",
       "      <td>-4.374463</td>\n",
       "    </tr>\n",
       "    <tr>\n",
       "      <th>4</th>\n",
       "      <td>-0.267593</td>\n",
       "      <td>0.060914</td>\n",
       "      <td>0.984471</td>\n",
       "      <td>1.457903</td>\n",
       "      <td>-0.326262</td>\n",
       "      <td>-0.837076</td>\n",
       "      <td>2.453737</td>\n",
       "      <td>0.379231</td>\n",
       "      <td>-1.706951</td>\n",
       "      <td>-0.150277</td>\n",
       "      <td>0.295387</td>\n",
       "    </tr>\n",
       "    <tr>\n",
       "      <th>...</th>\n",
       "      <td>...</td>\n",
       "      <td>...</td>\n",
       "      <td>...</td>\n",
       "      <td>...</td>\n",
       "      <td>...</td>\n",
       "      <td>...</td>\n",
       "      <td>...</td>\n",
       "      <td>...</td>\n",
       "      <td>...</td>\n",
       "      <td>...</td>\n",
       "      <td>...</td>\n",
       "    </tr>\n",
       "    <tr>\n",
       "      <th>48605</th>\n",
       "      <td>-0.832950</td>\n",
       "      <td>0.539088</td>\n",
       "      <td>-0.746918</td>\n",
       "      <td>0.221915</td>\n",
       "      <td>-0.326262</td>\n",
       "      <td>-0.076246</td>\n",
       "      <td>-0.776149</td>\n",
       "      <td>0.379231</td>\n",
       "      <td>0.628371</td>\n",
       "      <td>1.197714</td>\n",
       "      <td>0.295387</td>\n",
       "    </tr>\n",
       "    <tr>\n",
       "      <th>48606</th>\n",
       "      <td>1.509240</td>\n",
       "      <td>0.959478</td>\n",
       "      <td>-0.081598</td>\n",
       "      <td>0.633911</td>\n",
       "      <td>-0.326262</td>\n",
       "      <td>-0.837076</td>\n",
       "      <td>-0.776149</td>\n",
       "      <td>0.379231</td>\n",
       "      <td>0.628371</td>\n",
       "      <td>1.005144</td>\n",
       "      <td>0.295387</td>\n",
       "    </tr>\n",
       "    <tr>\n",
       "      <th>48607</th>\n",
       "      <td>1.428475</td>\n",
       "      <td>-1.081160</td>\n",
       "      <td>-1.042541</td>\n",
       "      <td>-0.602077</td>\n",
       "      <td>-0.326262</td>\n",
       "      <td>-0.001826</td>\n",
       "      <td>-0.776149</td>\n",
       "      <td>-2.625692</td>\n",
       "      <td>0.628371</td>\n",
       "      <td>-0.150277</td>\n",
       "      <td>0.295387</td>\n",
       "    </tr>\n",
       "    <tr>\n",
       "      <th>48608</th>\n",
       "      <td>-0.186828</td>\n",
       "      <td>0.060914</td>\n",
       "      <td>-0.813405</td>\n",
       "      <td>-0.190081</td>\n",
       "      <td>-0.326262</td>\n",
       "      <td>1.120045</td>\n",
       "      <td>-0.776149</td>\n",
       "      <td>0.379231</td>\n",
       "      <td>0.628371</td>\n",
       "      <td>1.582854</td>\n",
       "      <td>0.295387</td>\n",
       "    </tr>\n",
       "    <tr>\n",
       "      <th>48609</th>\n",
       "      <td>-0.429124</td>\n",
       "      <td>-0.041711</td>\n",
       "      <td>1.964410</td>\n",
       "      <td>-0.602077</td>\n",
       "      <td>-0.326262</td>\n",
       "      <td>-0.724494</td>\n",
       "      <td>-0.776149</td>\n",
       "      <td>0.379231</td>\n",
       "      <td>0.628371</td>\n",
       "      <td>-0.150277</td>\n",
       "      <td>0.295387</td>\n",
       "    </tr>\n",
       "  </tbody>\n",
       "</table>\n",
       "<p>48610 rows × 11 columns</p>\n",
       "</div>"
      ],
      "text/plain": [
       "            Age  Workclass    Fnlwgt  Education_num  Marital_status  \\\n",
       "0      0.782354   1.537420 -1.056709       1.045907       -0.326262   \n",
       "1     -0.186828   0.060914  0.285360      -0.602077       -1.848645   \n",
       "2      1.024649   0.060914  0.478808      -1.426069       -0.326262   \n",
       "3     -0.994480   0.060914  1.530355       1.045907       -0.326262   \n",
       "4     -0.267593   0.060914  0.984471       1.457903       -0.326262   \n",
       "...         ...        ...       ...            ...             ...   \n",
       "48605 -0.832950   0.539088 -0.746918       0.221915       -0.326262   \n",
       "48606  1.509240   0.959478 -0.081598       0.633911       -0.326262   \n",
       "48607  1.428475  -1.081160 -1.042541      -0.602077       -0.326262   \n",
       "48608 -0.186828   0.060914 -0.813405      -0.190081       -0.326262   \n",
       "48609 -0.429124  -0.041711  1.964410      -0.602077       -0.326262   \n",
       "\n",
       "       Occupation  Relationship      Race       Sex  Hours_per_week  \\\n",
       "0       -0.837076     -0.776149  0.379231  0.628371       -2.749974   \n",
       "1       -0.297158     -0.130172  0.379231  0.628371       -0.150277   \n",
       "2       -0.297158     -0.776149 -2.210670  0.628371       -0.150277   \n",
       "3        0.782677      2.453737 -2.210670 -1.706951       -0.150277   \n",
       "4       -0.837076      2.453737  0.379231 -1.706951       -0.150277   \n",
       "...           ...           ...       ...       ...             ...   \n",
       "48605   -0.076246     -0.776149  0.379231  0.628371        1.197714   \n",
       "48606   -0.837076     -0.776149  0.379231  0.628371        1.005144   \n",
       "48607   -0.001826     -0.776149 -2.625692  0.628371       -0.150277   \n",
       "48608    1.120045     -0.776149  0.379231  0.628371        1.582854   \n",
       "48609   -0.724494     -0.776149  0.379231  0.628371       -0.150277   \n",
       "\n",
       "       Native_country  \n",
       "0            0.295387  \n",
       "1            0.295387  \n",
       "2            0.295387  \n",
       "3           -4.374463  \n",
       "4            0.295387  \n",
       "...               ...  \n",
       "48605        0.295387  \n",
       "48606        0.295387  \n",
       "48607        0.295387  \n",
       "48608        0.295387  \n",
       "48609        0.295387  \n",
       "\n",
       "[48610 rows x 11 columns]"
      ]
     },
     "execution_count": 54,
     "metadata": {},
     "output_type": "execute_result"
    }
   ],
   "source": [
    "from sklearn.preprocessing import StandardScaler\n",
    "scaler = StandardScaler()\n",
    "x_scaled = pd.DataFrame(scaler.fit_transform(x_res),columns=x_res.columns)\n",
    "x_scaled"
   ]
  },
  {
   "cell_type": "markdown",
   "id": "66703944",
   "metadata": {},
   "source": [
    "# PCA : Principal Component Analysis"
   ]
  },
  {
   "cell_type": "code",
   "execution_count": 55,
   "id": "4cb9f791",
   "metadata": {},
   "outputs": [
    {
     "name": "stdout",
     "output_type": "stream",
     "text": [
      "                     PC1   PC2  PC3   PC4   PC5   PC6   PC7   PC8   PC9  PC10  \\\n",
      "Explained_Variance  2.16  1.18  1.1  1.08  1.04  0.96  0.89  0.82  0.78  0.67   \n",
      "\n",
      "                    PC11  \n",
      "Explained_Variance  0.33  \n"
     ]
    },
    {
     "data": {
      "image/png": "[encoded data removed]",
      "text/plain": [
       "<Figure size 1080x576 with 1 Axes>"
      ]
     },
     "metadata": {},
     "output_type": "display_data"
    }
   ],
   "source": [
    "# Performing PCA\n",
    "from sklearn.decomposition import PCA\n",
    "\n",
    "pca = PCA(random_state = 1)\n",
    "pca.fit(x_scaled)\n",
    "var_exp = pca.explained_variance_ratio_\n",
    "cum_var_exp = np.cumsum(var_exp)\n",
    "var_df = pd.DataFrame(pca.explained_variance_.round(2), index=[\"PC\" + str(i) for i in range(1,12)],\n",
    "                      columns=[\"Explained_Variance\"])\n",
    "print(var_df.T)\n",
    "plt.figure(figsize=(15,8))\n",
    "plt.bar(range(1,len(cum_var_exp)+1), var_exp, align= 'center', label= 'individual variance', color='teal', alpha = 0.8)\n",
    "plt.step(range(1,len(cum_var_exp)+1), cum_var_exp, where = 'mid' , label= 'cumulative variance', color='red')\n",
    "plt.ylabel('Explained variance ratio')\n",
    "plt.xlabel('Principal components')\n",
    "plt.xticks(np.arange(1,len(var_exp)+1,1))\n",
    "plt.legend(loc='center right')\n",
    "plt.show()"
   ]
  },
  {
   "cell_type": "markdown",
   "id": "77738bd7",
   "metadata": {},
   "source": [
    "As per PCA observation the first 10 components account for above 99% of the total explained variance. The dataset can reduced with 10 components and proceed further."
   ]
  },
  {
   "cell_type": "markdown",
   "id": "faa40885",
   "metadata": {},
   "source": [
    "But let's take all components."
   ]
  },
  {
   "cell_type": "code",
   "execution_count": 56,
   "id": "96f91bce",
   "metadata": {},
   "outputs": [],
   "source": [
    "XC=x_scaled\n",
    "yc=y_res_df"
   ]
  },
  {
   "cell_type": "markdown",
   "id": "01d5fffd",
   "metadata": {},
   "source": [
    "# Classification Model Development"
   ]
  },
  {
   "cell_type": "code",
   "execution_count": 63,
   "id": "56befb25",
   "metadata": {},
   "outputs": [],
   "source": [
    "#import the necessary model algos.\n",
    "\n",
    "#classifiaction\n",
    "from sklearn.linear_model import LogisticRegression, SGDClassifier\n",
    "from sklearn.tree import DecisionTreeClassifier\n",
    "from sklearn.neighbors import KNeighborsClassifier\n",
    "from sklearn.ensemble import RandomForestClassifier\n",
    "from sklearn.svm import SVC\n",
    "from sklearn.ensemble import GradientBoostingClassifier,AdaBoostClassifier\n",
    "from xgboost import XGBClassifier\n",
    "from sklearn.naive_bayes import GaussianNB\n",
    "\n",
    "#model selection\n",
    "from sklearn.model_selection import train_test_split,cross_validate, cross_val_score\n",
    "from sklearn.model_selection import KFold\n",
    "from sklearn.model_selection import GridSearchCV\n",
    "\n",
    "#evaluation metrics\n",
    "from sklearn.metrics import accuracy_score, classification_report, confusion_matrix\n",
    "from sklearn.metrics import roc_auc_score, roc_curve, plot_roc_curve"
   ]
  },
  {
   "cell_type": "code",
   "execution_count": 58,
   "id": "5d455849",
   "metadata": {},
   "outputs": [],
   "source": [
    "LC = LogisticRegression()\n",
    "DTC = DecisionTreeClassifier()\n",
    "KNNC= KNeighborsClassifier()\n",
    "RFC = RandomForestClassifier()\n",
    "SVc = SVC()\n",
    "GRAC= GradientBoostingClassifier()\n",
    "ADAC= AdaBoostClassifier()\n",
    "GNBC= GaussianNB()\n",
    "SGDC= SGDClassifier()\n",
    "XGBC= XGBClassifier()"
   ]
  },
  {
   "cell_type": "code",
   "execution_count": 59,
   "id": "612ad40a",
   "metadata": {},
   "outputs": [
    {
     "data": {
      "text/html": [
       "<div>\n",
       "<style scoped>\n",
       "    .dataframe tbody tr th:only-of-type {\n",
       "        vertical-align: middle;\n",
       "    }\n",
       "\n",
       "    .dataframe tbody tr th {\n",
       "        vertical-align: top;\n",
       "    }\n",
       "\n",
       "    .dataframe thead th {\n",
       "        text-align: right;\n",
       "    }\n",
       "</style>\n",
       "<table border=\"1\" class=\"dataframe\">\n",
       "  <thead>\n",
       "    <tr style=\"text-align: right;\">\n",
       "      <th></th>\n",
       "      <th>Model Name</th>\n",
       "      <th>Training Score:</th>\n",
       "      <th>Accuracy Score (without tuning)</th>\n",
       "    </tr>\n",
       "  </thead>\n",
       "  <tbody>\n",
       "    <tr>\n",
       "      <th>0</th>\n",
       "      <td>LC=LogisticRegression</td>\n",
       "      <td>74.90</td>\n",
       "      <td>74.88</td>\n",
       "    </tr>\n",
       "    <tr>\n",
       "      <th>1</th>\n",
       "      <td>DTC=DecisionTreeClassifier</td>\n",
       "      <td>100.00</td>\n",
       "      <td>83.88</td>\n",
       "    </tr>\n",
       "    <tr>\n",
       "      <th>2</th>\n",
       "      <td>KNNC=KNeighborsClassifier</td>\n",
       "      <td>88.70</td>\n",
       "      <td>82.87</td>\n",
       "    </tr>\n",
       "    <tr>\n",
       "      <th>3</th>\n",
       "      <td>RFC=RandomForestClassifier</td>\n",
       "      <td>100.00</td>\n",
       "      <td>88.26</td>\n",
       "    </tr>\n",
       "    <tr>\n",
       "      <th>4</th>\n",
       "      <td>SVc=SVC()</td>\n",
       "      <td>84.92</td>\n",
       "      <td>84.08</td>\n",
       "    </tr>\n",
       "    <tr>\n",
       "      <th>5</th>\n",
       "      <td>GRAC=GradientBoostingClassifier</td>\n",
       "      <td>88.32</td>\n",
       "      <td>87.69</td>\n",
       "    </tr>\n",
       "    <tr>\n",
       "      <th>6</th>\n",
       "      <td>ADAC=AdaBoostClassifier</td>\n",
       "      <td>86.64</td>\n",
       "      <td>86.31</td>\n",
       "    </tr>\n",
       "    <tr>\n",
       "      <th>7</th>\n",
       "      <td>GNBC=GaussianNB</td>\n",
       "      <td>76.88</td>\n",
       "      <td>77.10</td>\n",
       "    </tr>\n",
       "    <tr>\n",
       "      <th>8</th>\n",
       "      <td>SGDC=SGDClassifier()</td>\n",
       "      <td>74.96</td>\n",
       "      <td>74.68</td>\n",
       "    </tr>\n",
       "    <tr>\n",
       "      <th>9</th>\n",
       "      <td>XGBC=XGBClassifier()</td>\n",
       "      <td>92.30</td>\n",
       "      <td>88.81</td>\n",
       "    </tr>\n",
       "  </tbody>\n",
       "</table>\n",
       "</div>"
      ],
      "text/plain": [
       "                        Model Name  Training Score:  \\\n",
       "0            LC=LogisticRegression            74.90   \n",
       "1       DTC=DecisionTreeClassifier           100.00   \n",
       "2        KNNC=KNeighborsClassifier            88.70   \n",
       "3       RFC=RandomForestClassifier           100.00   \n",
       "4                        SVc=SVC()            84.92   \n",
       "5  GRAC=GradientBoostingClassifier            88.32   \n",
       "6          ADAC=AdaBoostClassifier            86.64   \n",
       "7                  GNBC=GaussianNB            76.88   \n",
       "8             SGDC=SGDClassifier()            74.96   \n",
       "9             XGBC=XGBClassifier()            92.30   \n",
       "\n",
       "   Accuracy Score (without tuning)  \n",
       "0                            74.88  \n",
       "1                            83.88  \n",
       "2                            82.87  \n",
       "3                            88.26  \n",
       "4                            84.08  \n",
       "5                            87.69  \n",
       "6                            86.31  \n",
       "7                            77.10  \n",
       "8                            74.68  \n",
       "9                            88.81  "
      ]
     },
     "execution_count": 59,
     "metadata": {},
     "output_type": "execute_result"
    }
   ],
   "source": [
    "model=[LogisticRegression(),DecisionTreeClassifier(),KNeighborsClassifier(),RandomForestClassifier(), SVC(),\n",
    "       GradientBoostingClassifier(),AdaBoostClassifier(),GaussianNB(),SGDClassifier(),XGBClassifier()]\n",
    "\n",
    "models=['LC=LogisticRegression','DTC=DecisionTreeClassifier','KNNC=KNeighborsClassifier','RFC=RandomForestClassifier',\n",
    "        'SVc=SVC()','GRAC=GradientBoostingClassifier','ADAC=AdaBoostClassifier','GNBC=GaussianNB', 'SGDC=SGDClassifier()',\n",
    "        'XGBC=XGBClassifier()']\n",
    "\n",
    "acc_result=[]\n",
    "train_result=[]\n",
    "\n",
    "x_train,x_test,y_train,y_test=train_test_split(XC,yc,test_size=0.20,random_state=29)\n",
    "\n",
    "for i in range(len(model)):\n",
    "    clf=model[i]\n",
    "    clf.fit(x_train,y_train)\n",
    "    x_pred=clf.predict(x_train)\n",
    "    y_pred=clf.predict(x_test)\n",
    "    train_result.append(round (accuracy_score(y_train,x_pred)*100,2))\n",
    "    acc_result.append(round (accuracy_score(y_pred,y_test)*100,2))\n",
    "\n",
    "Result_df=pd.DataFrame({'Model Name':models, 'Training Score:':train_result ,'Accuracy Score (without tuning)':acc_result})\n",
    "Result_df"
   ]
  },
  {
   "cell_type": "markdown",
   "id": "f4a58a3e",
   "metadata": {},
   "source": [
    "# 1. Logistic Regression:"
   ]
  },
  {
   "cell_type": "code",
   "execution_count": 60,
   "id": "b8a9aa5d",
   "metadata": {},
   "outputs": [
    {
     "name": "stdout",
     "output_type": "stream",
     "text": [
      "Index of max vaule of train's accuracy_score at random_state: 362\n",
      "Index of max vaule of test's accuracy_score at random_state: 602\n"
     ]
    }
   ],
   "source": [
    "acc_train=[]\n",
    "acc_test=[]\n",
    "\n",
    "for i in range (0,1000):\n",
    "    x_train, x_test, y_train, y_test = train_test_split(XC, yc, test_size=0.20, random_state=i)\n",
    "    \n",
    "    lc = LogisticRegression()\n",
    "    lc.fit(x_train,y_train)\n",
    "    \n",
    "    x_lc_predict=lc.predict(x_train)\n",
    "    y_lc_predict=lc.predict(x_test)\n",
    "    \n",
    "    acc_train.append(accuracy_score(y_train,x_lc_predict))\n",
    "    acc_test.append(accuracy_score(y_test,y_lc_predict))\n",
    "    \n",
    "\n",
    "acc_train_index= acc_train.index(max(acc_train))    \n",
    "print(\"Index of max vaule of train's accuracy_score at random_state:\",acc_train_index)\n",
    "\n",
    "acc_test_index= acc_test.index(max(acc_test))\n",
    "print(\"Index of max vaule of test's accuracy_score at random_state:\",acc_test_index)"
   ]
  },
  {
   "cell_type": "markdown",
   "id": "8009b0f2",
   "metadata": {},
   "source": [
    "Always choose best training score for random_state, because\n",
    "\n",
    "1. if training score >= testing score ==> chance of best fit or undetfit\n",
    "2. if training score << testing score ==> overfit\n",
    "3. if training score >> testing score ==> undetfit\n"
   ]
  },
  {
   "cell_type": "code",
   "execution_count": 64,
   "id": "5f24bf18",
   "metadata": {},
   "outputs": [
    {
     "name": "stdout",
     "output_type": "stream",
     "text": [
      "The training accurancy @ 362 random_state is: 0.752468627854351\n",
      "The testing accurancy @ 362 ranom_state is: 0.7376054309812796\n",
      "Cross Validation:  0.7168072413083728\n",
      "\n",
      "  \n",
      " Test Classification Report \n",
      "               precision    recall  f1-score   support\n",
      "\n",
      "         0.0       0.76      0.71      0.73      4914\n",
      "         1.0       0.72      0.77      0.74      4808\n",
      "\n",
      "    accuracy                           0.74      9722\n",
      "   macro avg       0.74      0.74      0.74      9722\n",
      "weighted avg       0.74      0.74      0.74      9722\n",
      "\n",
      "\n",
      " Conconfusion_matrix:\n",
      " [[3478 1436]\n",
      " [1115 3693]]\n"
     ]
    }
   ],
   "source": [
    "kford_cv=KFold(n_splits=10,shuffle=False)\n",
    "x_train, x_test, y_train, y_test = train_test_split(XC, yc, test_size=0.20, random_state=362)\n",
    "    \n",
    "lc.fit(x_train,y_train)\n",
    "x_lc_predict=lc.predict(x_train)\n",
    "y_lc_predict=lc.predict(x_test)\n",
    "lc_cv = cross_val_score(lc,XC,yc,cv=kford_cv, scoring='accuracy')\n",
    "    \n",
    "print (\"The training accurancy @ 362 random_state is:\",accuracy_score(y_train,x_lc_predict))\n",
    "print (\"The testing accurancy @ 362 ranom_state is:\",accuracy_score(y_test,y_lc_predict))\n",
    "print (\"Cross Validation: \", lc_cv.mean())\n",
    "print ('\\n  \\n Test Classification Report \\n', classification_report(y_test,y_lc_predict,digits=2))\n",
    "print (\"\\n Conconfusion_matrix:\\n\",confusion_matrix(y_test,y_lc_predict))"
   ]
  },
  {
   "cell_type": "markdown",
   "id": "7709fffa",
   "metadata": {},
   "source": [
    "# 2. Decision Tree:"
   ]
  },
  {
   "cell_type": "code",
   "execution_count": 65,
   "id": "8aec95f4",
   "metadata": {},
   "outputs": [
    {
     "data": {
      "text/plain": [
       "GridSearchCV(cv=KFold(n_splits=10, random_state=None, shuffle=False),\n",
       "             estimator=DecisionTreeClassifier(), n_jobs=-1,\n",
       "             param_grid={'criterion': ['gini', 'entropy'],\n",
       "                         'max_depth': range(10, 15),\n",
       "                         'max_features': ['auto', 'sqrt', 'log2'],\n",
       "                         'max_leaf_nodes': range(5, 10),\n",
       "                         'min_samples_leaf': range(2, 6),\n",
       "                         'min_samples_split': range(3, 8),\n",
       "                         'splitter': ['best', 'random']})"
      ]
     },
     "execution_count": 65,
     "metadata": {},
     "output_type": "execute_result"
    }
   ],
   "source": [
    "kfld=KFold(n_splits=10)\n",
    "\n",
    "\n",
    "grid_param = {\n",
    "            'criterion':['gini','entropy'],\n",
    "            'splitter':['best','random'],\n",
    "            'max_features':['auto','sqrt','log2'],\n",
    "            'max_depth': range(10,15), # the max depth of the tree.\n",
    "            'min_samples_leaf': range (2,6), # the max no of samples required to be at a leaf node.\n",
    "            'min_samples_split': range (3,8), # the max no of samples required to split on interval node.\n",
    "            'max_leaf_nodes': range (5,10) # Best nodes are defined as a realtive in impurity. If none then nunlimited no of leaf nodes.\n",
    "}\n",
    "grid_search = GridSearchCV (DTC, param_grid = grid_param, cv=kfld, n_jobs = -1)\n",
    "# n_jobs : Use all the cores in your system. For performance improvement.\n",
    "grid_search.fit(x_train,y_train)"
   ]
  },
  {
   "cell_type": "code",
   "execution_count": 66,
   "id": "03190f77",
   "metadata": {},
   "outputs": [
    {
     "name": "stdout",
     "output_type": "stream",
     "text": [
      "The training accurancy is: 0.7956696153054927\n",
      "The testing accurancy is: 0.7946924501131455\n",
      "\n",
      "  \n",
      " Test Classification Report \n",
      "               precision    recall  f1-score   support\n",
      "\n",
      "         0.0       0.83      0.75      0.79      4914\n",
      "         1.0       0.77      0.84      0.80      4808\n",
      "\n",
      "    accuracy                           0.79      9722\n",
      "   macro avg       0.80      0.80      0.79      9722\n",
      "weighted avg       0.80      0.79      0.79      9722\n",
      "\n",
      "\n",
      " Conconfusion_matrix:\n",
      " [[3683 1231]\n",
      " [ 765 4043]]\n"
     ]
    }
   ],
   "source": [
    "#Initiate DecisitionTreeClassifier with new parametes and train\n",
    "dtc=grid_search.best_estimator_\n",
    "\n",
    "# Train the model\n",
    "dtc.fit(x_train,y_train)\n",
    "\n",
    "x_dtc_predict=dtc.predict(x_train)\n",
    "y_dtc_predict=dtc.predict(x_test)\n",
    "\n",
    "print (\"The training accurancy is:\",accuracy_score(y_train,x_dtc_predict))\n",
    "print (\"The testing accurancy is:\",accuracy_score(y_test,y_dtc_predict))\n",
    "print ('\\n  \\n Test Classification Report \\n', classification_report(y_test,y_dtc_predict,digits=2))\n",
    "print (\"\\n Conconfusion_matrix:\\n\",confusion_matrix(y_test,y_dtc_predict))"
   ]
  },
  {
   "cell_type": "markdown",
   "id": "a2055b3d",
   "metadata": {},
   "source": [
    "# 3. K-Nearest Neighbour:"
   ]
  },
  {
   "cell_type": "code",
   "execution_count": 68,
   "id": "b05dbfef",
   "metadata": {},
   "outputs": [
    {
     "data": {
      "text/plain": [
       "GridSearchCV(estimator=KNeighborsClassifier(),\n",
       "             param_grid={'algorithm': ['kd_tree', 'brute'],\n",
       "                         'leaf_size': [3, 5, 6, 7, 8, 10],\n",
       "                         'n_neighbors': [1, 2, 3, 4, 5, 6, 7, 8, 9],\n",
       "                         'weights': ['uniform', 'distance']})"
      ]
     },
     "execution_count": 68,
     "metadata": {},
     "output_type": "execute_result"
    }
   ],
   "source": [
    "neighbors = [i for i in range(1,10)]\n",
    "parameter_grid = { 'algorithm' : ['kd_tree', 'brute'],\n",
    "                   'weights':['uniform', 'distance'],\n",
    "                   'leaf_size' : [3,5,6,7,8,10],\n",
    "                   'n_neighbors': neighbors}\n",
    "gridsearch = GridSearchCV(KNNC, param_grid=parameter_grid)\n",
    "gridsearch.fit(x_train, y_train)"
   ]
  },
  {
   "cell_type": "code",
   "execution_count": 69,
   "id": "0ec8ffe7",
   "metadata": {},
   "outputs": [
    {
     "name": "stdout",
     "output_type": "stream",
     "text": [
      "The training accurancy is: 0.9999742851265172\n",
      "The testing accurancy is: 0.8486936844270726\n",
      "\n",
      "  \n",
      " Test Classification Report \n",
      "               precision    recall  f1-score   support\n",
      "\n",
      "         0.0       0.88      0.81      0.84      4914\n",
      "         1.0       0.82      0.89      0.85      4808\n",
      "\n",
      "    accuracy                           0.85      9722\n",
      "   macro avg       0.85      0.85      0.85      9722\n",
      "weighted avg       0.85      0.85      0.85      9722\n",
      "\n",
      "\n",
      " Conconfusion_matrix:\n",
      " [[3979  935]\n",
      " [ 536 4272]]\n"
     ]
    }
   ],
   "source": [
    "#Initiate KNN with new parametes and train\n",
    "knnc=gridsearch.best_estimator_\n",
    "\n",
    "# Train the model\n",
    "knnc.fit(x_train,y_train)\n",
    "\n",
    "x_knnc_predict=knnc.predict(x_train)\n",
    "y_knnc_predict=knnc.predict(x_test)\n",
    "\n",
    "print (\"The training accurancy is:\",accuracy_score(y_train,x_knnc_predict))\n",
    "print (\"The testing accurancy is:\",accuracy_score(y_test,y_knnc_predict))\n",
    "print ('\\n  \\n Test Classification Report \\n', classification_report(y_test,y_knnc_predict,digits=2))\n",
    "print (\"\\n Conconfusion_matrix:\\n\",confusion_matrix(y_test,y_knnc_predict))"
   ]
  },
  {
   "cell_type": "markdown",
   "id": "1276b711",
   "metadata": {},
   "source": [
    "# 4. Random forest:"
   ]
  },
  {
   "cell_type": "code",
   "execution_count": 70,
   "id": "50a36cea",
   "metadata": {},
   "outputs": [
    {
     "data": {
      "text/plain": [
       "GridSearchCV(cv=10, estimator=RandomForestClassifier(), n_jobs=-1,\n",
       "             param_grid={'criterion': ['gini', 'entropy'],\n",
       "                         'max_depth': [10, 15, 40], 'min_samples_leaf': [5, 6],\n",
       "                         'min_samples_split': [10, 11],\n",
       "                         'n_estimators': [10, 15, 30, 40, 50]})"
      ]
     },
     "execution_count": 70,
     "metadata": {},
     "output_type": "execute_result"
    }
   ],
   "source": [
    "params = {  'n_estimators' : [10,15,30,40,50],\n",
    "            'criterion':['gini','entropy'],\n",
    "            'max_depth': [10,15,40], # the max depth of the tree.\n",
    "            'min_samples_leaf': [5,6], # the max no of samples required to be at a leaf node.\n",
    "            'min_samples_split': [10,11] # the max no of samples required to split on interval node.\n",
    "            #'max_leaf_nodes': range (5,10) # Best nodes are defined as a realtive in impurity. If none then nunlimited no of leaf nodes.\n",
    "}\n",
    "\n",
    "gridsearch_rf = GridSearchCV(RFC, param_grid=params,cv=10, n_jobs = -1)\n",
    "gridsearch_rf.fit(x_train,y_train)"
   ]
  },
  {
   "cell_type": "code",
   "execution_count": 71,
   "id": "2fd92b8c",
   "metadata": {},
   "outputs": [
    {
     "name": "stdout",
     "output_type": "stream",
     "text": [
      "The training accurancy is: 0.9171209627648632\n",
      "The testing accurancy is: 0.8778029212096277\n",
      "\n",
      "  \n",
      " Test Classification Report \n",
      "               precision    recall  f1-score   support\n",
      "\n",
      "         0.0       0.88      0.88      0.88      4914\n",
      "         1.0       0.88      0.87      0.88      4808\n",
      "\n",
      "    accuracy                           0.88      9722\n",
      "   macro avg       0.88      0.88      0.88      9722\n",
      "weighted avg       0.88      0.88      0.88      9722\n",
      "\n",
      "\n",
      " Conconfusion_matrix:\n",
      " [[4337  577]\n",
      " [ 611 4197]]\n"
     ]
    }
   ],
   "source": [
    "#Initiate RandomForestClassifier with new parametes and train\n",
    "rfc=gridsearch_rf.best_estimator_\n",
    "\n",
    "# Train the model\n",
    "rfc.fit(x_train,y_train)\n",
    "\n",
    "x_rfc_predict=rfc.predict(x_train)\n",
    "y_rfc_predict=rfc.predict(x_test)\n",
    "\n",
    "print (\"The training accurancy is:\",accuracy_score(y_train,x_rfc_predict))\n",
    "print (\"The testing accurancy is:\",accuracy_score(y_test,y_rfc_predict))\n",
    "print ('\\n  \\n Test Classification Report \\n', classification_report(y_test,y_rfc_predict,digits=2))\n",
    "print (\"\\n Conconfusion_matrix:\\n\",confusion_matrix(y_test,y_rfc_predict))"
   ]
  },
  {
   "cell_type": "markdown",
   "id": "30d6f36d",
   "metadata": {},
   "source": [
    "# 5. SVC:"
   ]
  },
  {
   "cell_type": "code",
   "execution_count": 72,
   "id": "f3202ae6",
   "metadata": {},
   "outputs": [
    {
     "name": "stdout",
     "output_type": "stream",
     "text": [
      "The training accurancy is: 0.8507251594322156\n",
      "The testing accurancy is: 0.8368648426249743\n",
      "\n",
      "  \n",
      " Test Classification Report \n",
      "               precision    recall  f1-score   support\n",
      "\n",
      "         0.0       0.88      0.79      0.83      4914\n",
      "         1.0       0.80      0.89      0.84      4808\n",
      "\n",
      "    accuracy                           0.84      9722\n",
      "   macro avg       0.84      0.84      0.84      9722\n",
      "weighted avg       0.84      0.84      0.84      9722\n",
      "\n",
      "\n",
      " Conconfusion_matrix:\n",
      " [[3872 1042]\n",
      " [ 544 4264]]\n"
     ]
    }
   ],
   "source": [
    "#Initiate RandomForestClassifier with new parametes and train\n",
    "svc=SVC(gamma='auto')\n",
    "\n",
    "# Train the model\n",
    "svc.fit(x_train,y_train)\n",
    "\n",
    "x_svc_predict=svc.predict(x_train)\n",
    "y_svc_predict=svc.predict(x_test)\n",
    "\n",
    "print (\"The training accurancy is:\",accuracy_score(y_train,x_svc_predict))\n",
    "print (\"The testing accurancy is:\",accuracy_score(y_test,y_svc_predict))\n",
    "print ('\\n  \\n Test Classification Report \\n', classification_report(y_test,y_svc_predict,digits=2))\n",
    "print (\"\\n Conconfusion_matrix:\\n\",confusion_matrix(y_test,y_svc_predict))"
   ]
  },
  {
   "cell_type": "markdown",
   "id": "b4f504a0",
   "metadata": {},
   "source": [
    "# 6. Gradient Boosting Classifier:"
   ]
  },
  {
   "cell_type": "code",
   "execution_count": 73,
   "id": "181cf71d",
   "metadata": {},
   "outputs": [
    {
     "name": "stdout",
     "output_type": "stream",
     "text": [
      "The training accurancy is: 0.8813001440032915\n",
      "The testing accurancy is: 0.879345813618597\n",
      "\n",
      "  \n",
      " Test Classification Report \n",
      "               precision    recall  f1-score   support\n",
      "\n",
      "         0.0       0.88      0.88      0.88      4914\n",
      "         1.0       0.87      0.88      0.88      4808\n",
      "\n",
      "    accuracy                           0.88      9722\n",
      "   macro avg       0.88      0.88      0.88      9722\n",
      "weighted avg       0.88      0.88      0.88      9722\n",
      "\n",
      "\n",
      " Conconfusion_matrix:\n",
      " [[4308  606]\n",
      " [ 567 4241]]\n"
     ]
    }
   ],
   "source": [
    "#Initiate RandomForestClassifier with new parametes and train\n",
    "grac=GradientBoostingClassifier(learning_rate= 0.1)\n",
    "\n",
    "# Train the model\n",
    "grac.fit(x_train,y_train)\n",
    "\n",
    "x_grac_predict=grac.predict(x_train)\n",
    "y_grac_predict=grac.predict(x_test)\n",
    "\n",
    "print (\"The training accurancy is:\",accuracy_score(y_train,x_grac_predict))\n",
    "print (\"The testing accurancy is:\",accuracy_score(y_test,y_grac_predict))\n",
    "print ('\\n  \\n Test Classification Report \\n', classification_report(y_test,y_grac_predict,digits=2))\n",
    "print (\"\\n Conconfusion_matrix:\\n\",confusion_matrix(y_test,y_grac_predict))"
   ]
  },
  {
   "cell_type": "markdown",
   "id": "5132b2ac",
   "metadata": {},
   "source": [
    "# 7. AdaBoost Classifier:"
   ]
  },
  {
   "cell_type": "code",
   "execution_count": 74,
   "id": "1e547d2d",
   "metadata": {},
   "outputs": [
    {
     "name": "stdout",
     "output_type": "stream",
     "text": [
      "The training accurancy is: 0.9999742851265172\n",
      "The testing accurancy is: 0.8804772680518412\n",
      "\n",
      "  \n",
      " Test Classification Report \n",
      "               precision    recall  f1-score   support\n",
      "\n",
      "         0.0       0.88      0.88      0.88      4914\n",
      "         1.0       0.88      0.88      0.88      4808\n",
      "\n",
      "    accuracy                           0.88      9722\n",
      "   macro avg       0.88      0.88      0.88      9722\n",
      "weighted avg       0.88      0.88      0.88      9722\n",
      "\n",
      "\n",
      " Conconfusion_matrix:\n",
      " [[4317  597]\n",
      " [ 565 4243]]\n"
     ]
    }
   ],
   "source": [
    "#Initiate RandomForestClassifier with new parametes and train\n",
    "adac=AdaBoostClassifier(learning_rate= 0.01, base_estimator=RandomForestClassifier())\n",
    "\n",
    "# Train the model\n",
    "adac.fit(x_train,y_train)\n",
    "\n",
    "x_adac_predict=adac.predict(x_train)\n",
    "y_adac_predict=adac.predict(x_test)\n",
    "\n",
    "print (\"The training accurancy is:\",accuracy_score(y_train,x_adac_predict))\n",
    "print (\"The testing accurancy is:\",accuracy_score(y_test,y_adac_predict))\n",
    "print ('\\n  \\n Test Classification Report \\n', classification_report(y_test,y_adac_predict,digits=2))\n",
    "print (\"\\n Conconfusion_matrix:\\n\",confusion_matrix(y_test,y_adac_predict))"
   ]
  },
  {
   "cell_type": "markdown",
   "id": "87ce6609",
   "metadata": {},
   "source": [
    "# 8. GaussianNB:"
   ]
  },
  {
   "cell_type": "code",
   "execution_count": 75,
   "id": "bf98df3a",
   "metadata": {},
   "outputs": [
    {
     "name": "stdout",
     "output_type": "stream",
     "text": [
      "The training accurancy is: 0.7701090310635672\n",
      "The testing accurancy is: 0.7613659740794075\n",
      "\n",
      "  \n",
      " Test Classification Report \n",
      "               precision    recall  f1-score   support\n",
      "\n",
      "         0.0       0.78      0.73      0.76      4914\n",
      "         1.0       0.74      0.79      0.77      4808\n",
      "\n",
      "    accuracy                           0.76      9722\n",
      "   macro avg       0.76      0.76      0.76      9722\n",
      "weighted avg       0.76      0.76      0.76      9722\n",
      "\n",
      "\n",
      " Conconfusion_matrix:\n",
      " [[3591 1323]\n",
      " [ 997 3811]]\n"
     ]
    }
   ],
   "source": [
    "#Initiate RandomForestClassifier with new parametes and train\n",
    "gnbc=GaussianNB()\n",
    "\n",
    "# Train the model\n",
    "gnbc.fit(x_train,y_train)\n",
    "\n",
    "x_gnbc_predict=gnbc.predict(x_train)\n",
    "y_gnbc_predict=gnbc.predict(x_test)\n",
    "\n",
    "print (\"The training accurancy is:\",accuracy_score(y_train,x_gnbc_predict))\n",
    "print (\"The testing accurancy is:\",accuracy_score(y_test,y_gnbc_predict))\n",
    "print ('\\n  \\n Test Classification Report \\n', classification_report(y_test,y_gnbc_predict,digits=2))\n",
    "print (\"\\n Conconfusion_matrix:\\n\",confusion_matrix(y_test,y_gnbc_predict))"
   ]
  },
  {
   "cell_type": "markdown",
   "id": "172ed4b4",
   "metadata": {},
   "source": [
    "# 9. SGDClassifier:"
   ]
  },
  {
   "cell_type": "code",
   "execution_count": 76,
   "id": "2eea8e8e",
   "metadata": {},
   "outputs": [
    {
     "name": "stdout",
     "output_type": "stream",
     "text": [
      "The training accurancy is: 0.7533686484262497\n",
      "The testing accurancy is: 0.7406912157992183\n",
      "\n",
      "  \n",
      " Test Classification Report \n",
      "               precision    recall  f1-score   support\n",
      "\n",
      "         0.0       0.78      0.68      0.72      4914\n",
      "         1.0       0.71      0.81      0.75      4808\n",
      "\n",
      "    accuracy                           0.74      9722\n",
      "   macro avg       0.75      0.74      0.74      9722\n",
      "weighted avg       0.75      0.74      0.74      9722\n",
      "\n",
      "\n",
      " Conconfusion_matrix:\n",
      " [[3323 1591]\n",
      " [ 930 3878]]\n"
     ]
    }
   ],
   "source": [
    "#Initiate RandomForestClassifier with new parametes and train\n",
    "sgdc=SGDClassifier(alpha=0.001)\n",
    "\n",
    "# Train the model\n",
    "sgdc.fit(x_train,y_train)\n",
    "\n",
    "x_sgdc_predict=sgdc.predict(x_train)\n",
    "y_sgdc_predict=sgdc.predict(x_test)\n",
    "\n",
    "print (\"The training accurancy is:\",accuracy_score(y_train,x_sgdc_predict))\n",
    "print (\"The testing accurancy is:\",accuracy_score(y_test,y_sgdc_predict))\n",
    "print ('\\n  \\n Test Classification Report \\n', classification_report(y_test,y_sgdc_predict,digits=2))\n",
    "print (\"\\n Conconfusion_matrix:\\n\",confusion_matrix(y_test,y_sgdc_predict))"
   ]
  },
  {
   "cell_type": "markdown",
   "id": "12b595ae",
   "metadata": {},
   "source": [
    "# 10. XGBClassifier:"
   ]
  },
  {
   "cell_type": "code",
   "execution_count": 77,
   "id": "2bdf3aa5",
   "metadata": {},
   "outputs": [
    {
     "name": "stdout",
     "output_type": "stream",
     "text": [
      "The training accurancy is: 0.8910203661797984\n",
      "The testing accurancy is: 0.87399711993417\n",
      "\n",
      "  \n",
      " Test Classification Report \n",
      "               precision    recall  f1-score   support\n",
      "\n",
      "         0.0       0.88      0.87      0.88      4914\n",
      "         1.0       0.87      0.88      0.87      4808\n",
      "\n",
      "    accuracy                           0.87      9722\n",
      "   macro avg       0.87      0.87      0.87      9722\n",
      "weighted avg       0.87      0.87      0.87      9722\n",
      "\n",
      "\n",
      " Conconfusion_matrix:\n",
      " [[4289  625]\n",
      " [ 600 4208]]\n"
     ]
    }
   ],
   "source": [
    "#Initiate RandomForestClassifier with new parametes and train\n",
    "xgbc=XGBClassifier(n_estimators = 10, learning_rate = 1.5)\n",
    "\n",
    "# Train the model\n",
    "xgbc.fit(x_train,y_train)\n",
    "\n",
    "x_xgbc_predict=xgbc.predict(x_train)\n",
    "y_xgbc_predict=xgbc.predict(x_test)\n",
    "\n",
    "print (\"The training accurancy is:\",accuracy_score(y_train,x_xgbc_predict))\n",
    "print (\"The testing accurancy is:\",accuracy_score(y_test,y_xgbc_predict))\n",
    "print ('\\n  \\n Test Classification Report \\n', classification_report(y_test,y_xgbc_predict,digits=2))\n",
    "print (\"\\n Conconfusion_matrix:\\n\",confusion_matrix(y_test,y_xgbc_predict))"
   ]
  },
  {
   "cell_type": "code",
   "execution_count": 78,
   "id": "18664544",
   "metadata": {},
   "outputs": [
    {
     "data": {
      "text/html": [
       "<div>\n",
       "<style scoped>\n",
       "    .dataframe tbody tr th:only-of-type {\n",
       "        vertical-align: middle;\n",
       "    }\n",
       "\n",
       "    .dataframe tbody tr th {\n",
       "        vertical-align: top;\n",
       "    }\n",
       "\n",
       "    .dataframe thead th {\n",
       "        text-align: right;\n",
       "    }\n",
       "</style>\n",
       "<table border=\"1\" class=\"dataframe\">\n",
       "  <thead>\n",
       "    <tr style=\"text-align: right;\">\n",
       "      <th></th>\n",
       "      <th>Classifier</th>\n",
       "      <th>Accuracy Score (with tuning)</th>\n",
       "    </tr>\n",
       "  </thead>\n",
       "  <tbody>\n",
       "    <tr>\n",
       "      <th>0</th>\n",
       "      <td>lc= LogisticRegression()</td>\n",
       "      <td>73.76</td>\n",
       "    </tr>\n",
       "    <tr>\n",
       "      <th>1</th>\n",
       "      <td>dtc = DecisionTreeClassifier()</td>\n",
       "      <td>79.47</td>\n",
       "    </tr>\n",
       "    <tr>\n",
       "      <th>2</th>\n",
       "      <td>knnc = KNeighborsClassifier()</td>\n",
       "      <td>84.87</td>\n",
       "    </tr>\n",
       "    <tr>\n",
       "      <th>3</th>\n",
       "      <td>rfc = RandomForestClassifier()</td>\n",
       "      <td>87.78</td>\n",
       "    </tr>\n",
       "    <tr>\n",
       "      <th>4</th>\n",
       "      <td>svc=SVC()</td>\n",
       "      <td>83.69</td>\n",
       "    </tr>\n",
       "    <tr>\n",
       "      <th>5</th>\n",
       "      <td>grac = GradientBoostingClassifier()</td>\n",
       "      <td>87.93</td>\n",
       "    </tr>\n",
       "    <tr>\n",
       "      <th>6</th>\n",
       "      <td>adac=AdaBoostClassifier</td>\n",
       "      <td>88.05</td>\n",
       "    </tr>\n",
       "    <tr>\n",
       "      <th>7</th>\n",
       "      <td>gnbc=GaussianNB</td>\n",
       "      <td>76.14</td>\n",
       "    </tr>\n",
       "    <tr>\n",
       "      <th>8</th>\n",
       "      <td>sgdc=SGDClassifier()</td>\n",
       "      <td>74.07</td>\n",
       "    </tr>\n",
       "    <tr>\n",
       "      <th>9</th>\n",
       "      <td>xgbc=XGBClassifier()</td>\n",
       "      <td>87.40</td>\n",
       "    </tr>\n",
       "  </tbody>\n",
       "</table>\n",
       "</div>"
      ],
      "text/plain": [
       "                            Classifier  Accuracy Score (with tuning)\n",
       "0             lc= LogisticRegression()                         73.76\n",
       "1       dtc = DecisionTreeClassifier()                         79.47\n",
       "2        knnc = KNeighborsClassifier()                         84.87\n",
       "3       rfc = RandomForestClassifier()                         87.78\n",
       "4                            svc=SVC()                         83.69\n",
       "5  grac = GradientBoostingClassifier()                         87.93\n",
       "6              adac=AdaBoostClassifier                         88.05\n",
       "7                      gnbc=GaussianNB                         76.14\n",
       "8                 sgdc=SGDClassifier()                         74.07\n",
       "9                 xgbc=XGBClassifier()                         87.40"
      ]
     },
     "execution_count": 78,
     "metadata": {},
     "output_type": "execute_result"
    }
   ],
   "source": [
    "Acc_Score_tun =[round (accuracy_score(y_test,y_lc_predict)*100,2),\n",
    "                round (accuracy_score(y_test,y_dtc_predict)*100,2),\n",
    "                round (accuracy_score(y_test,y_knnc_predict)*100,2),\n",
    "                round (accuracy_score(y_test,y_rfc_predict)*100,2),\n",
    "                round (accuracy_score(y_test,y_svc_predict)*100,2),\n",
    "                round (accuracy_score(y_test,y_grac_predict)*100,2),\n",
    "                round (accuracy_score(y_test,y_adac_predict)*100,2),\n",
    "                round (accuracy_score(y_test,y_gnbc_predict)*100,2),\n",
    "                round (accuracy_score(y_test,y_sgdc_predict)*100,2),\n",
    "                round (accuracy_score(y_test,y_xgbc_predict)*100,2)]\n",
    "Census_Income = pd.DataFrame({'Classifier':['lc= LogisticRegression()', 'dtc = DecisionTreeClassifier()',\n",
    "                                 'knnc = KNeighborsClassifier()','rfc = RandomForestClassifier()','svc=SVC()',\n",
    "                                 'grac = GradientBoostingClassifier()', 'adac=AdaBoostClassifier','gnbc=GaussianNB', \n",
    "                                  'sgdc=SGDClassifier()', 'xgbc=XGBClassifier()'], \n",
    "                                 \n",
    "                                'Accuracy Score (with tuning)':Acc_Score_tun})\n",
    "Census_Income"
   ]
  },
  {
   "cell_type": "code",
   "execution_count": 79,
   "id": "17eac866",
   "metadata": {},
   "outputs": [
    {
     "data": {
      "text/html": [
       "<div>\n",
       "<style scoped>\n",
       "    .dataframe tbody tr th:only-of-type {\n",
       "        vertical-align: middle;\n",
       "    }\n",
       "\n",
       "    .dataframe tbody tr th {\n",
       "        vertical-align: top;\n",
       "    }\n",
       "\n",
       "    .dataframe thead th {\n",
       "        text-align: right;\n",
       "    }\n",
       "</style>\n",
       "<table border=\"1\" class=\"dataframe\">\n",
       "  <thead>\n",
       "    <tr style=\"text-align: right;\">\n",
       "      <th></th>\n",
       "      <th>Model Name</th>\n",
       "      <th>Training Score:</th>\n",
       "      <th>Accuracy Score (without tuning)</th>\n",
       "      <th>Classifier</th>\n",
       "      <th>Accuracy Score (with tuning)</th>\n",
       "    </tr>\n",
       "  </thead>\n",
       "  <tbody>\n",
       "    <tr>\n",
       "      <th>0</th>\n",
       "      <td>LC=LogisticRegression</td>\n",
       "      <td>74.90</td>\n",
       "      <td>74.88</td>\n",
       "      <td>lc= LogisticRegression()</td>\n",
       "      <td>73.76</td>\n",
       "    </tr>\n",
       "    <tr>\n",
       "      <th>1</th>\n",
       "      <td>DTC=DecisionTreeClassifier</td>\n",
       "      <td>100.00</td>\n",
       "      <td>83.88</td>\n",
       "      <td>dtc = DecisionTreeClassifier()</td>\n",
       "      <td>79.47</td>\n",
       "    </tr>\n",
       "    <tr>\n",
       "      <th>2</th>\n",
       "      <td>KNNC=KNeighborsClassifier</td>\n",
       "      <td>88.70</td>\n",
       "      <td>82.87</td>\n",
       "      <td>knnc = KNeighborsClassifier()</td>\n",
       "      <td>84.87</td>\n",
       "    </tr>\n",
       "    <tr>\n",
       "      <th>3</th>\n",
       "      <td>RFC=RandomForestClassifier</td>\n",
       "      <td>100.00</td>\n",
       "      <td>88.26</td>\n",
       "      <td>rfc = RandomForestClassifier()</td>\n",
       "      <td>87.78</td>\n",
       "    </tr>\n",
       "    <tr>\n",
       "      <th>4</th>\n",
       "      <td>SVc=SVC()</td>\n",
       "      <td>84.92</td>\n",
       "      <td>84.08</td>\n",
       "      <td>svc=SVC()</td>\n",
       "      <td>83.69</td>\n",
       "    </tr>\n",
       "    <tr>\n",
       "      <th>5</th>\n",
       "      <td>GRAC=GradientBoostingClassifier</td>\n",
       "      <td>88.32</td>\n",
       "      <td>87.69</td>\n",
       "      <td>grac = GradientBoostingClassifier()</td>\n",
       "      <td>87.93</td>\n",
       "    </tr>\n",
       "    <tr>\n",
       "      <th>6</th>\n",
       "      <td>ADAC=AdaBoostClassifier</td>\n",
       "      <td>86.64</td>\n",
       "      <td>86.31</td>\n",
       "      <td>adac=AdaBoostClassifier</td>\n",
       "      <td>88.05</td>\n",
       "    </tr>\n",
       "    <tr>\n",
       "      <th>7</th>\n",
       "      <td>GNBC=GaussianNB</td>\n",
       "      <td>76.88</td>\n",
       "      <td>77.10</td>\n",
       "      <td>gnbc=GaussianNB</td>\n",
       "      <td>76.14</td>\n",
       "    </tr>\n",
       "    <tr>\n",
       "      <th>8</th>\n",
       "      <td>SGDC=SGDClassifier()</td>\n",
       "      <td>74.96</td>\n",
       "      <td>74.68</td>\n",
       "      <td>sgdc=SGDClassifier()</td>\n",
       "      <td>74.07</td>\n",
       "    </tr>\n",
       "    <tr>\n",
       "      <th>9</th>\n",
       "      <td>XGBC=XGBClassifier()</td>\n",
       "      <td>92.30</td>\n",
       "      <td>88.81</td>\n",
       "      <td>xgbc=XGBClassifier()</td>\n",
       "      <td>87.40</td>\n",
       "    </tr>\n",
       "  </tbody>\n",
       "</table>\n",
       "</div>"
      ],
      "text/plain": [
       "                        Model Name  Training Score:  \\\n",
       "0            LC=LogisticRegression            74.90   \n",
       "1       DTC=DecisionTreeClassifier           100.00   \n",
       "2        KNNC=KNeighborsClassifier            88.70   \n",
       "3       RFC=RandomForestClassifier           100.00   \n",
       "4                        SVc=SVC()            84.92   \n",
       "5  GRAC=GradientBoostingClassifier            88.32   \n",
       "6          ADAC=AdaBoostClassifier            86.64   \n",
       "7                  GNBC=GaussianNB            76.88   \n",
       "8             SGDC=SGDClassifier()            74.96   \n",
       "9             XGBC=XGBClassifier()            92.30   \n",
       "\n",
       "   Accuracy Score (without tuning)                           Classifier  \\\n",
       "0                            74.88             lc= LogisticRegression()   \n",
       "1                            83.88       dtc = DecisionTreeClassifier()   \n",
       "2                            82.87        knnc = KNeighborsClassifier()   \n",
       "3                            88.26       rfc = RandomForestClassifier()   \n",
       "4                            84.08                            svc=SVC()   \n",
       "5                            87.69  grac = GradientBoostingClassifier()   \n",
       "6                            86.31              adac=AdaBoostClassifier   \n",
       "7                            77.10                      gnbc=GaussianNB   \n",
       "8                            74.68                 sgdc=SGDClassifier()   \n",
       "9                            88.81                 xgbc=XGBClassifier()   \n",
       "\n",
       "   Accuracy Score (with tuning)  \n",
       "0                         73.76  \n",
       "1                         79.47  \n",
       "2                         84.87  \n",
       "3                         87.78  \n",
       "4                         83.69  \n",
       "5                         87.93  \n",
       "6                         88.05  \n",
       "7                         76.14  \n",
       "8                         74.07  \n",
       "9                         87.40  "
      ]
     },
     "execution_count": 79,
     "metadata": {},
     "output_type": "execute_result"
    }
   ],
   "source": [
    "CENSUS_INCOME= pd.concat([Result_df,Census_Income],axis=1)\n",
    "CENSUS_INCOME"
   ]
  },
  {
   "cell_type": "markdown",
   "id": "8b84cad6",
   "metadata": {},
   "source": [
    "# We are gettig high model accuracy: 88.81% with XGBClassifier model without tuning, which shows model is performing exremely well, so we can save this model.\n",
    "\n",
    "# Save the model using pickle"
   ]
  },
  {
   "cell_type": "code",
   "execution_count": 80,
   "id": "bdaa1cb6",
   "metadata": {},
   "outputs": [],
   "source": [
    "import pickle\n",
    "pickle.dump(XGBC,open('Global_Power_Plant-ClassificationModel_Fuel_Type','wb'))"
   ]
  },
  {
   "cell_type": "code",
   "execution_count": null,
   "id": "6e53af80",
   "metadata": {},
   "outputs": [],
   "source": []
  },
  {
   "cell_type": "code",
   "execution_count": null,
   "id": "ffa3f5b2",
   "metadata": {},
   "outputs": [],
   "source": []
  },
  {
   "cell_type": "code",
   "execution_count": null,
   "id": "e6d20fc3",
   "metadata": {},
   "outputs": [],
   "source": []
  }
 ],
 "metadata": {
  "kernelspec": {
   "display_name": "Python 3 (ipykernel)",
   "language": "python",
   "name": "python3"
  },
  "language_info": {
   "codemirror_mode": {
    "name": "ipython",
    "version": 3
   },
   "file_extension": ".py",
   "mimetype": "text/x-python",
   "name": "python",
   "nbconvert_exporter": "python",
   "pygments_lexer": "ipython3",
   "version": "3.9.12"
  }
 },
 "nbformat": 4,
 "nbformat_minor": 5
}
